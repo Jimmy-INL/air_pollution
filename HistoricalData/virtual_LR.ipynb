{
 "cells": [
  {
   "cell_type": "markdown",
   "metadata": {},
   "source": [
    "# Virtual Sensing - Linear Regression"
   ]
  },
  {
   "cell_type": "code",
   "execution_count": null,
   "metadata": {},
   "outputs": [],
   "source": [
    "pseudocode:\n",
    "    libraries\n",
    "    constants for bounding box\n",
    "    data_df = getData\n",
    "    split into test-train\n",
    "    fit\n",
    "    predict\n",
    "    calculate accuracy"
   ]
  },
  {
   "cell_type": "code",
   "execution_count": 204,
   "metadata": {},
   "outputs": [],
   "source": [
    "# libraries\n",
    "import datetime\n",
    "from datetime import date, timedelta\n",
    "from os import path\n",
    "import pandas as pd\n",
    "import numpy as np\n",
    "import statistics\n",
    "import boto3\n",
    "import s3fs\n",
    "from fastparquet import ParquetFile\n",
    "from sklearn import linear_model\n",
    "from sklearn.model_selection import train_test_split\n",
    "\n",
    "import warnings\n",
    "warnings.filterwarnings('ignore')\n",
    "\n",
    "pd.set_option('display.max_columns', 500)"
   ]
  },
  {
   "cell_type": "code",
   "execution_count": 6,
   "metadata": {},
   "outputs": [],
   "source": [
    "# constants\n",
    "from getData import get_data\n",
    "UP_LEFT = (38.008050, -122.536985)    \n",
    "UP_RIGHT = (38.008050, -122.186437)   \n",
    "DOWN_RIGHT = (37.701933, -122.186437) \n",
    "DOWN_LEFT = (37.701933, -122.536985)  \n",
    "START_DATE = '2019/09/01' \n",
    "END_DATE = '2019/09/02'   \n",
    "START_HOUR = '0'        \n",
    "END_HOUR = '24'   "
   ]
  },
  {
   "cell_type": "code",
   "execution_count": 59,
   "metadata": {},
   "outputs": [],
   "source": [
    "# load data into dataframe\n",
    "data_df = get_data(UP_LEFT, UP_RIGHT, DOWN_RIGHT, DOWN_LEFT, START_DATE, END_DATE, START_HOUR, END_HOUR, 'Monthly')"
   ]
  },
  {
   "cell_type": "code",
   "execution_count": 26,
   "metadata": {},
   "outputs": [],
   "source": [
    "# get rid of rows that have no wind data? uncomment if yes.\n",
    "# data_df = data_df[data_df.wind_data == 1.0]"
   ]
  },
  {
   "cell_type": "code",
   "execution_count": 73,
   "metadata": {},
   "outputs": [
    {
     "data": {
      "text/plain": [
       "(726292, 68)"
      ]
     },
     "execution_count": 73,
     "metadata": {},
     "output_type": "execute_result"
    }
   ],
   "source": [
    "data_df.shape"
   ]
  },
  {
   "cell_type": "code",
   "execution_count": 194,
   "metadata": {},
   "outputs": [],
   "source": [
    "# winnow down the features\n",
    "columns_to_keep = ['created', 'lat', 'lon', 'wind_data', 'wind_direction', 'wind_speed', 'gusts', 'gust_speed', \n",
    "                   'variable_winds', 'variable_wind_info', 'epa_pm25_unit', 'epa_pm25_value', 'wkday', \n",
    "                   'daytype', 'timeofday', 'wind_compass'] \n",
    "X_data_df = data_df[columns_to_keep]\n",
    "y_data_df = ['2_5um']"
   ]
  },
  {
   "cell_type": "code",
   "execution_count": 195,
   "metadata": {},
   "outputs": [
    {
     "data": {
      "text/plain": [
       "created                 int64\n",
       "lat                   float64\n",
       "lon                   float64\n",
       "wind_data             float32\n",
       "wind_direction         object\n",
       "wind_speed            float64\n",
       "gusts                 float32\n",
       "gust_speed            float64\n",
       "variable_winds        float32\n",
       "variable_wind_info     object\n",
       "epa_pm25_unit          object\n",
       "epa_pm25_value        float64\n",
       "wkday                  object\n",
       "daytype                object\n",
       "timeofday              object\n",
       "wind_compass           object\n",
       "dtype: object"
      ]
     },
     "execution_count": 195,
     "metadata": {},
     "output_type": "execute_result"
    }
   ],
   "source": [
    "# fix datatyping\n",
    "X_data_df.dtypes"
   ]
  },
  {
   "cell_type": "code",
   "execution_count": 196,
   "metadata": {},
   "outputs": [],
   "source": [
    "X_data_df.wind_data = X_data_df.wind_data.astype(bool)"
   ]
  },
  {
   "cell_type": "code",
   "execution_count": 197,
   "metadata": {},
   "outputs": [],
   "source": [
    "X_data_df.variable_winds = X_data_df.variable_winds.astype(bool)"
   ]
  },
  {
   "cell_type": "code",
   "execution_count": 205,
   "metadata": {},
   "outputs": [
    {
     "name": "stdout",
     "output_type": "stream",
     "text": [
      "280\n"
     ]
    }
   ],
   "source": [
    "# handle variable winds missing values \n",
    "vrb_wind_range_readings = 0\n",
    "mid_ranges = list()\n",
    "\n",
    "for row in range(len(X_data_df)):\n",
    "    if X_data_df.variable_winds.iloc[row]:\n",
    "        info = X_data_df.variable_wind_info.iloc[row]\n",
    "        if info:\n",
    "            vrb_wind_range_readings += 1\n",
    "            first, second = info.split('V')\n",
    "            mid_range = int((int(first) + int(second)) / 2)\n",
    "            if (X_data_df.wind_direction.iloc[row] == 'VRB'):\n",
    "                X_data_df.wind_direction.lloc[row] = mid_range\n",
    "            mid_ranges.append(mid_range)\n",
    "\n",
    "replacement = statistics.mode(mid_ranges)\n"
   ]
  },
  {
   "cell_type": "code",
   "execution_count": 187,
   "metadata": {},
   "outputs": [],
   "source": [
    "X_data_df = X_data_df.replace('VRB', '999') # give variable wind a 999 value"
   ]
  },
  {
   "cell_type": "code",
   "execution_count": 188,
   "metadata": {},
   "outputs": [],
   "source": [
    "wind_direction_obs = pd.to_numeric(X_data_df.wind_direction.dropna())\n",
    "wind_direction_avg = wind_direction_obs.mean()\n",
    "wind_direction_avg = int(wind_direction_avg)"
   ]
  },
  {
   "cell_type": "code",
   "execution_count": 133,
   "metadata": {},
   "outputs": [],
   "source": [
    "X_data_df.wind_direction = X_data_df.wind_direction.replace(np.nan, wind_direction_avg) # give missing wind direction the mean"
   ]
  },
  {
   "cell_type": "code",
   "execution_count": null,
   "metadata": {},
   "outputs": [],
   "source": [
    "X_data_df.wind_direction = X_data_df.wind_direction.astype(int)"
   ]
  },
  {
   "cell_type": "code",
   "execution_count": 122,
   "metadata": {},
   "outputs": [],
   "source": [
    "wind_speed_obs = pd.to_numeric(X_data_df.wind_speed.dropna())\n",
    "wind_speed_avg = wind_speed_obs.mean()"
   ]
  },
  {
   "cell_type": "code",
   "execution_count": 124,
   "metadata": {},
   "outputs": [],
   "source": [
    "X_data_df.wind_speed = X_data_df.wind_speed.replace(np.nan, wind_speed_avg) # give missing wind speed the mean"
   ]
  },
  {
   "cell_type": "code",
   "execution_count": 129,
   "metadata": {},
   "outputs": [],
   "source": [
    "X_data_df.gusts = X_data_df.gusts.astype(bool)"
   ]
  },
  {
   "cell_type": "code",
   "execution_count": 131,
   "metadata": {},
   "outputs": [],
   "source": [
    "X_data_df.gust_speed = X_data_df.gust_speed.replace(np.nan, 0)"
   ]
  },
  {
   "cell_type": "code",
   "execution_count": null,
   "metadata": {},
   "outputs": [],
   "source": [
    "X_data_df.dtypes"
   ]
  },
  {
   "cell_type": "code",
   "execution_count": 78,
   "metadata": {},
   "outputs": [
    {
     "name": "stdout",
     "output_type": "stream",
     "text": [
      "created 0\n",
      "lat 0\n",
      "lon 0\n",
      "wind_data 71681\n",
      "wind_direction 71681\n",
      "wind_speed 72093\n",
      "gusts 71681\n",
      "gust_speed 667534\n",
      "variable_winds 71681\n",
      "variable_wind_info 71681\n",
      "epa_pm25_unit 24023\n",
      "epa_pm25_value 24023\n",
      "wkday 0\n",
      "daytype 0\n",
      "timeofday 0\n",
      "wind_compass 0\n"
     ]
    }
   ],
   "source": [
    "for col in X_data_df.columns:\n",
    "    testy = X_data_df[col]\n",
    "    print(col, testy.isna().sum())"
   ]
  },
  {
   "cell_type": "code",
   "execution_count": 75,
   "metadata": {},
   "outputs": [],
   "source": [
    "# naively dump any rows with missing data\n",
    "X_data_df.dropna(inplace = True)"
   ]
  },
  {
   "cell_type": "code",
   "execution_count": 76,
   "metadata": {},
   "outputs": [
    {
     "data": {
      "text/plain": [
       "(58251, 16)"
      ]
     },
     "execution_count": 76,
     "metadata": {},
     "output_type": "execute_result"
    }
   ],
   "source": [
    "X_data_df.shape"
   ]
  },
  {
   "cell_type": "code",
   "execution_count": 70,
   "metadata": {},
   "outputs": [
    {
     "ename": "ValueError",
     "evalue": "Found input variables with inconsistent numbers of samples: [726292, 1]",
     "output_type": "error",
     "traceback": [
      "\u001b[0;31m---------------------------------------------------------------------------\u001b[0m",
      "\u001b[0;31mValueError\u001b[0m                                Traceback (most recent call last)",
      "\u001b[0;32m<ipython-input-70-bdad5ff915f8>\u001b[0m in \u001b[0;36m<module>\u001b[0;34m\u001b[0m\n\u001b[1;32m      1\u001b[0m \u001b[0;31m# split data into train-test\u001b[0m\u001b[0;34m\u001b[0m\u001b[0;34m\u001b[0m\u001b[0;34m\u001b[0m\u001b[0m\n\u001b[0;32m----> 2\u001b[0;31m \u001b[0mX_train\u001b[0m\u001b[0;34m,\u001b[0m \u001b[0mX_test\u001b[0m\u001b[0;34m,\u001b[0m \u001b[0my_train\u001b[0m\u001b[0;34m,\u001b[0m \u001b[0my_test\u001b[0m \u001b[0;34m=\u001b[0m \u001b[0mtrain_test_split\u001b[0m\u001b[0;34m(\u001b[0m\u001b[0mX_data_df\u001b[0m\u001b[0;34m,\u001b[0m \u001b[0my_data_df\u001b[0m\u001b[0;34m,\u001b[0m \u001b[0mtest_size\u001b[0m\u001b[0;34m=\u001b[0m\u001b[0;36m0.20\u001b[0m\u001b[0;34m,\u001b[0m \u001b[0mrandom_state\u001b[0m\u001b[0;34m=\u001b[0m\u001b[0;36m42\u001b[0m\u001b[0;34m)\u001b[0m\u001b[0;34m\u001b[0m\u001b[0;34m\u001b[0m\u001b[0m\n\u001b[0m",
      "\u001b[0;32m~/anaconda3/lib/python3.7/site-packages/sklearn/model_selection/_split.py\u001b[0m in \u001b[0;36mtrain_test_split\u001b[0;34m(*arrays, **options)\u001b[0m\n\u001b[1;32m   2094\u001b[0m         \u001b[0;32mraise\u001b[0m \u001b[0mTypeError\u001b[0m\u001b[0;34m(\u001b[0m\u001b[0;34m\"Invalid parameters passed: %s\"\u001b[0m \u001b[0;34m%\u001b[0m \u001b[0mstr\u001b[0m\u001b[0;34m(\u001b[0m\u001b[0moptions\u001b[0m\u001b[0;34m)\u001b[0m\u001b[0;34m)\u001b[0m\u001b[0;34m\u001b[0m\u001b[0;34m\u001b[0m\u001b[0m\n\u001b[1;32m   2095\u001b[0m \u001b[0;34m\u001b[0m\u001b[0m\n\u001b[0;32m-> 2096\u001b[0;31m     \u001b[0marrays\u001b[0m \u001b[0;34m=\u001b[0m \u001b[0mindexable\u001b[0m\u001b[0;34m(\u001b[0m\u001b[0;34m*\u001b[0m\u001b[0marrays\u001b[0m\u001b[0;34m)\u001b[0m\u001b[0;34m\u001b[0m\u001b[0;34m\u001b[0m\u001b[0m\n\u001b[0m\u001b[1;32m   2097\u001b[0m \u001b[0;34m\u001b[0m\u001b[0m\n\u001b[1;32m   2098\u001b[0m     \u001b[0mn_samples\u001b[0m \u001b[0;34m=\u001b[0m \u001b[0m_num_samples\u001b[0m\u001b[0;34m(\u001b[0m\u001b[0marrays\u001b[0m\u001b[0;34m[\u001b[0m\u001b[0;36m0\u001b[0m\u001b[0;34m]\u001b[0m\u001b[0;34m)\u001b[0m\u001b[0;34m\u001b[0m\u001b[0;34m\u001b[0m\u001b[0m\n",
      "\u001b[0;32m~/anaconda3/lib/python3.7/site-packages/sklearn/utils/validation.py\u001b[0m in \u001b[0;36mindexable\u001b[0;34m(*iterables)\u001b[0m\n\u001b[1;32m    228\u001b[0m         \u001b[0;32melse\u001b[0m\u001b[0;34m:\u001b[0m\u001b[0;34m\u001b[0m\u001b[0;34m\u001b[0m\u001b[0m\n\u001b[1;32m    229\u001b[0m             \u001b[0mresult\u001b[0m\u001b[0;34m.\u001b[0m\u001b[0mappend\u001b[0m\u001b[0;34m(\u001b[0m\u001b[0mnp\u001b[0m\u001b[0;34m.\u001b[0m\u001b[0marray\u001b[0m\u001b[0;34m(\u001b[0m\u001b[0mX\u001b[0m\u001b[0;34m)\u001b[0m\u001b[0;34m)\u001b[0m\u001b[0;34m\u001b[0m\u001b[0;34m\u001b[0m\u001b[0m\n\u001b[0;32m--> 230\u001b[0;31m     \u001b[0mcheck_consistent_length\u001b[0m\u001b[0;34m(\u001b[0m\u001b[0;34m*\u001b[0m\u001b[0mresult\u001b[0m\u001b[0;34m)\u001b[0m\u001b[0;34m\u001b[0m\u001b[0;34m\u001b[0m\u001b[0m\n\u001b[0m\u001b[1;32m    231\u001b[0m     \u001b[0;32mreturn\u001b[0m \u001b[0mresult\u001b[0m\u001b[0;34m\u001b[0m\u001b[0;34m\u001b[0m\u001b[0m\n\u001b[1;32m    232\u001b[0m \u001b[0;34m\u001b[0m\u001b[0m\n",
      "\u001b[0;32m~/anaconda3/lib/python3.7/site-packages/sklearn/utils/validation.py\u001b[0m in \u001b[0;36mcheck_consistent_length\u001b[0;34m(*arrays)\u001b[0m\n\u001b[1;32m    203\u001b[0m     \u001b[0;32mif\u001b[0m \u001b[0mlen\u001b[0m\u001b[0;34m(\u001b[0m\u001b[0muniques\u001b[0m\u001b[0;34m)\u001b[0m \u001b[0;34m>\u001b[0m \u001b[0;36m1\u001b[0m\u001b[0;34m:\u001b[0m\u001b[0;34m\u001b[0m\u001b[0;34m\u001b[0m\u001b[0m\n\u001b[1;32m    204\u001b[0m         raise ValueError(\"Found input variables with inconsistent numbers of\"\n\u001b[0;32m--> 205\u001b[0;31m                          \" samples: %r\" % [int(l) for l in lengths])\n\u001b[0m\u001b[1;32m    206\u001b[0m \u001b[0;34m\u001b[0m\u001b[0m\n\u001b[1;32m    207\u001b[0m \u001b[0;34m\u001b[0m\u001b[0m\n",
      "\u001b[0;31mValueError\u001b[0m: Found input variables with inconsistent numbers of samples: [726292, 1]"
     ]
    }
   ],
   "source": [
    "# split data into train-test\n",
    "X_train, X_test, y_train, y_test = train_test_split(X_data_df, y_data_df, test_size=0.20, random_state=42)"
   ]
  },
  {
   "cell_type": "code",
   "execution_count": null,
   "metadata": {},
   "outputs": [],
   "source": [
    "# fit the data\n",
    "regr = linear_model.LinearRegression()\n",
    "regr.fit(diabetes_X_train, diabetes_y_train)"
   ]
  },
  {
   "cell_type": "code",
   "execution_count": null,
   "metadata": {},
   "outputs": [],
   "source": [
    "# make predictions\n",
    "diabetes_y_pred = regr.predict(diabetes_X_test)"
   ]
  },
  {
   "cell_type": "code",
   "execution_count": null,
   "metadata": {},
   "outputs": [],
   "source": [
    "# calculate accuracy"
   ]
  },
  {
   "cell_type": "code",
   "execution_count": null,
   "metadata": {},
   "outputs": [],
   "source": [
    "# notes"
   ]
  },
  {
   "cell_type": "code",
   "execution_count": 10,
   "metadata": {},
   "outputs": [
    {
     "data": {
      "text/plain": [
       "(726292, 68)"
      ]
     },
     "execution_count": 10,
     "metadata": {},
     "output_type": "execute_result"
    }
   ],
   "source": [
    "data_df.shape"
   ]
  },
  {
   "cell_type": "code",
   "execution_count": 11,
   "metadata": {},
   "outputs": [
    {
     "data": {
      "text/plain": [
       "Index(['0_3um', '0_5um', '1_0um', '2_5um', '5_0um', '10_0um', 'pm1_0',\n",
       "       'pm10_0', 'created', 'pm1_0_atm', 'pm2_5_atm', 'pm10_0_atm', 'uptime',\n",
       "       'rssi', 'temperature', 'humidity', 'pm2_5_cf_1', 'device_loc_typ',\n",
       "       'is_owner', 'sensor_id', 'sensor_name', 'parent_id', 'lat', 'lon',\n",
       "       'thingspeak_primary_id', 'thingspeak_primary_id_read_key',\n",
       "       'thingspeak_secondary_id', 'thingspeak_secondary_id_read_key', 'a_h',\n",
       "       'high_reading_flag', 'hidden', 'city', 'county', 'zipcode',\n",
       "       'created_at', 'year', 'month', 'day', 'hour', 'minute', 'wban_number',\n",
       "       'call_sign', 'call_sign2', 'interval', 'call_sign3', 'zulu_time',\n",
       "       'report_modifier', 'wind_data', 'wind_direction', 'wind_speed', 'gusts',\n",
       "       'gust_speed', 'variable_winds', 'variable_wind_info', 'sys_maint_reqd',\n",
       "       'agency_name', 'aqi', 'category', 'epa_pm25_unit', 'epa_pm25_value',\n",
       "       'full_aqs_code', 'intl_aqs_code', 'raw_concentration', 'site_name',\n",
       "       'wkday', 'daytype', 'timeofday', 'wind_compass'],\n",
       "      dtype='object')"
      ]
     },
     "execution_count": 11,
     "metadata": {},
     "output_type": "execute_result"
    }
   ],
   "source": [
    "data_df.columns"
   ]
  },
  {
   "cell_type": "code",
   "execution_count": 58,
   "metadata": {},
   "outputs": [
    {
     "name": "stdout",
     "output_type": "stream",
     "text": [
      "0_3um 0\n",
      "0_5um 0\n",
      "1_0um 0\n",
      "2_5um 0\n",
      "5_0um 0\n",
      "10_0um 0\n",
      "pm1_0 0\n",
      "pm10_0 0\n",
      "created 0\n",
      "pm1_0_atm 417\n",
      "pm2_5_atm 417\n",
      "pm10_0_atm 417\n",
      "uptime 417\n",
      "rssi 417\n",
      "temperature 7864\n",
      "humidity 7864\n",
      "pm2_5_cf_1 417\n",
      "device_loc_typ 0\n",
      "is_owner 0\n",
      "sensor_id 0\n",
      "sensor_name 0\n",
      "parent_id 0\n",
      "lat 0\n",
      "lon 0\n",
      "thingspeak_primary_id 0\n",
      "thingspeak_primary_id_read_key 0\n",
      "thingspeak_secondary_id 0\n",
      "thingspeak_secondary_id_read_key 0\n",
      "a_h 652993\n",
      "high_reading_flag 0\n",
      "hidden 450765\n",
      "city 10883\n",
      "county 5690\n",
      "zipcode 3265\n",
      "created_at 0\n",
      "year 0\n",
      "month 0\n",
      "day 0\n",
      "hour 0\n",
      "minute 0\n",
      "wban_number 0\n",
      "call_sign 0\n",
      "call_sign2 0\n",
      "interval 0\n",
      "call_sign3 0\n",
      "zulu_time 0\n",
      "report_modifier 0\n",
      "wind_data 0\n",
      "wind_direction 0\n",
      "wind_speed 0\n",
      "gusts 0\n",
      "gust_speed 595441\n",
      "variable_winds 0\n",
      "variable_wind_info 0\n",
      "sys_maint_reqd 0\n",
      "agency_name 24016\n",
      "aqi 24016\n",
      "category 24016\n",
      "epa_pm25_unit 24016\n",
      "epa_pm25_value 24016\n",
      "full_aqs_code 24016\n",
      "intl_aqs_code 24016\n",
      "raw_concentration 24016\n",
      "site_name 24016\n",
      "wkday 0\n",
      "daytype 0\n",
      "timeofday 0\n",
      "wind_compass 0\n"
     ]
    }
   ],
   "source": [
    "for col in data_df.columns:\n",
    "    testy = data_df[col]\n",
    "    print(col, testy.isna().sum())"
   ]
  },
  {
   "cell_type": "code",
   "execution_count": null,
   "metadata": {},
   "outputs": [],
   "source": []
  }
 ],
 "metadata": {
  "kernelspec": {
   "display_name": "Python 3",
   "language": "python",
   "name": "python3"
  },
  "language_info": {
   "codemirror_mode": {
    "name": "ipython",
    "version": 3
   },
   "file_extension": ".py",
   "mimetype": "text/x-python",
   "name": "python",
   "nbconvert_exporter": "python",
   "pygments_lexer": "ipython3",
   "version": "3.7.4"
  }
 },
 "nbformat": 4,
 "nbformat_minor": 2
}
