{
 "cells": [
  {
   "cell_type": "code",
   "execution_count": 1,
   "metadata": {},
   "outputs": [],
   "source": [
    "import pandas as pd\n",
    "import pandas_profiling\n",
    "import numpy as np\n",
    "import json\n",
    "import datetime, time\n",
    "from dateutil import tz\n",
    "import ast\n",
    "from matplotlib import pyplot as plt \n",
    "import seaborn as sns\n",
    "import gmplot\n",
    "\n",
    "import boto3\n",
    "import s3fs\n",
    "from fastparquet import ParquetFile, write\n",
    "\n",
    "import warnings\n",
    "warnings.filterwarnings('ignore')\n",
    "\n",
    "pd.set_option('display.max_columns', 500)"
   ]
  },
  {
   "cell_type": "code",
   "execution_count": 2,
   "metadata": {},
   "outputs": [],
   "source": [
    "# Use this cell to specify the paths for the data folder in your local machines\n",
    "# Use the variable 'datafolder' to specify the path\n",
    "# Comment out all the data paths except your own\n",
    "# Purple Air data ia assumed to be in a subfolder called 'purpleair' \n",
    "# For example, if the base data folder is '/users/data', purpleair data should be in '/users/data/purpleair'\n",
    "\n",
    "# Angshuman's local path\n",
    "datafolder = \"/Users/apaul2/Documents/_Common/capstone/Project/data\""
   ]
  },
  {
   "cell_type": "code",
   "execution_count": 3,
   "metadata": {},
   "outputs": [],
   "source": [
    "# # Downloaded the historical_PM25.csv locally for initial merge\n",
    "# epa_df = pd.read_csv(\"{}/ambient/historical_PM25.csv\".format(datafolder))"
   ]
  },
  {
   "cell_type": "code",
   "execution_count": 4,
   "metadata": {},
   "outputs": [],
   "source": [
    "# Read historical epa data from s3\n",
    "bucket = \"capstone-air-pollution\"\n",
    "file_name = \"EPA/historical_PM25.csv\"  # historical\n",
    "# file_name = \"EPA/201910_PM25.csv\"  # current\n",
    "\n",
    "s3 = boto3.client('s3') \n",
    "obj = s3.get_object(Bucket= bucket, Key= file_name) \n",
    "epa_df = pd.read_csv(obj['Body']) "
   ]
  },
  {
   "cell_type": "code",
   "execution_count": 4,
   "metadata": {},
   "outputs": [],
   "source": [
    "epa_df.columns = ['lat', 'lon', 'utc', 'parameter', 'epa_pm25_unit', 'epa_pm25_value','raw_concentration', 'aqi', 'category', 'site_name', 'agency_name',\n",
    "       'full_aqs_code', 'intl_aqs_code']"
   ]
  },
  {
   "cell_type": "code",
   "execution_count": 5,
   "metadata": {},
   "outputs": [],
   "source": [
    "# Add a datekey column based on local date\n",
    "epa_df['created'] = epa_df['utc'].apply(lambda x: int(datetime.datetime.strptime(x, '%Y-%m-%d %H:%M:%S').replace(tzinfo=tz.tzutc()).astimezone(tz.tzlocal()).strftime(\"%Y%m%d%H%M\")))"
   ]
  },
  {
   "cell_type": "code",
   "execution_count": 6,
   "metadata": {},
   "outputs": [
    {
     "data": {
      "text/html": [
       "<div>\n",
       "<style scoped>\n",
       "    .dataframe tbody tr th:only-of-type {\n",
       "        vertical-align: middle;\n",
       "    }\n",
       "\n",
       "    .dataframe tbody tr th {\n",
       "        vertical-align: top;\n",
       "    }\n",
       "\n",
       "    .dataframe thead th {\n",
       "        text-align: right;\n",
       "    }\n",
       "</style>\n",
       "<table border=\"1\" class=\"dataframe\">\n",
       "  <thead>\n",
       "    <tr style=\"text-align: right;\">\n",
       "      <th></th>\n",
       "      <th>lat</th>\n",
       "      <th>lon</th>\n",
       "      <th>utc</th>\n",
       "      <th>parameter</th>\n",
       "      <th>epa_pm25_unit</th>\n",
       "      <th>epa_pm25_value</th>\n",
       "      <th>raw_concentration</th>\n",
       "      <th>aqi</th>\n",
       "      <th>category</th>\n",
       "      <th>site_name</th>\n",
       "      <th>agency_name</th>\n",
       "      <th>full_aqs_code</th>\n",
       "      <th>intl_aqs_code</th>\n",
       "      <th>created</th>\n",
       "    </tr>\n",
       "  </thead>\n",
       "  <tbody>\n",
       "    <tr>\n",
       "      <th>0</th>\n",
       "      <td>37.972200</td>\n",
       "      <td>-122.518900</td>\n",
       "      <td>2018-09-01 00:00:00</td>\n",
       "      <td>PM2.5</td>\n",
       "      <td>UG/M3</td>\n",
       "      <td>9.4</td>\n",
       "      <td>12.0</td>\n",
       "      <td>39</td>\n",
       "      <td>1</td>\n",
       "      <td>San Rafael</td>\n",
       "      <td>San Francisco Bay Area AQMD</td>\n",
       "      <td>60410001</td>\n",
       "      <td>840060410001</td>\n",
       "      <td>201808311700</td>\n",
       "    </tr>\n",
       "    <tr>\n",
       "      <th>1</th>\n",
       "      <td>37.765800</td>\n",
       "      <td>-122.397800</td>\n",
       "      <td>2018-09-01 00:00:00</td>\n",
       "      <td>PM2.5</td>\n",
       "      <td>UG/M3</td>\n",
       "      <td>6.2</td>\n",
       "      <td>6.0</td>\n",
       "      <td>26</td>\n",
       "      <td>1</td>\n",
       "      <td>San Francisco</td>\n",
       "      <td>San Francisco Bay Area AQMD</td>\n",
       "      <td>60750005</td>\n",
       "      <td>840060750005</td>\n",
       "      <td>201808311700</td>\n",
       "    </tr>\n",
       "    <tr>\n",
       "      <th>2</th>\n",
       "      <td>37.960400</td>\n",
       "      <td>-122.357100</td>\n",
       "      <td>2018-09-01 00:00:00</td>\n",
       "      <td>PM2.5</td>\n",
       "      <td>UG/M3</td>\n",
       "      <td>10.0</td>\n",
       "      <td>11.0</td>\n",
       "      <td>42</td>\n",
       "      <td>1</td>\n",
       "      <td>San Pablo - Rumrill</td>\n",
       "      <td>San Francisco Bay Area AQMD</td>\n",
       "      <td>60131004</td>\n",
       "      <td>840060131004</td>\n",
       "      <td>201808311700</td>\n",
       "    </tr>\n",
       "    <tr>\n",
       "      <th>3</th>\n",
       "      <td>37.864767</td>\n",
       "      <td>-122.302741</td>\n",
       "      <td>2018-09-01 00:00:00</td>\n",
       "      <td>PM2.5</td>\n",
       "      <td>UG/M3</td>\n",
       "      <td>2.7</td>\n",
       "      <td>4.0</td>\n",
       "      <td>11</td>\n",
       "      <td>1</td>\n",
       "      <td>Berkeley Aquatic Park</td>\n",
       "      <td>San Francisco Bay Area AQMD</td>\n",
       "      <td>60010013</td>\n",
       "      <td>840060010013</td>\n",
       "      <td>201808311700</td>\n",
       "    </tr>\n",
       "    <tr>\n",
       "      <th>4</th>\n",
       "      <td>37.814800</td>\n",
       "      <td>-122.282402</td>\n",
       "      <td>2018-09-01 00:00:00</td>\n",
       "      <td>PM2.5</td>\n",
       "      <td>UG/M3</td>\n",
       "      <td>11.0</td>\n",
       "      <td>9.0</td>\n",
       "      <td>46</td>\n",
       "      <td>1</td>\n",
       "      <td>Oakland West</td>\n",
       "      <td>San Francisco Bay Area AQMD</td>\n",
       "      <td>60010011</td>\n",
       "      <td>840060010011</td>\n",
       "      <td>201808311700</td>\n",
       "    </tr>\n",
       "  </tbody>\n",
       "</table>\n",
       "</div>"
      ],
      "text/plain": [
       "         lat         lon                  utc parameter epa_pm25_unit  \\\n",
       "0  37.972200 -122.518900  2018-09-01 00:00:00     PM2.5         UG/M3   \n",
       "1  37.765800 -122.397800  2018-09-01 00:00:00     PM2.5         UG/M3   \n",
       "2  37.960400 -122.357100  2018-09-01 00:00:00     PM2.5         UG/M3   \n",
       "3  37.864767 -122.302741  2018-09-01 00:00:00     PM2.5         UG/M3   \n",
       "4  37.814800 -122.282402  2018-09-01 00:00:00     PM2.5         UG/M3   \n",
       "\n",
       "   epa_pm25_value  raw_concentration  aqi  category              site_name  \\\n",
       "0             9.4               12.0   39         1             San Rafael   \n",
       "1             6.2                6.0   26         1          San Francisco   \n",
       "2            10.0               11.0   42         1    San Pablo - Rumrill   \n",
       "3             2.7                4.0   11         1  Berkeley Aquatic Park   \n",
       "4            11.0                9.0   46         1           Oakland West   \n",
       "\n",
       "                   agency_name  full_aqs_code  intl_aqs_code       created  \n",
       "0  San Francisco Bay Area AQMD       60410001   840060410001  201808311700  \n",
       "1  San Francisco Bay Area AQMD       60750005   840060750005  201808311700  \n",
       "2  San Francisco Bay Area AQMD       60131004   840060131004  201808311700  \n",
       "3  San Francisco Bay Area AQMD       60010013   840060010013  201808311700  \n",
       "4  San Francisco Bay Area AQMD       60010011   840060010011  201808311700  "
      ]
     },
     "execution_count": 6,
     "metadata": {},
     "output_type": "execute_result"
    }
   ],
   "source": [
    "epa_df.head()"
   ]
  },
  {
   "cell_type": "code",
   "execution_count": 7,
   "metadata": {},
   "outputs": [
    {
     "data": {
      "text/plain": [
       "(9481, 55603)"
      ]
     },
     "execution_count": 7,
     "metadata": {},
     "output_type": "execute_result"
    }
   ],
   "source": [
    "epa_df.utc.nunique(), len(epa_df)"
   ]
  },
  {
   "cell_type": "code",
   "execution_count": 8,
   "metadata": {},
   "outputs": [
    {
     "data": {
      "text/plain": [
       "(201808311700, 201909301700)"
      ]
     },
     "execution_count": 8,
     "metadata": {},
     "output_type": "execute_result"
    }
   ],
   "source": [
    "epa_df.created.min(), epa_df.created.max()"
   ]
  },
  {
   "cell_type": "code",
   "execution_count": 23,
   "metadata": {},
   "outputs": [],
   "source": [
    "dateint = 201909000000\n",
    "for i in range(1,31):\n",
    "    start = dateint + i * 10000\n",
    "    end = start + 10001\n",
    "    dly_epa_df = epa_df[(epa_df.created >= start) & (epa_df.created < end)]\n",
    "    \n",
    "    parquet_file = \"{}/ambient/daily/epa_201909{:02}.parquet\".format(datafolder, i)\n",
    "    write(parquet_file, dly_epa_df,compression='GZIP')"
   ]
  },
  {
   "cell_type": "code",
   "execution_count": 24,
   "metadata": {},
   "outputs": [
    {
     "data": {
      "text/plain": [
       "(201909300000, 201909301700, 18, 98)"
      ]
     },
     "execution_count": 24,
     "metadata": {},
     "output_type": "execute_result"
    }
   ],
   "source": [
    "dly_epa_df.created.min(), dly_epa_df.created.max(), dly_epa_df.utc.nunique(), len(dly_epa_df)"
   ]
  }
 ],
 "metadata": {
  "kernelspec": {
   "display_name": "Python 3",
   "language": "python",
   "name": "python3"
  },
  "language_info": {
   "codemirror_mode": {
    "name": "ipython",
    "version": 3
   },
   "file_extension": ".py",
   "mimetype": "text/x-python",
   "name": "python",
   "nbconvert_exporter": "python",
   "pygments_lexer": "ipython3",
   "version": "3.6.8"
  }
 },
 "nbformat": 4,
 "nbformat_minor": 4
}
