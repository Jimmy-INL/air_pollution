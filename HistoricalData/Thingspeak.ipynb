{
 "cells": [
  {
   "cell_type": "markdown",
   "metadata": {},
   "source": [
    "# Investigation of PurpleAir's data\n",
    "[PurpleAir](http://www.purpleair.com) sells low-cost air quality sensors that feed data to [real-time maps of PM2.5 pollution](https://www.purpleair.com/map?#11/37.789/-122.2048).   \n",
    "This data will be used for a UC Berkeley capstone project [summarized here](https://docs.google.com/document/d/1NjCpqNd7rDnD6VOExVktGtquRzs21hpwZ8HhLQpYLO8/edit)."
   ]
  },
  {
   "cell_type": "markdown",
   "metadata": {},
   "source": [
    "### Libraries and installs"
   ]
  },
  {
   "cell_type": "code",
   "execution_count": 1,
   "metadata": {},
   "outputs": [],
   "source": [
    "import pandas as pd\n",
    "import pandas_profiling\n",
    "import numpy as np\n",
    "import json\n",
    "import datetime, time\n",
    "from dateutil import tz\n",
    "import ast\n",
    "from matplotlib import pyplot as plt \n",
    "import seaborn as sns\n",
    "import gmplot\n",
    "\n",
    "import boto3\n",
    "import s3fs\n",
    "from fastparquet import ParquetFile, write\n",
    "\n",
    "import urllib3\n",
    "import json\n",
    "\n",
    "import warnings\n",
    "warnings.filterwarnings('ignore')\n",
    "\n",
    "pd.set_option('display.max_columns', 500)\n",
    "\n",
    "https = urllib3.PoolManager()"
   ]
  },
  {
   "cell_type": "markdown",
   "metadata": {},
   "source": [
    "### Data Folder Instructions"
   ]
  },
  {
   "cell_type": "code",
   "execution_count": 3,
   "metadata": {},
   "outputs": [],
   "source": [
    "# Use this cell to specify the paths for the data folder in your local machines\n",
    "# Use the variable 'datafolder' to specify the path\n",
    "# Comment out all the data paths except your own\n",
    "# Purple Air data ia assumed to be in a subfolder called 'purpleair' \n",
    "# For example, if the base data folder is '/users/data', purpleair data should be in '/users/data/purpleair'\n",
    "\n",
    "# Angshuman's local path\n",
    "datafolder = \"/Users/apaul2/Documents/_Common/capstone/Project/data\""
   ]
  },
  {
   "cell_type": "markdown",
   "metadata": {},
   "source": [
    "### Helper Functions"
   ]
  },
  {
   "cell_type": "code",
   "execution_count": 3,
   "metadata": {},
   "outputs": [],
   "source": [
    "def createHashKey(row, col1, col2):\n",
    "    \n",
    "    str_col1 = row[col1]\n",
    "    \n",
    "    str_col2 = row[col2]\n",
    "        \n",
    "    return hash(str_col1 + str_col2)"
   ]
  },
  {
   "cell_type": "code",
   "execution_count": 4,
   "metadata": {},
   "outputs": [],
   "source": [
    "# Get data from sensor 2\n",
    "def genTS2DF(sensordf, startday):\n",
    "    ts_s_df = pd.DataFrame(columns=['created_at', '0_3um', '0_5um', '1_0um', '2_5um', '5_0um', '10_0um', 'pm1_0', 'pm10_0','sensorhash'])\n",
    "    count, errCount = 0, 0\n",
    "\n",
    "    for ind, val in sensordf.iterrows():\n",
    "        qrystr = \"https://api.thingspeak.com/channels/{0}/feeds.json?api_key={0}&start=2019-09-{2}%2000:00:00&end=2019-09-{2}%2023:59:59& \\\n",
    "                    timezone=America/Los_Angeles&timescale=10\".format(val['thingspeak_secondary_id'], val['thingspeak_secondary_id_read_key'], startday)\n",
    "#         print(qrystr)\n",
    "        try:\n",
    "            count += 1\n",
    "            r = https.request('GET',qrystr)\n",
    "            if r.status == 200:\n",
    "                j = json.loads(r.data.decode('utf-8'))\n",
    "                df = pd.DataFrame(j['feeds'])\n",
    "                df.columns=['created_at', '0_3um', '0_5um', '1_0um', '2_5um', '5_0um', '10_0um', 'pm1_0', 'pm10_0']\n",
    "                df['sensorhash'] = val['sensorhash']\n",
    "                ts_s_df = pd.concat([ts_s_df,df],ignore_index=True)\n",
    "        except Exception as e:\n",
    "            errCount += 1\n",
    "            continue\n",
    "    print(\"For {}, Of the {} requests, {} errored out.\".format(startday, count, errCount))\n",
    "    \n",
    "    # Add a key column based on time\n",
    "    # This along with the sensorhash column will be used to join the two sensor datasets\n",
    "    ts_s_df['created'] = ts_s_df['created_at'].apply(lambda x: datetime.datetime.strptime(x,\"%Y-%m-%dT%H:%M:%SZ\").strftime(\"%Y%m%d%H%M\"))\n",
    "    \n",
    "    return ts_s_df"
   ]
  },
  {
   "cell_type": "code",
   "execution_count": 5,
   "metadata": {},
   "outputs": [],
   "source": [
    "# Get data from sensor 1\n",
    "def genTS1DF(sensordf, startday):\n",
    "    ts_p_df = pd.DataFrame(columns=['created_at', 'pm1_0_atm', 'pm2_5_atm', 'pm10_0_atm', 'uptime', 'rssi', 'temperature', 'humidity', 'pm2_5_cf_1','sensorhash'])\n",
    "    count, errCount = 0, 0\n",
    "\n",
    "    for ind, val in sensordf.iterrows():\n",
    "        qrystr = \"https://api.thingspeak.com/channels/{0}/feeds.json?api_key={1}&start=2019-09-{2}%2000:00:00&end=2019-09-{2}%2023:59:59& \\\n",
    "                    timezone=America/Los_Angeles&timescale=10\".format(val['thingspeak_primary_id'], val['thingspeak_primary_id_read_key'], startday)\n",
    "#         print(qrystr)\n",
    "        try:\n",
    "            count += 1\n",
    "            r = https.request('GET',qrystr)\n",
    "            if r.status == 200:\n",
    "                j = json.loads(r.data.decode('utf-8'))\n",
    "                df = pd.DataFrame(j['feeds'])\n",
    "                df.columns=['created_at', 'pm1_0_atm', 'pm2_5_atm', 'pm10_0_atm', 'uptime', 'rssi', 'temperature', 'humidity', 'pm2_5_cf_1']\n",
    "                df['sensorhash'] = val['sensorhash']\n",
    "                ts_p_df = pd.concat([ts_p_df,df],ignore_index=True)\n",
    "        except Exception as e:\n",
    "            errCount += 1\n",
    "            continue\n",
    "    print(\"Of the {} requests, {} errored out.\".format(count, errCount))\n",
    "    \n",
    "    # Add a key column based on time\n",
    "    # This along with the sensorhash column will be used to join the two sensor datasets\n",
    "    ts_p_df['created'] = ts_p_df['created_at'].apply(lambda x: datetime.datetime.strptime(x,\"%Y-%m-%dT%H:%M:%SZ\").strftime(\"%Y%m%d%H%M\"))\n",
    "    \n",
    "    return ts_p_df"
   ]
  },
  {
   "cell_type": "code",
   "execution_count": 6,
   "metadata": {},
   "outputs": [
    {
     "name": "stdout",
     "output_type": "stream",
     "text": [
      "For 01, Of the 593 requests, 102 errored out.\n",
      "Of the 593 requests, 36 errored out.\n",
      "For 02, Of the 593 requests, 102 errored out.\n",
      "Of the 593 requests, 37 errored out.\n",
      "For 03, Of the 593 requests, 103 errored out.\n",
      "Of the 593 requests, 37 errored out.\n",
      "For 04, Of the 593 requests, 101 errored out.\n",
      "Of the 593 requests, 34 errored out.\n",
      "For 05, Of the 593 requests, 98 errored out.\n",
      "Of the 593 requests, 30 errored out.\n",
      "For 06, Of the 593 requests, 97 errored out.\n",
      "Of the 593 requests, 29 errored out.\n",
      "For 07, Of the 593 requests, 93 errored out.\n",
      "Of the 593 requests, 26 errored out.\n",
      "For 08, Of the 593 requests, 91 errored out.\n",
      "Of the 593 requests, 21 errored out.\n",
      "For 09, Of the 593 requests, 89 errored out.\n",
      "Of the 593 requests, 20 errored out.\n",
      "For 10, Of the 593 requests, 84 errored out.\n",
      "Of the 593 requests, 15 errored out.\n",
      "For 11, Of the 593 requests, 85 errored out.\n",
      "Of the 593 requests, 16 errored out.\n",
      "For 12, Of the 593 requests, 79 errored out.\n",
      "Of the 593 requests, 10 errored out.\n",
      "For 13, Of the 593 requests, 85 errored out.\n",
      "Of the 593 requests, 16 errored out.\n",
      "For 14, Of the 593 requests, 72 errored out.\n",
      "Of the 593 requests, 2 errored out.\n"
     ]
    }
   ],
   "source": [
    "days_list = ['15','16','17','18','19','20','21','22','23','24','25','26','27','28','29','30']\n",
    "# days_list = ['01','02','03','04','05','06','07','08','09','10','11','12','13','14']\n",
    "# bayarea_purple_df = pd.read_parquet(\"{}/purpleair/dailyfiltered/20190914.parquet\".format(datafolder))\n",
    "\n",
    "for i in range(len(days_list)):\n",
    "    bayarea_purple_df = pd.read_parquet(\"{}/purpleair/dailyfiltered/201909{}.parquet\".format(datafolder,days_list[i]))\n",
    "    bay_pa_thingspeak_df = bayarea_purple_df[['sensorhash', 'thingspeak_primary_id','thingspeak_primary_id_read_key',\n",
    "                                               'thingspeak_secondary_id','thingspeak_secondary_id_read_key']]\n",
    "    bay_pa_thingspeak_df.drop_duplicates(inplace=True)\n",
    "    bay_pa_thingspeak_df.reset_index(inplace=True, drop=True)\n",
    "\n",
    "    ts_s_df = genTS2DF(bay_pa_thingspeak_df, days_list[i])\n",
    "    ts_p_df = genTS1DF(bay_pa_thingspeak_df, days_list[i])\n",
    "    # Merge data from the two sensors\n",
    "    # Only keep records having particle data\n",
    "    bay_ts_df = pd.merge(ts_s_df, ts_p_df,  how='left', left_on=['sensorhash','created'], right_on=['sensorhash','created'])\n",
    "    bay_ts_df.drop(['created_at_y'], axis=1, inplace=True)\n",
    "    \n",
    "    # Write to file\n",
    "    parquet_file = \"{}/thingspeak/thingspeak_sep{}.parquet\".format(datafolder, days_list[i])\n",
    "    write(parquet_file, bay_ts_df,compression='GZIP')"
   ]
  },
  {
   "cell_type": "code",
   "execution_count": 11,
   "metadata": {},
   "outputs": [],
   "source": [
    "parquet_file = \"{}/thingspeak/thingspeak_sep01.parquet\".format(datafolder)"
   ]
  },
  {
   "cell_type": "code",
   "execution_count": 12,
   "metadata": {},
   "outputs": [
    {
     "data": {
      "text/plain": [
       "array(['201909010000', '201909010010', '201909010020', '201909010030',\n",
       "       '201909010040', '201909010050', '201909010100', '201909010110',\n",
       "       '201909010120', '201909010130', '201909010140', '201909010150',\n",
       "       '201909010200', '201909010210', '201909010220', '201909010230',\n",
       "       '201909010240', '201909010250', '201909010300', '201909010310',\n",
       "       '201909010320', '201909010330', '201909010340', '201909010350',\n",
       "       '201909010400', '201909010410', '201909010420', '201909010430',\n",
       "       '201909010440', '201909010450', '201909010500', '201909010510',\n",
       "       '201909010520', '201909010530', '201909010540', '201909010550',\n",
       "       '201909010600', '201909010610', '201909010620', '201909010630',\n",
       "       '201909010640', '201909010650', '201909010700', '201909010710',\n",
       "       '201909010720', '201909010730', '201909010740', '201909010750',\n",
       "       '201909010800', '201909010810', '201909010820', '201909010830',\n",
       "       '201909010840', '201909010850', '201909010900', '201909010910',\n",
       "       '201909010920', '201909010930', '201909010940', '201909010950',\n",
       "       '201909011000', '201909011010', '201909011020', '201909011030',\n",
       "       '201909011040', '201909011050', '201909011100', '201909011110',\n",
       "       '201909011120', '201909011130', '201909011140', '201909011150',\n",
       "       '201909011200', '201909011210', '201909011220', '201909011230',\n",
       "       '201909011240', '201909011250', '201909011300', '201909011310',\n",
       "       '201909011320', '201909011330', '201909011340', '201909011350',\n",
       "       '201909011400', '201909011410', '201909011420', '201909011430',\n",
       "       '201909011440', '201909011450', '201909011500', '201909011510',\n",
       "       '201909011520', '201909011530', '201909011540', '201909011550',\n",
       "       '201909011600', '201909011610', '201909011620', '201909011630',\n",
       "       '201909011640', '201909011650', '201909011700', '201909011710',\n",
       "       '201909011720', '201909011730', '201909011740', '201909011750',\n",
       "       '201909011800', '201909011810', '201909011820', '201909011830',\n",
       "       '201909011840', '201909011850', '201909011900', '201909011910',\n",
       "       '201909011920', '201909011930', '201909011940', '201909011950',\n",
       "       '201909012000', '201909012010', '201909012020', '201909012030',\n",
       "       '201909012040', '201909012050', '201909012100', '201909012110',\n",
       "       '201909012120', '201909012130', '201909012140', '201909012150',\n",
       "       '201909012200', '201909012210', '201909012220', '201909012230',\n",
       "       '201909012240', '201909012250', '201909012300', '201909012310',\n",
       "       '201909012320', '201909012330', '201909012340', '201909012350',\n",
       "       '201909020000'], dtype=object)"
      ]
     },
     "execution_count": 12,
     "metadata": {},
     "output_type": "execute_result"
    }
   ],
   "source": [
    "tst = pd.read_parquet(parquet_file)\n",
    "tst.created.unique()"
   ]
  },
  {
   "cell_type": "code",
   "execution_count": 13,
   "metadata": {},
   "outputs": [
    {
     "data": {
      "text/plain": [
       "array(['201909010000', '201909010010', '201909010020', '201909010030',\n",
       "       '201909010040', '201909010050', '201909010100', '201909010110',\n",
       "       '201909010120', '201909010130', '201909010140', '201909010150',\n",
       "       '201909010200', '201909010210', '201909010220', '201909010230',\n",
       "       '201909010240', '201909010250', '201909010300', '201909010310',\n",
       "       '201909010320', '201909010330', '201909010340', '201909010350',\n",
       "       '201909010400', '201909010410', '201909010420', '201909010430',\n",
       "       '201909010440', '201909010450', '201909010500', '201909010510',\n",
       "       '201909010520', '201909010530', '201909010540', '201909010550',\n",
       "       '201909010600', '201909010610', '201909010620', '201909010630',\n",
       "       '201909010640', '201909010650', '201909010700', '201909010710',\n",
       "       '201909010720', '201909010730', '201909010740', '201909010750',\n",
       "       '201909010800', '201909010810', '201909010820', '201909010830',\n",
       "       '201909010840', '201909010850', '201909010900', '201909010910',\n",
       "       '201909010920', '201909010930', '201909010940', '201909010950',\n",
       "       '201909011000', '201909011010', '201909011020', '201909011030',\n",
       "       '201909011040', '201909011050', '201909011100', '201909011110',\n",
       "       '201909011120', '201909011130', '201909011140', '201909011150',\n",
       "       '201909011200', '201909011210', '201909011220', '201909011230',\n",
       "       '201909011240', '201909011250', '201909011300', '201909011310',\n",
       "       '201909011320', '201909011330', '201909011340', '201909011350',\n",
       "       '201909011400', '201909011410', '201909011420', '201909011430',\n",
       "       '201909011440', '201909011450', '201909011500', '201909011510',\n",
       "       '201909011520', '201909011530', '201909011540', '201909011550',\n",
       "       '201909011600', '201909011610', '201909011620', '201909011630',\n",
       "       '201909011640', '201909011650', '201909011700', '201909011710',\n",
       "       '201909011720', '201909011730', '201909011740', '201909011750',\n",
       "       '201909011800', '201909011810', '201909011820', '201909011830',\n",
       "       '201909011840', '201909011850', '201909011900', '201909011910',\n",
       "       '201909011920', '201909011930', '201909011940', '201909011950',\n",
       "       '201909012000', '201909012010', '201909012020', '201909012030',\n",
       "       '201909012040', '201909012050', '201909012100', '201909012110',\n",
       "       '201909012120', '201909012130', '201909012140', '201909012150',\n",
       "       '201909012200', '201909012210', '201909012220', '201909012230',\n",
       "       '201909012240', '201909012250', '201909012300', '201909012310',\n",
       "       '201909012320', '201909012330', '201909012340', '201909012350'],\n",
       "      dtype=object)"
      ]
     },
     "execution_count": 13,
     "metadata": {},
     "output_type": "execute_result"
    }
   ],
   "source": [
    "tst1 = tst[tst.created != '201909020000']\n",
    "tst1.created.unique()"
   ]
  },
  {
   "cell_type": "code",
   "execution_count": null,
   "metadata": {},
   "outputs": [],
   "source": [
    "write(parquet_file, tst1,compression='GZIP')"
   ]
  }
 ],
 "metadata": {
  "kernelspec": {
   "display_name": "Python 3",
   "language": "python",
   "name": "python3"
  },
  "language_info": {
   "codemirror_mode": {
    "name": "ipython",
    "version": 3
   },
   "file_extension": ".py",
   "mimetype": "text/x-python",
   "name": "python",
   "nbconvert_exporter": "python",
   "pygments_lexer": "ipython3",
   "version": "3.6.8"
  }
 },
 "nbformat": 4,
 "nbformat_minor": 4
}
