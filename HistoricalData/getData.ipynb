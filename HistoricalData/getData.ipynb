{
 "cells": [
  {
   "cell_type": "markdown",
   "metadata": {},
   "source": [
    "### Function for getting data"
   ]
  },
  {
   "cell_type": "code",
   "execution_count": null,
   "metadata": {},
   "outputs": [],
   "source": [
    "import datetime\n",
    "from datetime import date, timedelta\n",
    "from os import path\n",
    "import pandas as pd\n",
    "\n",
    "import boto3\n",
    "import s3fs\n",
    "from fastparquet import ParquetFile\n",
    "\n",
    "import warnings\n",
    "warnings.filterwarnings('ignore')\n",
    "\n",
    "pd.set_option('display.max_columns', 500)"
   ]
  },
  {
   "cell_type": "code",
   "execution_count": null,
   "metadata": {},
   "outputs": [],
   "source": [
    "# Class for throwing custom errors\n",
    "class CustomError(Exception):\n",
    "    def __init__(self, m):\n",
    "        self.message = m\n",
    "    def __str__(self):\n",
    "        return self.message"
   ]
  },
  {
   "cell_type": "code",
   "execution_count": null,
   "metadata": {},
   "outputs": [],
   "source": [
    "# Helper function for getting dates in a given range\n",
    "def getDates(start, end):\n",
    "    date_list = []\n",
    "    start_date = datetime.datetime.strptime(start, \"%Y/%m/%d\").date()\n",
    "    end_date = datetime.datetime.strptime(end, \"%Y/%m/%d\").date()\n",
    "\n",
    "    delta = end_date - start_date       # as timedelta\n",
    "\n",
    "    for i in range(delta.days + 1):\n",
    "        day = start_date + timedelta(days=i)\n",
    "        date_list.append(day.strftime(\"%Y%m%d\"))\n",
    "        \n",
    "    return date_list"
   ]
  },
  {
   "cell_type": "code",
   "execution_count": null,
   "metadata": {},
   "outputs": [],
   "source": [
    "# Helper function for loading data into a dataframe\n",
    "def loadDataframe(files):\n",
    "            \n",
    "    s3 = s3fs.S3FileSystem()\n",
    "    myopen = s3.open\n",
    "    \n",
    "    df = pd.DataFrame(columns=['0_3um', '0_5um', '1_0um', '2_5um', '5_0um', '10_0um', 'pm1_0','pm10_0', 'created', 'pm1_0_atm', 'pm2_5_atm', 'pm10_0_atm', 'uptime','rssi', \n",
    "                       'temperature', 'humidity', 'pm2_5_cf_1', 'device_loc_typ', 'is_owner', 'sensor_id', 'sensor_name', 'parent_id','lat', 'lon',  'thingspeak_primary_id', \n",
    "                       'thingspeak_primary_id_read_key', 'thingspeak_secondary_id', 'thingspeak_secondary_id_read_key', 'a_h', 'high_reading_flag', 'hidden',\n",
    "                       'city', 'county', 'zipcode', 'created_at', 'year', 'month', 'day', 'hour', 'minute', 'wban_number', 'call_sign', 'call_sign2', 'interval', \n",
    "                       'call_sign3', 'zulu_time', 'report_modifier', 'wind_data', 'wind_direction', 'wind_speed', 'gusts', 'gust_speed', 'variable_winds', 'variable_wind_info', \n",
    "                       'sys_maint_reqd', 'epa_pm25_unit', 'epa_pm25_value', 'raw_concentration', 'aqi', 'category', 'site_name', 'agency_name', 'full_aqs_code', 'intl_aqs_code'])\n",
    "\n",
    "    for filenm in files:\n",
    "        pf=ParquetFile('midscapstone-whos-polluting-my-air/CombinedDaily/{}.parquet'.format(filenm), open_with=myopen)\n",
    "        tmp_df=pf.to_pandas()\n",
    "        df = pd.concat([df, tmp_df],ignore_index=True)\n",
    "\n",
    "    return df"
   ]
  },
  {
   "cell_type": "code",
   "execution_count": null,
   "metadata": {},
   "outputs": [],
   "source": [
    "# Main function for getting data\n",
    "def get_data(UP_LEFT, UP_RIGHT, DOWN_RIGHT, DOWN_LEFT, START_DATE, END_DATE, START_HOUR, END_HOUR):\n",
    "    \n",
    "    # Create variables from parameters\n",
    "    startfile = int(START_DATE.replace('/',''))\n",
    "    endfile = int(END_DATE.replace('/',''))\n",
    "    lat_min = DOWN_LEFT[0]\n",
    "    lat_max = UP_RIGHT[0]\n",
    "    lon_min = DOWN_LEFT[1]\n",
    "    lon_max = UP_RIGHT[1]\n",
    "\n",
    "    try:\n",
    "        # Check Parameters\n",
    "        if startfile <= endfile:\n",
    "            file_list = getDates(START_DATE, END_DATE)\n",
    "            \n",
    "            df = loadDataframe(file_list)\n",
    "            # Filter data for input bounding box\n",
    "            df = df[(df.lat > lat_min) & (df.lat < lat_max) \n",
    "                              & (df.lon > lon_min) & (df.lon < lon_max)]\n",
    "            \n",
    "            # Filter data for input  hours\n",
    "            df = df[(df.hour >= START_HOUR) & (df.hour <= END_HOUR)]\n",
    "            df.reset_index(inplace=True, drop=True)\n",
    "            return df\n",
    "        else:\n",
    "            raise CustomError(\"INPUT ERROR: Start Date is greater than End Date\")\n",
    "    except Exception as e:\n",
    "        print(e)"
   ]
  },
  {
   "cell_type": "markdown",
   "metadata": {},
   "source": [
    "### Use Python file to get data"
   ]
  },
  {
   "cell_type": "code",
   "execution_count": 1,
   "metadata": {},
   "outputs": [],
   "source": [
    "from getData import get_data"
   ]
  },
  {
   "cell_type": "code",
   "execution_count": 2,
   "metadata": {},
   "outputs": [],
   "source": [
    "UP_LEFT = (38.008050, -122.536985)\n",
    "UP_RIGHT = (38.008050, -122.186437)\n",
    "DOWN_RIGHT = (37.701933, -122.186437)\n",
    "DOWN_LEFT = (37.701933, -122.536985)\n",
    "START_DATE = '2019/09/18'\n",
    "END_DATE = '2019/09/21'\n",
    "START_HOUR = '10'\n",
    "END_HOUR = '18'"
   ]
  },
  {
   "cell_type": "code",
   "execution_count": 3,
   "metadata": {},
   "outputs": [],
   "source": [
    "df = get_data(UP_LEFT, UP_RIGHT, DOWN_RIGHT, DOWN_LEFT, START_DATE, END_DATE, START_HOUR, END_HOUR)"
   ]
  },
  {
   "cell_type": "code",
   "execution_count": 4,
   "metadata": {},
   "outputs": [
    {
     "data": {
      "text/plain": [
       "112237"
      ]
     },
     "execution_count": 4,
     "metadata": {},
     "output_type": "execute_result"
    }
   ],
   "source": [
    "len(df)"
   ]
  },
  {
   "cell_type": "code",
   "execution_count": 5,
   "metadata": {},
   "outputs": [
    {
     "data": {
      "text/plain": [
       "(37.706918, 37.98261, -122.535636, -122.188555)"
      ]
     },
     "execution_count": 5,
     "metadata": {},
     "output_type": "execute_result"
    }
   ],
   "source": [
    "df.lat.min(), df.lat.max(), df.lon.min(), df.lon.max()"
   ]
  },
  {
   "cell_type": "code",
   "execution_count": 6,
   "metadata": {},
   "outputs": [
    {
     "data": {
      "text/plain": [
       "('10', '18')"
      ]
     },
     "execution_count": 6,
     "metadata": {},
     "output_type": "execute_result"
    }
   ],
   "source": [
    "df.hour.min(), df.hour.max()"
   ]
  },
  {
   "cell_type": "code",
   "execution_count": 7,
   "metadata": {},
   "outputs": [
    {
     "data": {
      "text/plain": [
       "array(['18', '19', '20', '21'], dtype=object)"
      ]
     },
     "execution_count": 7,
     "metadata": {},
     "output_type": "execute_result"
    }
   ],
   "source": [
    "df.day.unique()"
   ]
  },
  {
   "cell_type": "code",
   "execution_count": 8,
   "metadata": {},
   "outputs": [
    {
     "data": {
      "text/html": [
       "<div>\n",
       "<style scoped>\n",
       "    .dataframe tbody tr th:only-of-type {\n",
       "        vertical-align: middle;\n",
       "    }\n",
       "\n",
       "    .dataframe tbody tr th {\n",
       "        vertical-align: top;\n",
       "    }\n",
       "\n",
       "    .dataframe thead th {\n",
       "        text-align: right;\n",
       "    }\n",
       "</style>\n",
       "<table border=\"1\" class=\"dataframe\">\n",
       "  <thead>\n",
       "    <tr style=\"text-align: right;\">\n",
       "      <th></th>\n",
       "      <th>0_3um</th>\n",
       "      <th>0_5um</th>\n",
       "      <th>1_0um</th>\n",
       "      <th>2_5um</th>\n",
       "      <th>5_0um</th>\n",
       "      <th>10_0um</th>\n",
       "      <th>pm1_0</th>\n",
       "      <th>pm10_0</th>\n",
       "      <th>created</th>\n",
       "      <th>pm1_0_atm</th>\n",
       "      <th>...</th>\n",
       "      <th>sys_maint_reqd</th>\n",
       "      <th>epa_pm25_unit</th>\n",
       "      <th>epa_pm25_value</th>\n",
       "      <th>raw_concentration</th>\n",
       "      <th>aqi</th>\n",
       "      <th>category</th>\n",
       "      <th>site_name</th>\n",
       "      <th>agency_name</th>\n",
       "      <th>full_aqs_code</th>\n",
       "      <th>intl_aqs_code</th>\n",
       "    </tr>\n",
       "  </thead>\n",
       "  <tbody>\n",
       "    <tr>\n",
       "      <th>0</th>\n",
       "      <td>431.41</td>\n",
       "      <td>128.38</td>\n",
       "      <td>21.32</td>\n",
       "      <td>5.18</td>\n",
       "      <td>1.94</td>\n",
       "      <td>0.58</td>\n",
       "      <td>1.32</td>\n",
       "      <td>4.08</td>\n",
       "      <td>201909181000</td>\n",
       "      <td>1.32</td>\n",
       "      <td>...</td>\n",
       "      <td>False</td>\n",
       "      <td>UG/M3</td>\n",
       "      <td>2.8</td>\n",
       "      <td>2.0</td>\n",
       "      <td>12</td>\n",
       "      <td>1</td>\n",
       "      <td>San Francisco</td>\n",
       "      <td>San Francisco Bay Area AQMD</td>\n",
       "      <td>60750005</td>\n",
       "      <td>840060750005</td>\n",
       "    </tr>\n",
       "    <tr>\n",
       "      <th>1</th>\n",
       "      <td>426.20</td>\n",
       "      <td>124.74</td>\n",
       "      <td>23.25</td>\n",
       "      <td>5.34</td>\n",
       "      <td>1.26</td>\n",
       "      <td>0.34</td>\n",
       "      <td>1.08</td>\n",
       "      <td>3.67</td>\n",
       "      <td>201909181010</td>\n",
       "      <td>1.08</td>\n",
       "      <td>...</td>\n",
       "      <td>False</td>\n",
       "      <td>UG/M3</td>\n",
       "      <td>2.8</td>\n",
       "      <td>2.0</td>\n",
       "      <td>12</td>\n",
       "      <td>1</td>\n",
       "      <td>San Francisco</td>\n",
       "      <td>San Francisco Bay Area AQMD</td>\n",
       "      <td>60750005</td>\n",
       "      <td>840060750005</td>\n",
       "    </tr>\n",
       "    <tr>\n",
       "      <th>2</th>\n",
       "      <td>347.96</td>\n",
       "      <td>102.40</td>\n",
       "      <td>18.71</td>\n",
       "      <td>3.50</td>\n",
       "      <td>1.88</td>\n",
       "      <td>0.94</td>\n",
       "      <td>0.78</td>\n",
       "      <td>3.07</td>\n",
       "      <td>201909181020</td>\n",
       "      <td>1.21</td>\n",
       "      <td>...</td>\n",
       "      <td>False</td>\n",
       "      <td>UG/M3</td>\n",
       "      <td>2.8</td>\n",
       "      <td>2.0</td>\n",
       "      <td>12</td>\n",
       "      <td>1</td>\n",
       "      <td>San Francisco</td>\n",
       "      <td>San Francisco Bay Area AQMD</td>\n",
       "      <td>60750005</td>\n",
       "      <td>840060750005</td>\n",
       "    </tr>\n",
       "    <tr>\n",
       "      <th>3</th>\n",
       "      <td>361.39</td>\n",
       "      <td>106.00</td>\n",
       "      <td>24.86</td>\n",
       "      <td>5.48</td>\n",
       "      <td>2.06</td>\n",
       "      <td>0.38</td>\n",
       "      <td>0.62</td>\n",
       "      <td>3.39</td>\n",
       "      <td>201909181030</td>\n",
       "      <td>0.62</td>\n",
       "      <td>...</td>\n",
       "      <td>False</td>\n",
       "      <td>UG/M3</td>\n",
       "      <td>2.8</td>\n",
       "      <td>2.0</td>\n",
       "      <td>12</td>\n",
       "      <td>1</td>\n",
       "      <td>San Francisco</td>\n",
       "      <td>San Francisco Bay Area AQMD</td>\n",
       "      <td>60750005</td>\n",
       "      <td>840060750005</td>\n",
       "    </tr>\n",
       "    <tr>\n",
       "      <th>4</th>\n",
       "      <td>333.17</td>\n",
       "      <td>95.73</td>\n",
       "      <td>16.60</td>\n",
       "      <td>5.03</td>\n",
       "      <td>2.29</td>\n",
       "      <td>1.20</td>\n",
       "      <td>0.91</td>\n",
       "      <td>3.64</td>\n",
       "      <td>201909181040</td>\n",
       "      <td>0.91</td>\n",
       "      <td>...</td>\n",
       "      <td>False</td>\n",
       "      <td>UG/M3</td>\n",
       "      <td>2.8</td>\n",
       "      <td>2.0</td>\n",
       "      <td>12</td>\n",
       "      <td>1</td>\n",
       "      <td>San Francisco</td>\n",
       "      <td>San Francisco Bay Area AQMD</td>\n",
       "      <td>60750005</td>\n",
       "      <td>840060750005</td>\n",
       "    </tr>\n",
       "  </tbody>\n",
       "</table>\n",
       "<p>5 rows × 64 columns</p>\n",
       "</div>"
      ],
      "text/plain": [
       "    0_3um   0_5um  1_0um  2_5um  5_0um  10_0um  pm1_0  pm10_0       created  \\\n",
       "0  431.41  128.38  21.32   5.18   1.94    0.58   1.32    4.08  201909181000   \n",
       "1  426.20  124.74  23.25   5.34   1.26    0.34   1.08    3.67  201909181010   \n",
       "2  347.96  102.40  18.71   3.50   1.88    0.94   0.78    3.07  201909181020   \n",
       "3  361.39  106.00  24.86   5.48   2.06    0.38   0.62    3.39  201909181030   \n",
       "4  333.17   95.73  16.60   5.03   2.29    1.20   0.91    3.64  201909181040   \n",
       "\n",
       "   pm1_0_atm      ...       sys_maint_reqd  epa_pm25_unit  epa_pm25_value  \\\n",
       "0       1.32      ...                False          UG/M3             2.8   \n",
       "1       1.08      ...                False          UG/M3             2.8   \n",
       "2       1.21      ...                False          UG/M3             2.8   \n",
       "3       0.62      ...                False          UG/M3             2.8   \n",
       "4       0.91      ...                False          UG/M3             2.8   \n",
       "\n",
       "   raw_concentration  aqi  category      site_name  \\\n",
       "0                2.0   12         1  San Francisco   \n",
       "1                2.0   12         1  San Francisco   \n",
       "2                2.0   12         1  San Francisco   \n",
       "3                2.0   12         1  San Francisco   \n",
       "4                2.0   12         1  San Francisco   \n",
       "\n",
       "                   agency_name full_aqs_code intl_aqs_code  \n",
       "0  San Francisco Bay Area AQMD      60750005  840060750005  \n",
       "1  San Francisco Bay Area AQMD      60750005  840060750005  \n",
       "2  San Francisco Bay Area AQMD      60750005  840060750005  \n",
       "3  San Francisco Bay Area AQMD      60750005  840060750005  \n",
       "4  San Francisco Bay Area AQMD      60750005  840060750005  \n",
       "\n",
       "[5 rows x 64 columns]"
      ]
     },
     "execution_count": 8,
     "metadata": {},
     "output_type": "execute_result"
    }
   ],
   "source": [
    "df.head()"
   ]
  }
 ],
 "metadata": {
  "kernelspec": {
   "display_name": "Python 3",
   "language": "python",
   "name": "python3"
  },
  "language_info": {
   "codemirror_mode": {
    "name": "ipython",
    "version": 3
   },
   "file_extension": ".py",
   "mimetype": "text/x-python",
   "name": "python",
   "nbconvert_exporter": "python",
   "pygments_lexer": "ipython3",
   "version": "3.6.8"
  }
 },
 "nbformat": 4,
 "nbformat_minor": 4
}
