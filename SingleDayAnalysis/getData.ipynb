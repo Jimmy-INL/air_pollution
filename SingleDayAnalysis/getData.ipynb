{
 "cells": [
  {
   "cell_type": "markdown",
   "metadata": {},
   "source": [
    "### Function for getting data"
   ]
  },
  {
   "cell_type": "code",
   "execution_count": null,
   "metadata": {},
   "outputs": [],
   "source": [
    "import datetime\n",
    "from datetime import date, timedelta\n",
    "from os import path\n",
    "import pandas as pd\n",
    "\n",
    "import warnings\n",
    "warnings.filterwarnings('ignore')\n",
    "\n",
    "pd.set_option('display.max_columns', 500)"
   ]
  },
  {
   "cell_type": "code",
   "execution_count": null,
   "metadata": {},
   "outputs": [],
   "source": [
    "# Class for throwing custom errors\n",
    "class CustomError(Exception):\n",
    "    def __init__(self, m):\n",
    "        self.message = m\n",
    "    def __str__(self):\n",
    "        return self.message"
   ]
  },
  {
   "cell_type": "code",
   "execution_count": null,
   "metadata": {},
   "outputs": [],
   "source": [
    "# Helper function for getting dates in a given range\n",
    "def getDates(start, end):\n",
    "    date_list = []\n",
    "    start_date = datetime.datetime.strptime(start, \"%Y/%m/%d\").date()\n",
    "    end_date = datetime.datetime.strptime(end, \"%Y/%m/%d\").date()\n",
    "\n",
    "    delta = end_date - start_date       # as timedelta\n",
    "\n",
    "    for i in range(delta.days + 1):\n",
    "        day = start_date + timedelta(days=i)\n",
    "        date_list.append(day.strftime(\"%Y%m%d\"))\n",
    "        \n",
    "    return date_list"
   ]
  },
  {
   "cell_type": "code",
   "execution_count": null,
   "metadata": {},
   "outputs": [],
   "source": [
    "# Helper function for loading data into a dataframe\n",
    "def loadDataframe(files):\n",
    "    df = pd.DataFrame(columns=['0_3um', '0_5um', '1_0um', '2_5um', '5_0um', '10_0um', 'pm1_0', 'pm10_0', 'created', 'pm1_0_atm', 'pm2_5_atm', 'pm10_0_atm', 'uptime', \n",
    "                               'rssi', 'temperature', 'humidity', 'pm2_5_cf_1', 'a_h', 'device_loc_typ', 'high_reading_flag', 'hidden', 'sensor_id', 'sensor_name', \n",
    "                               'lat', 'lon', 'parent_id', 'is_owner', 'city', 'county', 'zipcode', 'created_at', 'year', 'month', 'day', 'hour', 'minute', 'wban_number', \n",
    "                               'call_sign', 'call_sign2', 'interval', 'call_sign3', 'zulu_time', 'report_modifier', 'wind_data', 'wind_direction', 'wind_speed', 'gusts', \n",
    "                               'gust_speed', 'variable_winds', 'variable_wind_info', 'sys_maint_reqd'])\n",
    "    \n",
    "    for file in files:\n",
    "        file_name = \"{}.parquet\".format(file)\n",
    "        if path.exists(file_name):\n",
    "            tmp_df = pd.read_parquet(file_name)\n",
    "            df = pd.concat([df,tmp_df],ignore_index=True) \n",
    "        else:\n",
    "            print(\"File {} does not exist\".format(file_name))\n",
    "\n",
    "    return df"
   ]
  },
  {
   "cell_type": "code",
   "execution_count": null,
   "metadata": {},
   "outputs": [],
   "source": [
    "# Main function for getting data\n",
    "def get_data(UP_LEFT, UP_RIGHT, DOWN_RIGHT, DOWN_LEFT, START_DATE, END_DATE, START_HOUR, END_HOUR):\n",
    "    \n",
    "    # Create variables from parameters\n",
    "    startfile = int(START_DATE.replace('/',''))\n",
    "    endfile = int(END_DATE.replace('/',''))\n",
    "    lat_min = DOWN_LEFT[0]\n",
    "    lat_max = UP_RIGHT[0]\n",
    "    lon_min = DOWN_LEFT[1]\n",
    "    lon_max = UP_RIGHT[1]\n",
    "\n",
    "    try:\n",
    "        # Check Parameters\n",
    "        if startfile <= endfile:\n",
    "            file_list = getDates(START_DATE, END_DATE)\n",
    "            df = loadDataframe(file_list)\n",
    "            # Filter data for input bounding box\n",
    "            df = df[(df.lat > lat_min) & (df.lat < lat_max) \n",
    "                              & (df.lon > lon_min) & (df.lon < lon_max)]\n",
    "            \n",
    "            # Filter data for input  hours\n",
    "            df = df[(df.hour >= START_HOUR) & (df.hour <= END_HOUR)]\n",
    "            df.reset_index(inplace=True, drop=True)\n",
    "            return df\n",
    "        else:\n",
    "            raise CustomError(\"INPUT ERROR: Start Date is greater than End Date\")\n",
    "    except Exception as e:\n",
    "        print(e)"
   ]
  },
  {
   "cell_type": "markdown",
   "metadata": {},
   "source": [
    "### Use Python file to get data"
   ]
  },
  {
   "cell_type": "code",
   "execution_count": 1,
   "metadata": {},
   "outputs": [],
   "source": [
    "from getData import get_data"
   ]
  },
  {
   "cell_type": "code",
   "execution_count": 2,
   "metadata": {},
   "outputs": [],
   "source": [
    "UP_LEFT = (38.008050, -122.536985)\n",
    "UP_RIGHT = (38.008050, -122.186437)\n",
    "DOWN_RIGHT = (37.701933, -122.186437)\n",
    "DOWN_LEFT = (37.701933, -122.536985)\n",
    "START_DATE = '2019/09/27'\n",
    "END_DATE = '2019/10/02'\n",
    "START_HOUR = '10'\n",
    "END_HOUR = '18'"
   ]
  },
  {
   "cell_type": "code",
   "execution_count": 3,
   "metadata": {},
   "outputs": [
    {
     "name": "stdout",
     "output_type": "stream",
     "text": [
      "File 20190928.parquet does not exist\n",
      "File 20190929.parquet does not exist\n",
      "File 20190930.parquet does not exist\n",
      "File 20191001.parquet does not exist\n",
      "File 20191002.parquet does not exist\n"
     ]
    }
   ],
   "source": [
    "df = get_data(UP_LEFT, UP_RIGHT, DOWN_RIGHT, DOWN_LEFT, START_DATE, END_DATE, START_HOUR, END_HOUR)"
   ]
  },
  {
   "cell_type": "code",
   "execution_count": 4,
   "metadata": {},
   "outputs": [
    {
     "data": {
      "text/plain": [
       "55224"
      ]
     },
     "execution_count": 4,
     "metadata": {},
     "output_type": "execute_result"
    }
   ],
   "source": [
    "len(df)"
   ]
  },
  {
   "cell_type": "code",
   "execution_count": 5,
   "metadata": {},
   "outputs": [
    {
     "data": {
      "text/plain": [
       "(37.706918, 37.98261, -122.535636, -122.188555)"
      ]
     },
     "execution_count": 5,
     "metadata": {},
     "output_type": "execute_result"
    }
   ],
   "source": [
    "df.lat.min(), df.lat.max(), df.lon.min(), df.lon.max()"
   ]
  },
  {
   "cell_type": "code",
   "execution_count": 6,
   "metadata": {},
   "outputs": [
    {
     "data": {
      "text/plain": [
       "('10', '18')"
      ]
     },
     "execution_count": 6,
     "metadata": {},
     "output_type": "execute_result"
    }
   ],
   "source": [
    "df.hour.min(), df.hour.max()"
   ]
  },
  {
   "cell_type": "code",
   "execution_count": 7,
   "metadata": {},
   "outputs": [
    {
     "data": {
      "text/html": [
       "<div>\n",
       "<style scoped>\n",
       "    .dataframe tbody tr th:only-of-type {\n",
       "        vertical-align: middle;\n",
       "    }\n",
       "\n",
       "    .dataframe tbody tr th {\n",
       "        vertical-align: top;\n",
       "    }\n",
       "\n",
       "    .dataframe thead th {\n",
       "        text-align: right;\n",
       "    }\n",
       "</style>\n",
       "<table border=\"1\" class=\"dataframe\">\n",
       "  <thead>\n",
       "    <tr style=\"text-align: right;\">\n",
       "      <th></th>\n",
       "      <th>0_3um</th>\n",
       "      <th>0_5um</th>\n",
       "      <th>1_0um</th>\n",
       "      <th>2_5um</th>\n",
       "      <th>5_0um</th>\n",
       "      <th>10_0um</th>\n",
       "      <th>pm1_0</th>\n",
       "      <th>pm10_0</th>\n",
       "      <th>created</th>\n",
       "      <th>pm1_0_atm</th>\n",
       "      <th>...</th>\n",
       "      <th>zulu_time</th>\n",
       "      <th>report_modifier</th>\n",
       "      <th>wind_data</th>\n",
       "      <th>wind_direction</th>\n",
       "      <th>wind_speed</th>\n",
       "      <th>gusts</th>\n",
       "      <th>gust_speed</th>\n",
       "      <th>variable_winds</th>\n",
       "      <th>variable_wind_info</th>\n",
       "      <th>sys_maint_reqd</th>\n",
       "    </tr>\n",
       "  </thead>\n",
       "  <tbody>\n",
       "    <tr>\n",
       "      <th>0</th>\n",
       "      <td>477.31</td>\n",
       "      <td>134.21</td>\n",
       "      <td>22.26</td>\n",
       "      <td>2.15</td>\n",
       "      <td>1.29</td>\n",
       "      <td>0.0</td>\n",
       "      <td>1.84</td>\n",
       "      <td>3.41</td>\n",
       "      <td>201909271000</td>\n",
       "      <td>1.84</td>\n",
       "      <td>...</td>\n",
       "      <td>270805Z</td>\n",
       "      <td></td>\n",
       "      <td>1.0</td>\n",
       "      <td>250</td>\n",
       "      <td>7.0</td>\n",
       "      <td>0.0</td>\n",
       "      <td>NaN</td>\n",
       "      <td>0.0</td>\n",
       "      <td></td>\n",
       "      <td>0.0</td>\n",
       "    </tr>\n",
       "    <tr>\n",
       "      <th>1</th>\n",
       "      <td>477.31</td>\n",
       "      <td>134.21</td>\n",
       "      <td>22.26</td>\n",
       "      <td>2.15</td>\n",
       "      <td>1.29</td>\n",
       "      <td>0.0</td>\n",
       "      <td>1.84</td>\n",
       "      <td>3.41</td>\n",
       "      <td>201909271000</td>\n",
       "      <td>1.84</td>\n",
       "      <td>...</td>\n",
       "      <td>272005Z</td>\n",
       "      <td></td>\n",
       "      <td>1.0</td>\n",
       "      <td>270</td>\n",
       "      <td>14.0</td>\n",
       "      <td>0.0</td>\n",
       "      <td>NaN</td>\n",
       "      <td>0.0</td>\n",
       "      <td></td>\n",
       "      <td>0.0</td>\n",
       "    </tr>\n",
       "    <tr>\n",
       "      <th>2</th>\n",
       "      <td>444.75</td>\n",
       "      <td>130.32</td>\n",
       "      <td>20.85</td>\n",
       "      <td>2.71</td>\n",
       "      <td>0.88</td>\n",
       "      <td>0.0</td>\n",
       "      <td>1.47</td>\n",
       "      <td>3.25</td>\n",
       "      <td>201909271010</td>\n",
       "      <td>1.47</td>\n",
       "      <td>...</td>\n",
       "      <td>270810Z</td>\n",
       "      <td></td>\n",
       "      <td>1.0</td>\n",
       "      <td>240</td>\n",
       "      <td>8.0</td>\n",
       "      <td>0.0</td>\n",
       "      <td>NaN</td>\n",
       "      <td>0.0</td>\n",
       "      <td></td>\n",
       "      <td>0.0</td>\n",
       "    </tr>\n",
       "    <tr>\n",
       "      <th>3</th>\n",
       "      <td>444.75</td>\n",
       "      <td>130.32</td>\n",
       "      <td>20.85</td>\n",
       "      <td>2.71</td>\n",
       "      <td>0.88</td>\n",
       "      <td>0.0</td>\n",
       "      <td>1.47</td>\n",
       "      <td>3.25</td>\n",
       "      <td>201909271010</td>\n",
       "      <td>1.47</td>\n",
       "      <td>...</td>\n",
       "      <td>272010Z</td>\n",
       "      <td></td>\n",
       "      <td>1.0</td>\n",
       "      <td>260</td>\n",
       "      <td>12.0</td>\n",
       "      <td>0.0</td>\n",
       "      <td>NaN</td>\n",
       "      <td>0.0</td>\n",
       "      <td></td>\n",
       "      <td>0.0</td>\n",
       "    </tr>\n",
       "    <tr>\n",
       "      <th>4</th>\n",
       "      <td>477.72</td>\n",
       "      <td>141.43</td>\n",
       "      <td>24.33</td>\n",
       "      <td>2.00</td>\n",
       "      <td>0.39</td>\n",
       "      <td>0.0</td>\n",
       "      <td>1.85</td>\n",
       "      <td>3.28</td>\n",
       "      <td>201909271020</td>\n",
       "      <td>1.85</td>\n",
       "      <td>...</td>\n",
       "      <td>270815Z</td>\n",
       "      <td></td>\n",
       "      <td>1.0</td>\n",
       "      <td>250</td>\n",
       "      <td>5.0</td>\n",
       "      <td>0.0</td>\n",
       "      <td>NaN</td>\n",
       "      <td>0.0</td>\n",
       "      <td></td>\n",
       "      <td>0.0</td>\n",
       "    </tr>\n",
       "  </tbody>\n",
       "</table>\n",
       "<p>5 rows × 51 columns</p>\n",
       "</div>"
      ],
      "text/plain": [
       "    0_3um   0_5um  1_0um  2_5um  5_0um  10_0um  pm1_0  pm10_0       created  \\\n",
       "0  477.31  134.21  22.26   2.15   1.29     0.0   1.84    3.41  201909271000   \n",
       "1  477.31  134.21  22.26   2.15   1.29     0.0   1.84    3.41  201909271000   \n",
       "2  444.75  130.32  20.85   2.71   0.88     0.0   1.47    3.25  201909271010   \n",
       "3  444.75  130.32  20.85   2.71   0.88     0.0   1.47    3.25  201909271010   \n",
       "4  477.72  141.43  24.33   2.00   0.39     0.0   1.85    3.28  201909271020   \n",
       "\n",
       "   pm1_0_atm      ...        zulu_time  report_modifier  wind_data  \\\n",
       "0       1.84      ...          270805Z                         1.0   \n",
       "1       1.84      ...          272005Z                         1.0   \n",
       "2       1.47      ...          270810Z                         1.0   \n",
       "3       1.47      ...          272010Z                         1.0   \n",
       "4       1.85      ...          270815Z                         1.0   \n",
       "\n",
       "   wind_direction  wind_speed  gusts  gust_speed variable_winds  \\\n",
       "0             250         7.0    0.0         NaN            0.0   \n",
       "1             270        14.0    0.0         NaN            0.0   \n",
       "2             240         8.0    0.0         NaN            0.0   \n",
       "3             260        12.0    0.0         NaN            0.0   \n",
       "4             250         5.0    0.0         NaN            0.0   \n",
       "\n",
       "  variable_wind_info sys_maint_reqd  \n",
       "0                               0.0  \n",
       "1                               0.0  \n",
       "2                               0.0  \n",
       "3                               0.0  \n",
       "4                               0.0  \n",
       "\n",
       "[5 rows x 51 columns]"
      ]
     },
     "execution_count": 7,
     "metadata": {},
     "output_type": "execute_result"
    }
   ],
   "source": [
    "df.head()"
   ]
  },
  {
   "cell_type": "code",
   "execution_count": null,
   "metadata": {},
   "outputs": [],
   "source": []
  }
 ],
 "metadata": {
  "kernelspec": {
   "display_name": "Python 3",
   "language": "python",
   "name": "python3"
  },
  "language_info": {
   "codemirror_mode": {
    "name": "ipython",
    "version": 3
   },
   "file_extension": ".py",
   "mimetype": "text/x-python",
   "name": "python",
   "nbconvert_exporter": "python",
   "pygments_lexer": "ipython3",
   "version": "3.6.8"
  }
 },
 "nbformat": 4,
 "nbformat_minor": 4
}
