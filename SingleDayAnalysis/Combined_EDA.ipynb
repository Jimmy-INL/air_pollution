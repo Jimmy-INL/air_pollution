{
 "cells": [
  {
   "cell_type": "code",
   "execution_count": 1,
   "metadata": {},
   "outputs": [],
   "source": [
    "import pandas as pd\n",
    "import pandas_profiling\n",
    "import numpy as np \n",
    "import json\n",
    "import datetime\n",
    "import re\n",
    "import ast\n",
    "\n",
    "import warnings\n",
    "warnings.filterwarnings('ignore')\n",
    "\n",
    "pd.set_option('display.max_columns', 500)"
   ]
  },
  {
   "cell_type": "markdown",
   "metadata": {},
   "source": [
    "### Data Folder Instructions"
   ]
  },
  {
   "cell_type": "code",
   "execution_count": 2,
   "metadata": {},
   "outputs": [],
   "source": [
    "# Use this cell to specify the paths for the data folder in your local machines\n",
    "# Use the variable 'datafolder' to specify the path\n",
    "# Comment out all the data paths except your own\n",
    "# Purple Air data ia assumed to be in a subfolder called 'purpleair' \n",
    "# NOAA data ia assumed to be in a subfolder called 'noaa' \n",
    "# For example, if the base data folder is '/users/data', purpleair data should be in '/users/data/purpleair'\n",
    "\n",
    "# Angshuman's local path\n",
    "datafolder = \"/Users/apaul2/Documents/_Common/capstone/Project/data\""
   ]
  },
  {
   "cell_type": "markdown",
   "metadata": {},
   "source": [
    "### Combine PurpleAir and NOAA data"
   ]
  },
  {
   "cell_type": "code",
   "execution_count": 3,
   "metadata": {},
   "outputs": [],
   "source": [
    "def createHashKey(row):\n",
    "    if np.isnan(row['lat']):\n",
    "        str_lat = ''\n",
    "    else:\n",
    "        str_lat = str(int(row['lat']))\n",
    "        \n",
    "        \n",
    "    if np.isnan(row['lon']):\n",
    "        str_lon = ''\n",
    "    else:\n",
    "        str_lon = str(int(row['lon']))\n",
    "        \n",
    "    return hash(str_lat + str_lon)"
   ]
  },
  {
   "cell_type": "code",
   "execution_count": 4,
   "metadata": {},
   "outputs": [],
   "source": [
    "# Read from file that was stored earlier\n",
    "unique_station_df = pd.read_parquet(\"{}/noaa/uniq_station_data.parquet\".format(datafolder))\n",
    "sep2019_noaa_df = pd.read_parquet(\"{}/noaa/Sep2019_withloc.parquet\".format(datafolder))\n",
    "Sep27_df = sep2019_noaa_df[sep2019_noaa_df.date == '09/27/19']"
   ]
  },
  {
   "cell_type": "code",
   "execution_count": 5,
   "metadata": {},
   "outputs": [
    {
     "data": {
      "text/plain": [
       "wban_number    26315\n",
       "lat            26315\n",
       "lon            26305\n",
       "dtype: int64"
      ]
     },
     "execution_count": 5,
     "metadata": {},
     "output_type": "execute_result"
    }
   ],
   "source": [
    "unique_station_df.count()"
   ]
  },
  {
   "cell_type": "code",
   "execution_count": 6,
   "metadata": {},
   "outputs": [
    {
     "data": {
      "text/plain": [
       "lat    25712\n",
       "lon    25712\n",
       "dtype: int64"
      ]
     },
     "execution_count": 6,
     "metadata": {},
     "output_type": "execute_result"
    }
   ],
   "source": [
    "unique_station_df = unique_station_df.dropna()\n",
    "unique_station_df.drop(['wban_number'], axis=1, inplace=True)\n",
    "unique_station_df.drop_duplicates(inplace=True)\n",
    "unique_station_df.count()"
   ]
  },
  {
   "cell_type": "code",
   "execution_count": 7,
   "metadata": {},
   "outputs": [],
   "source": [
    "unique_station_df[['lat','lon']] = unique_station_df[['lat','lon']].apply(pd.to_numeric)"
   ]
  },
  {
   "cell_type": "code",
   "execution_count": 8,
   "metadata": {},
   "outputs": [],
   "source": [
    "usa_purple_df = pd.read_parquet(\"{}/purpleair/0927Full_withaddress_usa.parquet\".format(datafolder))"
   ]
  },
  {
   "cell_type": "code",
   "execution_count": 9,
   "metadata": {},
   "outputs": [
    {
     "data": {
      "text/plain": [
       "2406866"
      ]
     },
     "execution_count": 9,
     "metadata": {},
     "output_type": "execute_result"
    }
   ],
   "source": [
    "usa_purple_df.sensor_id.count()"
   ]
  },
  {
   "cell_type": "code",
   "execution_count": 10,
   "metadata": {},
   "outputs": [],
   "source": [
    "# Add lat-lon based hashes to noaa and purple air dataframes\n",
    "unique_station_df['asoslatlonhash'] = unique_station_df.apply (lambda row: createHashKey(row), axis=1)\n",
    "usa_purple_df['palatlonhash'] = usa_purple_df.apply (lambda row: createHashKey(row), axis=1)\n",
    "Sep27_df['asoslatlonhash'] = Sep27_df.apply (lambda row: createHashKey(row), axis=1)"
   ]
  },
  {
   "cell_type": "code",
   "execution_count": 11,
   "metadata": {},
   "outputs": [
    {
     "data": {
      "text/plain": [
       "7062"
      ]
     },
     "execution_count": 11,
     "metadata": {},
     "output_type": "execute_result"
    }
   ],
   "source": [
    "# Keep only the purple air columns needed to determine the lat-lon mapping\n",
    "usa_purple_latlon_df = usa_purple_df[['palatlonhash','lat','lon']]\n",
    "usa_purple_latlon_df.drop_duplicates(inplace=True)\n",
    "usa_purple_latlon_df.palatlonhash.count()"
   ]
  },
  {
   "cell_type": "code",
   "execution_count": 12,
   "metadata": {},
   "outputs": [],
   "source": [
    "unique_station_df.set_index('asoslatlonhash', inplace=True)\n",
    "usa_purple_latlon_df.set_index('palatlonhash', inplace=True)"
   ]
  },
  {
   "cell_type": "code",
   "execution_count": 13,
   "metadata": {},
   "outputs": [],
   "source": [
    "# Find the closest asos lat-lon mapping corresponding to the purple air records\n",
    "closest_points = {}\n",
    "for name, point in usa_purple_latlon_df.iterrows():\n",
    "#     print(name, point)\n",
    "#     break\n",
    "    distances = (((unique_station_df - point) ** 2).sum(axis=1)**.5)\n",
    "    closest_points[name] = distances.sort_values().index[0]"
   ]
  },
  {
   "cell_type": "code",
   "execution_count": 14,
   "metadata": {},
   "outputs": [],
   "source": [
    "# Create dataframe from lat-lon mapping\n",
    "latlonmap_df = pd.DataFrame(list(closest_points.items()), columns=['palatlonhash','asoslatlonhash'])"
   ]
  },
  {
   "cell_type": "code",
   "execution_count": 15,
   "metadata": {},
   "outputs": [],
   "source": [
    "# Merge purple air data to lat-lon mapping first and then \n",
    "# merge the resulting dataframe to asos dataframe\n",
    "merged_df = pd.merge(usa_purple_df, latlonmap_df, on='palatlonhash')"
   ]
  },
  {
   "cell_type": "code",
   "execution_count": 16,
   "metadata": {},
   "outputs": [
    {
     "data": {
      "text/plain": [
       "2406866"
      ]
     },
     "execution_count": 16,
     "metadata": {},
     "output_type": "execute_result"
    }
   ],
   "source": [
    "merged_df.sensor_id.count()"
   ]
  },
  {
   "cell_type": "code",
   "execution_count": 17,
   "metadata": {},
   "outputs": [
    {
     "data": {
      "text/html": [
       "<div>\n",
       "<style scoped>\n",
       "    .dataframe tbody tr th:only-of-type {\n",
       "        vertical-align: middle;\n",
       "    }\n",
       "\n",
       "    .dataframe tbody tr th {\n",
       "        vertical-align: top;\n",
       "    }\n",
       "\n",
       "    .dataframe thead th {\n",
       "        text-align: right;\n",
       "    }\n",
       "</style>\n",
       "<table border=\"1\" class=\"dataframe\">\n",
       "  <thead>\n",
       "    <tr style=\"text-align: right;\">\n",
       "      <th></th>\n",
       "      <th>a_h</th>\n",
       "      <th>device_loc_typ</th>\n",
       "      <th>high_reading_flag</th>\n",
       "      <th>hidden</th>\n",
       "      <th>sensor_id</th>\n",
       "      <th>sensor_name</th>\n",
       "      <th>last_seen</th>\n",
       "      <th>lat</th>\n",
       "      <th>lon</th>\n",
       "      <th>pm2_5val</th>\n",
       "      <th>parent_id</th>\n",
       "      <th>sensor_type</th>\n",
       "      <th>humidity</th>\n",
       "      <th>is_owner</th>\n",
       "      <th>pressure</th>\n",
       "      <th>temp_f</th>\n",
       "      <th>pm2_5val_10m_avg</th>\n",
       "      <th>pm2_5val_30m_avg</th>\n",
       "      <th>pm2_5val_1h_avg</th>\n",
       "      <th>pm2_5val_6h_avg</th>\n",
       "      <th>pm2_5val_24h_avg</th>\n",
       "      <th>pm2_5val_1wk_avg</th>\n",
       "      <th>city</th>\n",
       "      <th>country</th>\n",
       "      <th>county</th>\n",
       "      <th>state</th>\n",
       "      <th>zipcode</th>\n",
       "      <th>palatlonhash</th>\n",
       "      <th>asoslatlonhash</th>\n",
       "    </tr>\n",
       "  </thead>\n",
       "  <tbody>\n",
       "    <tr>\n",
       "      <th>0</th>\n",
       "      <td>None</td>\n",
       "      <td>inside</td>\n",
       "      <td>nan</td>\n",
       "      <td>false</td>\n",
       "      <td>24115</td>\n",
       "      <td>2nd South 12th East</td>\n",
       "      <td>1547065985</td>\n",
       "      <td>40.764907</td>\n",
       "      <td>-111.856653</td>\n",
       "      <td>0.15</td>\n",
       "      <td>nan</td>\n",
       "      <td>PMS5003+PMS5003+BME280</td>\n",
       "      <td>15.0</td>\n",
       "      <td>0</td>\n",
       "      <td>869.14</td>\n",
       "      <td>89.0</td>\n",
       "      <td>0.47</td>\n",
       "      <td>19.37</td>\n",
       "      <td>34.37</td>\n",
       "      <td>16.29</td>\n",
       "      <td>4.76</td>\n",
       "      <td>0.71</td>\n",
       "      <td>Salt Lake City</td>\n",
       "      <td>United States</td>\n",
       "      <td>Salt Lake County</td>\n",
       "      <td>Utah</td>\n",
       "      <td>84102</td>\n",
       "      <td>4732930680302527505</td>\n",
       "      <td>4732930680302527505</td>\n",
       "    </tr>\n",
       "    <tr>\n",
       "      <th>1</th>\n",
       "      <td>None</td>\n",
       "      <td>None</td>\n",
       "      <td>nan</td>\n",
       "      <td>false</td>\n",
       "      <td>24116</td>\n",
       "      <td>2nd South 12th East B</td>\n",
       "      <td>1547065988</td>\n",
       "      <td>40.764907</td>\n",
       "      <td>-111.856653</td>\n",
       "      <td>NaN</td>\n",
       "      <td>24115.0</td>\n",
       "      <td>None</td>\n",
       "      <td>15.0</td>\n",
       "      <td>0</td>\n",
       "      <td>869.16</td>\n",
       "      <td>89.0</td>\n",
       "      <td>NaN</td>\n",
       "      <td>NaN</td>\n",
       "      <td>NaN</td>\n",
       "      <td>NaN</td>\n",
       "      <td>NaN</td>\n",
       "      <td>NaN</td>\n",
       "      <td>Salt Lake City</td>\n",
       "      <td>United States</td>\n",
       "      <td>Salt Lake County</td>\n",
       "      <td>Utah</td>\n",
       "      <td>84102</td>\n",
       "      <td>4732930680302527505</td>\n",
       "      <td>4732930680302527505</td>\n",
       "    </tr>\n",
       "    <tr>\n",
       "      <th>2</th>\n",
       "      <td>None</td>\n",
       "      <td>outside</td>\n",
       "      <td>nan</td>\n",
       "      <td>false</td>\n",
       "      <td>10808</td>\n",
       "      <td>1-800 Contacts</td>\n",
       "      <td>1569567528</td>\n",
       "      <td>40.507316</td>\n",
       "      <td>-111.899188</td>\n",
       "      <td>1.19</td>\n",
       "      <td>nan</td>\n",
       "      <td>PMS5003+PMS5003+BME280</td>\n",
       "      <td>26.0</td>\n",
       "      <td>0</td>\n",
       "      <td>859.36</td>\n",
       "      <td>72.0</td>\n",
       "      <td>3.70</td>\n",
       "      <td>5.25</td>\n",
       "      <td>5.39</td>\n",
       "      <td>3.66</td>\n",
       "      <td>3.48</td>\n",
       "      <td>4.90</td>\n",
       "      <td>Draper</td>\n",
       "      <td>United States</td>\n",
       "      <td>None</td>\n",
       "      <td>Utah</td>\n",
       "      <td>84020</td>\n",
       "      <td>4732930680302527505</td>\n",
       "      <td>4732930680302527505</td>\n",
       "    </tr>\n",
       "    <tr>\n",
       "      <th>3</th>\n",
       "      <td>None</td>\n",
       "      <td>None</td>\n",
       "      <td>nan</td>\n",
       "      <td>false</td>\n",
       "      <td>10809</td>\n",
       "      <td>1-800 Contacts B</td>\n",
       "      <td>1569567528</td>\n",
       "      <td>40.507316</td>\n",
       "      <td>-111.899188</td>\n",
       "      <td>2.03</td>\n",
       "      <td>10808.0</td>\n",
       "      <td>None</td>\n",
       "      <td>NaN</td>\n",
       "      <td>0</td>\n",
       "      <td>NaN</td>\n",
       "      <td>NaN</td>\n",
       "      <td>4.16</td>\n",
       "      <td>5.86</td>\n",
       "      <td>6.05</td>\n",
       "      <td>4.14</td>\n",
       "      <td>3.91</td>\n",
       "      <td>5.28</td>\n",
       "      <td>Draper</td>\n",
       "      <td>United States</td>\n",
       "      <td>None</td>\n",
       "      <td>Utah</td>\n",
       "      <td>84020</td>\n",
       "      <td>4732930680302527505</td>\n",
       "      <td>4732930680302527505</td>\n",
       "    </tr>\n",
       "    <tr>\n",
       "      <th>4</th>\n",
       "      <td>None</td>\n",
       "      <td>outside</td>\n",
       "      <td>1.0</td>\n",
       "      <td>false</td>\n",
       "      <td>5460</td>\n",
       "      <td>1027 Hollywood</td>\n",
       "      <td>1569567516</td>\n",
       "      <td>40.727510</td>\n",
       "      <td>-111.861434</td>\n",
       "      <td>1.71</td>\n",
       "      <td>nan</td>\n",
       "      <td>PMS5003+PMS5003+BME280</td>\n",
       "      <td>28.0</td>\n",
       "      <td>0</td>\n",
       "      <td>861.21</td>\n",
       "      <td>75.0</td>\n",
       "      <td>1.59</td>\n",
       "      <td>1.73</td>\n",
       "      <td>1.89</td>\n",
       "      <td>1.74</td>\n",
       "      <td>1.64</td>\n",
       "      <td>3.81</td>\n",
       "      <td>Salt Lake City</td>\n",
       "      <td>United States</td>\n",
       "      <td>Salt Lake County</td>\n",
       "      <td>Utah</td>\n",
       "      <td>84105</td>\n",
       "      <td>4732930680302527505</td>\n",
       "      <td>4732930680302527505</td>\n",
       "    </tr>\n",
       "  </tbody>\n",
       "</table>\n",
       "</div>"
      ],
      "text/plain": [
       "    a_h device_loc_typ high_reading_flag hidden sensor_id  \\\n",
       "0  None         inside               nan  false     24115   \n",
       "1  None           None               nan  false     24116   \n",
       "2  None        outside               nan  false     10808   \n",
       "3  None           None               nan  false     10809   \n",
       "4  None        outside               1.0  false      5460   \n",
       "\n",
       "              sensor_name   last_seen        lat         lon  pm2_5val  \\\n",
       "0     2nd South 12th East  1547065985  40.764907 -111.856653      0.15   \n",
       "1   2nd South 12th East B  1547065988  40.764907 -111.856653       NaN   \n",
       "2          1-800 Contacts  1569567528  40.507316 -111.899188      1.19   \n",
       "3        1-800 Contacts B  1569567528  40.507316 -111.899188      2.03   \n",
       "4          1027 Hollywood  1569567516  40.727510 -111.861434      1.71   \n",
       "\n",
       "  parent_id             sensor_type  humidity is_owner  pressure  temp_f  \\\n",
       "0       nan  PMS5003+PMS5003+BME280      15.0        0    869.14    89.0   \n",
       "1   24115.0                    None      15.0        0    869.16    89.0   \n",
       "2       nan  PMS5003+PMS5003+BME280      26.0        0    859.36    72.0   \n",
       "3   10808.0                    None       NaN        0       NaN     NaN   \n",
       "4       nan  PMS5003+PMS5003+BME280      28.0        0    861.21    75.0   \n",
       "\n",
       "   pm2_5val_10m_avg  pm2_5val_30m_avg  pm2_5val_1h_avg  pm2_5val_6h_avg  \\\n",
       "0              0.47             19.37            34.37            16.29   \n",
       "1               NaN               NaN              NaN              NaN   \n",
       "2              3.70              5.25             5.39             3.66   \n",
       "3              4.16              5.86             6.05             4.14   \n",
       "4              1.59              1.73             1.89             1.74   \n",
       "\n",
       "   pm2_5val_24h_avg  pm2_5val_1wk_avg            city        country  \\\n",
       "0              4.76              0.71  Salt Lake City  United States   \n",
       "1               NaN               NaN  Salt Lake City  United States   \n",
       "2              3.48              4.90          Draper  United States   \n",
       "3              3.91              5.28          Draper  United States   \n",
       "4              1.64              3.81  Salt Lake City  United States   \n",
       "\n",
       "             county state zipcode         palatlonhash       asoslatlonhash  \n",
       "0  Salt Lake County  Utah   84102  4732930680302527505  4732930680302527505  \n",
       "1  Salt Lake County  Utah   84102  4732930680302527505  4732930680302527505  \n",
       "2              None  Utah   84020  4732930680302527505  4732930680302527505  \n",
       "3              None  Utah   84020  4732930680302527505  4732930680302527505  \n",
       "4  Salt Lake County  Utah   84105  4732930680302527505  4732930680302527505  "
      ]
     },
     "execution_count": 17,
     "metadata": {},
     "output_type": "execute_result"
    }
   ],
   "source": [
    "merged_df.head()"
   ]
  },
  {
   "cell_type": "code",
   "execution_count": 17,
   "metadata": {},
   "outputs": [],
   "source": [
    "Sep27_df.drop(['lat','lon'], axis=1, inplace=True)"
   ]
  },
  {
   "cell_type": "code",
   "execution_count": null,
   "metadata": {},
   "outputs": [],
   "source": [
    "# merged_df_new = merged_df.set_index(merged_df.asoslatlonhash).join(Sep27_df.set_index(Sep27_df.asoslatlonhash), how='left', lsuffix='pa', rsuffix='asos').reset_index(drop=True)"
   ]
  }
 ],
 "metadata": {
  "kernelspec": {
   "display_name": "Python 3",
   "language": "python",
   "name": "python3"
  },
  "language_info": {
   "codemirror_mode": {
    "name": "ipython",
    "version": 3
   },
   "file_extension": ".py",
   "mimetype": "text/x-python",
   "name": "python",
   "nbconvert_exporter": "python",
   "pygments_lexer": "ipython3",
   "version": "3.6.8"
  }
 },
 "nbformat": 4,
 "nbformat_minor": 4
}
