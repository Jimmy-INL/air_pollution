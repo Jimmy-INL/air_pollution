{
 "cells": [
  {
   "cell_type": "code",
   "execution_count": 1,
   "metadata": {},
   "outputs": [],
   "source": [
    "from sklearn.inspection import permutation_importance\n",
    "from joblib import load\n",
    "import pandas as pd"
   ]
  },
  {
   "cell_type": "markdown",
   "metadata": {},
   "source": [
    "## Vanilla Feature Importance"
   ]
  },
  {
   "cell_type": "code",
   "execution_count": 5,
   "metadata": {},
   "outputs": [],
   "source": [
    "feature_importance = pd.read_csv(\"final_RF_feature_importance.csv\")"
   ]
  },
  {
   "cell_type": "code",
   "execution_count": null,
   "metadata": {},
   "outputs": [],
   "source": [
    "feature_importance.sort_values(by=['Rank']).head()"
   ]
  },
  {
   "cell_type": "markdown",
   "metadata": {},
   "source": [
    "## Permutation Importance\n",
    "Explanation here: https://explained.ai/rf-importance"
   ]
  },
  {
   "cell_type": "code",
   "execution_count": 20,
   "metadata": {},
   "outputs": [],
   "source": [
    "test = pd.read_parquet(\"final_test_2.parquet\").sample(n = 100000, random_state = 55)"
   ]
  },
  {
   "cell_type": "code",
   "execution_count": 16,
   "metadata": {},
   "outputs": [
    {
     "name": "stderr",
     "output_type": "stream",
     "text": [
      "/home/ubuntu/miniconda3/envs/perm/lib/python3.8/site-packages/sklearn/base.py:313: UserWarning: Trying to unpickle estimator DecisionTreeRegressor from version 0.22 when using version 0.23.dev0. This might lead to breaking code or invalid results. Use at your own risk.\n",
      "  warnings.warn(\n",
      "/home/ubuntu/miniconda3/envs/perm/lib/python3.8/site-packages/sklearn/base.py:313: UserWarning: Trying to unpickle estimator RandomForestRegressor from version 0.22 when using version 0.23.dev0. This might lead to breaking code or invalid results. Use at your own risk.\n",
      "  warnings.warn(\n"
     ]
    }
   ],
   "source": [
    "rf = load('RF_final.joblib')"
   ]
  },
  {
   "cell_type": "code",
   "execution_count": 17,
   "metadata": {},
   "outputs": [],
   "source": [
    "neighbor_cols = [f'neighbor_{n}' for n in range(25)]\n",
    "input_cols = ['imputed_epa_pm25_value', 'imputed_hum', \n",
    "              'imputed_temperature', 'wind_x','wind_y', \n",
    "              'ndvi', 'elevation'] + neighbor_cols"
   ]
  },
  {
   "cell_type": "code",
   "execution_count": 21,
   "metadata": {},
   "outputs": [],
   "source": [
    "result = permutation_importance(rf, test[input_cols], test['2_5um'], random_state = 1210)"
   ]
  },
  {
   "cell_type": "markdown",
   "metadata": {},
   "source": [
    "## Putting them together"
   ]
  },
  {
   "cell_type": "code",
   "execution_count": 34,
   "metadata": {},
   "outputs": [],
   "source": [
    "feature_importance['mean_perm'] = result['importances_mean']\n",
    "feature_importance['std_perm'] = result['importances_std']"
   ]
  },
  {
   "cell_type": "code",
   "execution_count": 50,
   "metadata": {},
   "outputs": [
    {
     "name": "stderr",
     "output_type": "stream",
     "text": [
      "<ipython-input-50-ed485721f2ee>:1: FutureWarning: set_value is deprecated and will be removed in a future release. Please use .at[] or .iat[] accessors instead\n",
      "  neighbors_total = feature_importance[feature_importance.Feature.map(lambda x: x.startswith(\"neighbor\"))] \\\n",
      "<ipython-input-50-ed485721f2ee>:4: FutureWarning: set_value is deprecated and will be removed in a future release. Please use .at[] or .iat[] accessors instead\n",
      "  wind_total = feature_importance[feature_importance.Feature.map(lambda x: x.startswith(\"wind\"))] \\\n"
     ]
    }
   ],
   "source": [
    "neighbors_total = feature_importance[feature_importance.Feature.map(lambda x: x.startswith(\"neighbor\"))] \\\n",
    "    .sum().set_value('Feature','neighbors_total')\n",
    "\n",
    "wind_total = feature_importance[feature_importance.Feature.map(lambda x: x.startswith(\"wind\"))] \\\n",
    "    .sum().set_value('Feature','wind_total')"
   ]
  },
  {
   "cell_type": "code",
   "execution_count": 42,
   "metadata": {},
   "outputs": [],
   "source": [
    "f = feature_importance.Feature.map(lambda x: x.startswith(\"neighbor_\") or x.startswith(\"wind_\"))"
   ]
  },
  {
   "cell_type": "code",
   "execution_count": 69,
   "metadata": {},
   "outputs": [],
   "source": [
    "rank_df = feature_importance[~f] \\\n",
    "    .append(pd.DataFrame(neighbors_total).T) \\\n",
    "    .append(pd.DataFrame(wind_total).T) \\\n",
    "    .drop(columns=['Rank']) \\\n",
    "    .assign(perm_importance = lambda df_: df_.mean_perm / df_.mean_perm.sum(),\n",
    "            feature_importance_rank = lambda df_: df_.Importance.rank(ascending = False).astype(int),\n",
    "            permutation_importance_rank = lambda df_: df_.mean_perm.rank(ascending = False).astype(int)) \\\n",
    "    .rename(columns={'Importance':'feature_importance', 'mean_perm':'permutation_importance'}) \\\n",
    "    .sort_values(by=['permutation_importance_rank','feature_importance_rank']) \\\n",
    "    .reset_index(drop = True)"
   ]
  },
  {
   "cell_type": "code",
   "execution_count": 71,
   "metadata": {},
   "outputs": [
    {
     "data": {
      "text/html": [
       "<div>\n",
       "<style scoped>\n",
       "    .dataframe tbody tr th:only-of-type {\n",
       "        vertical-align: middle;\n",
       "    }\n",
       "\n",
       "    .dataframe tbody tr th {\n",
       "        vertical-align: top;\n",
       "    }\n",
       "\n",
       "    .dataframe thead th {\n",
       "        text-align: right;\n",
       "    }\n",
       "</style>\n",
       "<table border=\"1\" class=\"dataframe\">\n",
       "  <thead>\n",
       "    <tr style=\"text-align: right;\">\n",
       "      <th></th>\n",
       "      <th>Feature</th>\n",
       "      <th>feature_importance</th>\n",
       "      <th>permutation_importance</th>\n",
       "      <th>feature_importance_rank</th>\n",
       "      <th>permutation_importance_rank</th>\n",
       "    </tr>\n",
       "  </thead>\n",
       "  <tbody>\n",
       "    <tr>\n",
       "      <th>0</th>\n",
       "      <td>imputed_epa_pm25_value</td>\n",
       "      <td>0.557002</td>\n",
       "      <td>1.02331</td>\n",
       "      <td>1</td>\n",
       "      <td>1</td>\n",
       "    </tr>\n",
       "    <tr>\n",
       "      <th>1</th>\n",
       "      <td>neighbors_total</td>\n",
       "      <td>0.160226</td>\n",
       "      <td>0.143997</td>\n",
       "      <td>2</td>\n",
       "      <td>2</td>\n",
       "    </tr>\n",
       "    <tr>\n",
       "      <th>2</th>\n",
       "      <td>imputed_temperature</td>\n",
       "      <td>0.0490909</td>\n",
       "      <td>0.102274</td>\n",
       "      <td>7</td>\n",
       "      <td>3</td>\n",
       "    </tr>\n",
       "    <tr>\n",
       "      <th>3</th>\n",
       "      <td>ndvi</td>\n",
       "      <td>0.0524636</td>\n",
       "      <td>0.096655</td>\n",
       "      <td>6</td>\n",
       "      <td>4</td>\n",
       "    </tr>\n",
       "    <tr>\n",
       "      <th>4</th>\n",
       "      <td>imputed_hum</td>\n",
       "      <td>0.0539146</td>\n",
       "      <td>0.096074</td>\n",
       "      <td>5</td>\n",
       "      <td>5</td>\n",
       "    </tr>\n",
       "    <tr>\n",
       "      <th>5</th>\n",
       "      <td>elevation</td>\n",
       "      <td>0.053955</td>\n",
       "      <td>0.0860544</td>\n",
       "      <td>4</td>\n",
       "      <td>6</td>\n",
       "    </tr>\n",
       "    <tr>\n",
       "      <th>6</th>\n",
       "      <td>wind_total</td>\n",
       "      <td>0.0733475</td>\n",
       "      <td>0.0644375</td>\n",
       "      <td>3</td>\n",
       "      <td>7</td>\n",
       "    </tr>\n",
       "  </tbody>\n",
       "</table>\n",
       "</div>"
      ],
      "text/plain": [
       "                  Feature feature_importance permutation_importance  \\\n",
       "0  imputed_epa_pm25_value           0.557002                1.02331   \n",
       "1         neighbors_total           0.160226               0.143997   \n",
       "2     imputed_temperature          0.0490909               0.102274   \n",
       "3                    ndvi          0.0524636               0.096655   \n",
       "4             imputed_hum          0.0539146               0.096074   \n",
       "5               elevation           0.053955              0.0860544   \n",
       "6              wind_total          0.0733475              0.0644375   \n",
       "\n",
       "   feature_importance_rank  permutation_importance_rank  \n",
       "0                        1                            1  \n",
       "1                        2                            2  \n",
       "2                        7                            3  \n",
       "3                        6                            4  \n",
       "4                        5                            5  \n",
       "5                        4                            6  \n",
       "6                        3                            7  "
      ]
     },
     "execution_count": 71,
     "metadata": {},
     "output_type": "execute_result"
    }
   ],
   "source": [
    "rank_df[[\"Feature\",\"feature_importance\", \"permutation_importance\",\"feature_importance_rank\", \"permutation_importance_rank\"]]"
   ]
  },
  {
   "cell_type": "code",
   "execution_count": null,
   "metadata": {},
   "outputs": [],
   "source": []
  }
 ],
 "metadata": {
  "kernelspec": {
   "display_name": "Python [conda env:perm]",
   "language": "python",
   "name": "conda-env-perm-py"
  },
  "language_info": {
   "codemirror_mode": {
    "name": "ipython",
    "version": 3
   },
   "file_extension": ".py",
   "mimetype": "text/x-python",
   "name": "python",
   "nbconvert_exporter": "python",
   "pygments_lexer": "ipython3",
   "version": "3.8.0"
  }
 },
 "nbformat": 4,
 "nbformat_minor": 2
}
