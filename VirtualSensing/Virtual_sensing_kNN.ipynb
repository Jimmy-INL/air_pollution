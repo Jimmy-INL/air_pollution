{
 "cells": [
  {
   "cell_type": "markdown",
   "metadata": {},
   "source": [
    "# Virtual Sensing - Linear Regression"
   ]
  },
  {
   "cell_type": "code",
   "execution_count": null,
   "metadata": {},
   "outputs": [],
   "source": [
    "import pandas as pd\n",
    "import numpy as np \n",
    "import datetime as dt\n",
    "import warnings\n",
    "from copy import deepcopy\n",
    "from sklearn.model_selection import train_test_split\n",
    "from sklearn.neighbors import KNeighborsRegressor\n",
    "from sklearn.metrics import mean_squared_error, r2_score\n",
    "import matplotlib.pyplot as plt\n",
    "import sys\n",
    "sys.path.append(\"../HistoricalData/\")\n",
    "from getData import get_data\n",
    "\n",
    "import warnings\n",
    "warnings.filterwarnings('ignore')\n",
    "\n",
    "pd.set_option('display.max_columns', 500)"
   ]
  },
  {
   "cell_type": "code",
   "execution_count": null,
   "metadata": {},
   "outputs": [],
   "source": [
    "# constants\n",
    "from getData import get_data\n",
    "UP_LEFT = (38.008050, -122.536985)    \n",
    "UP_RIGHT = (38.008050, -122.186437)   \n",
    "DOWN_RIGHT = (37.701933, -122.186437) \n",
    "DOWN_LEFT = (37.701933, -122.536985)  \n",
    "START_DATE = '2018/10/01' \n",
    "END_DATE = '2019/09/02'   \n",
    "START_HOUR = '0'        \n",
    "END_HOUR = '24'   "
   ]
  },
  {
   "cell_type": "code",
   "execution_count": null,
   "metadata": {},
   "outputs": [],
   "source": [
    "# load data into dataframe\n",
    "data_df = get_data(UP_LEFT, UP_RIGHT, DOWN_RIGHT, DOWN_LEFT, START_DATE, END_DATE, START_HOUR, END_HOUR, 'Monthly')"
   ]
  },
  {
   "cell_type": "code",
   "execution_count": null,
   "metadata": {},
   "outputs": [],
   "source": [
    "# remove outliers naively\n",
    "data_df = data_df[data_df['2_5um'] < np.percentile(data_df['2_5um'], 99.5)]"
   ]
  },
  {
   "cell_type": "code",
   "execution_count": null,
   "metadata": {},
   "outputs": [],
   "source": [
    "data_df['created'] =  pd.to_datetime(data_df['created'], format='%Y%m%d%H%M')\n",
    "data_df['time_delta'] = (data_df['created'] - pd.Timestamp('2019-09-01 00:00:00')) / np.timedelta64(1, 'm')\n",
    "data_df.head()"
   ]
  },
  {
   "cell_type": "code",
   "execution_count": null,
   "metadata": {},
   "outputs": [],
   "source": [
    "columns_to_keep = ['time_delta', 'lat', 'lon'] \n",
    "\n",
    "id_train_dev, id_test = train_test_split(data_df.sensor_id.unique(), test_size=.2)\n",
    "id_train, id_dev = train_test_split(id_train_dev, test_size=.125)\n",
    "\n",
    "print(len(id_train))\n",
    "print(len(id_dev))\n",
    "print(len(id_test))\n",
    "\n",
    "data_df_train = data_df[data_df.sensor_id.isin(id_train)]\n",
    "data_df_dev = data_df[data_df.sensor_id.isin(id_dev)]\n",
    "data_df_test = data_df[data_df.sensor_id.isin(id_test)]\n",
    "\n",
    "print(data_df_train.shape)\n",
    "print(data_df_dev.shape)\n",
    "print(data_df_test.shape)\n",
    "\n",
    "X_train = data_df_train[columns_to_keep]\n",
    "X_dev = data_df_dev[columns_to_keep]\n",
    "X_test = data_df_test[columns_to_keep]\n",
    "y_train = data_df_train['2_5um']\n",
    "y_dev = data_df_dev['2_5um']\n",
    "y_test = data_df_test['2_5um']"
   ]
  },
  {
   "cell_type": "code",
   "execution_count": null,
   "metadata": {},
   "outputs": [],
   "source": [
    "# old non-stratified way of splitting data into train-dev-test\n",
    "\n",
    "# X_train_and_dev, X_test, y_train_and_dev, y_test = train_test_split(X_data_df, y_data_df, test_size=0.20, random_state=42)\n",
    "# X_train, X_dev, y_train, y_dev = train_test_split(X_train_and_dev, y_train_and_dev, test_size=0.125, random_state=42)\n",
    "# print(X_train.shape)\n",
    "# print(X_dev.shape)\n",
    "# print(X_test.shape)"
   ]
  },
  {
   "cell_type": "code",
   "execution_count": null,
   "metadata": {},
   "outputs": [],
   "source": [
    "# Get scores for a naive model of \"guess the mean\"\n",
    "\n",
    "# y_pred = np.empty(y_dev.shape)\n",
    "# y_pred.fill(np.mean(y_train))\n",
    "# y_pred.shape\n",
    "\n",
    "# # Print the mean squared error\n",
    "# print(\"Mean squared error: %.2f\"\n",
    "#       % mean_squared_error(y_dev, y_pred))\n",
    "# # Print the explained variance score: 1 is perfect prediction, 0 is equivalent to guessing the expected value each time\n",
    "# print('Variance score: %.2f' % r2_score(y_dev, y_pred))"
   ]
  },
  {
   "cell_type": "code",
   "execution_count": null,
   "metadata": {
    "scrolled": true
   },
   "outputs": [],
   "source": [
    "# plot log transformed pollution levels out of curiosity\n",
    "\n",
    "# plt.hist(np.log(data_df['2_5um']), range=(-4,6), bins=17)"
   ]
  },
  {
   "cell_type": "code",
   "execution_count": null,
   "metadata": {},
   "outputs": [],
   "source": [
    "mse = []\n",
    "r2 = []\n",
    "\n",
    "max_n = 8\n",
    "\n",
    "for n in [2**i for i in range(max_n)]:\n",
    "    print('neighbors:' + str(n))\n",
    "\n",
    "    # fit the data\n",
    "    regr = KNeighborsRegressor(n_neighbors=n)\n",
    "    regr.fit(X_train, y_train)\n",
    "\n",
    "    # make predictions\n",
    "    y_pred = regr.predict(X_dev)\n",
    "\n",
    "    # metrics\n",
    "    # Print the mean squared error\n",
    "    print(\"Mean squared error: %.2f\"\n",
    "          % mean_squared_error(y_dev, y_pred))\n",
    "    mse.append(mean_squared_error(y_dev, y_pred))\n",
    "    # Print the explained variance score: 1 is perfect prediction, 0 is equivalent to guessing the expected value each time\n",
    "    print('Variance score: %.2f' % r2_score(y_dev, y_pred))\n",
    "    r2.append(r2_score(y_dev, y_pred))\n",
    "    print('')\n",
    "    \n",
    "print(mse)\n",
    "print(r2)"
   ]
  },
  {
   "cell_type": "code",
   "execution_count": null,
   "metadata": {},
   "outputs": [],
   "source": [
    "plt.scatter(range(max_n), mse)\n",
    "plt.xlabel('log base 2 of neighbors')\n",
    "plt.ylabel('Mean Squared Error')\n",
    "plt.show()\n",
    "\n",
    "plt.scatter(range(max_n), r2)\n",
    "plt.xlabel('log base 2 of neighbors')\n",
    "plt.ylabel('R2 Score')\n",
    "plt.show()"
   ]
  },
  {
   "cell_type": "code",
   "execution_count": null,
   "metadata": {},
   "outputs": [],
   "source": []
  }
 ],
 "metadata": {
  "kernelspec": {
   "display_name": "Python 3",
   "language": "python",
   "name": "python3"
  },
  "language_info": {
   "codemirror_mode": {
    "name": "ipython",
    "version": 3
   },
   "file_extension": ".py",
   "mimetype": "text/x-python",
   "name": "python",
   "nbconvert_exporter": "python",
   "pygments_lexer": "ipython3",
   "version": "3.7.3"
  }
 },
 "nbformat": 4,
 "nbformat_minor": 2
}
