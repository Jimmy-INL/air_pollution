{
 "cells": [
  {
   "cell_type": "code",
   "execution_count": 1,
   "metadata": {},
   "outputs": [],
   "source": [
    "import dask.dataframe as dd\n",
    "import dask.array as da\n",
    "import glob\n",
    "import pandas as pd\n",
    "import numpy as np\n",
    "from sklearn.ensemble import RandomForestRegressor\n",
    "from sklearn.metrics import mean_squared_error,mean_absolute_error, mean_squared_log_error, r2_score"
   ]
  },
  {
   "cell_type": "code",
   "execution_count": 2,
   "metadata": {},
   "outputs": [],
   "source": [
    "parq = glob.glob(\"big_processed_4.parquet/*.parquet\")\n",
    "ddf = dd.read_parquet(parq)"
   ]
  },
  {
   "cell_type": "code",
   "execution_count": 3,
   "metadata": {},
   "outputs": [],
   "source": [
    "dd_train, dd_test = ddf.random_split([0.80, 0.2], random_state = 2019)"
   ]
  },
  {
   "cell_type": "code",
   "execution_count": 4,
   "metadata": {},
   "outputs": [],
   "source": [
    "df = dd_train.compute()"
   ]
  },
  {
   "cell_type": "code",
   "execution_count": 5,
   "metadata": {},
   "outputs": [],
   "source": [
    "neighbor_cols = [f'neighbor_{n}' for n in range(25)]\n",
    "df[neighbor_cols] = pd.DataFrame(df.neighbors.values.tolist(), index= df.index)"
   ]
  },
  {
   "cell_type": "code",
   "execution_count": 6,
   "metadata": {},
   "outputs": [],
   "source": [
    "# even though we imputed by timestamp in the spark file, some timestamps were wholly empty\n",
    "mean_epa = df['imputed_epa_pm25_value'].mean()\n",
    "df['imputed_epa_pm25_value'] = df['imputed_epa_pm25_value'].fillna(mean_epa)"
   ]
  },
  {
   "cell_type": "code",
   "execution_count": 7,
   "metadata": {},
   "outputs": [
    {
     "data": {
      "text/plain": [
       "(9752724, 34)"
      ]
     },
     "execution_count": 7,
     "metadata": {},
     "output_type": "execute_result"
    }
   ],
   "source": [
    "df.shape"
   ]
  },
  {
   "cell_type": "code",
   "execution_count": 10,
   "metadata": {},
   "outputs": [
    {
     "data": {
      "text/plain": [
       "2_5um                     False\n",
       "imputed_epa_pm25_value    False\n",
       "imputed_hum               False\n",
       "imputed_temperature       False\n",
       "wind_x                    False\n",
       "wind_y                    False\n",
       "ndvi                      False\n",
       "elevation                 False\n",
       "neighbors                 False\n",
       "neighbor_0                False\n",
       "neighbor_1                False\n",
       "neighbor_2                False\n",
       "neighbor_3                False\n",
       "neighbor_4                False\n",
       "neighbor_5                False\n",
       "neighbor_6                False\n",
       "neighbor_7                False\n",
       "neighbor_8                False\n",
       "neighbor_9                False\n",
       "neighbor_10               False\n",
       "neighbor_11               False\n",
       "neighbor_12               False\n",
       "neighbor_13               False\n",
       "neighbor_14               False\n",
       "neighbor_15               False\n",
       "neighbor_16               False\n",
       "neighbor_17               False\n",
       "neighbor_18               False\n",
       "neighbor_19               False\n",
       "neighbor_20               False\n",
       "neighbor_21               False\n",
       "neighbor_22               False\n",
       "neighbor_23               False\n",
       "neighbor_24               False\n",
       "dtype: bool"
      ]
     },
     "execution_count": 10,
     "metadata": {},
     "output_type": "execute_result"
    }
   ],
   "source": [
    "df.isnull().any()"
   ]
  },
  {
   "cell_type": "code",
   "execution_count": 18,
   "metadata": {},
   "outputs": [],
   "source": [
    "input_cols = [col for col in df.columns if col != \"neighbors\"]"
   ]
  },
  {
   "cell_type": "code",
   "execution_count": 20,
   "metadata": {},
   "outputs": [],
   "source": [
    "df[input_cols].to_parquet(\"final_train_2.parquet\")"
   ]
  },
  {
   "cell_type": "code",
   "execution_count": 21,
   "metadata": {},
   "outputs": [
    {
     "data": {
      "text/plain": [
       "2407"
      ]
     },
     "execution_count": 21,
     "metadata": {},
     "output_type": "execute_result"
    }
   ],
   "source": [
    "import gc\n",
    "del df\n",
    "gc.collect()"
   ]
  },
  {
   "cell_type": "code",
   "execution_count": 22,
   "metadata": {},
   "outputs": [
    {
     "data": {
      "text/plain": [
       "(2440650, 34)"
      ]
     },
     "execution_count": 22,
     "metadata": {},
     "output_type": "execute_result"
    }
   ],
   "source": [
    "df = dd_test.compute()\n",
    "df[neighbor_cols] = pd.DataFrame(df.neighbors.values.tolist(), index= df.index)\n",
    "df['imputed_epa_pm25_value'] = df['imputed_epa_pm25_value'].fillna(mean_epa)\n",
    "df.shape"
   ]
  },
  {
   "cell_type": "code",
   "execution_count": 23,
   "metadata": {},
   "outputs": [],
   "source": [
    "df[input_cols].to_parquet(\"final_test_2.parquet\")"
   ]
  }
 ],
 "metadata": {
  "kernelspec": {
   "display_name": "Python [conda env:tf]",
   "language": "python",
   "name": "conda-env-tf-py"
  },
  "language_info": {
   "codemirror_mode": {
    "name": "ipython",
    "version": 3
   },
   "file_extension": ".py",
   "mimetype": "text/x-python",
   "name": "python",
   "nbconvert_exporter": "python",
   "pygments_lexer": "ipython3",
   "version": "3.7.3"
  }
 },
 "nbformat": 4,
 "nbformat_minor": 2
}
