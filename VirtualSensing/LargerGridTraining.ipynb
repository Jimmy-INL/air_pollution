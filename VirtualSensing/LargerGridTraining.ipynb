{
 "cells": [
  {
   "cell_type": "code",
   "execution_count": 1,
   "metadata": {},
   "outputs": [],
   "source": [
    "import pandas as pd\n",
    "import numpy as np \n",
    "import warnings\n",
    "import sys\n",
    "sys.path.append(\"../HistoricalData/\")\n",
    "from getData import get_data\n",
    "import glob\n",
    "\n",
    "warnings.filterwarnings('ignore')\n",
    "\n",
    "from math import sin, cos, radians, pi\n",
    "import time\n",
    "from collections import defaultdict\n",
    "\n",
    "import swifter\n",
    "\n",
    "import dask.array as da\n",
    "import dask.dataframe as dd\n",
    "\n",
    "from tqdm import tqdm_notebook"
   ]
  },
  {
   "cell_type": "code",
   "execution_count": 2,
   "metadata": {},
   "outputs": [],
   "source": [
    "MIN_LAT = 37.2781261\n",
    "MAX_LAT = 38.063446\n",
    "MIN_LON = -122.683496\n",
    "MAX_LON = -121.814281\n",
    "\n",
    "\n",
    "UP_LEFT = (38.063446, -122.683496)    \n",
    "UP_RIGHT = (38.063446, -121.814281)   \n",
    "DOWN_RIGHT = (37.2781261, -121.814281) \n",
    "DOWN_LEFT = (37.2781261, -122.683496)  "
   ]
  },
  {
   "cell_type": "code",
   "execution_count": 3,
   "metadata": {},
   "outputs": [],
   "source": [
    "months  = pd.date_range(start = \"2018/09/01\", end = \"2019/10/02\", freq = 'MS') \\\n",
    "    .map(lambda x: x.strftime(\"%Y/%m/%d\")).to_list()"
   ]
  },
  {
   "cell_type": "code",
   "execution_count": 4,
   "metadata": {},
   "outputs": [],
   "source": [
    "month_ends = pd.date_range(start = \"2018/09/01\", end = \"2019/11/02\", freq = 'M') \\\n",
    "    .map(lambda x: x.strftime(\"%Y/%m/%d\")).to_list()"
   ]
  },
  {
   "cell_type": "code",
   "execution_count": 6,
   "metadata": {
    "scrolled": false
   },
   "outputs": [],
   "source": [
    "START_HOUR = '0'\n",
    "END_HOUR = '24'\n",
    "\n",
    "tot_rows = 0\n",
    "\n",
    "for START_DATE, END_DATE in zip(months, month_ends):\n",
    "    df = get_data(UP_LEFT, UP_RIGHT, DOWN_RIGHT, DOWN_LEFT, \n",
    "                  START_DATE, END_DATE, START_HOUR, END_HOUR, 'Monthly')\n",
    "    \n",
    "    tot_rows += df.shape[0]\n",
    "    df['wind_direction'] = df['wind_direction'].map(lambda x: x if x is not None else 0)\n",
    "\n",
    "    # fill in no wind times\n",
    "    df['wind_speed'].fillna(0, inplace = True)\n",
    "    df['wind_direction'].replace('', 0, inplace = True)\n",
    "\n",
    "    # change VRB to 0\n",
    "    vrb = df[df.wind_direction == \"VRB\"].index\n",
    "    df.loc[vrb, 'wind_direction'] = 0\n",
    "    df.loc[vrb, 'wind_speed'] = 0\n",
    "\n",
    "    df['wind_x'] = df.apply(lambda x: x.wind_speed * cos(radians(int(x.wind_direction))), axis = 1)\n",
    "    df['wind_y'] = df.apply(lambda x: x.wind_speed * sin(radians(int(x.wind_direction))), axis = 1)\n",
    "    \n",
    "    year,month,day = START_DATE.split(\"/\")\n",
    "    df.drop(columns=['a_h', 'day', 'daytype', 'device_loc_typ',\n",
    "                   'hour', 'month', 'timeofday', 'uptime', 'wind_direction', 'wind_speed',\n",
    "                    '0_3um', '0_5um', '10_0um', '1_0um',  '5_0um', 'agency_name',\n",
    "                   'aqi',  'call_sign2', 'call_sign3', 'category', 'city',\n",
    "                   'county', 'created',  'epa_pm25_unit', \n",
    "                   'full_aqs_code', 'gust_speed', 'gusts', 'hidden', 'high_reading_flag',\n",
    "                   'interval', 'intl_aqs_code', 'is_owner','minute', 'parent_id', 'pm10_0', 'pm10_0_atm', 'pm1_0', 'pm1_0_atm',\n",
    "                   'pm2_5_atm', 'pm2_5_cf_1', 'raw_concentration', 'report_modifier',\n",
    "                   'rssi', 'sensor_name', 'site_name', 'sys_maint_reqd',\n",
    "                    'thingspeak_primary_id',\n",
    "                   'thingspeak_primary_id_read_key', 'thingspeak_secondary_id',\n",
    "                   'thingspeak_secondary_id_read_key', 'variable_wind_info',\n",
    "                   'variable_winds', 'wban_number', 'wind_data', 'year', 'zipcode',\n",
    "                   'zulu_time', 'wkday', 'wind_compass']) \\\n",
    "        .to_parquet(f\"{year}{month}_bigger.parquet\", index = False, compression = 'gzip')"
   ]
  },
  {
   "cell_type": "code",
   "execution_count": 13,
   "metadata": {},
   "outputs": [
    {
     "data": {
      "text/plain": [
       "6145506"
      ]
     },
     "execution_count": 13,
     "metadata": {},
     "output_type": "execute_result"
    }
   ],
   "source": [
    "tot_rows"
   ]
  },
  {
   "cell_type": "markdown",
   "metadata": {},
   "source": [
    "### making one big df"
   ]
  },
  {
   "cell_type": "code",
   "execution_count": 7,
   "metadata": {},
   "outputs": [],
   "source": [
    "parq_files = sorted(glob.glob(\"*bigger.parquet\"))\n",
    "\n",
    "ddf = dd.read_parquet(parq_files.pop())\n",
    "\n",
    "# remaining files\n",
    "for pf in parq_files:\n",
    "    ddf = ddf.append(dd.read_parquet(pf)).reset_index(drop = True)"
   ]
  },
  {
   "cell_type": "code",
   "execution_count": 9,
   "metadata": {
    "scrolled": false
   },
   "outputs": [],
   "source": [
    "ddf.to_parquet(\"big_combined.parquet\", compression = 'gzip', write_index = False)"
   ]
  },
  {
   "cell_type": "markdown",
   "metadata": {},
   "source": [
    "#### reloading it later"
   ]
  },
  {
   "cell_type": "code",
   "execution_count": 2,
   "metadata": {},
   "outputs": [],
   "source": [
    "ddf = dd.read_parquet(\"big_combined.parquet\")"
   ]
  },
  {
   "cell_type": "markdown",
   "metadata": {},
   "source": [
    "### mapping stuff to a grid"
   ]
  },
  {
   "cell_type": "code",
   "execution_count": 3,
   "metadata": {},
   "outputs": [],
   "source": [
    "boxes = pd.read_csv(\"../bigger_500m_grid.csv\")"
   ]
  },
  {
   "cell_type": "code",
   "execution_count": 4,
   "metadata": {},
   "outputs": [
    {
     "data": {
      "text/html": [
       "<div>\n",
       "<style scoped>\n",
       "    .dataframe tbody tr th:only-of-type {\n",
       "        vertical-align: middle;\n",
       "    }\n",
       "\n",
       "    .dataframe tbody tr th {\n",
       "        vertical-align: top;\n",
       "    }\n",
       "\n",
       "    .dataframe thead th {\n",
       "        text-align: right;\n",
       "    }\n",
       "</style>\n",
       "<table border=\"1\" class=\"dataframe\">\n",
       "  <thead>\n",
       "    <tr style=\"text-align: right;\">\n",
       "      <th></th>\n",
       "      <th>min_lat</th>\n",
       "      <th>max_lat</th>\n",
       "      <th>min_lon</th>\n",
       "      <th>max_lon</th>\n",
       "      <th>x</th>\n",
       "      <th>y</th>\n",
       "      <th>center_lat</th>\n",
       "      <th>center_lon</th>\n",
       "      <th>in_water</th>\n",
       "      <th>ndvi</th>\n",
       "    </tr>\n",
       "  </thead>\n",
       "  <tbody>\n",
       "    <tr>\n",
       "      <th>0</th>\n",
       "      <td>37.278126</td>\n",
       "      <td>37.281700</td>\n",
       "      <td>-122.683496</td>\n",
       "      <td>-122.679004</td>\n",
       "      <td>0</td>\n",
       "      <td>0</td>\n",
       "      <td>37.279913</td>\n",
       "      <td>-122.68125</td>\n",
       "      <td>True</td>\n",
       "      <td>-2000</td>\n",
       "    </tr>\n",
       "    <tr>\n",
       "      <th>1</th>\n",
       "      <td>37.281700</td>\n",
       "      <td>37.285274</td>\n",
       "      <td>-122.683496</td>\n",
       "      <td>-122.679004</td>\n",
       "      <td>0</td>\n",
       "      <td>1</td>\n",
       "      <td>37.283487</td>\n",
       "      <td>-122.68125</td>\n",
       "      <td>True</td>\n",
       "      <td>-2000</td>\n",
       "    </tr>\n",
       "    <tr>\n",
       "      <th>2</th>\n",
       "      <td>37.285274</td>\n",
       "      <td>37.288847</td>\n",
       "      <td>-122.683496</td>\n",
       "      <td>-122.679004</td>\n",
       "      <td>0</td>\n",
       "      <td>2</td>\n",
       "      <td>37.287060</td>\n",
       "      <td>-122.68125</td>\n",
       "      <td>True</td>\n",
       "      <td>-2000</td>\n",
       "    </tr>\n",
       "    <tr>\n",
       "      <th>3</th>\n",
       "      <td>37.288847</td>\n",
       "      <td>37.292421</td>\n",
       "      <td>-122.683496</td>\n",
       "      <td>-122.679004</td>\n",
       "      <td>0</td>\n",
       "      <td>3</td>\n",
       "      <td>37.290634</td>\n",
       "      <td>-122.68125</td>\n",
       "      <td>True</td>\n",
       "      <td>-2000</td>\n",
       "    </tr>\n",
       "    <tr>\n",
       "      <th>4</th>\n",
       "      <td>37.292421</td>\n",
       "      <td>37.295994</td>\n",
       "      <td>-122.683496</td>\n",
       "      <td>-122.679004</td>\n",
       "      <td>0</td>\n",
       "      <td>4</td>\n",
       "      <td>37.294207</td>\n",
       "      <td>-122.68125</td>\n",
       "      <td>True</td>\n",
       "      <td>-1999</td>\n",
       "    </tr>\n",
       "  </tbody>\n",
       "</table>\n",
       "</div>"
      ],
      "text/plain": [
       "     min_lat    max_lat     min_lon     max_lon  x  y  center_lat  center_lon  \\\n",
       "0  37.278126  37.281700 -122.683496 -122.679004  0  0   37.279913  -122.68125   \n",
       "1  37.281700  37.285274 -122.683496 -122.679004  0  1   37.283487  -122.68125   \n",
       "2  37.285274  37.288847 -122.683496 -122.679004  0  2   37.287060  -122.68125   \n",
       "3  37.288847  37.292421 -122.683496 -122.679004  0  3   37.290634  -122.68125   \n",
       "4  37.292421  37.295994 -122.683496 -122.679004  0  4   37.294207  -122.68125   \n",
       "\n",
       "   in_water  ndvi  \n",
       "0      True -2000  \n",
       "1      True -2000  \n",
       "2      True -2000  \n",
       "3      True -2000  \n",
       "4      True -1999  "
      ]
     },
     "execution_count": 4,
     "metadata": {},
     "output_type": "execute_result"
    }
   ],
   "source": [
    "boxes.head()"
   ]
  },
  {
   "cell_type": "code",
   "execution_count": 5,
   "metadata": {},
   "outputs": [
    {
     "data": {
      "text/plain": [
       "(28095, 10)"
      ]
     },
     "execution_count": 5,
     "metadata": {},
     "output_type": "execute_result"
    }
   ],
   "source": [
    "boxes[(boxes.in_water == False) & (boxes.ndvi >=0)].shape"
   ]
  },
  {
   "cell_type": "code",
   "execution_count": 6,
   "metadata": {},
   "outputs": [
    {
     "data": {
      "text/plain": [
       "(193, 220)"
      ]
     },
     "execution_count": 6,
     "metadata": {},
     "output_type": "execute_result"
    }
   ],
   "source": [
    "boxes.x.max(), boxes.y.max()"
   ]
  },
  {
   "cell_type": "code",
   "execution_count": 7,
   "metadata": {},
   "outputs": [],
   "source": [
    "def get_coords(line):\n",
    "    box = boxes[(boxes.min_lat < line.lat) & (boxes.max_lat > line.lat) & \n",
    "                (boxes.min_lon < line.lon) & (boxes.max_lon > line.lon)]\n",
    "    assert box.shape[0] == 1\n",
    "    return box.iloc[0, 4], box.iloc[0, 5] # x,y"
   ]
  },
  {
   "cell_type": "markdown",
   "metadata": {},
   "source": [
    "slow af\n",
    "\n",
    "#### option b"
   ]
  },
  {
   "cell_type": "code",
   "execution_count": 8,
   "metadata": {},
   "outputs": [
    {
     "name": "stdout",
     "output_type": "stream",
     "text": [
      "CPU times: user 35.6 s, sys: 33.6 s, total: 1min 9s\n",
      "Wall time: 12.5 s\n"
     ]
    }
   ],
   "source": [
    "%%time\n",
    "# option b\n",
    "sensor_locs = ddf.compute()[['sensor_id', 'lat', 'lon']].drop_duplicates()\n",
    "sensor_locs['xy_'] = sensor_locs.apply(get_coords, axis = 1)"
   ]
  },
  {
   "cell_type": "code",
   "execution_count": 9,
   "metadata": {},
   "outputs": [
    {
     "data": {
      "text/plain": [
       "count       234\n",
       "unique      227\n",
       "top       37025\n",
       "freq          3\n",
       "Name: sensor_id, dtype: object"
      ]
     },
     "execution_count": 9,
     "metadata": {},
     "output_type": "execute_result"
    }
   ],
   "source": [
    "# do all sensors have the same location all the time\n",
    "sensor_locs['sensor_id'].astype(object).describe()"
   ]
  },
  {
   "cell_type": "markdown",
   "metadata": {},
   "source": [
    "no"
   ]
  },
  {
   "cell_type": "code",
   "execution_count": 10,
   "metadata": {},
   "outputs": [],
   "source": [
    "bad_ids = sensor_locs.groupby('sensor_id').count().reset_index().query('lat>1')['sensor_id']"
   ]
  },
  {
   "cell_type": "code",
   "execution_count": 11,
   "metadata": {},
   "outputs": [
    {
     "data": {
      "text/html": [
       "<div>\n",
       "<style scoped>\n",
       "    .dataframe tbody tr th:only-of-type {\n",
       "        vertical-align: middle;\n",
       "    }\n",
       "\n",
       "    .dataframe tbody tr th {\n",
       "        vertical-align: top;\n",
       "    }\n",
       "\n",
       "    .dataframe thead th {\n",
       "        text-align: right;\n",
       "    }\n",
       "</style>\n",
       "<table border=\"1\" class=\"dataframe\">\n",
       "  <thead>\n",
       "    <tr style=\"text-align: right;\">\n",
       "      <th></th>\n",
       "      <th>sensor_id</th>\n",
       "      <th>lat</th>\n",
       "      <th>lon</th>\n",
       "      <th>xy_</th>\n",
       "    </tr>\n",
       "  </thead>\n",
       "  <tbody>\n",
       "    <tr>\n",
       "      <th>20176</th>\n",
       "      <td>18999</td>\n",
       "      <td>37.794788</td>\n",
       "      <td>-122.432496</td>\n",
       "      <td>(55, 145)</td>\n",
       "    </tr>\n",
       "    <tr>\n",
       "      <th>637211</th>\n",
       "      <td>18999</td>\n",
       "      <td>37.795219</td>\n",
       "      <td>-122.432641</td>\n",
       "      <td>(55, 145)</td>\n",
       "    </tr>\n",
       "    <tr>\n",
       "      <th>15767</th>\n",
       "      <td>23927</td>\n",
       "      <td>37.747370</td>\n",
       "      <td>-122.413213</td>\n",
       "      <td>(60, 131)</td>\n",
       "    </tr>\n",
       "    <tr>\n",
       "      <th>283184</th>\n",
       "      <td>23927</td>\n",
       "      <td>37.747370</td>\n",
       "      <td>-122.413213</td>\n",
       "      <td>(60, 131)</td>\n",
       "    </tr>\n",
       "    <tr>\n",
       "      <th>13238</th>\n",
       "      <td>36641</td>\n",
       "      <td>37.888464</td>\n",
       "      <td>-122.532814</td>\n",
       "      <td>(33, 171)</td>\n",
       "    </tr>\n",
       "    <tr>\n",
       "      <th>552957</th>\n",
       "      <td>36641</td>\n",
       "      <td>37.888413</td>\n",
       "      <td>-122.533124</td>\n",
       "      <td>(33, 171)</td>\n",
       "    </tr>\n",
       "    <tr>\n",
       "      <th>552996</th>\n",
       "      <td>37025</td>\n",
       "      <td>37.875881</td>\n",
       "      <td>-122.252691</td>\n",
       "      <td>(95, 167)</td>\n",
       "    </tr>\n",
       "    <tr>\n",
       "      <th>556680</th>\n",
       "      <td>37025</td>\n",
       "      <td>37.875936</td>\n",
       "      <td>-122.253167</td>\n",
       "      <td>(95, 167)</td>\n",
       "    </tr>\n",
       "    <tr>\n",
       "      <th>556803</th>\n",
       "      <td>37025</td>\n",
       "      <td>37.875921</td>\n",
       "      <td>-122.253082</td>\n",
       "      <td>(95, 167)</td>\n",
       "    </tr>\n",
       "    <tr>\n",
       "      <th>640520</th>\n",
       "      <td>38535</td>\n",
       "      <td>37.795382</td>\n",
       "      <td>-122.432451</td>\n",
       "      <td>(55, 145)</td>\n",
       "    </tr>\n",
       "    <tr>\n",
       "      <th>640543</th>\n",
       "      <td>38535</td>\n",
       "      <td>37.794771</td>\n",
       "      <td>-122.432644</td>\n",
       "      <td>(55, 145)</td>\n",
       "    </tr>\n",
       "    <tr>\n",
       "      <th>208173</th>\n",
       "      <td>38845</td>\n",
       "      <td>37.762322</td>\n",
       "      <td>-122.420711</td>\n",
       "      <td>(58, 135)</td>\n",
       "    </tr>\n",
       "    <tr>\n",
       "      <th>307726</th>\n",
       "      <td>38845</td>\n",
       "      <td>37.756936</td>\n",
       "      <td>-122.424583</td>\n",
       "      <td>(57, 134)</td>\n",
       "    </tr>\n",
       "  </tbody>\n",
       "</table>\n",
       "</div>"
      ],
      "text/plain": [
       "       sensor_id        lat         lon        xy_\n",
       "20176      18999  37.794788 -122.432496  (55, 145)\n",
       "637211     18999  37.795219 -122.432641  (55, 145)\n",
       "15767      23927  37.747370 -122.413213  (60, 131)\n",
       "283184     23927  37.747370 -122.413213  (60, 131)\n",
       "13238      36641  37.888464 -122.532814  (33, 171)\n",
       "552957     36641  37.888413 -122.533124  (33, 171)\n",
       "552996     37025  37.875881 -122.252691  (95, 167)\n",
       "556680     37025  37.875936 -122.253167  (95, 167)\n",
       "556803     37025  37.875921 -122.253082  (95, 167)\n",
       "640520     38535  37.795382 -122.432451  (55, 145)\n",
       "640543     38535  37.794771 -122.432644  (55, 145)\n",
       "208173     38845  37.762322 -122.420711  (58, 135)\n",
       "307726     38845  37.756936 -122.424583  (57, 134)"
      ]
     },
     "execution_count": 11,
     "metadata": {},
     "output_type": "execute_result"
    }
   ],
   "source": [
    "sensor_locs[sensor_locs.sensor_id.isin(bad_ids)].sort_values(by=['sensor_id'])"
   ]
  },
  {
   "cell_type": "markdown",
   "metadata": {},
   "source": [
    "well at least they more or less stay in the same box"
   ]
  },
  {
   "cell_type": "code",
   "execution_count": 12,
   "metadata": {},
   "outputs": [
    {
     "name": "stdout",
     "output_type": "stream",
     "text": [
      "CPU times: user 5.12 ms, sys: 0 ns, total: 5.12 ms\n",
      "Wall time: 4.33 ms\n"
     ]
    }
   ],
   "source": [
    "%%time\n",
    "# option b, continued\n",
    "sensor_locs = sensor_locs.drop_duplicates(subset=['sensor_id']) \\\n",
    "                         .assign(x = lambda d: sensor_locs['xy_'].map(lambda f:f[0]),\n",
    "                                 y = lambda d: sensor_locs['xy_'].map(lambda f:f[1])) \\\n",
    "                         .set_index('sensor_id')"
   ]
  },
  {
   "cell_type": "code",
   "execution_count": 13,
   "metadata": {},
   "outputs": [
    {
     "data": {
      "text/plain": [
       "201"
      ]
     },
     "execution_count": 13,
     "metadata": {},
     "output_type": "execute_result"
    }
   ],
   "source": [
    "sensor_locs.xy_.nunique()"
   ]
  },
  {
   "cell_type": "code",
   "execution_count": 16,
   "metadata": {},
   "outputs": [
    {
     "data": {
      "text/html": [
       "<div>\n",
       "<style scoped>\n",
       "    .dataframe tbody tr th:only-of-type {\n",
       "        vertical-align: middle;\n",
       "    }\n",
       "\n",
       "    .dataframe tbody tr th {\n",
       "        vertical-align: top;\n",
       "    }\n",
       "\n",
       "    .dataframe thead th {\n",
       "        text-align: right;\n",
       "    }\n",
       "</style>\n",
       "<table border=\"1\" class=\"dataframe\">\n",
       "  <thead>\n",
       "    <tr style=\"text-align: right;\">\n",
       "      <th></th>\n",
       "      <th>lat</th>\n",
       "      <th>lon</th>\n",
       "      <th>xy_</th>\n",
       "      <th>x</th>\n",
       "      <th>y</th>\n",
       "    </tr>\n",
       "    <tr>\n",
       "      <th>sensor_id</th>\n",
       "      <th></th>\n",
       "      <th></th>\n",
       "      <th></th>\n",
       "      <th></th>\n",
       "      <th></th>\n",
       "    </tr>\n",
       "  </thead>\n",
       "  <tbody>\n",
       "    <tr>\n",
       "      <th>16939</th>\n",
       "      <td>37.722440</td>\n",
       "      <td>-122.439302</td>\n",
       "      <td>(54, 124)</td>\n",
       "      <td>54</td>\n",
       "      <td>124</td>\n",
       "    </tr>\n",
       "    <tr>\n",
       "      <th>16919</th>\n",
       "      <td>37.722456</td>\n",
       "      <td>-122.439390</td>\n",
       "      <td>(54, 124)</td>\n",
       "      <td>54</td>\n",
       "      <td>124</td>\n",
       "    </tr>\n",
       "    <tr>\n",
       "      <th>16931</th>\n",
       "      <td>37.722417</td>\n",
       "      <td>-122.439245</td>\n",
       "      <td>(54, 124)</td>\n",
       "      <td>54</td>\n",
       "      <td>124</td>\n",
       "    </tr>\n",
       "    <tr>\n",
       "      <th>19173</th>\n",
       "      <td>37.722383</td>\n",
       "      <td>-122.439227</td>\n",
       "      <td>(54, 124)</td>\n",
       "      <td>54</td>\n",
       "      <td>124</td>\n",
       "    </tr>\n",
       "    <tr>\n",
       "      <th>16947</th>\n",
       "      <td>37.722391</td>\n",
       "      <td>-122.439178</td>\n",
       "      <td>(54, 124)</td>\n",
       "      <td>54</td>\n",
       "      <td>124</td>\n",
       "    </tr>\n",
       "  </tbody>\n",
       "</table>\n",
       "</div>"
      ],
      "text/plain": [
       "                 lat         lon        xy_   x    y\n",
       "sensor_id                                           \n",
       "16939      37.722440 -122.439302  (54, 124)  54  124\n",
       "16919      37.722456 -122.439390  (54, 124)  54  124\n",
       "16931      37.722417 -122.439245  (54, 124)  54  124\n",
       "19173      37.722383 -122.439227  (54, 124)  54  124\n",
       "16947      37.722391 -122.439178  (54, 124)  54  124"
      ]
     },
     "execution_count": 16,
     "metadata": {},
     "output_type": "execute_result"
    }
   ],
   "source": [
    "sensor_locs.head()"
   ]
  },
  {
   "cell_type": "code",
   "execution_count": 17,
   "metadata": {},
   "outputs": [],
   "source": []
  },
  {
   "cell_type": "code",
   "execution_count": 18,
   "metadata": {},
   "outputs": [],
   "source": [
    "id_lookup = sensor_locs.T.to_dict()"
   ]
  },
  {
   "cell_type": "code",
   "execution_count": 15,
   "metadata": {},
   "outputs": [
    {
     "data": {
      "text/html": [
       "<div>\n",
       "<style scoped>\n",
       "    .dataframe tbody tr th:only-of-type {\n",
       "        vertical-align: middle;\n",
       "    }\n",
       "\n",
       "    .dataframe tbody tr th {\n",
       "        vertical-align: top;\n",
       "    }\n",
       "\n",
       "    .dataframe thead th {\n",
       "        text-align: right;\n",
       "    }\n",
       "</style>\n",
       "<table border=\"1\" class=\"dataframe\">\n",
       "  <thead>\n",
       "    <tr style=\"text-align: right;\">\n",
       "      <th></th>\n",
       "      <th>2_5um</th>\n",
       "      <th>call_sign</th>\n",
       "      <th>created_at</th>\n",
       "      <th>epa_pm25_value</th>\n",
       "      <th>humidity</th>\n",
       "      <th>lat</th>\n",
       "      <th>lon</th>\n",
       "      <th>sensor_id</th>\n",
       "      <th>temperature</th>\n",
       "      <th>wind_x</th>\n",
       "      <th>wind_y</th>\n",
       "    </tr>\n",
       "  </thead>\n",
       "  <tbody>\n",
       "    <tr>\n",
       "      <th>0</th>\n",
       "      <td>1.43</td>\n",
       "      <td>KSFO</td>\n",
       "      <td>2019/10/01T01:00</td>\n",
       "      <td>3.600000</td>\n",
       "      <td>53.0</td>\n",
       "      <td>37.72244</td>\n",
       "      <td>-122.439302</td>\n",
       "      <td>16939</td>\n",
       "      <td>66.0</td>\n",
       "      <td>-1.653273e-15</td>\n",
       "      <td>-9.0</td>\n",
       "    </tr>\n",
       "    <tr>\n",
       "      <th>1</th>\n",
       "      <td>1.76</td>\n",
       "      <td>KSFO</td>\n",
       "      <td>2019/10/01T01:10</td>\n",
       "      <td>3.633333</td>\n",
       "      <td>55.0</td>\n",
       "      <td>37.72244</td>\n",
       "      <td>-122.439302</td>\n",
       "      <td>16939</td>\n",
       "      <td>66.0</td>\n",
       "      <td>-1.653273e-15</td>\n",
       "      <td>-9.0</td>\n",
       "    </tr>\n",
       "    <tr>\n",
       "      <th>2</th>\n",
       "      <td>3.88</td>\n",
       "      <td>KSFO</td>\n",
       "      <td>2019/10/01T01:20</td>\n",
       "      <td>3.666667</td>\n",
       "      <td>56.0</td>\n",
       "      <td>37.72244</td>\n",
       "      <td>-122.439302</td>\n",
       "      <td>16939</td>\n",
       "      <td>65.0</td>\n",
       "      <td>-1.469576e-15</td>\n",
       "      <td>-8.0</td>\n",
       "    </tr>\n",
       "    <tr>\n",
       "      <th>3</th>\n",
       "      <td>4.85</td>\n",
       "      <td>KSFO</td>\n",
       "      <td>2019/10/01T01:30</td>\n",
       "      <td>3.700000</td>\n",
       "      <td>57.0</td>\n",
       "      <td>37.72244</td>\n",
       "      <td>-122.439302</td>\n",
       "      <td>16939</td>\n",
       "      <td>65.0</td>\n",
       "      <td>-1.469576e-15</td>\n",
       "      <td>-8.0</td>\n",
       "    </tr>\n",
       "    <tr>\n",
       "      <th>4</th>\n",
       "      <td>3.86</td>\n",
       "      <td>KSFO</td>\n",
       "      <td>2019/10/01T01:40</td>\n",
       "      <td>3.733333</td>\n",
       "      <td>58.0</td>\n",
       "      <td>37.72244</td>\n",
       "      <td>-122.439302</td>\n",
       "      <td>16939</td>\n",
       "      <td>65.0</td>\n",
       "      <td>-1.285879e-15</td>\n",
       "      <td>-7.0</td>\n",
       "    </tr>\n",
       "  </tbody>\n",
       "</table>\n",
       "</div>"
      ],
      "text/plain": [
       "   2_5um call_sign        created_at  epa_pm25_value  humidity       lat  \\\n",
       "0   1.43      KSFO  2019/10/01T01:00        3.600000      53.0  37.72244   \n",
       "1   1.76      KSFO  2019/10/01T01:10        3.633333      55.0  37.72244   \n",
       "2   3.88      KSFO  2019/10/01T01:20        3.666667      56.0  37.72244   \n",
       "3   4.85      KSFO  2019/10/01T01:30        3.700000      57.0  37.72244   \n",
       "4   3.86      KSFO  2019/10/01T01:40        3.733333      58.0  37.72244   \n",
       "\n",
       "          lon sensor_id  temperature        wind_x  wind_y  \n",
       "0 -122.439302     16939         66.0 -1.653273e-15    -9.0  \n",
       "1 -122.439302     16939         66.0 -1.653273e-15    -9.0  \n",
       "2 -122.439302     16939         65.0 -1.469576e-15    -8.0  \n",
       "3 -122.439302     16939         65.0 -1.469576e-15    -8.0  \n",
       "4 -122.439302     16939         65.0 -1.285879e-15    -7.0  "
      ]
     },
     "execution_count": 15,
     "metadata": {},
     "output_type": "execute_result"
    }
   ],
   "source": [
    "ddf.head()"
   ]
  },
  {
   "cell_type": "code",
   "execution_count": 19,
   "metadata": {},
   "outputs": [],
   "source": [
    "ddf['x'] = ddf.apply(lambda s: id_lookup[s['sensor_id']]['x'], axis =1, meta = pd.Series())\n"
   ]
  },
  {
   "cell_type": "code",
   "execution_count": 20,
   "metadata": {},
   "outputs": [],
   "source": [
    "ddf['y'] = ddf.apply(lambda s: id_lookup[s['sensor_id']]['y'], axis =1, meta = pd.Series())"
   ]
  },
  {
   "cell_type": "markdown",
   "metadata": {},
   "source": [
    "\n",
    "### adding time_space_id"
   ]
  },
  {
   "cell_type": "code",
   "execution_count": 61,
   "metadata": {},
   "outputs": [
    {
     "data": {
      "text/plain": [
       "array(['00', '10', '20', '30', '40', '50'], dtype=object)"
      ]
     },
     "execution_count": 61,
     "metadata": {},
     "output_type": "execute_result"
    }
   ],
   "source": [
    "# are timestamps every 5 or 10 minutes\n",
    "df['minute'].compute().unique()"
   ]
  },
  {
   "cell_type": "code",
   "execution_count": 21,
   "metadata": {},
   "outputs": [],
   "source": [
    "## all this x and y shit is for faster neighbor lookup\n",
    "import datetime\n",
    "\n",
    "def time_space(line):\n",
    "    \"\"\" takes x, y, created at\n",
    "    \n",
    "    returns string of form TTTT_x_y\n",
    "    \n",
    "    Where TTTT is unix timestamp divided by 600 (so an increment of 1 TTTT\n",
    "    is equivalent to 10 minutes, or how often we get readings)\n",
    "    \n",
    "    \"\"\"\n",
    "    \n",
    "    ts_ = int(datetime.datetime.strptime(line.created_at, \"%Y/%m/%dT%H:%M\").timestamp() / 600)\n",
    "    return f\"{ts_}_{line.x}_{line.y}\""
   ]
  },
  {
   "cell_type": "code",
   "execution_count": 22,
   "metadata": {},
   "outputs": [
    {
     "name": "stdout",
     "output_type": "stream",
     "text": [
      "CPU times: user 6.46 ms, sys: 0 ns, total: 6.46 ms\n",
      "Wall time: 5.98 ms\n"
     ]
    }
   ],
   "source": [
    "%%time\n",
    "ddf['time_space_id'] = ddf.apply(time_space, axis = 1, meta = pd.Series())"
   ]
  },
  {
   "cell_type": "markdown",
   "metadata": {},
   "source": [
    "### adding satellite data"
   ]
  },
  {
   "cell_type": "code",
   "execution_count": 23,
   "metadata": {},
   "outputs": [],
   "source": [
    "### adding satellite data\n",
    "import rasterio\n",
    "ndvi = rasterio.open(\"../nn/new_ndvi.tif\") # normalized vegetation index\n",
    "band_n = ndvi.read(1)"
   ]
  },
  {
   "cell_type": "code",
   "execution_count": 24,
   "metadata": {},
   "outputs": [],
   "source": [
    "  \n",
    "def get_ndvi(line):\n",
    "    # get ndvi\n",
    "    row, col = ndvi.index(line.lon, line.lat)\n",
    "    \n",
    "    return band_n[row,col]"
   ]
  },
  {
   "cell_type": "code",
   "execution_count": 25,
   "metadata": {},
   "outputs": [],
   "source": [
    "boxes['ndvi'] = boxes.assign(lon = boxes['center_lon'], lat = boxes['center_lat']) \\\n",
    "                     .apply(get_ndvi, axis = 1)"
   ]
  },
  {
   "cell_type": "code",
   "execution_count": 26,
   "metadata": {},
   "outputs": [
    {
     "data": {
      "text/html": [
       "<div>\n",
       "<style scoped>\n",
       "    .dataframe tbody tr th:only-of-type {\n",
       "        vertical-align: middle;\n",
       "    }\n",
       "\n",
       "    .dataframe tbody tr th {\n",
       "        vertical-align: top;\n",
       "    }\n",
       "\n",
       "    .dataframe thead th {\n",
       "        text-align: right;\n",
       "    }\n",
       "</style>\n",
       "<table border=\"1\" class=\"dataframe\">\n",
       "  <thead>\n",
       "    <tr style=\"text-align: right;\">\n",
       "      <th></th>\n",
       "      <th>min_lat</th>\n",
       "      <th>max_lat</th>\n",
       "      <th>min_lon</th>\n",
       "      <th>max_lon</th>\n",
       "      <th>x</th>\n",
       "      <th>y</th>\n",
       "      <th>center_lat</th>\n",
       "      <th>center_lon</th>\n",
       "      <th>in_water</th>\n",
       "      <th>ndvi</th>\n",
       "    </tr>\n",
       "  </thead>\n",
       "  <tbody>\n",
       "    <tr>\n",
       "      <th>0</th>\n",
       "      <td>37.278126</td>\n",
       "      <td>37.281700</td>\n",
       "      <td>-122.683496</td>\n",
       "      <td>-122.679004</td>\n",
       "      <td>0</td>\n",
       "      <td>0</td>\n",
       "      <td>37.279913</td>\n",
       "      <td>-122.68125</td>\n",
       "      <td>True</td>\n",
       "      <td>-2000</td>\n",
       "    </tr>\n",
       "    <tr>\n",
       "      <th>1</th>\n",
       "      <td>37.281700</td>\n",
       "      <td>37.285274</td>\n",
       "      <td>-122.683496</td>\n",
       "      <td>-122.679004</td>\n",
       "      <td>0</td>\n",
       "      <td>1</td>\n",
       "      <td>37.283487</td>\n",
       "      <td>-122.68125</td>\n",
       "      <td>True</td>\n",
       "      <td>-2000</td>\n",
       "    </tr>\n",
       "    <tr>\n",
       "      <th>2</th>\n",
       "      <td>37.285274</td>\n",
       "      <td>37.288847</td>\n",
       "      <td>-122.683496</td>\n",
       "      <td>-122.679004</td>\n",
       "      <td>0</td>\n",
       "      <td>2</td>\n",
       "      <td>37.287060</td>\n",
       "      <td>-122.68125</td>\n",
       "      <td>True</td>\n",
       "      <td>-2000</td>\n",
       "    </tr>\n",
       "    <tr>\n",
       "      <th>3</th>\n",
       "      <td>37.288847</td>\n",
       "      <td>37.292421</td>\n",
       "      <td>-122.683496</td>\n",
       "      <td>-122.679004</td>\n",
       "      <td>0</td>\n",
       "      <td>3</td>\n",
       "      <td>37.290634</td>\n",
       "      <td>-122.68125</td>\n",
       "      <td>True</td>\n",
       "      <td>-2000</td>\n",
       "    </tr>\n",
       "    <tr>\n",
       "      <th>4</th>\n",
       "      <td>37.292421</td>\n",
       "      <td>37.295994</td>\n",
       "      <td>-122.683496</td>\n",
       "      <td>-122.679004</td>\n",
       "      <td>0</td>\n",
       "      <td>4</td>\n",
       "      <td>37.294207</td>\n",
       "      <td>-122.68125</td>\n",
       "      <td>True</td>\n",
       "      <td>-1999</td>\n",
       "    </tr>\n",
       "  </tbody>\n",
       "</table>\n",
       "</div>"
      ],
      "text/plain": [
       "     min_lat    max_lat     min_lon     max_lon  x  y  center_lat  center_lon  \\\n",
       "0  37.278126  37.281700 -122.683496 -122.679004  0  0   37.279913  -122.68125   \n",
       "1  37.281700  37.285274 -122.683496 -122.679004  0  1   37.283487  -122.68125   \n",
       "2  37.285274  37.288847 -122.683496 -122.679004  0  2   37.287060  -122.68125   \n",
       "3  37.288847  37.292421 -122.683496 -122.679004  0  3   37.290634  -122.68125   \n",
       "4  37.292421  37.295994 -122.683496 -122.679004  0  4   37.294207  -122.68125   \n",
       "\n",
       "   in_water  ndvi  \n",
       "0      True -2000  \n",
       "1      True -2000  \n",
       "2      True -2000  \n",
       "3      True -2000  \n",
       "4      True -1999  "
      ]
     },
     "execution_count": 26,
     "metadata": {},
     "output_type": "execute_result"
    }
   ],
   "source": [
    "boxes.head()"
   ]
  },
  {
   "cell_type": "code",
   "execution_count": 27,
   "metadata": {},
   "outputs": [],
   "source": [
    "sensor_locs['ndvi'] = sensor_locs.apply(get_ndvi, axis = 1)\n",
    "# sensor_locs['image'] = sensor_locs.apply(get_sentinel, axis = 1)"
   ]
  },
  {
   "cell_type": "code",
   "execution_count": 28,
   "metadata": {},
   "outputs": [],
   "source": [
    "# dataset_a.close()\n",
    "# dataset_b.close()\n",
    "ndvi.close()"
   ]
  },
  {
   "cell_type": "code",
   "execution_count": 29,
   "metadata": {},
   "outputs": [
    {
     "data": {
      "text/html": [
       "<div>\n",
       "<style scoped>\n",
       "    .dataframe tbody tr th:only-of-type {\n",
       "        vertical-align: middle;\n",
       "    }\n",
       "\n",
       "    .dataframe tbody tr th {\n",
       "        vertical-align: top;\n",
       "    }\n",
       "\n",
       "    .dataframe thead th {\n",
       "        text-align: right;\n",
       "    }\n",
       "</style>\n",
       "<table border=\"1\" class=\"dataframe\">\n",
       "  <thead>\n",
       "    <tr style=\"text-align: right;\">\n",
       "      <th></th>\n",
       "      <th>lat</th>\n",
       "      <th>lon</th>\n",
       "      <th>xy_</th>\n",
       "      <th>x</th>\n",
       "      <th>y</th>\n",
       "      <th>ndvi</th>\n",
       "    </tr>\n",
       "    <tr>\n",
       "      <th>sensor_id</th>\n",
       "      <th></th>\n",
       "      <th></th>\n",
       "      <th></th>\n",
       "      <th></th>\n",
       "      <th></th>\n",
       "      <th></th>\n",
       "    </tr>\n",
       "  </thead>\n",
       "  <tbody>\n",
       "    <tr>\n",
       "      <th>16939</th>\n",
       "      <td>37.722440</td>\n",
       "      <td>-122.439302</td>\n",
       "      <td>(54, 124)</td>\n",
       "      <td>54</td>\n",
       "      <td>124</td>\n",
       "      <td>3327</td>\n",
       "    </tr>\n",
       "    <tr>\n",
       "      <th>16919</th>\n",
       "      <td>37.722456</td>\n",
       "      <td>-122.439390</td>\n",
       "      <td>(54, 124)</td>\n",
       "      <td>54</td>\n",
       "      <td>124</td>\n",
       "      <td>3327</td>\n",
       "    </tr>\n",
       "    <tr>\n",
       "      <th>16931</th>\n",
       "      <td>37.722417</td>\n",
       "      <td>-122.439245</td>\n",
       "      <td>(54, 124)</td>\n",
       "      <td>54</td>\n",
       "      <td>124</td>\n",
       "      <td>3327</td>\n",
       "    </tr>\n",
       "    <tr>\n",
       "      <th>19173</th>\n",
       "      <td>37.722383</td>\n",
       "      <td>-122.439227</td>\n",
       "      <td>(54, 124)</td>\n",
       "      <td>54</td>\n",
       "      <td>124</td>\n",
       "      <td>3327</td>\n",
       "    </tr>\n",
       "    <tr>\n",
       "      <th>16947</th>\n",
       "      <td>37.722391</td>\n",
       "      <td>-122.439178</td>\n",
       "      <td>(54, 124)</td>\n",
       "      <td>54</td>\n",
       "      <td>124</td>\n",
       "      <td>3327</td>\n",
       "    </tr>\n",
       "  </tbody>\n",
       "</table>\n",
       "</div>"
      ],
      "text/plain": [
       "                 lat         lon        xy_   x    y  ndvi\n",
       "sensor_id                                                 \n",
       "16939      37.722440 -122.439302  (54, 124)  54  124  3327\n",
       "16919      37.722456 -122.439390  (54, 124)  54  124  3327\n",
       "16931      37.722417 -122.439245  (54, 124)  54  124  3327\n",
       "19173      37.722383 -122.439227  (54, 124)  54  124  3327\n",
       "16947      37.722391 -122.439178  (54, 124)  54  124  3327"
      ]
     },
     "execution_count": 29,
     "metadata": {},
     "output_type": "execute_result"
    }
   ],
   "source": [
    "sensor_locs.head()"
   ]
  },
  {
   "cell_type": "code",
   "execution_count": 30,
   "metadata": {},
   "outputs": [],
   "source": [
    "sensor_locs.to_csv(\"sensor_locs_big_box.csv\")"
   ]
  },
  {
   "cell_type": "code",
   "execution_count": 31,
   "metadata": {},
   "outputs": [
    {
     "data": {
      "text/plain": [
       "201"
      ]
     },
     "execution_count": 31,
     "metadata": {},
     "output_type": "execute_result"
    }
   ],
   "source": [
    "sensor_locs['xy_'].nunique()"
   ]
  },
  {
   "cell_type": "code",
   "execution_count": 32,
   "metadata": {},
   "outputs": [],
   "source": [
    "ssd = sensor_locs.T.to_dict()"
   ]
  },
  {
   "cell_type": "markdown",
   "metadata": {},
   "source": [
    "### final prep before splitting"
   ]
  },
  {
   "cell_type": "code",
   "execution_count": 62,
   "metadata": {},
   "outputs": [
    {
     "data": {
      "text/plain": [
       "Index(['2_5um', 'call_sign', 'created_at', 'epa_pm25_value', 'humidity', 'lat',\n",
       "       'lon', 'sensor_id', 'temperature', 'wind_x', 'wind_y', 'x', 'y',\n",
       "       'time_space_id'],\n",
       "      dtype='object')"
      ]
     },
     "execution_count": 62,
     "metadata": {},
     "output_type": "execute_result"
    }
   ],
   "source": [
    "ddf.columns"
   ]
  },
  {
   "cell_type": "code",
   "execution_count": 33,
   "metadata": {},
   "outputs": [],
   "source": [
    "# get vegetation index\n",
    "ddf['ndvi'] = ddf.apply(lambda x: sensor_locs.loc[x.sensor_id, 'ndvi'], axis = 1, meta = pd.Series())"
   ]
  },
  {
   "cell_type": "code",
   "execution_count": 34,
   "metadata": {},
   "outputs": [],
   "source": [
    "ddf['ts_'] = ddf \\\n",
    "    .apply(lambda x: int(datetime.datetime.strptime(x.created_at, \"%Y/%m/%dT%H:%M\").timestamp()),\n",
    "           axis = 1, meta = pd.Series())"
   ]
  },
  {
   "cell_type": "code",
   "execution_count": 37,
   "metadata": {},
   "outputs": [],
   "source": [
    "import modelUtils as mu\n",
    "avg_hum_temp = ddf.groupby('ts_').agg({'humidity':'mean', \n",
    "                                             'temperature':'mean',\n",
    "                                             'epa_pm25_value':'mean'})"
   ]
  },
  {
   "cell_type": "code",
   "execution_count": 38,
   "metadata": {},
   "outputs": [
    {
     "name": "stdout",
     "output_type": "stream",
     "text": [
      "CPU times: user 96 ms, sys: 0 ns, total: 96 ms\n",
      "Wall time: 94 ms\n"
     ]
    }
   ],
   "source": [
    "%%time\n",
    "\n",
    "\n",
    "ddf['humidity'] = ddf \\\n",
    "    .apply(lambda l: mu.fill_in_avgs(l, 'humidity',avg_hum_temp), axis = 1, meta = pd.Series())\n",
    "ddf['temperature'] = ddf \\\n",
    "    .apply(lambda l: mu.fill_in_avgs(l, 'temperature',avg_hum_temp), axis = 1, meta = pd.Series())\n",
    "ddf['epa_pm25_value'] = ddf \\\n",
    "    .apply(lambda l: mu.fill_in_avgs(l, 'epa_pm25_value',avg_hum_temp), axis = 1, meta = pd.Series())"
   ]
  },
  {
   "cell_type": "code",
   "execution_count": 3,
   "metadata": {},
   "outputs": [],
   "source": [
    "#ddf.to_parquet(\"big_combined.parquet\", compression = 'gzip', write_index = False)"
   ]
  },
  {
   "cell_type": "code",
   "execution_count": 40,
   "metadata": {
    "scrolled": false
   },
   "outputs": [],
   "source": [
    "#from sklearn.model_selection import train_test_split\n",
    "from dask_ml.model_selection import train_test_split\n",
    "target_var = '2_5um'\n",
    "\n",
    "X_train_and_dev, X_test, y_train_and_dev, y_test = train_test_split(ddf, \n",
    "                                                                    ddf[target_var], \n",
    "                                                                    test_size=0.20, \n",
    "                                                                    random_state=42)\n",
    "\n",
    "X_train, X_dev, y_train, y_dev = train_test_split(X_train_and_dev, y_train_and_dev, test_size=0.125, random_state=42)"
   ]
  },
  {
   "cell_type": "markdown",
   "metadata": {},
   "source": [
    "### now adding neighbors in time and space"
   ]
  },
  {
   "cell_type": "code",
   "execution_count": 41,
   "metadata": {},
   "outputs": [
    {
     "name": "stdout",
     "output_type": "stream",
     "text": [
      "CPU times: user 8.11 ms, sys: 0 ns, total: 8.11 ms\n",
      "Wall time: 7.61 ms\n"
     ]
    }
   ],
   "source": [
    "%%time\n",
    "# create a key value mapping of the from time_space_id:(row number in X_train)\n",
    "neighbor_lookup = defaultdict(list)\n",
    "_ = X_train.apply(lambda x: neighbor_lookup[x.time_space_id].append(x.name), axis = 1)"
   ]
  },
  {
   "cell_type": "code",
   "execution_count": 6,
   "metadata": {},
   "outputs": [
    {
     "data": {
      "text/html": [
       "<div>\n",
       "<style scoped>\n",
       "    .dataframe tbody tr th:only-of-type {\n",
       "        vertical-align: middle;\n",
       "    }\n",
       "\n",
       "    .dataframe tbody tr th {\n",
       "        vertical-align: top;\n",
       "    }\n",
       "\n",
       "    .dataframe thead th {\n",
       "        text-align: right;\n",
       "    }\n",
       "</style>\n",
       "<table border=\"1\" class=\"dataframe\">\n",
       "  <thead>\n",
       "    <tr style=\"text-align: right;\">\n",
       "      <th></th>\n",
       "      <th>2_5um</th>\n",
       "      <th>epa_pm25_value</th>\n",
       "      <th>humidity</th>\n",
       "      <th>lat</th>\n",
       "      <th>lon</th>\n",
       "      <th>sensor_id</th>\n",
       "      <th>temperature</th>\n",
       "      <th>wind_x</th>\n",
       "      <th>wind_y</th>\n",
       "      <th>x</th>\n",
       "      <th>y</th>\n",
       "      <th>time_space_id</th>\n",
       "      <th>ndvi</th>\n",
       "      <th>ts_</th>\n",
       "      <th>is_dense</th>\n",
       "    </tr>\n",
       "  </thead>\n",
       "  <tbody>\n",
       "    <tr>\n",
       "      <th>0</th>\n",
       "      <td>4.00</td>\n",
       "      <td>5.800000</td>\n",
       "      <td>49.0</td>\n",
       "      <td>37.787307</td>\n",
       "      <td>-122.417252</td>\n",
       "      <td>4770</td>\n",
       "      <td>73.0</td>\n",
       "      <td>-2.736161e+00</td>\n",
       "      <td>-7.517541</td>\n",
       "      <td>26</td>\n",
       "      <td>24</td>\n",
       "      <td>2559606_26_24</td>\n",
       "      <td>931</td>\n",
       "      <td>1535763600</td>\n",
       "      <td>False</td>\n",
       "    </tr>\n",
       "    <tr>\n",
       "      <th>1</th>\n",
       "      <td>4.95</td>\n",
       "      <td>6.566667</td>\n",
       "      <td>51.0</td>\n",
       "      <td>37.787307</td>\n",
       "      <td>-122.417252</td>\n",
       "      <td>4770</td>\n",
       "      <td>72.0</td>\n",
       "      <td>-1.389185e+00</td>\n",
       "      <td>-7.878462</td>\n",
       "      <td>26</td>\n",
       "      <td>24</td>\n",
       "      <td>2559607_26_24</td>\n",
       "      <td>931</td>\n",
       "      <td>1535764200</td>\n",
       "      <td>False</td>\n",
       "    </tr>\n",
       "    <tr>\n",
       "      <th>2</th>\n",
       "      <td>1.41</td>\n",
       "      <td>7.333333</td>\n",
       "      <td>53.0</td>\n",
       "      <td>37.787307</td>\n",
       "      <td>-122.417252</td>\n",
       "      <td>4770</td>\n",
       "      <td>71.0</td>\n",
       "      <td>-1.562834e+00</td>\n",
       "      <td>-8.863270</td>\n",
       "      <td>26</td>\n",
       "      <td>24</td>\n",
       "      <td>2559608_26_24</td>\n",
       "      <td>931</td>\n",
       "      <td>1535764800</td>\n",
       "      <td>False</td>\n",
       "    </tr>\n",
       "    <tr>\n",
       "      <th>3</th>\n",
       "      <td>3.71</td>\n",
       "      <td>8.100000</td>\n",
       "      <td>54.0</td>\n",
       "      <td>37.787307</td>\n",
       "      <td>-122.417252</td>\n",
       "      <td>4770</td>\n",
       "      <td>70.0</td>\n",
       "      <td>-1.653273e-15</td>\n",
       "      <td>-9.000000</td>\n",
       "      <td>26</td>\n",
       "      <td>24</td>\n",
       "      <td>2559609_26_24</td>\n",
       "      <td>931</td>\n",
       "      <td>1535765400</td>\n",
       "      <td>False</td>\n",
       "    </tr>\n",
       "    <tr>\n",
       "      <th>10</th>\n",
       "      <td>4.80</td>\n",
       "      <td>10.266667</td>\n",
       "      <td>59.0</td>\n",
       "      <td>37.787307</td>\n",
       "      <td>-122.417252</td>\n",
       "      <td>4770</td>\n",
       "      <td>68.0</td>\n",
       "      <td>0.000000e+00</td>\n",
       "      <td>0.000000</td>\n",
       "      <td>26</td>\n",
       "      <td>24</td>\n",
       "      <td>2559616_26_24</td>\n",
       "      <td>931</td>\n",
       "      <td>1535769600</td>\n",
       "      <td>False</td>\n",
       "    </tr>\n",
       "  </tbody>\n",
       "</table>\n",
       "</div>"
      ],
      "text/plain": [
       "    2_5um  epa_pm25_value  humidity        lat         lon  sensor_id  \\\n",
       "0    4.00        5.800000      49.0  37.787307 -122.417252       4770   \n",
       "1    4.95        6.566667      51.0  37.787307 -122.417252       4770   \n",
       "2    1.41        7.333333      53.0  37.787307 -122.417252       4770   \n",
       "3    3.71        8.100000      54.0  37.787307 -122.417252       4770   \n",
       "10   4.80       10.266667      59.0  37.787307 -122.417252       4770   \n",
       "\n",
       "    temperature        wind_x    wind_y   x   y  time_space_id  ndvi  \\\n",
       "0          73.0 -2.736161e+00 -7.517541  26  24  2559606_26_24   931   \n",
       "1          72.0 -1.389185e+00 -7.878462  26  24  2559607_26_24   931   \n",
       "2          71.0 -1.562834e+00 -8.863270  26  24  2559608_26_24   931   \n",
       "3          70.0 -1.653273e-15 -9.000000  26  24  2559609_26_24   931   \n",
       "10         68.0  0.000000e+00  0.000000  26  24  2559616_26_24   931   \n",
       "\n",
       "           ts_  is_dense  \n",
       "0   1535763600     False  \n",
       "1   1535764200     False  \n",
       "2   1535764800     False  \n",
       "3   1535765400     False  \n",
       "10  1535769600     False  "
      ]
     },
     "execution_count": 6,
     "metadata": {},
     "output_type": "execute_result"
    }
   ],
   "source": [
    "X_train.head()"
   ]
  },
  {
   "cell_type": "code",
   "execution_count": 42,
   "metadata": {},
   "outputs": [],
   "source": [
    "def get_neighbors_space_time(line, train_df):\n",
    "    \"\"\"\n",
    "    Inputs: single observation, a training dataframe, and a time delta\n",
    "    Outputs: vector of length 25 corresponding to surrounding neighbor observations\n",
    "    \"\"\"\n",
    "    \n",
    "    t, x, y = line.time_space_id.split(\"_\")\n",
    "\n",
    "    t = int(t)\n",
    "    x = int(x)\n",
    "    y = int(y)\n",
    "    neighbors = np.zeros((25))\n",
    "    \n",
    "    c = 0\n",
    "    for i in range(-2,3):\n",
    "        for j in range(-2,3):\n",
    "            #if i == 0 and j == 0:\n",
    "            n = neighbor_lookup[f\"{t}_{x+i}_{y+j}\"] # get rows in train_df for that particular time-block\n",
    "            \n",
    "            if n:\n",
    "                tmp_df = train_df.loc[n, ['sensor_id','2_5um']]\n",
    "                neighbors[c] = tmp_df[tmp_df.sensor_id != line.sensor_id]['2_5um'].mean()\n",
    "                \n",
    "            c += 1\n",
    "    \n",
    "    return neighbors"
   ]
  },
  {
   "cell_type": "code",
   "execution_count": 45,
   "metadata": {
    "scrolled": false
   },
   "outputs": [
    {
     "name": "stdout",
     "output_type": "stream",
     "text": [
      "CPU times: user 34.1 ms, sys: 3.31 ms, total: 37.4 ms\n",
      "Wall time: 36.1 ms\n"
     ]
    }
   ],
   "source": [
    "%%time\n",
    "\n",
    "X_train_neighbors = X_train \\\n",
    "    .apply(lambda line: get_neighbors_space_time(line, X_train), axis =1, meta=pd.Series())\n",
    "\n",
    "\n"
   ]
  },
  {
   "cell_type": "code",
   "execution_count": 63,
   "metadata": {},
   "outputs": [
    {
     "data": {
      "text/plain": [
       "(4303186,)"
      ]
     },
     "execution_count": 63,
     "metadata": {},
     "output_type": "execute_result"
    }
   ],
   "source": [
    "X_train_neighbors.compute().shape"
   ]
  },
  {
   "cell_type": "code",
   "execution_count": null,
   "metadata": {},
   "outputs": [],
   "source": [
    "X_train_neighbors.compute().mean(axis = 1)"
   ]
  },
  {
   "cell_type": "code",
   "execution_count": 46,
   "metadata": {},
   "outputs": [
    {
     "name": "stdout",
     "output_type": "stream",
     "text": [
      "CPU times: user 33.4 ms, sys: 2.18 ms, total: 35.6 ms\n",
      "Wall time: 34.2 ms\n"
     ]
    }
   ],
   "source": [
    "%%time\n",
    "X_dev_neighbors = X_dev \\\n",
    "    .apply(lambda x: get_neighbors_space_time(x, X_train), axis =1, meta = pd.Series())"
   ]
  },
  {
   "cell_type": "code",
   "execution_count": 51,
   "metadata": {},
   "outputs": [],
   "source": [
    "train_cut = (y_train < 300)\n",
    "dev_cut = (y_dev < 300)"
   ]
  },
  {
   "cell_type": "code",
   "execution_count": 48,
   "metadata": {},
   "outputs": [],
   "source": [
    "baseline_features = ['epa_pm25_value', 'humidity', 'temperature', 'wind_x', 'wind_y', 'ndvi']\n",
    "# no elevation\n",
    "\n",
    "# cuts not yet applied\n",
    "X_train_base = X_train[baseline_features].values\n",
    "X_dev_base = X_dev[baseline_features].values"
   ]
  },
  {
   "cell_type": "code",
   "execution_count": 61,
   "metadata": {},
   "outputs": [
    {
     "ename": "KeyboardInterrupt",
     "evalue": "",
     "output_type": "error",
     "traceback": [
      "\u001b[0;31m---------------------------------------------------------------------------\u001b[0m",
      "\u001b[0;31mKeyboardInterrupt\u001b[0m                         Traceback (most recent call last)",
      "\u001b[0;32m<timed exec>\u001b[0m in \u001b[0;36m<module>\u001b[0;34m\u001b[0m\n",
      "\u001b[0;32m~/miniconda3/envs/tf/lib/python3.7/site-packages/dask/array/core.py\u001b[0m in \u001b[0;36mcompute_chunk_sizes\u001b[0;34m(self)\u001b[0m\n\u001b[1;32m   1131\u001b[0m             \u001b[0mc\u001b[0m\u001b[0;34m.\u001b[0m\u001b[0mappend\u001b[0m\u001b[0;34m(\u001b[0m\u001b[0mtuple\u001b[0m\u001b[0;34m(\u001b[0m\u001b[0mchunk_shapes\u001b[0m\u001b[0;34m[\u001b[0m\u001b[0ms\u001b[0m\u001b[0;34m]\u001b[0m\u001b[0;34m)\u001b[0m\u001b[0;34m)\u001b[0m\u001b[0;34m\u001b[0m\u001b[0;34m\u001b[0m\u001b[0m\n\u001b[1;32m   1132\u001b[0m \u001b[0;34m\u001b[0m\u001b[0m\n\u001b[0;32m-> 1133\u001b[0;31m         \u001b[0mx\u001b[0m\u001b[0;34m.\u001b[0m\u001b[0m_chunks\u001b[0m \u001b[0;34m=\u001b[0m \u001b[0mcompute\u001b[0m\u001b[0;34m(\u001b[0m\u001b[0mtuple\u001b[0m\u001b[0;34m(\u001b[0m\u001b[0mc\u001b[0m\u001b[0;34m)\u001b[0m\u001b[0;34m)\u001b[0m\u001b[0;34m[\u001b[0m\u001b[0;36m0\u001b[0m\u001b[0;34m]\u001b[0m\u001b[0;34m\u001b[0m\u001b[0;34m\u001b[0m\u001b[0m\n\u001b[0m\u001b[1;32m   1134\u001b[0m         \u001b[0;32mreturn\u001b[0m \u001b[0mx\u001b[0m\u001b[0;34m\u001b[0m\u001b[0;34m\u001b[0m\u001b[0m\n\u001b[1;32m   1135\u001b[0m \u001b[0;34m\u001b[0m\u001b[0m\n",
      "\u001b[0;32m~/miniconda3/envs/tf/lib/python3.7/site-packages/dask/base.py\u001b[0m in \u001b[0;36mcompute\u001b[0;34m(*args, **kwargs)\u001b[0m\n\u001b[1;32m    434\u001b[0m     \u001b[0mkeys\u001b[0m \u001b[0;34m=\u001b[0m \u001b[0;34m[\u001b[0m\u001b[0mx\u001b[0m\u001b[0;34m.\u001b[0m\u001b[0m__dask_keys__\u001b[0m\u001b[0;34m(\u001b[0m\u001b[0;34m)\u001b[0m \u001b[0;32mfor\u001b[0m \u001b[0mx\u001b[0m \u001b[0;32min\u001b[0m \u001b[0mcollections\u001b[0m\u001b[0;34m]\u001b[0m\u001b[0;34m\u001b[0m\u001b[0;34m\u001b[0m\u001b[0m\n\u001b[1;32m    435\u001b[0m     \u001b[0mpostcomputes\u001b[0m \u001b[0;34m=\u001b[0m \u001b[0;34m[\u001b[0m\u001b[0mx\u001b[0m\u001b[0;34m.\u001b[0m\u001b[0m__dask_postcompute__\u001b[0m\u001b[0;34m(\u001b[0m\u001b[0;34m)\u001b[0m \u001b[0;32mfor\u001b[0m \u001b[0mx\u001b[0m \u001b[0;32min\u001b[0m \u001b[0mcollections\u001b[0m\u001b[0;34m]\u001b[0m\u001b[0;34m\u001b[0m\u001b[0;34m\u001b[0m\u001b[0m\n\u001b[0;32m--> 436\u001b[0;31m     \u001b[0mresults\u001b[0m \u001b[0;34m=\u001b[0m \u001b[0mschedule\u001b[0m\u001b[0;34m(\u001b[0m\u001b[0mdsk\u001b[0m\u001b[0;34m,\u001b[0m \u001b[0mkeys\u001b[0m\u001b[0;34m,\u001b[0m \u001b[0;34m**\u001b[0m\u001b[0mkwargs\u001b[0m\u001b[0;34m)\u001b[0m\u001b[0;34m\u001b[0m\u001b[0;34m\u001b[0m\u001b[0m\n\u001b[0m\u001b[1;32m    437\u001b[0m     \u001b[0;32mreturn\u001b[0m \u001b[0mrepack\u001b[0m\u001b[0;34m(\u001b[0m\u001b[0;34m[\u001b[0m\u001b[0mf\u001b[0m\u001b[0;34m(\u001b[0m\u001b[0mr\u001b[0m\u001b[0;34m,\u001b[0m \u001b[0;34m*\u001b[0m\u001b[0ma\u001b[0m\u001b[0;34m)\u001b[0m \u001b[0;32mfor\u001b[0m \u001b[0mr\u001b[0m\u001b[0;34m,\u001b[0m \u001b[0;34m(\u001b[0m\u001b[0mf\u001b[0m\u001b[0;34m,\u001b[0m \u001b[0ma\u001b[0m\u001b[0;34m)\u001b[0m \u001b[0;32min\u001b[0m \u001b[0mzip\u001b[0m\u001b[0;34m(\u001b[0m\u001b[0mresults\u001b[0m\u001b[0;34m,\u001b[0m \u001b[0mpostcomputes\u001b[0m\u001b[0;34m)\u001b[0m\u001b[0;34m]\u001b[0m\u001b[0;34m)\u001b[0m\u001b[0;34m\u001b[0m\u001b[0;34m\u001b[0m\u001b[0m\n\u001b[1;32m    438\u001b[0m \u001b[0;34m\u001b[0m\u001b[0m\n",
      "\u001b[0;32m~/miniconda3/envs/tf/lib/python3.7/site-packages/dask/threaded.py\u001b[0m in \u001b[0;36mget\u001b[0;34m(dsk, result, cache, num_workers, pool, **kwargs)\u001b[0m\n\u001b[1;32m     78\u001b[0m         \u001b[0mget_id\u001b[0m\u001b[0;34m=\u001b[0m\u001b[0m_thread_get_id\u001b[0m\u001b[0;34m,\u001b[0m\u001b[0;34m\u001b[0m\u001b[0;34m\u001b[0m\u001b[0m\n\u001b[1;32m     79\u001b[0m         \u001b[0mpack_exception\u001b[0m\u001b[0;34m=\u001b[0m\u001b[0mpack_exception\u001b[0m\u001b[0;34m,\u001b[0m\u001b[0;34m\u001b[0m\u001b[0;34m\u001b[0m\u001b[0m\n\u001b[0;32m---> 80\u001b[0;31m         \u001b[0;34m**\u001b[0m\u001b[0mkwargs\u001b[0m\u001b[0;34m\u001b[0m\u001b[0;34m\u001b[0m\u001b[0m\n\u001b[0m\u001b[1;32m     81\u001b[0m     )\n\u001b[1;32m     82\u001b[0m \u001b[0;34m\u001b[0m\u001b[0m\n",
      "\u001b[0;32m~/miniconda3/envs/tf/lib/python3.7/site-packages/dask/local.py\u001b[0m in \u001b[0;36mget_async\u001b[0;34m(apply_async, num_workers, dsk, result, cache, get_id, rerun_exceptions_locally, pack_exception, raise_exception, callbacks, dumps, loads, **kwargs)\u001b[0m\n\u001b[1;32m    473\u001b[0m             \u001b[0;31m# Main loop, wait on tasks to finish, insert new ones\u001b[0m\u001b[0;34m\u001b[0m\u001b[0;34m\u001b[0m\u001b[0;34m\u001b[0m\u001b[0m\n\u001b[1;32m    474\u001b[0m             \u001b[0;32mwhile\u001b[0m \u001b[0mstate\u001b[0m\u001b[0;34m[\u001b[0m\u001b[0;34m\"waiting\"\u001b[0m\u001b[0;34m]\u001b[0m \u001b[0;32mor\u001b[0m \u001b[0mstate\u001b[0m\u001b[0;34m[\u001b[0m\u001b[0;34m\"ready\"\u001b[0m\u001b[0;34m]\u001b[0m \u001b[0;32mor\u001b[0m \u001b[0mstate\u001b[0m\u001b[0;34m[\u001b[0m\u001b[0;34m\"running\"\u001b[0m\u001b[0;34m]\u001b[0m\u001b[0;34m:\u001b[0m\u001b[0;34m\u001b[0m\u001b[0;34m\u001b[0m\u001b[0m\n\u001b[0;32m--> 475\u001b[0;31m                 \u001b[0mkey\u001b[0m\u001b[0;34m,\u001b[0m \u001b[0mres_info\u001b[0m\u001b[0;34m,\u001b[0m \u001b[0mfailed\u001b[0m \u001b[0;34m=\u001b[0m \u001b[0mqueue_get\u001b[0m\u001b[0;34m(\u001b[0m\u001b[0mqueue\u001b[0m\u001b[0;34m)\u001b[0m\u001b[0;34m\u001b[0m\u001b[0;34m\u001b[0m\u001b[0m\n\u001b[0m\u001b[1;32m    476\u001b[0m                 \u001b[0;32mif\u001b[0m \u001b[0mfailed\u001b[0m\u001b[0;34m:\u001b[0m\u001b[0;34m\u001b[0m\u001b[0;34m\u001b[0m\u001b[0m\n\u001b[1;32m    477\u001b[0m                     \u001b[0mexc\u001b[0m\u001b[0;34m,\u001b[0m \u001b[0mtb\u001b[0m \u001b[0;34m=\u001b[0m \u001b[0mloads\u001b[0m\u001b[0;34m(\u001b[0m\u001b[0mres_info\u001b[0m\u001b[0;34m)\u001b[0m\u001b[0;34m\u001b[0m\u001b[0;34m\u001b[0m\u001b[0m\n",
      "\u001b[0;32m~/miniconda3/envs/tf/lib/python3.7/site-packages/dask/local.py\u001b[0m in \u001b[0;36mqueue_get\u001b[0;34m(q)\u001b[0m\n\u001b[1;32m    131\u001b[0m \u001b[0;34m\u001b[0m\u001b[0m\n\u001b[1;32m    132\u001b[0m     \u001b[0;32mdef\u001b[0m \u001b[0mqueue_get\u001b[0m\u001b[0;34m(\u001b[0m\u001b[0mq\u001b[0m\u001b[0;34m)\u001b[0m\u001b[0;34m:\u001b[0m\u001b[0;34m\u001b[0m\u001b[0;34m\u001b[0m\u001b[0m\n\u001b[0;32m--> 133\u001b[0;31m         \u001b[0;32mreturn\u001b[0m \u001b[0mq\u001b[0m\u001b[0;34m.\u001b[0m\u001b[0mget\u001b[0m\u001b[0;34m(\u001b[0m\u001b[0;34m)\u001b[0m\u001b[0;34m\u001b[0m\u001b[0;34m\u001b[0m\u001b[0m\n\u001b[0m\u001b[1;32m    134\u001b[0m \u001b[0;34m\u001b[0m\u001b[0m\n\u001b[1;32m    135\u001b[0m \u001b[0;34m\u001b[0m\u001b[0m\n",
      "\u001b[0;32m~/miniconda3/envs/tf/lib/python3.7/queue.py\u001b[0m in \u001b[0;36mget\u001b[0;34m(self, block, timeout)\u001b[0m\n\u001b[1;32m    168\u001b[0m             \u001b[0;32melif\u001b[0m \u001b[0mtimeout\u001b[0m \u001b[0;32mis\u001b[0m \u001b[0;32mNone\u001b[0m\u001b[0;34m:\u001b[0m\u001b[0;34m\u001b[0m\u001b[0;34m\u001b[0m\u001b[0m\n\u001b[1;32m    169\u001b[0m                 \u001b[0;32mwhile\u001b[0m \u001b[0;32mnot\u001b[0m \u001b[0mself\u001b[0m\u001b[0;34m.\u001b[0m\u001b[0m_qsize\u001b[0m\u001b[0;34m(\u001b[0m\u001b[0;34m)\u001b[0m\u001b[0;34m:\u001b[0m\u001b[0;34m\u001b[0m\u001b[0;34m\u001b[0m\u001b[0m\n\u001b[0;32m--> 170\u001b[0;31m                     \u001b[0mself\u001b[0m\u001b[0;34m.\u001b[0m\u001b[0mnot_empty\u001b[0m\u001b[0;34m.\u001b[0m\u001b[0mwait\u001b[0m\u001b[0;34m(\u001b[0m\u001b[0;34m)\u001b[0m\u001b[0;34m\u001b[0m\u001b[0;34m\u001b[0m\u001b[0m\n\u001b[0m\u001b[1;32m    171\u001b[0m             \u001b[0;32melif\u001b[0m \u001b[0mtimeout\u001b[0m \u001b[0;34m<\u001b[0m \u001b[0;36m0\u001b[0m\u001b[0;34m:\u001b[0m\u001b[0;34m\u001b[0m\u001b[0;34m\u001b[0m\u001b[0m\n\u001b[1;32m    172\u001b[0m                 \u001b[0;32mraise\u001b[0m \u001b[0mValueError\u001b[0m\u001b[0;34m(\u001b[0m\u001b[0;34m\"'timeout' must be a non-negative number\"\u001b[0m\u001b[0;34m)\u001b[0m\u001b[0;34m\u001b[0m\u001b[0;34m\u001b[0m\u001b[0m\n",
      "\u001b[0;32m~/miniconda3/envs/tf/lib/python3.7/threading.py\u001b[0m in \u001b[0;36mwait\u001b[0;34m(self, timeout)\u001b[0m\n\u001b[1;32m    294\u001b[0m         \u001b[0;32mtry\u001b[0m\u001b[0;34m:\u001b[0m    \u001b[0;31m# restore state no matter what (e.g., KeyboardInterrupt)\u001b[0m\u001b[0;34m\u001b[0m\u001b[0;34m\u001b[0m\u001b[0m\n\u001b[1;32m    295\u001b[0m             \u001b[0;32mif\u001b[0m \u001b[0mtimeout\u001b[0m \u001b[0;32mis\u001b[0m \u001b[0;32mNone\u001b[0m\u001b[0;34m:\u001b[0m\u001b[0;34m\u001b[0m\u001b[0;34m\u001b[0m\u001b[0m\n\u001b[0;32m--> 296\u001b[0;31m                 \u001b[0mwaiter\u001b[0m\u001b[0;34m.\u001b[0m\u001b[0macquire\u001b[0m\u001b[0;34m(\u001b[0m\u001b[0;34m)\u001b[0m\u001b[0;34m\u001b[0m\u001b[0;34m\u001b[0m\u001b[0m\n\u001b[0m\u001b[1;32m    297\u001b[0m                 \u001b[0mgotit\u001b[0m \u001b[0;34m=\u001b[0m \u001b[0;32mTrue\u001b[0m\u001b[0;34m\u001b[0m\u001b[0;34m\u001b[0m\u001b[0m\n\u001b[1;32m    298\u001b[0m             \u001b[0;32melse\u001b[0m\u001b[0;34m:\u001b[0m\u001b[0;34m\u001b[0m\u001b[0;34m\u001b[0m\u001b[0m\n",
      "\u001b[0;31mKeyboardInterrupt\u001b[0m: "
     ]
    }
   ],
   "source": [
    "%%time\n",
    "train = da.concatenate((X_train_base.compute_chunk_sizes(), \n",
    "                        da.stack(X_train_neighbors.values.compute_chunk_sizes())), axis = 1)"
   ]
  },
  {
   "cell_type": "code",
   "execution_count": null,
   "metadata": {},
   "outputs": [],
   "source": [
    "dev = da.concatenate((X_dev_base.compute_chunk_sizes(), \n",
    "                      da.stack(X_dev_neighbors.values.compute_chunk_sizes())), axis = 1)"
   ]
  },
  {
   "cell_type": "code",
   "execution_count": 59,
   "metadata": {},
   "outputs": [
    {
     "data": {
      "text/plain": [
       "dask.dataframe.core.Series"
      ]
     },
     "execution_count": 59,
     "metadata": {},
     "output_type": "execute_result"
    }
   ],
   "source": [
    "type(X_train_neighbors)"
   ]
  },
  {
   "cell_type": "code",
   "execution_count": 7,
   "metadata": {},
   "outputs": [],
   "source": [
    "%matplotlib inline\n",
    "from matplotlib import pyplot as plt\n",
    "\n",
    "def eval_model(actuals, preds, actuals_train, preds_train):\n",
    "    print(\"Train MSE:\", mean_squared_error(actuals_train, preds_train))\n",
    "    print(\"Train MAE:\", mean_absolute_error(actuals_train, preds_train))\n",
    "    print(\"Train R2:\", r2_score(actuals_train, preds_train))\n",
    "    \n",
    "    print(\"Dev MSE:\", mean_squared_error(actuals, preds))\n",
    "    print(\"Dev MAE:\", mean_absolute_error(actuals, preds))\n",
    "    print(\"Dev R2:\", r2_score(actuals, preds))\n",
    "    \n",
    "    errors = actuals - preds\n",
    "    \n",
    "    f, a = plt.subplots(ncols = 3, figsize = (15,5))\n",
    "    a[0].scatter(actuals, preds)\n",
    "    a[0].set_xlabel(\"actual values\")\n",
    "    a[0].set_ylabel(\"predicted dev values\")\n",
    "    \n",
    "    a[1].scatter(actuals, errors)\n",
    "    a[1].set_xlabel(\"actual values\")\n",
    "    a[1].set_ylabel(\"errors\")\n",
    "    \n",
    "    a[2].scatter(preds, errors)\n",
    "    a[2].set_xlabel(\"predicted values\")\n",
    "    a[2].set_ylabel(\"errors\")"
   ]
  },
  {
   "cell_type": "code",
   "execution_count": 6,
   "metadata": {},
   "outputs": [],
   "source": [
    "from sklearn.ensemble import RandomForestRegressor\n",
    "from sklearn.metrics import mean_squared_error,mean_absolute_error, r2_score"
   ]
  },
  {
   "cell_type": "code",
   "execution_count": null,
   "metadata": {},
   "outputs": [],
   "source": []
  },
  {
   "cell_type": "code",
   "execution_count": null,
   "metadata": {},
   "outputs": [],
   "source": []
  },
  {
   "cell_type": "code",
   "execution_count": null,
   "metadata": {},
   "outputs": [],
   "source": []
  },
  {
   "cell_type": "code",
   "execution_count": null,
   "metadata": {},
   "outputs": [],
   "source": []
  }
 ],
 "metadata": {
  "kernelspec": {
   "display_name": "Python [conda env:tf]",
   "language": "python",
   "name": "conda-env-tf-py"
  },
  "language_info": {
   "codemirror_mode": {
    "name": "ipython",
    "version": 3
   },
   "file_extension": ".py",
   "mimetype": "text/x-python",
   "name": "python",
   "nbconvert_exporter": "python",
   "pygments_lexer": "ipython3",
   "version": "3.7.3"
  }
 },
 "nbformat": 4,
 "nbformat_minor": 2
}
