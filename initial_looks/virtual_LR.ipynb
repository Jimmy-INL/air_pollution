{
 "cells": [
  {
   "cell_type": "markdown",
   "metadata": {},
   "source": [
    "# Virtual Sensing - Linear Regression"
   ]
  },
  {
   "cell_type": "code",
   "execution_count": 1,
   "metadata": {},
   "outputs": [],
   "source": [
    "# libraries\n",
    "import datetime\n",
    "from datetime import date, timedelta\n",
    "from os import path\n",
    "import pandas as pd\n",
    "import numpy as np\n",
    "import statistics\n",
    "import boto3\n",
    "import s3fs\n",
    "import sys\n",
    "from fastparquet import ParquetFile\n",
    "from sklearn import linear_model\n",
    "from sklearn.model_selection import train_test_split\n",
    "from sklearn.metrics import mean_squared_error, r2_score\n",
    "\n",
    "import warnings\n",
    "warnings.filterwarnings('ignore')\n",
    "\n",
    "pd.set_option('display.max_columns', 500)"
   ]
  },
  {
   "cell_type": "code",
   "execution_count": 2,
   "metadata": {},
   "outputs": [],
   "source": [
    "# constants\n",
    "sys.path.append(\"../HistoricalData/\")\n",
    "from getData import get_data\n",
    "\n",
    "UP_LEFT = (38.008050, -122.536985)    \n",
    "UP_RIGHT = (38.008050, -122.186437)   \n",
    "DOWN_RIGHT = (37.701933, -122.186437) \n",
    "DOWN_LEFT = (37.701933, -122.536985)  \n",
    "START_DATE = '2019/01/01' \n",
    "END_DATE = '2019/09/30'   \n",
    "START_HOUR = '0'        \n",
    "END_HOUR = '24'   "
   ]
  },
  {
   "cell_type": "code",
   "execution_count": null,
   "metadata": {},
   "outputs": [
    {
     "name": "stdout",
     "output_type": "stream",
     "text": [
      "Processing 20190205 failed\n",
      "Processing 20190402 failed\n",
      "Processing 20190410 failed\n",
      "Processing 20190416 failed\n",
      "Processing 20190506 failed\n",
      "Processing 20190519 failed\n"
     ]
    }
   ],
   "source": [
    "# load data into dataframe\n",
    "data_df = get_data(UP_LEFT, UP_RIGHT, DOWN_RIGHT, DOWN_LEFT, START_DATE, END_DATE, START_HOUR, END_HOUR)"
   ]
  },
  {
   "cell_type": "code",
   "execution_count": null,
   "metadata": {},
   "outputs": [],
   "source": [
    "# get rid of rows that have no wind data? uncomment if yes.\n",
    "# data_df = data_df[data_df.wind_data == 1.0]"
   ]
  },
  {
   "cell_type": "code",
   "execution_count": null,
   "metadata": {},
   "outputs": [],
   "source": [
    "# should be (726292, 68)\n",
    "data_df.shape"
   ]
  },
  {
   "cell_type": "code",
   "execution_count": null,
   "metadata": {},
   "outputs": [],
   "source": [
    "# winnow down the features\n",
    "columns_to_keep = ['created', 'lat', 'lon', 'wind_data', 'wind_direction', 'wind_speed', 'gusts', 'gust_speed', \n",
    "                   'variable_winds', 'variable_wind_info', 'epa_pm25_value', 'wkday', \n",
    "                   'daytype', 'timeofday', 'wind_compass', 'temperature', 'humidity'] \n",
    "X_data_df = data_df[columns_to_keep]\n",
    "y_data_df = data_df['2_5um']"
   ]
  },
  {
   "cell_type": "code",
   "execution_count": null,
   "metadata": {},
   "outputs": [],
   "source": [
    "# fix datatyping\n",
    "X_data_df.dtypes"
   ]
  },
  {
   "cell_type": "code",
   "execution_count": null,
   "metadata": {},
   "outputs": [],
   "source": [
    "X_data_df.wind_data = X_data_df.wind_data.astype(bool)\n",
    "X_data_df.variable_winds = X_data_df.variable_winds.astype(bool)\n",
    "X_data_df.gusts = X_data_df.gusts.astype(bool)\n",
    "X_data_df.daytype = X_data_df.daytype.astype(str)\n",
    "X_data_df.daytype = X_data_df.daytype.astype('category')\n",
    "X_data_df.timeofday = X_data_df.timeofday.astype(str)\n",
    "X_data_df.timeofday = X_data_df.timeofday.astype('category')\n",
    "X_data_df.wind_compass = X_data_df.wind_compass.astype(str)\n",
    "X_data_df.wind_compass = X_data_df.wind_compass.astype('category')\n",
    "X_data_df.wkday = pd.to_numeric(X_data_df.wkday)\n",
    "X_data_df.wkday = X_data_df.wkday.astype('category')"
   ]
  },
  {
   "cell_type": "code",
   "execution_count": null,
   "metadata": {},
   "outputs": [],
   "source": [
    "# handle variable winds missing values \n",
    "vrb_wind_range_readings = 0\n",
    "mid_ranges = list()\n",
    "\n",
    "for row in range(len(X_data_df)):\n",
    "    if X_data_df.variable_winds.iloc[row]:\n",
    "        info = X_data_df.variable_wind_info.iloc[row]\n",
    "        if info:\n",
    "            vrb_wind_range_readings += 1\n",
    "            first, second = info.split('V')\n",
    "            mid_range = int((int(first) + int(second)) / 2)\n",
    "            if (X_data_df.wind_direction.iloc[row] == 'VRB'):\n",
    "                X_data_df.wind_direction.lloc[row] = mid_range\n",
    "            mid_ranges.append(mid_range)\n",
    "\n",
    "replacement = statistics.mode(mid_ranges)\n",
    "X_data_df = X_data_df.replace('VRB', replacement) # give variable wind the most frequent midpoint variable range\n",
    "X_data_df = X_data_df.drop(columns = ['variable_wind_info'])"
   ]
  },
  {
   "cell_type": "code",
   "execution_count": null,
   "metadata": {},
   "outputs": [],
   "source": [
    "wind_direction_obs = pd.to_numeric(X_data_df.wind_direction.dropna())\n",
    "wind_direction_avg = wind_direction_obs.mean()\n",
    "wind_direction_avg = int(wind_direction_avg)\n",
    "X_data_df.wind_direction = X_data_df.wind_direction.replace(np.nan, wind_direction_avg) # give missing wind direction the mean\n",
    "X_data_df.wind_direction = X_data_df.wind_direction.replace('', wind_direction_avg)\n",
    "X_data_df.wind_direction = X_data_df.wind_direction.astype(int)"
   ]
  },
  {
   "cell_type": "code",
   "execution_count": null,
   "metadata": {},
   "outputs": [],
   "source": [
    "wind_speed_obs = pd.to_numeric(X_data_df.wind_speed.dropna())\n",
    "wind_speed_avg = wind_speed_obs.mean()\n",
    "X_data_df.wind_speed = X_data_df.wind_speed.replace(np.nan, wind_speed_avg) # give missing wind speed the mean\n",
    "X_data_df.wind_speed = X_data_df.wind_speed.replace('', wind_speed_avg)"
   ]
  },
  {
   "cell_type": "code",
   "execution_count": null,
   "metadata": {},
   "outputs": [],
   "source": [
    "X_data_df.gust_speed = X_data_df.gust_speed.replace(np.nan, 0)\n",
    "X_data_df.gust_speed = X_data_df.gust_speed.replace('', 0)"
   ]
  },
  {
   "cell_type": "code",
   "execution_count": null,
   "metadata": {},
   "outputs": [],
   "source": [
    "X_data_df.epa_pm25_value = X_data_df.epa_pm25_value.replace(np.nan, X_data_df.epa_pm25_value.mean())\n",
    "X_data_df.temperature = X_data_df.temperature.replace(np.nan, X_data_df.temperature.mean())\n",
    "X_data_df.humidity = X_data_df.humidity.replace(np.nan, X_data_df.humidity.mean())"
   ]
  },
  {
   "cell_type": "code",
   "execution_count": null,
   "metadata": {},
   "outputs": [],
   "source": [
    "# one hot encode the categoricals\n",
    "X_data_df = pd.concat([X_data_df,pd.get_dummies(X_data_df['timeofday'], prefix='timeofday')],axis=1)\n",
    "X_data_df = pd.concat([X_data_df,pd.get_dummies(X_data_df['daytype'], prefix='daytype')], axis=1)\n",
    "X_data_df = pd.concat([X_data_df,pd.get_dummies(X_data_df['wind_compass'], prefix='compass')], axis=1)"
   ]
  },
  {
   "cell_type": "code",
   "execution_count": null,
   "metadata": {},
   "outputs": [],
   "source": [
    "X_data_df = X_data_df.drop(columns=['timeofday','daytype','wind_compass'])"
   ]
  },
  {
   "cell_type": "code",
   "execution_count": null,
   "metadata": {},
   "outputs": [],
   "source": [
    "X_data_df.dtypes"
   ]
  },
  {
   "cell_type": "code",
   "execution_count": null,
   "metadata": {},
   "outputs": [],
   "source": [
    "for col in X_data_df.columns:\n",
    "    testy = X_data_df[col]\n",
    "    print(col, testy.isna().sum())"
   ]
  },
  {
   "cell_type": "code",
   "execution_count": null,
   "metadata": {},
   "outputs": [],
   "source": [
    "# split data into train-dev-test\n",
    "X_train_and_dev, X_test, y_train_and_dev, y_test = train_test_split(X_data_df, y_data_df, test_size=0.20, random_state=42)\n",
    "X_train, X_dev, y_train, y_dev = train_test_split(X_train_and_dev, y_train_and_dev, test_size=0.125, random_state=42)"
   ]
  },
  {
   "cell_type": "code",
   "execution_count": null,
   "metadata": {},
   "outputs": [],
   "source": [
    "# fit the data\n",
    "regr = linear_model.LinearRegression()\n",
    "regr.fit(X_train, y_train)"
   ]
  },
  {
   "cell_type": "code",
   "execution_count": null,
   "metadata": {},
   "outputs": [],
   "source": [
    "# make predictions\n",
    "y_pred = regr.predict(X_dev)"
   ]
  },
  {
   "cell_type": "code",
   "execution_count": null,
   "metadata": {},
   "outputs": [],
   "source": [
    "# calculate accuracy\n",
    "print('Coefficients: \\n', regr.coef_)\n",
    "# The mean squared error\n",
    "print(\"Mean squared error: %.2f\"\n",
    "      % mean_squared_error(y_dev, y_pred))\n",
    "# Explained variance score: 1 is perfect prediction\n",
    "print('Variance (R2) score: %.2f' % r2_score(y_dev, y_pred))"
   ]
  },
  {
   "cell_type": "code",
   "execution_count": null,
   "metadata": {},
   "outputs": [],
   "source": [
    "# notes"
   ]
  },
  {
   "cell_type": "code",
   "execution_count": null,
   "metadata": {},
   "outputs": [],
   "source": []
  }
 ],
 "metadata": {
  "kernelspec": {
   "display_name": "Python 3",
   "language": "python",
   "name": "python3"
  },
  "language_info": {
   "codemirror_mode": {
    "name": "ipython",
    "version": 3
   },
   "file_extension": ".py",
   "mimetype": "text/x-python",
   "name": "python",
   "nbconvert_exporter": "python",
   "pygments_lexer": "ipython3",
   "version": "3.7.4"
  }
 },
 "nbformat": 4,
 "nbformat_minor": 2
}
