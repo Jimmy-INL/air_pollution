{
 "cells": [
  {
   "cell_type": "markdown",
   "metadata": {},
   "source": [
    "# Virtual Sensing - Linear Regression"
   ]
  },
  {
   "cell_type": "code",
   "execution_count": 1,
   "metadata": {},
   "outputs": [],
   "source": [
    "# libraries\n",
    "import datetime\n",
    "from datetime import date, timedelta\n",
    "from os import path\n",
    "import pandas as pd\n",
    "import numpy as np\n",
    "import statistics\n",
    "import boto3\n",
    "import s3fs\n",
    "from fastparquet import ParquetFile\n",
    "from sklearn import linear_model\n",
    "from sklearn.model_selection import train_test_split\n",
    "from sklearn.metrics import mean_squared_error, r2_score\n",
    "\n",
    "import warnings\n",
    "warnings.filterwarnings('ignore')\n",
    "\n",
    "pd.set_option('display.max_columns', 500)"
   ]
  },
  {
   "cell_type": "code",
   "execution_count": 2,
   "metadata": {},
   "outputs": [],
   "source": [
    "# constants\n",
    "from getData import get_data\n",
    "UP_LEFT = (38.008050, -122.536985)    \n",
    "UP_RIGHT = (38.008050, -122.186437)   \n",
    "DOWN_RIGHT = (37.701933, -122.186437) \n",
    "DOWN_LEFT = (37.701933, -122.536985)  \n",
    "START_DATE = '2019/09/01' \n",
    "END_DATE = '2019/09/02'   \n",
    "START_HOUR = '0'        \n",
    "END_HOUR = '24'   "
   ]
  },
  {
   "cell_type": "code",
   "execution_count": 3,
   "metadata": {},
   "outputs": [],
   "source": [
    "# load data into dataframe\n",
    "data_df = get_data(UP_LEFT, UP_RIGHT, DOWN_RIGHT, DOWN_LEFT, START_DATE, END_DATE, START_HOUR, END_HOUR, 'Monthly')"
   ]
  },
  {
   "cell_type": "code",
   "execution_count": 4,
   "metadata": {},
   "outputs": [],
   "source": [
    "# get rid of rows that have no wind data? uncomment if yes.\n",
    "# data_df = data_df[data_df.wind_data == 1.0]"
   ]
  },
  {
   "cell_type": "code",
   "execution_count": 5,
   "metadata": {},
   "outputs": [
    {
     "data": {
      "text/plain": [
       "(726292, 68)"
      ]
     },
     "execution_count": 5,
     "metadata": {},
     "output_type": "execute_result"
    }
   ],
   "source": [
    "# should be (726292, 68)\n",
    "data_df.shape"
   ]
  },
  {
   "cell_type": "code",
   "execution_count": 6,
   "metadata": {},
   "outputs": [],
   "source": [
    "# winnow down the features\n",
    "columns_to_keep = ['created', 'lat', 'lon', 'wind_data', 'wind_direction', 'wind_speed', 'gusts', 'gust_speed', \n",
    "                   'variable_winds', 'variable_wind_info', 'epa_pm25_value', 'wkday', \n",
    "                   'daytype', 'timeofday', 'wind_compass', 'temperature', 'humidity'] \n",
    "X_data_df = data_df[columns_to_keep]\n",
    "y_data_df = data_df['2_5um']"
   ]
  },
  {
   "cell_type": "code",
   "execution_count": 7,
   "metadata": {},
   "outputs": [
    {
     "data": {
      "text/plain": [
       "created                 int64\n",
       "lat                   float64\n",
       "lon                   float64\n",
       "wind_data             float32\n",
       "wind_direction         object\n",
       "wind_speed            float64\n",
       "gusts                 float32\n",
       "gust_speed            float64\n",
       "variable_winds        float32\n",
       "variable_wind_info     object\n",
       "epa_pm25_value        float64\n",
       "wkday                  object\n",
       "daytype                object\n",
       "timeofday              object\n",
       "wind_compass           object\n",
       "temperature           float64\n",
       "humidity              float64\n",
       "dtype: object"
      ]
     },
     "execution_count": 7,
     "metadata": {},
     "output_type": "execute_result"
    }
   ],
   "source": [
    "# fix datatyping\n",
    "X_data_df.dtypes"
   ]
  },
  {
   "cell_type": "code",
   "execution_count": 8,
   "metadata": {},
   "outputs": [],
   "source": [
    "X_data_df.wind_data = X_data_df.wind_data.astype(bool)\n",
    "X_data_df.variable_winds = X_data_df.variable_winds.astype(bool)\n",
    "X_data_df.gusts = X_data_df.gusts.astype(bool)\n",
    "X_data_df.daytype = X_data_df.daytype.astype(str)\n",
    "X_data_df.daytype = X_data_df.daytype.astype('category')\n",
    "X_data_df.timeofday = X_data_df.timeofday.astype(str)\n",
    "X_data_df.timeofday = X_data_df.timeofday.astype('category')\n",
    "X_data_df.wind_compass = X_data_df.wind_compass.astype(str)\n",
    "X_data_df.wind_compass = X_data_df.wind_compass.astype('category')\n",
    "X_data_df.wkday = pd.to_numeric(X_data_df.wkday)\n",
    "X_data_df.wkday = X_data_df.wkday.astype('category')"
   ]
  },
  {
   "cell_type": "code",
   "execution_count": 9,
   "metadata": {},
   "outputs": [],
   "source": [
    "# handle variable winds missing values \n",
    "vrb_wind_range_readings = 0\n",
    "mid_ranges = list()\n",
    "\n",
    "for row in range(len(X_data_df)):\n",
    "    if X_data_df.variable_winds.iloc[row]:\n",
    "        info = X_data_df.variable_wind_info.iloc[row]\n",
    "        if info:\n",
    "            vrb_wind_range_readings += 1\n",
    "            first, second = info.split('V')\n",
    "            mid_range = int((int(first) + int(second)) / 2)\n",
    "            if (X_data_df.wind_direction.iloc[row] == 'VRB'):\n",
    "                X_data_df.wind_direction.lloc[row] = mid_range\n",
    "            mid_ranges.append(mid_range)\n",
    "\n",
    "replacement = statistics.mode(mid_ranges)\n",
    "X_data_df = X_data_df.replace('VRB', replacement) # give variable wind the most frequent midpoint variable range\n",
    "X_data_df = X_data_df.drop(columns = ['variable_wind_info'])"
   ]
  },
  {
   "cell_type": "code",
   "execution_count": 10,
   "metadata": {},
   "outputs": [],
   "source": [
    "wind_direction_obs = pd.to_numeric(X_data_df.wind_direction.dropna())\n",
    "wind_direction_avg = wind_direction_obs.mean()\n",
    "wind_direction_avg = int(wind_direction_avg)\n",
    "X_data_df.wind_direction = X_data_df.wind_direction.replace(np.nan, wind_direction_avg) # give missing wind direction the mean\n",
    "X_data_df.wind_direction = X_data_df.wind_direction.replace('', wind_direction_avg)\n",
    "X_data_df.wind_direction = X_data_df.wind_direction.astype(int)"
   ]
  },
  {
   "cell_type": "code",
   "execution_count": 11,
   "metadata": {},
   "outputs": [],
   "source": [
    "wind_speed_obs = pd.to_numeric(X_data_df.wind_speed.dropna())\n",
    "wind_speed_avg = wind_speed_obs.mean()\n",
    "X_data_df.wind_speed = X_data_df.wind_speed.replace(np.nan, wind_speed_avg) # give missing wind speed the mean\n",
    "X_data_df.wind_speed = X_data_df.wind_speed.replace('', wind_speed_avg)"
   ]
  },
  {
   "cell_type": "code",
   "execution_count": 12,
   "metadata": {},
   "outputs": [],
   "source": [
    "X_data_df.gust_speed = X_data_df.gust_speed.replace(np.nan, 0)\n",
    "X_data_df.gust_speed = X_data_df.gust_speed.replace('', 0)"
   ]
  },
  {
   "cell_type": "code",
   "execution_count": 13,
   "metadata": {},
   "outputs": [],
   "source": [
    "X_data_df.epa_pm25_value = X_data_df.epa_pm25_value.replace(np.nan, X_data_df.epa_pm25_value.mean())\n",
    "X_data_df.temperature = X_data_df.temperature.replace(np.nan, X_data_df.temperature.mean())\n",
    "X_data_df.humidity = X_data_df.humidity.replace(np.nan, X_data_df.humidity.mean())"
   ]
  },
  {
   "cell_type": "code",
   "execution_count": 14,
   "metadata": {},
   "outputs": [],
   "source": [
    "# one hot encode the categoricals\n",
    "X_data_df = pd.concat([X_data_df,pd.get_dummies(X_data_df['timeofday'], prefix='timeofday')],axis=1)\n",
    "X_data_df = pd.concat([X_data_df,pd.get_dummies(X_data_df['daytype'], prefix='daytype')], axis=1)\n",
    "X_data_df = pd.concat([X_data_df,pd.get_dummies(X_data_df['wind_compass'], prefix='compass')], axis=1)"
   ]
  },
  {
   "cell_type": "code",
   "execution_count": 15,
   "metadata": {},
   "outputs": [],
   "source": [
    "X_data_df = X_data_df.drop(columns=['timeofday','daytype','wind_compass'])"
   ]
  },
  {
   "cell_type": "code",
   "execution_count": 16,
   "metadata": {},
   "outputs": [
    {
     "data": {
      "text/plain": [
       "created                  int64\n",
       "lat                    float64\n",
       "lon                    float64\n",
       "wind_data                 bool\n",
       "wind_direction           int64\n",
       "wind_speed             float64\n",
       "gusts                     bool\n",
       "gust_speed             float64\n",
       "variable_winds            bool\n",
       "epa_pm25_value         float64\n",
       "wkday                    int64\n",
       "temperature            float64\n",
       "humidity               float64\n",
       "timeofday_afternoon      uint8\n",
       "timeofday_evening        uint8\n",
       "timeofday_morning        uint8\n",
       "timeofday_night          uint8\n",
       "daytype_Weekday          uint8\n",
       "daytype_Weekend          uint8\n",
       "compass_ERROR            uint8\n",
       "compass_East             uint8\n",
       "compass_Missing          uint8\n",
       "compass_No wind          uint8\n",
       "compass_North            uint8\n",
       "compass_South            uint8\n",
       "compass_West             uint8\n",
       "dtype: object"
      ]
     },
     "execution_count": 16,
     "metadata": {},
     "output_type": "execute_result"
    }
   ],
   "source": [
    "X_data_df.dtypes"
   ]
  },
  {
   "cell_type": "code",
   "execution_count": 17,
   "metadata": {},
   "outputs": [
    {
     "name": "stdout",
     "output_type": "stream",
     "text": [
      "created 0\n",
      "lat 0\n",
      "lon 0\n",
      "wind_data 0\n",
      "wind_direction 0\n",
      "wind_speed 0\n",
      "gusts 0\n",
      "gust_speed 0\n",
      "variable_winds 0\n",
      "epa_pm25_value 0\n",
      "wkday 0\n",
      "temperature 0\n",
      "humidity 0\n",
      "timeofday_afternoon 0\n",
      "timeofday_evening 0\n",
      "timeofday_morning 0\n",
      "timeofday_night 0\n",
      "daytype_Weekday 0\n",
      "daytype_Weekend 0\n",
      "compass_ERROR 0\n",
      "compass_East 0\n",
      "compass_Missing 0\n",
      "compass_No wind 0\n",
      "compass_North 0\n",
      "compass_South 0\n",
      "compass_West 0\n"
     ]
    }
   ],
   "source": [
    "for col in X_data_df.columns:\n",
    "    testy = X_data_df[col]\n",
    "    print(col, testy.isna().sum())"
   ]
  },
  {
   "cell_type": "code",
   "execution_count": 18,
   "metadata": {},
   "outputs": [],
   "source": [
    "# split data into train-dev-test\n",
    "X_train_and_dev, X_test, y_train_and_dev, y_test = train_test_split(X_data_df, y_data_df, test_size=0.20, random_state=42)\n",
    "X_train, X_dev, y_train, y_dev = train_test_split(X_train_and_dev, y_train_and_dev, test_size=0.125, random_state=42)"
   ]
  },
  {
   "cell_type": "code",
   "execution_count": 19,
   "metadata": {},
   "outputs": [
    {
     "data": {
      "text/plain": [
       "LinearRegression(copy_X=True, fit_intercept=True, n_jobs=None, normalize=False)"
      ]
     },
     "execution_count": 19,
     "metadata": {},
     "output_type": "execute_result"
    }
   ],
   "source": [
    "# fit the data\n",
    "regr = linear_model.LinearRegression()\n",
    "regr.fit(X_train, y_train)"
   ]
  },
  {
   "cell_type": "code",
   "execution_count": 20,
   "metadata": {},
   "outputs": [],
   "source": [
    "# make predictions\n",
    "y_pred = regr.predict(X_dev)"
   ]
  },
  {
   "cell_type": "code",
   "execution_count": 21,
   "metadata": {},
   "outputs": [
    {
     "name": "stdout",
     "output_type": "stream",
     "text": [
      "Coefficients: \n",
      " [ 2.34369968e-06 -5.99445235e+00 -4.99513904e+00  6.57420728e-01\n",
      " -1.54406650e-04  4.28689877e-02 -9.02973095e-01  1.99002058e-02\n",
      "  7.60746937e-01  2.74987889e-01  6.16774883e-02 -7.85051000e-03\n",
      "  4.77246551e-02 -3.96727566e-01 -5.40584858e-01  3.11733905e-01\n",
      "  6.25578519e-01 -2.25800383e-01  2.25800383e-01  2.21843585e-02\n",
      " -1.45967100e-01  1.37123491e-02  1.30903832e-01  3.39405448e-01\n",
      " -1.88922197e-01 -1.71316692e-01]\n",
      "Mean squared error: 219.23\n",
      "Variance (R2) score: 0.01\n"
     ]
    }
   ],
   "source": [
    "# calculate accuracy\n",
    "print('Coefficients: \\n', regr.coef_)\n",
    "# The mean squared error\n",
    "print(\"Mean squared error: %.2f\"\n",
    "      % mean_squared_error(y_dev, y_pred))\n",
    "# Explained variance score: 1 is perfect prediction\n",
    "print('Variance (R2) score: %.2f' % r2_score(y_dev, y_pred))"
   ]
  },
  {
   "cell_type": "code",
   "execution_count": 22,
   "metadata": {},
   "outputs": [],
   "source": [
    "# notes"
   ]
  },
  {
   "cell_type": "code",
   "execution_count": null,
   "metadata": {},
   "outputs": [],
   "source": []
  }
 ],
 "metadata": {
  "kernelspec": {
   "display_name": "Python 3",
   "language": "python",
   "name": "python3"
  },
  "language_info": {
   "codemirror_mode": {
    "name": "ipython",
    "version": 3
   },
   "file_extension": ".py",
   "mimetype": "text/x-python",
   "name": "python",
   "nbconvert_exporter": "python",
   "pygments_lexer": "ipython3",
   "version": "3.7.4"
  }
 },
 "nbformat": 4,
 "nbformat_minor": 2
}
