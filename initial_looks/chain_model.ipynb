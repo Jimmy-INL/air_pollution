{
 "cells": [
  {
   "cell_type": "code",
   "execution_count": 1,
   "metadata": {},
   "outputs": [],
   "source": [
    "# import libraries\n",
    "import pandas as pd\n",
    "import numpy as np \n",
    "import warnings\n",
    "import gmplot\n",
    "import sys\n",
    "import geopy\n",
    "from geopy import distance\n",
    "from copy import deepcopy\n",
    "sys.path.append(\"../HistoricalData/\")\n",
    "from getData import get_data\n",
    "\n",
    "warnings.filterwarnings('ignore')"
   ]
  },
  {
   "cell_type": "code",
   "execution_count": 2,
   "metadata": {},
   "outputs": [],
   "source": [
    "# this call to get_data function that will take bounding box and timeframe and return cleaned data\n",
    "\n",
    "UP_LEFT = (38.008050, -122.536985)    # (lat, lon)\n",
    "UP_RIGHT = (38.008050, -122.186437)   # (lat, lon)\n",
    "DOWN_RIGHT = (37.701933, -122.186437) # (lat, lon)\n",
    "DOWN_LEFT = (37.701933, -122.536985)  # (lat, lon)\n",
    "START_DATE = '2019/09/01' # begin date to start taking data\n",
    "END_DATE = '2019/09/10'   # end date to start taking data\n",
    "START_HOUR = '0'         # hour EACH DAY to start, this allows us to control for time of day effects\n",
    "END_HOUR = '1'           # hour EACH DAY to end, this allows us to control for time of day effects\n",
    "color = \"red\"\n",
    "\n",
    "data_df = get_data(UP_LEFT, UP_RIGHT, DOWN_RIGHT, DOWN_LEFT, START_DATE, END_DATE, START_HOUR, END_HOUR)"
   ]
  },
  {
   "cell_type": "code",
   "execution_count": null,
   "metadata": {},
   "outputs": [],
   "source": [
    "data_df.columns"
   ]
  },
  {
   "cell_type": "code",
   "execution_count": null,
   "metadata": {},
   "outputs": [],
   "source": [
    "data_df.groupby(data_df.sensor_id).count()"
   ]
  },
  {
   "cell_type": "code",
   "execution_count": null,
   "metadata": {},
   "outputs": [],
   "source": [
    "data_df.groupby(data_df.created).count()"
   ]
  },
  {
   "cell_type": "code",
   "execution_count": 30,
   "metadata": {},
   "outputs": [],
   "source": [
    "class Chain:\n",
    "    \"\"\" \n",
    "    Chain is a class that defines a chain of sensors in time and space. \n",
    "    A chain has a list of timestamps that are paired with a list of particle locations, intersecting sensors, and readings\n",
    "    \"\"\"\n",
    "    def __init__(self, sensor_id, start_time):\n",
    "        self.start_time = start_time\n",
    "        self.time = [self.start_time]\n",
    "        self.sensor_path = [sensor_id]\n",
    "        self.last_sensor = sensor_id\n",
    "        self.particle_path = [(data_df[data_df.sensor_id == sensor_id].lat.iloc[0], data_df[data_df.sensor_id == sensor_id].lon.iloc[0])]\n",
    "        self.readings = [data_df[(data_df.sensor_id == sensor_id) & (data_df.created == start_time)]['2_5um'].iloc[0]]\n",
    "    \n",
    "    def plot_next(self):\n",
    "        # update time\n",
    "        MINUTES = 10 # Joined data seems to be in increments of 10 minutes\n",
    "        origin_time = self.time[-1]\n",
    "        destination_time = self.time[-1] + MINUTES\n",
    "        self.time.append(destination_time)\n",
    "        \n",
    "        # need to take wind speed in knots\n",
    "        origin = geopy.Point(self.particle_path[-1][0], self.particle_path[-1][1])\n",
    "        km_1_knot_per_hour = 1.852\n",
    "        km_hour_test = km_1_knot_per_hour * data_df[(data_df.sensor_id == self.last_sensor) & (data_df.created == origin_time)].wind_speed\n",
    "        if len(km_hour_test) == 0: # handle empty data\n",
    "            return False\n",
    "        km_hour = km_hour_test.iloc[0] # so you are grabbing from last sensor seen... might not be nearest wind data\n",
    "        d = (MINUTES / 60) * km_hour \n",
    "    \n",
    "        # convert wind_direction to a bearing\n",
    "        bearing = data_df[(data_df.sensor_id == self.last_sensor) & (data_df.created == origin_time)].wind_direction.iloc[0] \n",
    "        try:\n",
    "            b = int(bearing) + 180\n",
    "        except: # 'VRB' = variable winds\n",
    "            return False \n",
    "        if b >= 360:\n",
    "            b -= 360\n",
    "        \n",
    "        # given: lat1, lon1, b = bearing in degrees, d = distance in kilometers\n",
    "        if d == 0:\n",
    "            destination = self.particle_path[-1]\n",
    "        else:\n",
    "            destination = geopy.distance.VincentyDistance(kilometers=d).destination(origin, b)\n",
    "            destination = (destination.latitude, destination.longitude)\n",
    "        \n",
    "            # end chain if outside bounding box\n",
    "            if (destination[0] > UP_LEFT[0]) or (destination[0] < DOWN_LEFT[0]) or (destination[1] < UP_LEFT[1]) or (destination[1] > DOWN_RIGHT[1]):\n",
    "                return False\n",
    "        \n",
    "            self.particle_path.append(destination)\n",
    "        \n",
    "            # check is there's a sensor nearby\n",
    "            CLOSE_ENOUGH_DISTANCE = 1 # have to be within 1000 meters\n",
    "        \n",
    "            closest_sensor_id = None\n",
    "            closest_sensor_dist = CLOSE_ENOUGH_DISTANCE\n",
    "            for sensor in data_df.sensor_id.unique(): # iterate through all sensors in bounding box\n",
    "                test_sensor = (float(data_df[data_df.sensor_id == sensor].lat.iloc[0]), float(data_df[data_df.sensor_id == sensor].lon.iloc[0]))\n",
    "                testy = geopy.point.Point(test_sensor)\n",
    "                desty = geopy.point.Point(destination)\n",
    "                proximity = geopy.distance.distance(testy, desty).km\n",
    "                if (proximity < closest_sensor_dist):\n",
    "                    closest_sensor_id = sensor\n",
    "                    closest_sensor_dist = proximity\n",
    "                \n",
    "            # update other lists\n",
    "            self.sensor_path.append(closest_sensor_id)\n",
    "            if closest_sensor_id:\n",
    "                self.last_sensor = closest_sensor_id\n",
    "                try: # handle empty reading\n",
    "                    self.readings.append(data_df[(data_df.sensor_id == closest_sensor_id) & (data_df.created == destination_time)]['2_5um'].iloc[0])\n",
    "                except:\n",
    "                    return False\n",
    "        return True\n",
    "    \n",
    "    def plot_pollution(self):\n",
    "        lats = []\n",
    "        lons = []\n",
    "        colors= ['white'] # first color not used\n",
    "        link = 0 # counts the links\n",
    "        reading = 0 # counts the readings\n",
    "        for point in self.particle_path:\n",
    "            lats.append(point[0])\n",
    "            lons.append(point[1])\n",
    "            if (link > 0) and (self.sensor_path[link]):\n",
    "                reading += 1\n",
    "                if self.readings[reading] > self.readings[reading-1]: # possible pollution source\n",
    "                    colors.append('red')\n",
    "                    look_back = link-1\n",
    "                    while ((look_back >= 0) and (self.sensor_path[look_back] == None)):\n",
    "                        colors.append('red')\n",
    "                        look_back -= 1\n",
    "                else: # no pollution source\n",
    "                    colors.append('blue')\n",
    "                    look_back = link-1\n",
    "                    while ((look_back >= 0) and (self.sensor_path[look_back] == None)):\n",
    "                        colors.append('blue')\n",
    "                        look_back -= 1\n",
    "            link += 1\n",
    "\n",
    "        # fill in black color for chain links at end that never feed into another sensor\n",
    "        if len(self.particle_path) > 1:\n",
    "            for index in range(len(self.particle_path),-1,-1):\n",
    "                try:\n",
    "                    if self.sensor_path[index] == None:\n",
    "                        colors.append('black')\n",
    "                    else:\n",
    "                        return lats, lons, colors\n",
    "                except:\n",
    "                    colors.append('black')\n",
    "        return lats, lons, colors"
   ]
  },
  {
   "cell_type": "code",
   "execution_count": 31,
   "metadata": {},
   "outputs": [
    {
     "name": "stdout",
     "output_type": "stream",
     "text": [
      "Chain 1 is ['16939', '16943', None, None, None, None]\n",
      "Chain 1 readings are [4.93, 7.61]\n",
      "Chain 2 is ['16940', '16943', None, None, None, None]\n",
      "Chain 2 readings are [3.5, 7.61]\n"
     ]
    },
    {
     "ename": "KeyboardInterrupt",
     "evalue": "",
     "output_type": "error",
     "traceback": [
      "\u001b[0;31m---------------------------------------------------------------------------\u001b[0m",
      "\u001b[0;31mKeyboardInterrupt\u001b[0m                         Traceback (most recent call last)",
      "\u001b[0;32m<ipython-input-31-735584c6c9af>\u001b[0m in \u001b[0;36m<module>\u001b[0;34m\u001b[0m\n\u001b[1;32m      8\u001b[0m     \u001b[0mchain\u001b[0m \u001b[0;34m=\u001b[0m \u001b[0mChain\u001b[0m\u001b[0;34m(\u001b[0m\u001b[0msensor\u001b[0m\u001b[0;34m,\u001b[0m \u001b[0mstart_time\u001b[0m\u001b[0;34m)\u001b[0m \u001b[0;31m# init one chain per sensor\u001b[0m\u001b[0;34m\u001b[0m\u001b[0;34m\u001b[0m\u001b[0m\n\u001b[1;32m      9\u001b[0m     \u001b[0mtime_step\u001b[0m \u001b[0;34m=\u001b[0m \u001b[0;36m0\u001b[0m\u001b[0;34m\u001b[0m\u001b[0;34m\u001b[0m\u001b[0m\n\u001b[0;32m---> 10\u001b[0;31m     \u001b[0;32mwhile\u001b[0m \u001b[0;34m(\u001b[0m\u001b[0mchain\u001b[0m\u001b[0;34m.\u001b[0m\u001b[0mplot_next\u001b[0m\u001b[0;34m(\u001b[0m\u001b[0;34m)\u001b[0m \u001b[0;34m&\u001b[0m \u001b[0;34m(\u001b[0m\u001b[0mtime_step\u001b[0m \u001b[0;34m<\u001b[0m \u001b[0mset_size_chain\u001b[0m\u001b[0;34m)\u001b[0m\u001b[0;34m)\u001b[0m\u001b[0;34m:\u001b[0m \u001b[0;31m# method returns false if out of bounds/data\u001b[0m\u001b[0;34m\u001b[0m\u001b[0;34m\u001b[0m\u001b[0m\n\u001b[0m\u001b[1;32m     11\u001b[0m         \u001b[0mtime_step\u001b[0m \u001b[0;34m+=\u001b[0m \u001b[0;36m1\u001b[0m\u001b[0;34m\u001b[0m\u001b[0;34m\u001b[0m\u001b[0m\n\u001b[1;32m     12\u001b[0m     \u001b[0mchains\u001b[0m\u001b[0;34m.\u001b[0m\u001b[0mappend\u001b[0m\u001b[0;34m(\u001b[0m\u001b[0mchain\u001b[0m\u001b[0;34m)\u001b[0m \u001b[0;31m# add the chain object to the list of chains\u001b[0m\u001b[0;34m\u001b[0m\u001b[0;34m\u001b[0m\u001b[0m\n",
      "\u001b[0;32m<ipython-input-30-fbd8e72d1c26>\u001b[0m in \u001b[0;36mplot_next\u001b[0;34m(self)\u001b[0m\n\u001b[1;32m     56\u001b[0m             \u001b[0mclosest_sensor_dist\u001b[0m \u001b[0;34m=\u001b[0m \u001b[0mCLOSE_ENOUGH_DISTANCE\u001b[0m\u001b[0;34m\u001b[0m\u001b[0;34m\u001b[0m\u001b[0m\n\u001b[1;32m     57\u001b[0m             \u001b[0;32mfor\u001b[0m \u001b[0msensor\u001b[0m \u001b[0;32min\u001b[0m \u001b[0mdata_df\u001b[0m\u001b[0;34m.\u001b[0m\u001b[0msensor_id\u001b[0m\u001b[0;34m.\u001b[0m\u001b[0munique\u001b[0m\u001b[0;34m(\u001b[0m\u001b[0;34m)\u001b[0m\u001b[0;34m:\u001b[0m \u001b[0;31m# iterate through all sensors in bounding box\u001b[0m\u001b[0;34m\u001b[0m\u001b[0;34m\u001b[0m\u001b[0m\n\u001b[0;32m---> 58\u001b[0;31m                 \u001b[0mtest_sensor\u001b[0m \u001b[0;34m=\u001b[0m \u001b[0;34m(\u001b[0m\u001b[0mfloat\u001b[0m\u001b[0;34m(\u001b[0m\u001b[0mdata_df\u001b[0m\u001b[0;34m[\u001b[0m\u001b[0mdata_df\u001b[0m\u001b[0;34m.\u001b[0m\u001b[0msensor_id\u001b[0m \u001b[0;34m==\u001b[0m \u001b[0msensor\u001b[0m\u001b[0;34m]\u001b[0m\u001b[0;34m.\u001b[0m\u001b[0mlat\u001b[0m\u001b[0;34m.\u001b[0m\u001b[0miloc\u001b[0m\u001b[0;34m[\u001b[0m\u001b[0;36m0\u001b[0m\u001b[0;34m]\u001b[0m\u001b[0;34m)\u001b[0m\u001b[0;34m,\u001b[0m \u001b[0mfloat\u001b[0m\u001b[0;34m(\u001b[0m\u001b[0mdata_df\u001b[0m\u001b[0;34m[\u001b[0m\u001b[0mdata_df\u001b[0m\u001b[0;34m.\u001b[0m\u001b[0msensor_id\u001b[0m \u001b[0;34m==\u001b[0m \u001b[0msensor\u001b[0m\u001b[0;34m]\u001b[0m\u001b[0;34m.\u001b[0m\u001b[0mlon\u001b[0m\u001b[0;34m.\u001b[0m\u001b[0miloc\u001b[0m\u001b[0;34m[\u001b[0m\u001b[0;36m0\u001b[0m\u001b[0;34m]\u001b[0m\u001b[0;34m)\u001b[0m\u001b[0;34m)\u001b[0m\u001b[0;34m\u001b[0m\u001b[0;34m\u001b[0m\u001b[0m\n\u001b[0m\u001b[1;32m     59\u001b[0m                 \u001b[0mtesty\u001b[0m \u001b[0;34m=\u001b[0m \u001b[0mgeopy\u001b[0m\u001b[0;34m.\u001b[0m\u001b[0mpoint\u001b[0m\u001b[0;34m.\u001b[0m\u001b[0mPoint\u001b[0m\u001b[0;34m(\u001b[0m\u001b[0mtest_sensor\u001b[0m\u001b[0;34m)\u001b[0m\u001b[0;34m\u001b[0m\u001b[0;34m\u001b[0m\u001b[0m\n\u001b[1;32m     60\u001b[0m                 \u001b[0mdesty\u001b[0m \u001b[0;34m=\u001b[0m \u001b[0mgeopy\u001b[0m\u001b[0;34m.\u001b[0m\u001b[0mpoint\u001b[0m\u001b[0;34m.\u001b[0m\u001b[0mPoint\u001b[0m\u001b[0;34m(\u001b[0m\u001b[0mdestination\u001b[0m\u001b[0;34m)\u001b[0m\u001b[0;34m\u001b[0m\u001b[0;34m\u001b[0m\u001b[0m\n",
      "\u001b[0;32m~/anaconda3/lib/python3.7/site-packages/pandas/core/ops/__init__.py\u001b[0m in \u001b[0;36mwrapper\u001b[0;34m(self, other, axis)\u001b[0m\n\u001b[1;32m   1227\u001b[0m \u001b[0;34m\u001b[0m\u001b[0m\n\u001b[1;32m   1228\u001b[0m             \u001b[0;32mwith\u001b[0m \u001b[0mnp\u001b[0m\u001b[0;34m.\u001b[0m\u001b[0merrstate\u001b[0m\u001b[0;34m(\u001b[0m\u001b[0mall\u001b[0m\u001b[0;34m=\u001b[0m\u001b[0;34m\"ignore\"\u001b[0m\u001b[0;34m)\u001b[0m\u001b[0;34m:\u001b[0m\u001b[0;34m\u001b[0m\u001b[0;34m\u001b[0m\u001b[0m\n\u001b[0;32m-> 1229\u001b[0;31m                 \u001b[0mres\u001b[0m \u001b[0;34m=\u001b[0m \u001b[0mna_op\u001b[0m\u001b[0;34m(\u001b[0m\u001b[0mvalues\u001b[0m\u001b[0;34m,\u001b[0m \u001b[0mother\u001b[0m\u001b[0;34m)\u001b[0m\u001b[0;34m\u001b[0m\u001b[0;34m\u001b[0m\u001b[0m\n\u001b[0m\u001b[1;32m   1230\u001b[0m             \u001b[0;32mif\u001b[0m \u001b[0mis_scalar\u001b[0m\u001b[0;34m(\u001b[0m\u001b[0mres\u001b[0m\u001b[0;34m)\u001b[0m\u001b[0;34m:\u001b[0m\u001b[0;34m\u001b[0m\u001b[0;34m\u001b[0m\u001b[0m\n\u001b[1;32m   1231\u001b[0m                 raise TypeError(\n",
      "\u001b[0;32m~/anaconda3/lib/python3.7/site-packages/pandas/core/ops/__init__.py\u001b[0m in \u001b[0;36mna_op\u001b[0;34m(x, y)\u001b[0m\n\u001b[1;32m   1089\u001b[0m \u001b[0;34m\u001b[0m\u001b[0m\n\u001b[1;32m   1090\u001b[0m         \u001b[0;32mif\u001b[0m \u001b[0mis_object_dtype\u001b[0m\u001b[0;34m(\u001b[0m\u001b[0mx\u001b[0m\u001b[0;34m.\u001b[0m\u001b[0mdtype\u001b[0m\u001b[0;34m)\u001b[0m\u001b[0;34m:\u001b[0m\u001b[0;34m\u001b[0m\u001b[0;34m\u001b[0m\u001b[0m\n\u001b[0;32m-> 1091\u001b[0;31m             \u001b[0mresult\u001b[0m \u001b[0;34m=\u001b[0m \u001b[0m_comp_method_OBJECT_ARRAY\u001b[0m\u001b[0;34m(\u001b[0m\u001b[0mop\u001b[0m\u001b[0;34m,\u001b[0m \u001b[0mx\u001b[0m\u001b[0;34m,\u001b[0m \u001b[0my\u001b[0m\u001b[0;34m)\u001b[0m\u001b[0;34m\u001b[0m\u001b[0;34m\u001b[0m\u001b[0m\n\u001b[0m\u001b[1;32m   1092\u001b[0m \u001b[0;34m\u001b[0m\u001b[0m\n\u001b[1;32m   1093\u001b[0m         \u001b[0;32melif\u001b[0m \u001b[0mis_datetimelike_v_numeric\u001b[0m\u001b[0;34m(\u001b[0m\u001b[0mx\u001b[0m\u001b[0;34m,\u001b[0m \u001b[0my\u001b[0m\u001b[0;34m)\u001b[0m\u001b[0;34m:\u001b[0m\u001b[0;34m\u001b[0m\u001b[0;34m\u001b[0m\u001b[0m\n",
      "\u001b[0;32m~/anaconda3/lib/python3.7/site-packages/pandas/core/ops/__init__.py\u001b[0m in \u001b[0;36m_comp_method_OBJECT_ARRAY\u001b[0;34m(op, x, y)\u001b[0m\n\u001b[1;32m   1067\u001b[0m         \u001b[0mresult\u001b[0m \u001b[0;34m=\u001b[0m \u001b[0mlibops\u001b[0m\u001b[0;34m.\u001b[0m\u001b[0mvec_compare\u001b[0m\u001b[0;34m(\u001b[0m\u001b[0mx\u001b[0m\u001b[0;34m,\u001b[0m \u001b[0my\u001b[0m\u001b[0;34m,\u001b[0m \u001b[0mop\u001b[0m\u001b[0;34m)\u001b[0m\u001b[0;34m\u001b[0m\u001b[0;34m\u001b[0m\u001b[0m\n\u001b[1;32m   1068\u001b[0m     \u001b[0;32melse\u001b[0m\u001b[0;34m:\u001b[0m\u001b[0;34m\u001b[0m\u001b[0;34m\u001b[0m\u001b[0m\n\u001b[0;32m-> 1069\u001b[0;31m         \u001b[0mresult\u001b[0m \u001b[0;34m=\u001b[0m \u001b[0mlibops\u001b[0m\u001b[0;34m.\u001b[0m\u001b[0mscalar_compare\u001b[0m\u001b[0;34m(\u001b[0m\u001b[0mx\u001b[0m\u001b[0;34m,\u001b[0m \u001b[0my\u001b[0m\u001b[0;34m,\u001b[0m \u001b[0mop\u001b[0m\u001b[0;34m)\u001b[0m\u001b[0;34m\u001b[0m\u001b[0;34m\u001b[0m\u001b[0m\n\u001b[0m\u001b[1;32m   1070\u001b[0m     \u001b[0;32mreturn\u001b[0m \u001b[0mresult\u001b[0m\u001b[0;34m\u001b[0m\u001b[0;34m\u001b[0m\u001b[0m\n\u001b[1;32m   1071\u001b[0m \u001b[0;34m\u001b[0m\u001b[0m\n",
      "\u001b[0;31mKeyboardInterrupt\u001b[0m: "
     ]
    }
   ],
   "source": [
    "chains = [] # a list of chain \n",
    "\n",
    "set_size_chain = 10\n",
    "start_time = 201909030000\n",
    "\n",
    "# build the chains\n",
    "for sensor in data_df.sensor_id.unique(): # iterate through all sensors in bounding box\n",
    "    chain = Chain(sensor, start_time) # init one chain per sensor\n",
    "    time_step = 0\n",
    "    while (chain.plot_next() & (time_step < set_size_chain)): # method returns false if out of bounds/data\n",
    "        time_step += 1\n",
    "    chains.append(chain) # add the chain object to the list of chains\n",
    "    print(\"Chain\", len(chains), \"is\", chain.sensor_path)\n",
    "    print(\"Chain\", len(chains), \"readings are\", chain.readings)\n",
    "print(\"Done.\")"
   ]
  },
  {
   "cell_type": "code",
   "execution_count": null,
   "metadata": {},
   "outputs": [],
   "source": [
    "# plot it\n",
    "latitude_list = []\n",
    "longitude_list = []\n",
    "for row in range(len(data_df)):\n",
    "    try:\n",
    "        latitude_list.append(data_df.loc[row].lat)\n",
    "        longitude_list.append(data_df.loc[row].lon)\n",
    "    except:\n",
    "        pass\n",
    "gmap3 = gmplot.GoogleMapPlotter((max(latitude_list)+min(latitude_list))/2,\n",
    "                                (max(longitude_list)+min(longitude_list))/2,\n",
    "                                zoom=11)\n",
    "gmap3.scatter(latitude_list, longitude_list, '# FF0000', \n",
    "                              size = 40, marker = False ) \n",
    "\n",
    "for chain in chains:\n",
    "    lats, lons, colors = chain.plot_pollution()\n",
    "    for index in range(1,len(lats)):\n",
    "        gmap3.plot([lats[index-1], lats[index]], [lons[index-1], lons[index]], colors[index], edge_width = 2.5)\n",
    "    \n",
    "# draw the map and send to file\n",
    "gmap3.draw(\"../data/chain_map.html\") \n",
    "print(\"Done\")"
   ]
  },
  {
   "cell_type": "code",
   "execution_count": 32,
   "metadata": {},
   "outputs": [
    {
     "name": "stdout",
     "output_type": "stream",
     "text": [
      "1\n",
      "2\n"
     ]
    }
   ],
   "source": [
    "counter = 0\n",
    "for chain in chains:\n",
    "    counter += 1\n",
    "    print(counter)\n",
    "    chain.plot_pollution()"
   ]
  },
  {
   "cell_type": "code",
   "execution_count": null,
   "metadata": {},
   "outputs": [],
   "source": []
  }
 ],
 "metadata": {
  "kernelspec": {
   "display_name": "Python 3",
   "language": "python",
   "name": "python3"
  },
  "language_info": {
   "codemirror_mode": {
    "name": "ipython",
    "version": 3
   },
   "file_extension": ".py",
   "mimetype": "text/x-python",
   "name": "python",
   "nbconvert_exporter": "python",
   "pygments_lexer": "ipython3",
   "version": "3.7.4"
  }
 },
 "nbformat": 4,
 "nbformat_minor": 2
}
