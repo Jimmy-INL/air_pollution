{
 "cells": [
  {
   "cell_type": "code",
   "execution_count": 7,
   "metadata": {},
   "outputs": [],
   "source": [
    "import geopy\n",
    "from geopy import distance"
   ]
  },
  {
   "cell_type": "code",
   "execution_count": null,
   "metadata": {},
   "outputs": [],
   "source": [
    "# need to load in data a days worth of data to data_df\n",
    "filename = \"..\\my-stash\\data\\\""
   ]
  },
  {
   "cell_type": "code",
   "execution_count": 4,
   "metadata": {},
   "outputs": [
    {
     "ename": "SyntaxError",
     "evalue": "invalid syntax (<ipython-input-4-fc360d612dcb>, line 12)",
     "output_type": "error",
     "traceback": [
      "\u001b[1;36m  File \u001b[1;32m\"<ipython-input-4-fc360d612dcb>\"\u001b[1;36m, line \u001b[1;32m12\u001b[0m\n\u001b[1;33m    self.readings = list(data_df[data_df.sensor_id == sensor_id and TIME IS CORRECT]['2_5um'])\u001b[0m\n\u001b[1;37m                                                                          ^\u001b[0m\n\u001b[1;31mSyntaxError\u001b[0m\u001b[1;31m:\u001b[0m invalid syntax\n"
     ]
    }
   ],
   "source": [
    "class Chain:\n",
    "    \"\"\" \n",
    "    Chain is a class that defines a chain of sensors in time and space. \n",
    "    A chain has a list of timestamps that are paired with a list of particle locations, intersecting sensors, and readings\n",
    "    \"\"\"\n",
    "    def __init__(self, sensor_id, start_date, start_time):\n",
    "        self.start_date = start_date\n",
    "        self.time = list(start_time)\n",
    "        self.sensor_path = list(sensor_id)\n",
    "        self.last_sensor = sensor_id\n",
    "        self.particle_path = list((data_df[data_df.sensor_id == sensor_id].lat[0], data_df[data_df.sensor_id == sensor_id].lon[0]))\n",
    "        self.readings = list(data_df[data_df.sensor_id == sensor_id and TIME IS CORRECT]['2_5um'])\n",
    "    \n",
    "    def plot_next(self):\n",
    "        # update time\n",
    "        MINUTES = 5 # Not sure how to increment time, but this plays out below\n",
    "        # new_time = time[-1] + increment time somehow\n",
    "        time.append(new_time)\n",
    "        \n",
    "        # need to take wind speed in knots\n",
    "        origin = geopy.Point(self.particle_path[-1][0], self.particle_path[-1][1])\n",
    "        km_1_knot_per_hour = 1.852\n",
    "        km_hour = km_1_knot_per_hour * data_df[data_df.sensor_id == last_sensor and TIME IS CORRECT].wind_speed\n",
    "        d = (MINUTES / 60) * km_hour # must figure out time increment\n",
    "        b = data_df[data_df.sensor_id == last_sensor and TIME IS CORRECT].wind_direction + 180 # wind_direction is from not to\n",
    "        if b >= 360:\n",
    "            b -= 360\n",
    "        # given: lat1, lon1, b = bearing in degrees, d = distance in kilometers\n",
    "        destination = VincentyDistance(kilometers=d).destination(origin, b)\n",
    "        self.particle_path.append((destination.latitude, destination.longtitude))\n",
    "        \n",
    "        # check is there's a sensor nearby\n",
    "        CLOSE_ENOUGH_DISTANCE = 0.05 # have to be within 50 meters\n",
    "        \n",
    "        closest_sensor = None\n",
    "        for sensor in data_df.sensor_id.unique: # iterate through all sensors in bounding box\n",
    "            proximity = distance.distance((sensor.lat, sensor.lon), destination).km\n",
    "            if proximity < CLOSE_ENOUGH_DISTANCE:\n",
    "                closest_sensor = sensor.sensor_id\n",
    "                \n",
    "        # update other lists\n",
    "        self.sensor_path.append(closest_sensor)\n",
    "        if closest_sensor:\n",
    "            self.last_sensor\n",
    "            self.readings.append(data_df[data_df.sensor_id == closest_sensor and CORRECT TIME]['2_5um'])\n",
    "    \n",
    "    def plot_pollution(self):\n",
    "        return "
   ]
  },
  {
   "cell_type": "code",
   "execution_count": null,
   "metadata": {},
   "outputs": [],
   "source": [
    "chains = [] # a list of chain \n",
    "\n",
    "set_size_chain = 10\n",
    "startdata = #\n",
    "starttime = #\n",
    "\n",
    "# build the chains\n",
    "for sensor in data_df.sensor_id.unique: # iterate through all sensors in bounding box\n",
    "    chain = new Chain(sensor.sensor_id, start_date, start_time) # init one chain per sensor\n",
    "    for link in range(set_size_chain): # cycle through some number of time steps\n",
    "        chain.plot_next()\n",
    "    chains.append(chain) # add the chain object to the list of chains"
   ]
  },
  {
   "cell_type": "code",
   "execution_count": null,
   "metadata": {},
   "outputs": [],
   "source": [
    "# plot it\n",
    "latitude_list = []\n",
    "longitude_list = []\n",
    "for row in range(len(model_df)):\n",
    "    try:\n",
    "        latitude_list.append(model_df.loc[row].lat)\n",
    "        longitude_list.append(model_df.loc[row].lon)\n",
    "    except:\n",
    "        pass\n",
    "gmap3 = gmplot.GoogleMapPlotter((max(latitude_list)+min(latitude_list))/2,\n",
    "                                (max(longitude_list)+min(longitude_list))/2,\n",
    "                                zoom=11)\n",
    "gmap3.scatter(latitude_list, longitude_list, '# FF0000', \n",
    "                              size = 40, marker = False ) \n",
    "\n",
    "for chain in chains:\n",
    "    lats, lons, color = chain.plot_pollution()\n",
    "    gmap3.polygon(lats, lons, edge_color=color, edge_width=1, face_color=color, face_alpha=0.1)\n",
    "\n",
    "# draw the map and send to file\n",
    "gmap3.draw(\"../data/model_map.html\") \n",
    "print(\"Done\")"
   ]
  }
 ],
 "metadata": {
  "kernelspec": {
   "display_name": "Python 3",
   "language": "python",
   "name": "python3"
  },
  "language_info": {
   "codemirror_mode": {
    "name": "ipython",
    "version": 3
   },
   "file_extension": ".py",
   "mimetype": "text/x-python",
   "name": "python",
   "nbconvert_exporter": "python",
   "pygments_lexer": "ipython3",
   "version": "3.7.4"
  }
 },
 "nbformat": 4,
 "nbformat_minor": 2
}
