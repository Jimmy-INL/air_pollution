{
 "cells": [
  {
   "cell_type": "code",
   "execution_count": 1,
   "metadata": {},
   "outputs": [],
   "source": [
    "%matplotlib inline\n",
    "\n",
    "import requests\n",
    "import json\n",
    "import datetime\n",
    "import pandas as pd\n",
    "import geopandas as gpd\n",
    "from shapely.geometry import Point\n",
    "from dateutil.relativedelta import relativedelta\n",
    "import matplotlib.pyplot as plt"
   ]
  },
  {
   "cell_type": "code",
   "execution_count": 2,
   "metadata": {},
   "outputs": [],
   "source": [
    "MIN_LAT = 37.701933\n",
    "MAX_LAT = 38.008050\n",
    "MIN_LON = -122.536985\n",
    "MAX_LON = -122.186437\n",
    "\n",
    "last_hour = datetime.datetime.now().strftime(\"%Y-%m-%dT%H\")\n",
    "last_12_hours = datetime.datetime.now() + relativedelta(hours=-12)\n",
    "last_12_hours = last_12_hours.strftime(\"%Y-%m-%dT%H\")"
   ]
  },
  {
   "cell_type": "code",
   "execution_count": 3,
   "metadata": {},
   "outputs": [],
   "source": [
    "EPA_URL = \"http://www.airnowapi.org/aq/data/\"\n",
    "params = {\"startDate\":last_12_hours,\n",
    "          \"endDate\":last_hour,\n",
    "          \"parameters\":\"OZONE,PM25,PM10,CO,NO2,SO2\",\n",
    "          \"BBOX\":f\"{MIN_LON},{MIN_LAT},{MAX_LON},{MAX_LAT}\",\n",
    "          \"dataType\":\"B\",\n",
    "          \"format\":\"application/json\",\n",
    "          \"verbose\":1,\n",
    "          \"nowcastonly\":1,\n",
    "          \"includerawconcentrations\":1,\n",
    "          \"API_KEY\":\"8FA4FE40-BEC5-4265-B251-D29F48C142D1\"}"
   ]
  },
  {
   "cell_type": "code",
   "execution_count": 4,
   "metadata": {},
   "outputs": [
    {
     "data": {
      "text/plain": [
       "200"
      ]
     },
     "execution_count": 4,
     "metadata": {},
     "output_type": "execute_result"
    }
   ],
   "source": [
    "r = requests.get(EPA_URL, params = params)\n",
    "r.status_code"
   ]
  },
  {
   "cell_type": "code",
   "execution_count": 5,
   "metadata": {},
   "outputs": [],
   "source": [
    "results = r.json()"
   ]
  },
  {
   "cell_type": "code",
   "execution_count": 6,
   "metadata": {},
   "outputs": [
    {
     "data": {
      "text/plain": [
       "247"
      ]
     },
     "execution_count": 6,
     "metadata": {},
     "output_type": "execute_result"
    }
   ],
   "source": [
    "len(results)"
   ]
  },
  {
   "cell_type": "code",
   "execution_count": 7,
   "metadata": {},
   "outputs": [
    {
     "data": {
      "text/plain": [
       "{'Latitude': 37.9722,\n",
       " 'Longitude': -122.5189,\n",
       " 'UTC': '2019-10-03T03:00',\n",
       " 'Parameter': 'OZONE',\n",
       " 'Unit': 'PPB',\n",
       " 'Value': 27.0,\n",
       " 'RawConcentration': 26.7,\n",
       " 'AQI': 25,\n",
       " 'Category': 1,\n",
       " 'SiteName': 'San Rafael',\n",
       " 'AgencyName': 'San Francisco Bay Area AQMD',\n",
       " 'FullAQSCode': '060410001',\n",
       " 'IntlAQSCode': '840060410001'}"
      ]
     },
     "execution_count": 7,
     "metadata": {},
     "output_type": "execute_result"
    }
   ],
   "source": [
    "results[0]"
   ]
  },
  {
   "cell_type": "markdown",
   "metadata": {},
   "source": [
    "Note to self: -999s are used for missing values"
   ]
  },
  {
   "cell_type": "code",
   "execution_count": 8,
   "metadata": {},
   "outputs": [],
   "source": [
    "df = pd.DataFrame(results)\n",
    "gdf = gpd.GeoDataFrame(df, geometry = [Point(xy) for xy in zip(df.Longitude, df.Latitude)])"
   ]
  },
  {
   "cell_type": "code",
   "execution_count": 9,
   "metadata": {},
   "outputs": [
    {
     "data": {
      "text/html": [
       "<div>\n",
       "<style scoped>\n",
       "    .dataframe tbody tr th:only-of-type {\n",
       "        vertical-align: middle;\n",
       "    }\n",
       "\n",
       "    .dataframe tbody tr th {\n",
       "        vertical-align: top;\n",
       "    }\n",
       "\n",
       "    .dataframe thead th {\n",
       "        text-align: right;\n",
       "    }\n",
       "</style>\n",
       "<table border=\"1\" class=\"dataframe\">\n",
       "  <thead>\n",
       "    <tr style=\"text-align: right;\">\n",
       "      <th></th>\n",
       "      <th>Latitude</th>\n",
       "      <th>Longitude</th>\n",
       "      <th>UTC</th>\n",
       "      <th>Parameter</th>\n",
       "      <th>Unit</th>\n",
       "      <th>Value</th>\n",
       "      <th>RawConcentration</th>\n",
       "      <th>AQI</th>\n",
       "      <th>Category</th>\n",
       "      <th>SiteName</th>\n",
       "      <th>AgencyName</th>\n",
       "      <th>FullAQSCode</th>\n",
       "      <th>IntlAQSCode</th>\n",
       "      <th>geometry</th>\n",
       "    </tr>\n",
       "  </thead>\n",
       "  <tbody>\n",
       "    <tr>\n",
       "      <td>0</td>\n",
       "      <td>37.9722</td>\n",
       "      <td>-122.5189</td>\n",
       "      <td>2019-10-03T03:00</td>\n",
       "      <td>OZONE</td>\n",
       "      <td>PPB</td>\n",
       "      <td>27.00</td>\n",
       "      <td>26.700</td>\n",
       "      <td>25</td>\n",
       "      <td>1</td>\n",
       "      <td>San Rafael</td>\n",
       "      <td>San Francisco Bay Area AQMD</td>\n",
       "      <td>060410001</td>\n",
       "      <td>840060410001</td>\n",
       "      <td>POINT (-122.5189 37.9722)</td>\n",
       "    </tr>\n",
       "    <tr>\n",
       "      <td>1</td>\n",
       "      <td>37.9722</td>\n",
       "      <td>-122.5189</td>\n",
       "      <td>2019-10-03T03:00</td>\n",
       "      <td>PM2.5</td>\n",
       "      <td>UG/M3</td>\n",
       "      <td>3.80</td>\n",
       "      <td>3.000</td>\n",
       "      <td>16</td>\n",
       "      <td>1</td>\n",
       "      <td>San Rafael</td>\n",
       "      <td>San Francisco Bay Area AQMD</td>\n",
       "      <td>060410001</td>\n",
       "      <td>840060410001</td>\n",
       "      <td>POINT (-122.5189 37.9722)</td>\n",
       "    </tr>\n",
       "    <tr>\n",
       "      <td>2</td>\n",
       "      <td>37.9722</td>\n",
       "      <td>-122.5189</td>\n",
       "      <td>2019-10-03T03:00</td>\n",
       "      <td>NO2</td>\n",
       "      <td>PPB</td>\n",
       "      <td>3.00</td>\n",
       "      <td>3.800</td>\n",
       "      <td>3</td>\n",
       "      <td>1</td>\n",
       "      <td>San Rafael</td>\n",
       "      <td>San Francisco Bay Area AQMD</td>\n",
       "      <td>060410001</td>\n",
       "      <td>840060410001</td>\n",
       "      <td>POINT (-122.5189 37.9722)</td>\n",
       "    </tr>\n",
       "    <tr>\n",
       "      <td>3</td>\n",
       "      <td>37.9722</td>\n",
       "      <td>-122.5189</td>\n",
       "      <td>2019-10-03T03:00</td>\n",
       "      <td>CO</td>\n",
       "      <td>PPM</td>\n",
       "      <td>0.12</td>\n",
       "      <td>0.121</td>\n",
       "      <td>-999</td>\n",
       "      <td>0</td>\n",
       "      <td>San Rafael</td>\n",
       "      <td>San Francisco Bay Area AQMD</td>\n",
       "      <td>060410001</td>\n",
       "      <td>840060410001</td>\n",
       "      <td>POINT (-122.5189 37.9722)</td>\n",
       "    </tr>\n",
       "    <tr>\n",
       "      <td>4</td>\n",
       "      <td>37.7658</td>\n",
       "      <td>-122.3978</td>\n",
       "      <td>2019-10-03T03:00</td>\n",
       "      <td>PM2.5</td>\n",
       "      <td>UG/M3</td>\n",
       "      <td>5.50</td>\n",
       "      <td>6.000</td>\n",
       "      <td>23</td>\n",
       "      <td>1</td>\n",
       "      <td>San Francisco</td>\n",
       "      <td>San Francisco Bay Area AQMD</td>\n",
       "      <td>060750005</td>\n",
       "      <td>840060750005</td>\n",
       "      <td>POINT (-122.3978 37.7658)</td>\n",
       "    </tr>\n",
       "  </tbody>\n",
       "</table>\n",
       "</div>"
      ],
      "text/plain": [
       "   Latitude  Longitude               UTC Parameter   Unit  Value  \\\n",
       "0   37.9722  -122.5189  2019-10-03T03:00     OZONE    PPB  27.00   \n",
       "1   37.9722  -122.5189  2019-10-03T03:00     PM2.5  UG/M3   3.80   \n",
       "2   37.9722  -122.5189  2019-10-03T03:00       NO2    PPB   3.00   \n",
       "3   37.9722  -122.5189  2019-10-03T03:00        CO    PPM   0.12   \n",
       "4   37.7658  -122.3978  2019-10-03T03:00     PM2.5  UG/M3   5.50   \n",
       "\n",
       "   RawConcentration  AQI  Category       SiteName  \\\n",
       "0            26.700   25         1     San Rafael   \n",
       "1             3.000   16         1     San Rafael   \n",
       "2             3.800    3         1     San Rafael   \n",
       "3             0.121 -999         0     San Rafael   \n",
       "4             6.000   23         1  San Francisco   \n",
       "\n",
       "                    AgencyName FullAQSCode   IntlAQSCode  \\\n",
       "0  San Francisco Bay Area AQMD   060410001  840060410001   \n",
       "1  San Francisco Bay Area AQMD   060410001  840060410001   \n",
       "2  San Francisco Bay Area AQMD   060410001  840060410001   \n",
       "3  San Francisco Bay Area AQMD   060410001  840060410001   \n",
       "4  San Francisco Bay Area AQMD   060750005  840060750005   \n",
       "\n",
       "                    geometry  \n",
       "0  POINT (-122.5189 37.9722)  \n",
       "1  POINT (-122.5189 37.9722)  \n",
       "2  POINT (-122.5189 37.9722)  \n",
       "3  POINT (-122.5189 37.9722)  \n",
       "4  POINT (-122.3978 37.7658)  "
      ]
     },
     "execution_count": 9,
     "metadata": {},
     "output_type": "execute_result"
    }
   ],
   "source": [
    "gdf.head()"
   ]
  },
  {
   "cell_type": "code",
   "execution_count": 11,
   "metadata": {},
   "outputs": [],
   "source": [
    "# shape file that has map background\n",
    "base = gpd.read_file(\"../../bayarea.json\")"
   ]
  },
  {
   "cell_type": "code",
   "execution_count": 14,
   "metadata": {},
   "outputs": [],
   "source": [
    "cities = gpd.read_file(\"../../CA_Places_TIGER2016.shp\")"
   ]
  },
  {
   "cell_type": "code",
   "execution_count": 30,
   "metadata": {},
   "outputs": [
    {
     "data": {
      "text/plain": [
       "(37.701933, 38.00805)"
      ]
     },
     "execution_count": 30,
     "metadata": {},
     "output_type": "execute_result"
    },
    {
     "data": {
      "image/png": "[encoded data removed]",
      "text/plain": [
       "<Figure size 720x720 with 1 Axes>"
      ]
     },
     "metadata": {
      "needs_background": "light"
     },
     "output_type": "display_data"
    }
   ],
   "source": [
    "fig, ax = plt.subplots(figsize = (10,10))\n",
    "base[base['AREA_NAME'] == 'Other'].plot(ax = ax, alpha = 0.8, color = 'grey')\n",
    "base[base['AREA_NAME'] == 'San Francisco'].plot(ax = ax, alpha = 0.8, color = 'grey')\n",
    "gdf.plot(ax = ax, color = 'red')\n",
    "ax.set_xlim(MIN_LON, MAX_LON)\n",
    "ax.set_ylim(MIN_LAT, MAX_LAT)"
   ]
  },
  {
   "cell_type": "code",
   "execution_count": 17,
   "metadata": {},
   "outputs": [
    {
     "data": {
      "text/html": [
       "<div>\n",
       "<style scoped>\n",
       "    .dataframe tbody tr th:only-of-type {\n",
       "        vertical-align: middle;\n",
       "    }\n",
       "\n",
       "    .dataframe tbody tr th {\n",
       "        vertical-align: top;\n",
       "    }\n",
       "\n",
       "    .dataframe thead th {\n",
       "        text-align: right;\n",
       "    }\n",
       "</style>\n",
       "<table border=\"1\" class=\"dataframe\">\n",
       "  <thead>\n",
       "    <tr style=\"text-align: right;\">\n",
       "      <th></th>\n",
       "      <th>id</th>\n",
       "      <th>OBJECTID</th>\n",
       "      <th>AREA_NAME</th>\n",
       "      <th>geometry</th>\n",
       "    </tr>\n",
       "  </thead>\n",
       "  <tbody>\n",
       "    <tr>\n",
       "      <td>0</td>\n",
       "      <td>s7d02x.1</td>\n",
       "      <td>1</td>\n",
       "      <td>San Francisco</td>\n",
       "      <td>(POLYGON ((-122.381281 37.760229, -122.380781 ...</td>\n",
       "    </tr>\n",
       "    <tr>\n",
       "      <td>1</td>\n",
       "      <td>s7d02x.2</td>\n",
       "      <td>2</td>\n",
       "      <td>Other</td>\n",
       "      <td>(POLYGON ((-123.065659 38.852297, -123.062109 ...</td>\n",
       "    </tr>\n",
       "    <tr>\n",
       "      <td>2</td>\n",
       "      <td>s7d02x.3</td>\n",
       "      <td>3</td>\n",
       "      <td>Bay and Ocean</td>\n",
       "      <td>(POLYGON ((-123.79051456 37.5790828, -123.6952...</td>\n",
       "    </tr>\n",
       "  </tbody>\n",
       "</table>\n",
       "</div>"
      ],
      "text/plain": [
       "         id  OBJECTID      AREA_NAME  \\\n",
       "0  s7d02x.1         1  San Francisco   \n",
       "1  s7d02x.2         2          Other   \n",
       "2  s7d02x.3         3  Bay and Ocean   \n",
       "\n",
       "                                            geometry  \n",
       "0  (POLYGON ((-122.381281 37.760229, -122.380781 ...  \n",
       "1  (POLYGON ((-123.065659 38.852297, -123.062109 ...  \n",
       "2  (POLYGON ((-123.79051456 37.5790828, -123.6952...  "
      ]
     },
     "execution_count": 17,
     "metadata": {},
     "output_type": "execute_result"
    }
   ],
   "source": [
    "base.head()"
   ]
  },
  {
   "cell_type": "code",
   "execution_count": 25,
   "metadata": {},
   "outputs": [
    {
     "data": {
      "text/plain": [
       "<matplotlib.axes._subplots.AxesSubplot at 0x10a0437e88>"
      ]
     },
     "execution_count": 25,
     "metadata": {},
     "output_type": "execute_result"
    },
    {
     "data": {
      "image/png": "[encoded data removed]",
      "text/plain": [
       "<Figure size 720x720 with 1 Axes>"
      ]
     },
     "metadata": {
      "needs_background": "light"
     },
     "output_type": "display_data"
    }
   ],
   "source": [
    "fig, ax = plt.subplots(figsize = (10,10))\n",
    "\n",
    "cities[cities.NAME.isin(['San Francisco', 'Oakland', 'Berkeley'])].plot(ax=ax)"
   ]
  },
  {
   "cell_type": "code",
   "execution_count": null,
   "metadata": {},
   "outputs": [],
   "source": [
    "# wtf is that"
   ]
  },
  {
   "cell_type": "code",
   "execution_count": 23,
   "metadata": {},
   "outputs": [
    {
     "data": {
      "text/html": [
       "<div>\n",
       "<style scoped>\n",
       "    .dataframe tbody tr th:only-of-type {\n",
       "        vertical-align: middle;\n",
       "    }\n",
       "\n",
       "    .dataframe tbody tr th {\n",
       "        vertical-align: top;\n",
       "    }\n",
       "\n",
       "    .dataframe thead th {\n",
       "        text-align: right;\n",
       "    }\n",
       "</style>\n",
       "<table border=\"1\" class=\"dataframe\">\n",
       "  <thead>\n",
       "    <tr style=\"text-align: right;\">\n",
       "      <th></th>\n",
       "      <th>STATEFP</th>\n",
       "      <th>PLACEFP</th>\n",
       "      <th>PLACENS</th>\n",
       "      <th>GEOID</th>\n",
       "      <th>NAME</th>\n",
       "      <th>NAMELSAD</th>\n",
       "      <th>LSAD</th>\n",
       "      <th>CLASSFP</th>\n",
       "      <th>PCICBSA</th>\n",
       "      <th>PCINECTA</th>\n",
       "      <th>MTFCC</th>\n",
       "      <th>FUNCSTAT</th>\n",
       "      <th>ALAND</th>\n",
       "      <th>AWATER</th>\n",
       "      <th>INTPTLAT</th>\n",
       "      <th>INTPTLON</th>\n",
       "      <th>geometry</th>\n",
       "    </tr>\n",
       "  </thead>\n",
       "  <tbody>\n",
       "    <tr>\n",
       "      <td>0</td>\n",
       "      <td>06</td>\n",
       "      <td>66140</td>\n",
       "      <td>02411785</td>\n",
       "      <td>0666140</td>\n",
       "      <td>San Fernando</td>\n",
       "      <td>San Fernando city</td>\n",
       "      <td>25</td>\n",
       "      <td>C1</td>\n",
       "      <td>N</td>\n",
       "      <td>N</td>\n",
       "      <td>G4110</td>\n",
       "      <td>A</td>\n",
       "      <td>6148697</td>\n",
       "      <td>0</td>\n",
       "      <td>+34.2886519</td>\n",
       "      <td>-118.4362413</td>\n",
       "      <td>POLYGON ((-13186463.85473168 4067122.650716818...</td>\n",
       "    </tr>\n",
       "    <tr>\n",
       "      <td>1</td>\n",
       "      <td>06</td>\n",
       "      <td>14190</td>\n",
       "      <td>02409487</td>\n",
       "      <td>0614190</td>\n",
       "      <td>Cloverdale</td>\n",
       "      <td>Cloverdale city</td>\n",
       "      <td>25</td>\n",
       "      <td>C1</td>\n",
       "      <td>N</td>\n",
       "      <td>N</td>\n",
       "      <td>G4110</td>\n",
       "      <td>A</td>\n",
       "      <td>7863863</td>\n",
       "      <td>59201</td>\n",
       "      <td>+38.7959624</td>\n",
       "      <td>-123.0153700</td>\n",
       "      <td>POLYGON ((-13696207.84639312 4691208.337768598...</td>\n",
       "    </tr>\n",
       "    <tr>\n",
       "      <td>2</td>\n",
       "      <td>06</td>\n",
       "      <td>16560</td>\n",
       "      <td>02410240</td>\n",
       "      <td>0616560</td>\n",
       "      <td>Cotati</td>\n",
       "      <td>Cotati city</td>\n",
       "      <td>25</td>\n",
       "      <td>C1</td>\n",
       "      <td>N</td>\n",
       "      <td>N</td>\n",
       "      <td>G4110</td>\n",
       "      <td>A</td>\n",
       "      <td>4869007</td>\n",
       "      <td>8380</td>\n",
       "      <td>+38.3284920</td>\n",
       "      <td>-122.7100491</td>\n",
       "      <td>POLYGON ((-13662197.83825167 4626644.61350646,...</td>\n",
       "    </tr>\n",
       "    <tr>\n",
       "      <td>3</td>\n",
       "      <td>06</td>\n",
       "      <td>65042</td>\n",
       "      <td>02411779</td>\n",
       "      <td>0665042</td>\n",
       "      <td>San Buenaventura (Ventura)</td>\n",
       "      <td>San Buenaventura (Ventura) city</td>\n",
       "      <td>25</td>\n",
       "      <td>C1</td>\n",
       "      <td>Y</td>\n",
       "      <td>N</td>\n",
       "      <td>G4110</td>\n",
       "      <td>A</td>\n",
       "      <td>56500370</td>\n",
       "      <td>27033715</td>\n",
       "      <td>+34.2677796</td>\n",
       "      <td>-119.2542062</td>\n",
       "      <td>(POLYGON ((-13280094.13783886 4075172.87791196...</td>\n",
       "    </tr>\n",
       "    <tr>\n",
       "      <td>4</td>\n",
       "      <td>06</td>\n",
       "      <td>30014</td>\n",
       "      <td>02410601</td>\n",
       "      <td>0630014</td>\n",
       "      <td>Glendora</td>\n",
       "      <td>Glendora city</td>\n",
       "      <td>25</td>\n",
       "      <td>C1</td>\n",
       "      <td>N</td>\n",
       "      <td>N</td>\n",
       "      <td>G4110</td>\n",
       "      <td>A</td>\n",
       "      <td>50251851</td>\n",
       "      <td>403066</td>\n",
       "      <td>+34.1449667</td>\n",
       "      <td>-117.8476672</td>\n",
       "      <td>POLYGON ((-13123577.79273059 4048398.24812131,...</td>\n",
       "    </tr>\n",
       "  </tbody>\n",
       "</table>\n",
       "</div>"
      ],
      "text/plain": [
       "  STATEFP PLACEFP   PLACENS    GEOID                        NAME  \\\n",
       "0      06   66140  02411785  0666140                San Fernando   \n",
       "1      06   14190  02409487  0614190                  Cloverdale   \n",
       "2      06   16560  02410240  0616560                      Cotati   \n",
       "3      06   65042  02411779  0665042  San Buenaventura (Ventura)   \n",
       "4      06   30014  02410601  0630014                    Glendora   \n",
       "\n",
       "                          NAMELSAD LSAD CLASSFP PCICBSA PCINECTA  MTFCC  \\\n",
       "0                San Fernando city   25      C1       N        N  G4110   \n",
       "1                  Cloverdale city   25      C1       N        N  G4110   \n",
       "2                      Cotati city   25      C1       N        N  G4110   \n",
       "3  San Buenaventura (Ventura) city   25      C1       Y        N  G4110   \n",
       "4                    Glendora city   25      C1       N        N  G4110   \n",
       "\n",
       "  FUNCSTAT     ALAND    AWATER     INTPTLAT      INTPTLON  \\\n",
       "0        A   6148697         0  +34.2886519  -118.4362413   \n",
       "1        A   7863863     59201  +38.7959624  -123.0153700   \n",
       "2        A   4869007      8380  +38.3284920  -122.7100491   \n",
       "3        A  56500370  27033715  +34.2677796  -119.2542062   \n",
       "4        A  50251851    403066  +34.1449667  -117.8476672   \n",
       "\n",
       "                                            geometry  \n",
       "0  POLYGON ((-13186463.85473168 4067122.650716818...  \n",
       "1  POLYGON ((-13696207.84639312 4691208.337768598...  \n",
       "2  POLYGON ((-13662197.83825167 4626644.61350646,...  \n",
       "3  (POLYGON ((-13280094.13783886 4075172.87791196...  \n",
       "4  POLYGON ((-13123577.79273059 4048398.24812131,...  "
      ]
     },
     "execution_count": 23,
     "metadata": {},
     "output_type": "execute_result"
    }
   ],
   "source": [
    "cities.head()"
   ]
  },
  {
   "cell_type": "code",
   "execution_count": 31,
   "metadata": {},
   "outputs": [
    {
     "data": {
      "text/plain": [
       "{'AeronavFAA': 'r',\n",
       " 'ARCGEN': 'r',\n",
       " 'BNA': 'raw',\n",
       " 'DXF': 'raw',\n",
       " 'CSV': 'raw',\n",
       " 'OpenFileGDB': 'r',\n",
       " 'ESRI Shapefile': 'raw',\n",
       " 'GeoJSON': 'rw',\n",
       " 'GPKG': 'rw',\n",
       " 'GML': 'raw',\n",
       " 'GPX': 'raw',\n",
       " 'GPSTrackMaker': 'raw',\n",
       " 'Idrisi': 'r',\n",
       " 'MapInfo File': 'raw',\n",
       " 'DGN': 'raw',\n",
       " 'PCIDSK': 'r',\n",
       " 'S57': 'r',\n",
       " 'SEGY': 'r',\n",
       " 'SUA': 'r'}"
      ]
     },
     "execution_count": 31,
     "metadata": {},
     "output_type": "execute_result"
    }
   ],
   "source": [
    "import fiona; fiona.supported_drivers"
   ]
  },
  {
   "cell_type": "code",
   "execution_count": null,
   "metadata": {},
   "outputs": [],
   "source": []
  }
 ],
 "metadata": {
  "kernelspec": {
   "display_name": "Python [conda env:geostuff] *",
   "language": "python",
   "name": "conda-env-geostuff-py"
  },
  "language_info": {
   "codemirror_mode": {
    "name": "ipython",
    "version": 3
   },
   "file_extension": ".py",
   "mimetype": "text/x-python",
   "name": "python",
   "nbconvert_exporter": "python",
   "pygments_lexer": "ipython3",
   "version": "3.7.4"
  }
 },
 "nbformat": 4,
 "nbformat_minor": 2
}
