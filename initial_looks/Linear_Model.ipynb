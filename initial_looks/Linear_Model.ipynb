{
 "cells": [
  {
   "cell_type": "markdown",
   "metadata": {},
   "source": [
    "## Linear models\n",
    "\n",
    "This notebook creates a linear model for each unique sensor. The pollution level of each sensor will be modeled based on wind characteristics and potentially other covariates. The idea is that each sensor will have coefficients on the wind direction variables, which will be directly interpretable as to the effect of wind on pollution level. We can read these coefficients right out of the model specification and could for example visualize them as arrows just like we do in `naive_model`."
   ]
  },
  {
   "cell_type": "code",
   "execution_count": null,
   "metadata": {},
   "outputs": [],
   "source": [
    "# import libraries\n",
    "import pandas as pd\n",
    "import numpy as np \n",
    "import warnings\n",
    "from copy import deepcopy\n",
    "from sklearn.model_selection import train_test_split\n",
    "from sklearn.linear_model import LinearRegression\n",
    "from sklearn.metrics import mean_squared_error, r2_score\n",
    "import matplotlib.pyplot as plt\n",
    "import sys\n",
    "sys.path.append(\"../HistoricalData/\")\n",
    "from getData import get_data\n",
    "\n",
    "%matplotlib inline\n",
    "\n",
    "warnings.filterwarnings('ignore')"
   ]
  },
  {
   "cell_type": "code",
   "execution_count": null,
   "metadata": {},
   "outputs": [],
   "source": [
    "# this call to get_data function that will take bounding box and timeframe and return cleaned data\n",
    "\n",
    "UP_LEFT = (38.008050, -122.536985)    # (lat, lon)\n",
    "UP_RIGHT = (38.008050, -122.186437)   # (lat, lon)\n",
    "DOWN_RIGHT = (37.701933, -122.186437) # (lat, lon)\n",
    "DOWN_LEFT = (37.701933, -122.536985)  # (lat, lon)\n",
    "START_DATE = '2019/09/01' # begin date to start taking data\n",
    "END_DATE = '2019/09/30'   # end date to start taking data\n",
    "START_HOUR = '0'         # hour EACH DAY to start, this allows us to control for time of day effects\n",
    "END_HOUR = '1'           # hour EACH DAY to end, this allows us to control for time of day effects\n",
    "color = \"red\"\n",
    "\n",
    "data_df = get_data(UP_LEFT, UP_RIGHT, DOWN_RIGHT, DOWN_LEFT, START_DATE, END_DATE, START_HOUR, END_HOUR)"
   ]
  },
  {
   "cell_type": "code",
   "execution_count": null,
   "metadata": {},
   "outputs": [],
   "source": [
    "# remove rows with na data for 2_5um\n",
    "data_df = data_df[data_df['2_5um'].notna()]"
   ]
  },
  {
   "cell_type": "code",
   "execution_count": null,
   "metadata": {},
   "outputs": [],
   "source": [
    "# define direction degree range\n",
    "# NORTH = (316,45)\n",
    "# EAST = (46,135)\n",
    "# SOUTH = (136,225)\n",
    "# WEST = (226,315)\n",
    "\n",
    "# tried a reduced range of only +/- 15 degrees instead of 45 degrees\n",
    "NORTH = (346,15)\n",
    "EAST = (76,105)\n",
    "SOUTH = (166,195)\n",
    "WEST = (256,285)"
   ]
  },
  {
   "cell_type": "code",
   "execution_count": null,
   "metadata": {},
   "outputs": [],
   "source": [
    "# go through the dataframe and add new categorical column that indicates direction: \n",
    "# North, South, East, West, No wind, Missing, ERROR\n",
    "\n",
    "wind_compass = [] \n",
    "for row in range(len(data_df)):\n",
    "    try:\n",
    "        degree = int(data_df.loc[row].wind_direction)\n",
    "    except:\n",
    "        wind_compass.append('Missing')\n",
    "        continue\n",
    "    if data_df.loc[row].wind_speed == 0:\n",
    "        wind_compass.append('No wind')\n",
    "    elif degree >= NORTH[0] or degree <= NORTH[1]:\n",
    "        wind_compass.append('North')\n",
    "    elif degree >= EAST[0] and degree <= EAST[1]:\n",
    "        wind_compass.append('East')\n",
    "    elif degree >= SOUTH[0] and degree <= SOUTH[1]:\n",
    "        wind_compass.append('South')\n",
    "    elif degree >= WEST[0] and degree <= WEST[1]:\n",
    "        wind_compass.append('West')\n",
    "    else:\n",
    "        wind_compass.append('ERROR')\n",
    "data_df['wind_compass'] = wind_compass"
   ]
  },
  {
   "cell_type": "code",
   "execution_count": null,
   "metadata": {
    "scrolled": true
   },
   "outputs": [],
   "source": [
    "np.random.seed(0)\n",
    "\n",
    "r2_scores = []\n",
    "\n",
    "for sensor in data_df.sensor_id.unique():\n",
    "    data_df_small = data_df[data_df.sensor_id == sensor]\n",
    "\n",
    "    # factorize for regression\n",
    "    data_df_small = data_df_small.join(pd.get_dummies(data_df_small.wind_compass))\n",
    "    \n",
    "    # for each sensor, get all compass directions that show up in the data (for a short time period it may not be all of them)\n",
    "    cols = data_df_small.wind_compass.unique().tolist()\n",
    "    # remove Missing since we don't want to model that directly.\n",
    "    if 'Missing' in cols:\n",
    "        cols.remove('Missing')\n",
    "\n",
    "    # train test split and convert to numpy arrays so that sklearn likes them\n",
    "    train, test = train_test_split(data_df_small, test_size=0.2)\n",
    "    train_x = train[cols].to_numpy()\n",
    "    train_y = train['2_5um'].to_numpy()\n",
    "    test_x = test[cols].to_numpy()\n",
    "    test_y = test['2_5um'].to_numpy()\n",
    "\n",
    "    regr = LinearRegression()\n",
    "    regr.fit(train_x, train_y)\n",
    "\n",
    "    # Make predictions using the testing set\n",
    "    y_predictions = regr.predict(test_x)\n",
    "\n",
    "    # Print the coefficients\n",
    "#     print('Coefficients: \\n', regr.coef_)\n",
    "#     # Print the mean squared error\n",
    "#     print(\"Mean squared error: %.2f\"\n",
    "#           % mean_squared_error(test_y, y_predictions))\n",
    "#     # Print the explained variance score: 1 is perfect prediction, 0 is equivalent to guessing the expected value each time\n",
    "#     print('Variance score: %.2f' % r2_score(test_y, y_predictions))\n",
    "    \n",
    "    # keep a running list of the explained variance scores\n",
    "    r2_scores.append(r2_score(test_y, y_predictions))"
   ]
  },
  {
   "cell_type": "code",
   "execution_count": null,
   "metadata": {},
   "outputs": [],
   "source": [
    "# plot the explained variance scores in a histogram to see if these models are making any valuable predictions\n",
    "plt.hist(r2_scores, range=(-1,1), bins=40)\n",
    "plt.show()"
   ]
  }
 ],
 "metadata": {
  "kernelspec": {
   "display_name": "Python 3",
   "language": "python",
   "name": "python3"
  },
  "language_info": {
   "codemirror_mode": {
    "name": "ipython",
    "version": 3
   },
   "file_extension": ".py",
   "mimetype": "text/x-python",
   "name": "python",
   "nbconvert_exporter": "python",
   "pygments_lexer": "ipython3",
   "version": "3.7.3"
  }
 },
 "nbformat": 4,
 "nbformat_minor": 2
}
