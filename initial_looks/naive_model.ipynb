{
 "cells": [
  {
   "cell_type": "markdown",
   "metadata": {},
   "source": [
    "# Initial naive modeling\n",
    "This is an effort to try creating a simple vectorfield to see if the discontinuities are plausible source locations. Each sensor location in the bounding box becomes a node with four vectors attached, one at each of the cardinal points of the compass. If the wind is blowing to the North, the vector attached to the north side of the node will be shown as pointing away from the node (an emitter) if the pollution is elevated; otherwise the vector will be shown pointing toward the node (a sink). In this scenario, we would expect to see this where P is a source of pollution and N are nodes:  \n",
    "<-- N <-- P --> N -->"
   ]
  },
  {
   "cell_type": "code",
   "execution_count": 1,
   "metadata": {},
   "outputs": [],
   "source": [
    "# import libraries\n",
    "import pandas as pd\n",
    "import numpy as np \n",
    "import warnings\n",
    "import sys\n",
    "sys.path.append(\"../SingleDayAnalysis/\")\n",
    "from getData import get_data\n",
    "\n",
    "warnings.filterwarnings('ignore')"
   ]
  },
  {
   "cell_type": "code",
   "execution_count": 2,
   "metadata": {},
   "outputs": [],
   "source": [
    "# for now, use one day of data from parquet file\n",
    "# grab sep27_full.parquet from the shared google drive\n",
    "\n",
    "# Ben's local path to the parquet file\n",
    "datafolder = \"../my_stash/data\""
   ]
  },
  {
   "cell_type": "code",
   "execution_count": 3,
   "metadata": {},
   "outputs": [],
   "source": [
    "# data_df = pd.read_parquet(\"{}/sep27_full.parquet\".format(datafolder))"
   ]
  },
  {
   "cell_type": "code",
   "execution_count": 4,
   "metadata": {},
   "outputs": [
    {
     "name": "stdout",
     "output_type": "stream",
     "text": [
      "File 20190927.parquet does not exist\n"
     ]
    }
   ],
   "source": [
    "# this call to get_data function that will take bounding box and timeframe and return cleaned data\n",
    "\n",
    "UP_LEFT = (38.008050, -122.536985)    # (lat, lon)\n",
    "UP_RIGHT = (38.008050, -122.186437)   # (lat, lon)\n",
    "DOWN_RIGHT = (37.701933, -122.186437) # (lat, lon)\n",
    "DOWN_LEFT = (37.701933, -122.536985)  # (lat, lon)\n",
    "START_DATE = '2019/09/27' # begin date to start taking data\n",
    "END_DATE = '2019/09/27'   # end date to start taking data\n",
    "START_HOUR = '10'         # hour EACH DAY to start, this allows us to control for time of day effects\n",
    "END_HOUR = '18'           # hour EACH DAY to end, this allows us to control for time of day effects\n",
    "\n",
    "data_df = get_data(UP_LEFT, UP_RIGHT, DOWN_RIGHT, DOWN_LEFT, START_DATE, END_DATE, START_HOUR, END_HOUR)"
   ]
  },
  {
   "cell_type": "code",
   "execution_count": null,
   "metadata": {},
   "outputs": [],
   "source": [
    "# remove rows with na data for 2_5um\n",
    "data_df = data_df[data_df['2_5um'].notna()]"
   ]
  },
  {
   "cell_type": "code",
   "execution_count": null,
   "metadata": {},
   "outputs": [],
   "source": [
    "# calculate average counts by sensor\n",
    "average_col = data_df.groupby(['sensor_id'])['2_5um'].mean() \n",
    "data_df = data_df.set_index(['sensor_id'])\n",
    "data_df['avg_2_5um'] = average_col\n",
    "data_df = data_df.reset_index() "
   ]
  },
  {
   "cell_type": "code",
   "execution_count": null,
   "metadata": {},
   "outputs": [],
   "source": [
    "# define direction degree range\n",
    "NORTH = (316,45)\n",
    "EAST = (46,135)\n",
    "SOUTH = (136,225)\n",
    "WEST = (226,315)"
   ]
  },
  {
   "cell_type": "code",
   "execution_count": null,
   "metadata": {},
   "outputs": [],
   "source": [
    "data_df.head()"
   ]
  },
  {
   "cell_type": "code",
   "execution_count": null,
   "metadata": {},
   "outputs": [],
   "source": [
    "# go through the dataframe and add new categorical column that indicates direction: \n",
    "# North, South, East, West, No wind, Missing, ERROR\n",
    "\n",
    "wind_compass = [] \n",
    "for row in range(len(data_df)):\n",
    "    try:\n",
    "        degree = int(data_df.loc[row].wind_direction)\n",
    "    except:\n",
    "        wind_compass.append('Missing')\n",
    "        continue\n",
    "    if data_df.loc[row].wind_speed == 0:\n",
    "        wind_compass.append('No wind')\n",
    "    elif degree >= NORTH[0] and degree <= NORTH[1]:\n",
    "        wind_compass.append('North')\n",
    "    elif degree >= EAST[0] and degree <= EAST[1]:\n",
    "        wind_compass.append('East')\n",
    "    elif degree >= SOUTH[0] and degree <= SOUTH[1]:\n",
    "        wind_compass.append('South')\n",
    "    elif degree >= WEST[0] and degree <= WEST[1]:\n",
    "        wind_compass.append('West')\n",
    "    else:\n",
    "        wind_compass.append('ERROR')\n",
    "data_df['wind_compass'] = wind_compass"
   ]
  },
  {
   "cell_type": "code",
   "execution_count": null,
   "metadata": {},
   "outputs": [],
   "source": [
    "# take a look at the counts. this is one day, so it may not show all possibilities.\n",
    "data_df.groupby('wind_compass').count()"
   ]
  },
  {
   "cell_type": "code",
   "execution_count": null,
   "metadata": {},
   "outputs": [],
   "source": [
    "# calculate average by compass counts\n",
    "\n",
    "# similar to above but need to do additional groupby on new categorical column 'wind_from_compass'\n",
    "# loop through each record, do a trig calculation based on angle to true direction, and sum up. \n",
    "# divide for avg and subtract the mean for the sensor from this average to get a +/- vector\n",
    "# add the five different vector values in a new column called 'vector'"
   ]
  },
  {
   "cell_type": "code",
   "execution_count": null,
   "metadata": {},
   "outputs": [],
   "source": [
    "# map the sensors on google maps api"
   ]
  },
  {
   "cell_type": "code",
   "execution_count": null,
   "metadata": {},
   "outputs": [],
   "source": [
    "# map the four vectors emerging from each direction off the sensor point"
   ]
  }
 ],
 "metadata": {
  "kernelspec": {
   "display_name": "Python 3",
   "language": "python",
   "name": "python3"
  },
  "language_info": {
   "codemirror_mode": {
    "name": "ipython",
    "version": 3
   },
   "file_extension": ".py",
   "mimetype": "text/x-python",
   "name": "python",
   "nbconvert_exporter": "python",
   "pygments_lexer": "ipython3",
   "version": "3.7.3"
  }
 },
 "nbformat": 4,
 "nbformat_minor": 4
}
