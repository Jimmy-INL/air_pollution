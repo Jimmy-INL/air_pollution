{
 "cells": [
  {
   "cell_type": "markdown",
   "metadata": {},
   "source": [
    "# Initial naive modeling\n",
    "This is an effort to try creating a simple vectorfield to see if the discontinuities are plausible source locations. Each sensor location in the bounding box becomes a node with four vectors attached, one at each of the cardinal points of the compass. If the wind is blowing to the North, the vector attached to the north side of the node will be shown as pointing away from the node (an emitter) if the pollution is elevated; otherwise the vector will be shown pointing toward the node (a sink). In this scenario, we would expect to see this where P is a source of pollution and N are nodes:  \n",
    "<-- N <-- P --> N -->"
   ]
  },
  {
   "cell_type": "code",
   "execution_count": null,
   "metadata": {},
   "outputs": [],
   "source": [
    "# import libraries\n",
    "import pandas as pd\n",
    "import numpy as np \n",
    "import warnings\n",
    "warnings.filterwarnings('ignore')"
   ]
  },
  {
   "cell_type": "code",
   "execution_count": null,
   "metadata": {},
   "outputs": [],
   "source": [
    "# set bounding box\n",
    "UP_LEFT = # (lat, lon)\n",
    "UP_RIGHT = # (lat, lon)\n",
    "DOWN_RIGHT = # (lat, lon)\n",
    "DOWN_LEFT = # (lat, lon)"
   ]
  },
  {
   "cell_type": "code",
   "execution_count": null,
   "metadata": {},
   "outputs": [],
   "source": [
    "# set timeframe\n",
    "START_DATE = # begin date to start taking data\n",
    "END_DATE = # end date to start taking data\n",
    "START_HOUR = # hour EACH DAY to start, this allows us to control for time of day effects\n",
    "END_HOUR = # hour EACH DAY to end, this allows us to control for time of day effects"
   ]
  },
  {
   "cell_type": "code",
   "execution_count": null,
   "metadata": {},
   "outputs": [],
   "source": [
    "# get data\n",
    "\n",
    "# month_df = get_data(UP_LEFT, UP_RIGHT, DOWN_RIGHT, DOWN_LEFT, START_DATE, END_DATE, START_HOUR, END_HOUR)\n",
    "# this call to get_data function that will take bounding box and timeframe and return cleaned data\n"
   ]
  },
  {
   "cell_type": "code",
   "execution_count": null,
   "metadata": {},
   "outputs": [],
   "source": [
    "# calculate average counts\n",
    "\n",
    "average_col = [] # a list that becomes a new column on our dataframe\n",
    "for sensor in month_df.groupby(sensor_id):\n",
    "    average = month_df.get_group(sensor_id)['2.5um/dl'].mean()\n",
    "    average_col.append([average] * len(month_df.get_group(sensor_id))])\n",
    "month_df['avg_2.5um/dl'] = average_col\n"
   ]
  },
  {
   "cell_type": "code",
   "execution_count": null,
   "metadata": {},
   "outputs": [],
   "source": [
    "# define direction degree range\n",
    "NORTH = (316,45)\n",
    "EAST = (46,135)\n",
    "SOUTH = (136,225)\n",
    "WEST = (226,315)"
   ]
  },
  {
   "cell_type": "code",
   "execution_count": null,
   "metadata": {},
   "outputs": [],
   "source": [
    "# go through the dataframe and add new categorical column that indicates direction: North, South, East, West, None"
   ]
  },
  {
   "cell_type": "code",
   "execution_count": null,
   "metadata": {},
   "outputs": [],
   "source": [
    "# calculate average by compass counts\n",
    "\n",
    "# similar to above but need to do additional groupby on new categorical column 'wind_from_compass'\n",
    "# loop through each record, do a trig calculation based on angle to true direction, and sum up. \n",
    "# divide for avg and subtract the mean for the sensor from this average to get a +/- vector\n",
    "# add the five different vector values in a new column called 'vector'"
   ]
  },
  {
   "cell_type": "code",
   "execution_count": 1,
   "metadata": {},
   "outputs": [],
   "source": [
    "# map the sensors on google maps api"
   ]
  },
  {
   "cell_type": "code",
   "execution_count": null,
   "metadata": {},
   "outputs": [],
   "source": [
    "# map the four vectors emerging from each direction off the sensor point"
   ]
  }
 ],
 "metadata": {
  "kernelspec": {
   "display_name": "Python 3",
   "language": "python",
   "name": "python3"
  },
  "language_info": {
   "codemirror_mode": {
    "name": "ipython",
    "version": 3
   },
   "file_extension": ".py",
   "mimetype": "text/x-python",
   "name": "python",
   "nbconvert_exporter": "python",
   "pygments_lexer": "ipython3",
   "version": "3.7.4"
  }
 },
 "nbformat": 4,
 "nbformat_minor": 4
}
