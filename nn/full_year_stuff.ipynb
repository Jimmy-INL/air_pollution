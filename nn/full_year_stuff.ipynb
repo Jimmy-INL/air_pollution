{
 "cells": [
  {
   "cell_type": "code",
   "execution_count": 1,
   "metadata": {},
   "outputs": [],
   "source": [
    "import pandas as pd\n",
    "import numpy as np \n",
    "import warnings\n",
    "import sys\n",
    "sys.path.append(\"../HistoricalData/\")\n",
    "from getData import get_data\n",
    "\n",
    "warnings.filterwarnings('ignore')\n",
    "\n",
    "from math import sin, cos, radians, pi\n",
    "import time\n",
    "from collections import defaultdict"
   ]
  },
  {
   "cell_type": "code",
   "execution_count": 2,
   "metadata": {},
   "outputs": [],
   "source": [
    "UP_LEFT = (38.008050, -122.536985)    \n",
    "UP_RIGHT = (38.008050, -122.186437)   \n",
    "DOWN_RIGHT = (37.701933, -122.186437) \n",
    "DOWN_LEFT = (37.701933, -122.536985)  \n",
    "START_DATE = '2018/09/01' \n",
    "END_DATE = '2019/09/02'   \n",
    "START_HOUR = '0'        \n",
    "END_HOUR = '24'           \n",
    "\n",
    "df = get_data(UP_LEFT, UP_RIGHT, DOWN_RIGHT, DOWN_LEFT, \n",
    "              START_DATE, END_DATE, START_HOUR, END_HOUR, 'Monthly')"
   ]
  },
  {
   "cell_type": "code",
   "execution_count": 5,
   "metadata": {},
   "outputs": [],
   "source": [
    "df['wind_direction'] = df['wind_direction'].map(lambda x: x if x is not None else 0)\n",
    "\n",
    "# fill in no wind times\n",
    "df['wind_speed'].fillna(0, inplace = True)\n",
    "df['wind_direction'].replace('', 0, inplace = True)\n",
    "\n",
    "# change VRB to 0\n",
    "vrb = df[df.wind_direction == \"VRB\"].index\n",
    "df.loc[vrb, 'wind_direction'] = 0\n",
    "df.loc[vrb, 'wind_speed'] = 0\n",
    "\n",
    "df['wind_x'] = df.apply(lambda x: x.wind_speed * cos(radians(int(x.wind_direction))), axis = 1)\n",
    "df['wind_y'] = df.apply(lambda x: x.wind_speed * sin(radians(int(x.wind_direction))), axis = 1)"
   ]
  },
  {
   "cell_type": "markdown",
   "metadata": {},
   "source": [
    "### mapping stuff to a grid"
   ]
  },
  {
   "cell_type": "code",
   "execution_count": 17,
   "metadata": {},
   "outputs": [],
   "source": [
    "boxes = pd.read_csv(\"boxes.csv\")"
   ]
  },
  {
   "cell_type": "code",
   "execution_count": 18,
   "metadata": {},
   "outputs": [
    {
     "data": {
      "text/html": [
       "<div>\n",
       "<style scoped>\n",
       "    .dataframe tbody tr th:only-of-type {\n",
       "        vertical-align: middle;\n",
       "    }\n",
       "\n",
       "    .dataframe tbody tr th {\n",
       "        vertical-align: top;\n",
       "    }\n",
       "\n",
       "    .dataframe thead th {\n",
       "        text-align: right;\n",
       "    }\n",
       "</style>\n",
       "<table border=\"1\" class=\"dataframe\">\n",
       "  <thead>\n",
       "    <tr style=\"text-align: right;\">\n",
       "      <th></th>\n",
       "      <th>min_lat</th>\n",
       "      <th>max_lat</th>\n",
       "      <th>min_lon</th>\n",
       "      <th>max_lon</th>\n",
       "      <th>x</th>\n",
       "      <th>y</th>\n",
       "      <th>center_lat</th>\n",
       "      <th>center_lon</th>\n",
       "      <th>elevation</th>\n",
       "    </tr>\n",
       "  </thead>\n",
       "  <tbody>\n",
       "    <tr>\n",
       "      <th>0</th>\n",
       "      <td>37.701933</td>\n",
       "      <td>37.705487</td>\n",
       "      <td>-122.536985</td>\n",
       "      <td>-122.532493</td>\n",
       "      <td>0</td>\n",
       "      <td>0</td>\n",
       "      <td>37.703710</td>\n",
       "      <td>-122.534739</td>\n",
       "      <td>-18.298014</td>\n",
       "    </tr>\n",
       "    <tr>\n",
       "      <th>1</th>\n",
       "      <td>37.705487</td>\n",
       "      <td>37.709040</td>\n",
       "      <td>-122.536985</td>\n",
       "      <td>-122.532493</td>\n",
       "      <td>0</td>\n",
       "      <td>1</td>\n",
       "      <td>37.707263</td>\n",
       "      <td>-122.534739</td>\n",
       "      <td>-17.159355</td>\n",
       "    </tr>\n",
       "    <tr>\n",
       "      <th>2</th>\n",
       "      <td>37.709040</td>\n",
       "      <td>37.712593</td>\n",
       "      <td>-122.536985</td>\n",
       "      <td>-122.532493</td>\n",
       "      <td>0</td>\n",
       "      <td>2</td>\n",
       "      <td>37.710817</td>\n",
       "      <td>-122.534739</td>\n",
       "      <td>-15.904209</td>\n",
       "    </tr>\n",
       "    <tr>\n",
       "      <th>3</th>\n",
       "      <td>37.712593</td>\n",
       "      <td>37.716147</td>\n",
       "      <td>-122.536985</td>\n",
       "      <td>-122.532493</td>\n",
       "      <td>0</td>\n",
       "      <td>3</td>\n",
       "      <td>37.714370</td>\n",
       "      <td>-122.534739</td>\n",
       "      <td>-14.731192</td>\n",
       "    </tr>\n",
       "    <tr>\n",
       "      <th>4</th>\n",
       "      <td>37.716147</td>\n",
       "      <td>37.719700</td>\n",
       "      <td>-122.536985</td>\n",
       "      <td>-122.532493</td>\n",
       "      <td>0</td>\n",
       "      <td>4</td>\n",
       "      <td>37.717923</td>\n",
       "      <td>-122.534739</td>\n",
       "      <td>-13.759017</td>\n",
       "    </tr>\n",
       "  </tbody>\n",
       "</table>\n",
       "</div>"
      ],
      "text/plain": [
       "     min_lat    max_lat     min_lon     max_lon  x  y  center_lat  center_lon  \\\n",
       "0  37.701933  37.705487 -122.536985 -122.532493  0  0   37.703710 -122.534739   \n",
       "1  37.705487  37.709040 -122.536985 -122.532493  0  1   37.707263 -122.534739   \n",
       "2  37.709040  37.712593 -122.536985 -122.532493  0  2   37.710817 -122.534739   \n",
       "3  37.712593  37.716147 -122.536985 -122.532493  0  3   37.714370 -122.534739   \n",
       "4  37.716147  37.719700 -122.536985 -122.532493  0  4   37.717923 -122.534739   \n",
       "\n",
       "   elevation  \n",
       "0 -18.298014  \n",
       "1 -17.159355  \n",
       "2 -15.904209  \n",
       "3 -14.731192  \n",
       "4 -13.759017  "
      ]
     },
     "execution_count": 18,
     "metadata": {},
     "output_type": "execute_result"
    }
   ],
   "source": [
    "boxes.head()"
   ]
  },
  {
   "cell_type": "code",
   "execution_count": 14,
   "metadata": {},
   "outputs": [],
   "source": [
    "def get_coords(line):\n",
    "    box = boxes[(boxes.min_lat < line.lat) & (boxes.max_lat > line.lat) & \n",
    "                (boxes.min_lon < line.lon) & (boxes.max_lon > line.lon)]\n",
    "    assert box.shape[0] == 1\n",
    "    return box.iloc[0, 4], box.iloc[0, 5] # x,y"
   ]
  },
  {
   "cell_type": "markdown",
   "metadata": {},
   "source": [
    "#### option a"
   ]
  },
  {
   "cell_type": "code",
   "execution_count": 11,
   "metadata": {},
   "outputs": [
    {
     "name": "stdout",
     "output_type": "stream",
     "text": [
      "CPU times: user 1h 44min 22s, sys: 28 s, total: 1h 44min 50s\n",
      "Wall time: 1h 43min 42s\n"
     ]
    }
   ],
   "source": [
    "%%time\n",
    "# option a\n",
    "df['xy'] = df.apply(get_coords, axis = 1)"
   ]
  },
  {
   "cell_type": "markdown",
   "metadata": {},
   "source": [
    "slow af\n",
    "\n",
    "#### option b"
   ]
  },
  {
   "cell_type": "code",
   "execution_count": 17,
   "metadata": {},
   "outputs": [
    {
     "name": "stdout",
     "output_type": "stream",
     "text": [
      "CPU times: user 621 ms, sys: 36 ms, total: 657 ms\n",
      "Wall time: 655 ms\n"
     ]
    }
   ],
   "source": [
    "%%time\n",
    "# option b\n",
    "sensor_locs = df[['sensor_id', 'lat', 'lon']].drop_duplicates()\n",
    "sensor_locs['xy_'] = sensor_locs.apply(get_coords, axis = 1)"
   ]
  },
  {
   "cell_type": "code",
   "execution_count": 18,
   "metadata": {},
   "outputs": [
    {
     "data": {
      "text/plain": [
       "count       186\n",
       "unique      185\n",
       "top       23927\n",
       "freq          2\n",
       "Name: sensor_id, dtype: int64"
      ]
     },
     "execution_count": 18,
     "metadata": {},
     "output_type": "execute_result"
    }
   ],
   "source": [
    "# do all sensors have the same location all the time\n",
    "sensor_locs['sensor_id'].astype(object).describe()"
   ]
  },
  {
   "cell_type": "markdown",
   "metadata": {},
   "source": [
    "no"
   ]
  },
  {
   "cell_type": "markdown",
   "metadata": {},
   "source": [
    "wtf that looks the same. dropping that row"
   ]
  },
  {
   "cell_type": "code",
   "execution_count": 20,
   "metadata": {},
   "outputs": [
    {
     "name": "stdout",
     "output_type": "stream",
     "text": [
      "CPU times: user 9.96 ms, sys: 219 µs, total: 10.2 ms\n",
      "Wall time: 8.54 ms\n"
     ]
    }
   ],
   "source": [
    "%%time\n",
    "# option b, continued\n",
    "sensor_locs = sensor_locs.drop_duplicates(subset=['sensor_id']) \\\n",
    "                         .assign(x = lambda d: sensor_locs['xy_'].map(lambda f:f[0]),\n",
    "                                 y = lambda d: sensor_locs['xy_'].map(lambda f:f[1])) \\\n",
    "                         .set_index('sensor_id')"
   ]
  },
  {
   "cell_type": "code",
   "execution_count": 21,
   "metadata": {},
   "outputs": [],
   "source": [
    "def get_elevation(line):\n",
    "    box = boxes[(boxes.x == line.x) & (boxes.y == line.y)]\n",
    "    return box.iloc[0,8]\n",
    "\n",
    "sensor_locs['elevation'] = sensor_locs.apply(get_elevation, axis = 1)"
   ]
  },
  {
   "cell_type": "code",
   "execution_count": 23,
   "metadata": {},
   "outputs": [
    {
     "name": "stdout",
     "output_type": "stream",
     "text": [
      "CPU times: user 1min 5s, sys: 104 ms, total: 1min 5s\n",
      "Wall time: 1min 4s\n"
     ]
    }
   ],
   "source": [
    "%%time\n",
    "# option b, continued\n",
    "df['x'] = df['sensor_id'].map(lambda s: sensor_locs.loc[s,'x'])\n",
    "df['y'] = df['sensor_id'].map(lambda s: sensor_locs.loc[s,'y'])"
   ]
  },
  {
   "cell_type": "markdown",
   "metadata": {},
   "source": [
    "well, all that was so much faster than the 1 hr, 44 m of option a\n",
    "\n",
    "### adding time_space_id"
   ]
  },
  {
   "cell_type": "code",
   "execution_count": 24,
   "metadata": {},
   "outputs": [
    {
     "data": {
      "text/plain": [
       "array(['00', '10', '20', '30', '40', '50'], dtype=object)"
      ]
     },
     "execution_count": 24,
     "metadata": {},
     "output_type": "execute_result"
    }
   ],
   "source": [
    "# are timestamps every 5 or 10 minutes\n",
    "df['minute'].unique()"
   ]
  },
  {
   "cell_type": "code",
   "execution_count": 64,
   "metadata": {},
   "outputs": [],
   "source": [
    "## all this x and y shit is for faster neighbor lookup\n",
    "import datetime\n",
    "\n",
    "def time_space(line):\n",
    "    \"\"\" takes x, y, created at\n",
    "    \n",
    "    returns string of form TTTT_x_y\n",
    "    \n",
    "    Where TTTT is unix timestamp divided by 600 (so an increment of 1 TTTT\n",
    "    is equivalent to 10 minutes, or how often we get readings)\n",
    "    \n",
    "    \"\"\"\n",
    "    \n",
    "    ts_ = int(datetime.datetime.strptime(line.created_at, \"%Y/%m/%dT%H:%M\").timestamp() / 600)\n",
    "    return f\"{ts_}_{line.x}_{line.y}\""
   ]
  },
  {
   "cell_type": "code",
   "execution_count": 65,
   "metadata": {},
   "outputs": [
    {
     "name": "stdout",
     "output_type": "stream",
     "text": [
      "CPU times: user 2min 59s, sys: 3.77 s, total: 3min 3s\n",
      "Wall time: 3min 3s\n"
     ]
    }
   ],
   "source": [
    "%%time\n",
    "df['time_space_id'] = df.apply(time_space, axis = 1)"
   ]
  },
  {
   "cell_type": "markdown",
   "metadata": {},
   "source": [
    "### adding satellite data"
   ]
  },
  {
   "cell_type": "code",
   "execution_count": 19,
   "metadata": {},
   "outputs": [],
   "source": [
    "### adding satellite data\n",
    "import rasterio\n",
    "\n",
    "dataset_a = rasterio.open('new_sent_a.tif') # north half of sentinel imagery\n",
    "dataset_b = rasterio.open('new_sent_b.tif') # south half of sentinel imagery\n",
    "ndvi = rasterio.open(\"new_ndvi.tif\") # normalized vegetation index\n",
    "\n",
    "banda1 = dataset_a.read(1)\n",
    "banda2 = dataset_a.read(2)\n",
    "banda3 = dataset_a.read(3)\n",
    "bandb1 = dataset_b.read(1)\n",
    "bandb2 = dataset_b.read(2)\n",
    "bandb3 = dataset_b.read(3)\n",
    "band_n = ndvi.read(1)"
   ]
  },
  {
   "cell_type": "code",
   "execution_count": 20,
   "metadata": {},
   "outputs": [],
   "source": [
    "def get_sentinel(line):\n",
    "    \n",
    "    ## use only on unique\n",
    "    \n",
    "    # if lat >  ...\n",
    "    if line.lat > 37.94758957156296:\n",
    "        # use dataset a, north half\n",
    "        r = banda1\n",
    "        g = banda2\n",
    "        b = banda3\n",
    "        \n",
    "        # 40-44 units corresponds to about 1 km\n",
    "        mid_row, mid_col = dataset_a.index(line.lon, line.lat)\n",
    "        \n",
    "        return np.dstack((r[mid_row - 20:mid_row + 20, mid_col-20:mid_col+20],\n",
    "                          g[mid_row - 20:mid_row + 20, mid_col-20:mid_col+20],\n",
    "                          b[mid_row - 20:mid_row + 20, mid_col-20:mid_col+20]))\n",
    "                \n",
    "        \n",
    "    else:\n",
    "        # use dataset b\n",
    "\n",
    "        r = bandb1\n",
    "        g = bandb2\n",
    "        b = bandb3\n",
    "        \n",
    "        mid_row, mid_col = dataset_b.index(line.lon, line.lat)\n",
    "        \n",
    "        return np.dstack((r[mid_row - 20:mid_row + 20, mid_col-20:mid_col+20],\n",
    "                          g[mid_row - 20:mid_row + 20, mid_col-20:mid_col+20],\n",
    "                          b[mid_row - 20:mid_row + 20, mid_col-20:mid_col+20]))\n",
    "        \n",
    "    \n",
    "def get_ndvi(line):\n",
    "    # get ndvi\n",
    "    row, col = ndvi.index(line.lon, line.lat)\n",
    "    \n",
    "    return band_n[row,col]"
   ]
  },
  {
   "cell_type": "code",
   "execution_count": 21,
   "metadata": {},
   "outputs": [],
   "source": [
    "boxes['ndvi'] = boxes.assign(lon = boxes['center_lon'], lat = boxes['center_lat']) \\\n",
    "                     .apply(get_ndvi, axis = 1)"
   ]
  },
  {
   "cell_type": "code",
   "execution_count": 22,
   "metadata": {},
   "outputs": [
    {
     "data": {
      "text/html": [
       "<div>\n",
       "<style scoped>\n",
       "    .dataframe tbody tr th:only-of-type {\n",
       "        vertical-align: middle;\n",
       "    }\n",
       "\n",
       "    .dataframe tbody tr th {\n",
       "        vertical-align: top;\n",
       "    }\n",
       "\n",
       "    .dataframe thead th {\n",
       "        text-align: right;\n",
       "    }\n",
       "</style>\n",
       "<table border=\"1\" class=\"dataframe\">\n",
       "  <thead>\n",
       "    <tr style=\"text-align: right;\">\n",
       "      <th></th>\n",
       "      <th>min_lat</th>\n",
       "      <th>max_lat</th>\n",
       "      <th>min_lon</th>\n",
       "      <th>max_lon</th>\n",
       "      <th>x</th>\n",
       "      <th>y</th>\n",
       "      <th>center_lat</th>\n",
       "      <th>center_lon</th>\n",
       "      <th>elevation</th>\n",
       "      <th>ndvi</th>\n",
       "    </tr>\n",
       "  </thead>\n",
       "  <tbody>\n",
       "    <tr>\n",
       "      <th>0</th>\n",
       "      <td>37.701933</td>\n",
       "      <td>37.705487</td>\n",
       "      <td>-122.536985</td>\n",
       "      <td>-122.532493</td>\n",
       "      <td>0</td>\n",
       "      <td>0</td>\n",
       "      <td>37.703710</td>\n",
       "      <td>-122.534739</td>\n",
       "      <td>-18.298014</td>\n",
       "      <td>-2000</td>\n",
       "    </tr>\n",
       "    <tr>\n",
       "      <th>1</th>\n",
       "      <td>37.705487</td>\n",
       "      <td>37.709040</td>\n",
       "      <td>-122.536985</td>\n",
       "      <td>-122.532493</td>\n",
       "      <td>0</td>\n",
       "      <td>1</td>\n",
       "      <td>37.707263</td>\n",
       "      <td>-122.534739</td>\n",
       "      <td>-17.159355</td>\n",
       "      <td>-2000</td>\n",
       "    </tr>\n",
       "    <tr>\n",
       "      <th>2</th>\n",
       "      <td>37.709040</td>\n",
       "      <td>37.712593</td>\n",
       "      <td>-122.536985</td>\n",
       "      <td>-122.532493</td>\n",
       "      <td>0</td>\n",
       "      <td>2</td>\n",
       "      <td>37.710817</td>\n",
       "      <td>-122.534739</td>\n",
       "      <td>-15.904209</td>\n",
       "      <td>-2000</td>\n",
       "    </tr>\n",
       "    <tr>\n",
       "      <th>3</th>\n",
       "      <td>37.712593</td>\n",
       "      <td>37.716147</td>\n",
       "      <td>-122.536985</td>\n",
       "      <td>-122.532493</td>\n",
       "      <td>0</td>\n",
       "      <td>3</td>\n",
       "      <td>37.714370</td>\n",
       "      <td>-122.534739</td>\n",
       "      <td>-14.731192</td>\n",
       "      <td>-2000</td>\n",
       "    </tr>\n",
       "    <tr>\n",
       "      <th>4</th>\n",
       "      <td>37.716147</td>\n",
       "      <td>37.719700</td>\n",
       "      <td>-122.536985</td>\n",
       "      <td>-122.532493</td>\n",
       "      <td>0</td>\n",
       "      <td>4</td>\n",
       "      <td>37.717923</td>\n",
       "      <td>-122.534739</td>\n",
       "      <td>-13.759017</td>\n",
       "      <td>-1999</td>\n",
       "    </tr>\n",
       "  </tbody>\n",
       "</table>\n",
       "</div>"
      ],
      "text/plain": [
       "     min_lat    max_lat     min_lon     max_lon  x  y  center_lat  center_lon  \\\n",
       "0  37.701933  37.705487 -122.536985 -122.532493  0  0   37.703710 -122.534739   \n",
       "1  37.705487  37.709040 -122.536985 -122.532493  0  1   37.707263 -122.534739   \n",
       "2  37.709040  37.712593 -122.536985 -122.532493  0  2   37.710817 -122.534739   \n",
       "3  37.712593  37.716147 -122.536985 -122.532493  0  3   37.714370 -122.534739   \n",
       "4  37.716147  37.719700 -122.536985 -122.532493  0  4   37.717923 -122.534739   \n",
       "\n",
       "   elevation  ndvi  \n",
       "0 -18.298014 -2000  \n",
       "1 -17.159355 -2000  \n",
       "2 -15.904209 -2000  \n",
       "3 -14.731192 -2000  \n",
       "4 -13.759017 -1999  "
      ]
     },
     "execution_count": 22,
     "metadata": {},
     "output_type": "execute_result"
    }
   ],
   "source": [
    "boxes.head()"
   ]
  },
  {
   "cell_type": "code",
   "execution_count": 5,
   "metadata": {},
   "outputs": [],
   "source": [
    "sensor_locs['ndvi'] = sensor_locs.apply(get_ndvi, axis = 1)\n",
    "sensor_locs['image'] = sensor_locs.apply(get_sentinel, axis = 1)"
   ]
  },
  {
   "cell_type": "code",
   "execution_count": 27,
   "metadata": {},
   "outputs": [],
   "source": [
    "dataset_a.close()\n",
    "dataset_b.close()\n",
    "ndvi.close()"
   ]
  },
  {
   "cell_type": "code",
   "execution_count": 31,
   "metadata": {},
   "outputs": [],
   "source": [
    "sensor_locs[['lat', 'lon', 'xy_', 'x', 'y', 'elevation', 'ndvi']].to_csv(\"sensor_locs.csv\")"
   ]
  },
  {
   "cell_type": "code",
   "execution_count": 2,
   "metadata": {},
   "outputs": [],
   "source": [
    "sensor_locs = pd.read_csv(\"sensor_locs.csv\")"
   ]
  },
  {
   "cell_type": "code",
   "execution_count": 12,
   "metadata": {},
   "outputs": [],
   "source": [
    "sensor_locs.set_index(\"sensor_id\", inplace = True)"
   ]
  },
  {
   "cell_type": "markdown",
   "metadata": {},
   "source": [
    "### final prep before splitting"
   ]
  },
  {
   "cell_type": "code",
   "execution_count": 34,
   "metadata": {},
   "outputs": [],
   "source": [
    "# clean up \n",
    "df.drop(columns = ['0_3um', '0_5um', '10_0um', '1_0um','5_0um',\n",
    "                   'agency_name', 'aqi', 'call_sign', 'call_sign2', 'call_sign3',\n",
    "                   'category', 'city', 'county', 'created','epa_pm25_unit', 'full_aqs_code',\n",
    "                   'gust_speed', 'gusts', 'hidden', 'high_reading_flag','interval', 'intl_aqs_code', 'is_owner',\n",
    "                   'parent_id', 'pm10_0', 'pm10_0_atm', 'pm1_0','pm1_0_atm', 'pm2_5_atm', 'pm2_5_cf_1', 'raw_concentration',\n",
    "                   'report_modifier', 'rssi','sensor_name', 'site_name','sys_maint_reqd','thingspeak_primary_id',\n",
    "                   'thingspeak_primary_id_read_key', 'thingspeak_secondary_id',\n",
    "                   'thingspeak_secondary_id_read_key','wban_number','zipcode', 'zulu_time'], inplace = True)"
   ]
  },
  {
   "cell_type": "code",
   "execution_count": 36,
   "metadata": {},
   "outputs": [],
   "source": [
    "# get vegetation index\n",
    "df['ndvi'] = df['sensor_id'].map(lambda x: sensor_locs.loc[x, 'ndvi'])"
   ]
  },
  {
   "cell_type": "code",
   "execution_count": 37,
   "metadata": {},
   "outputs": [],
   "source": [
    "# get image, flatten it\n",
    "df['img'] = df['sensor_id'].map(lambda x: sensor_locs.loc[x, 'image'].flatten())"
   ]
  },
  {
   "cell_type": "code",
   "execution_count": 38,
   "metadata": {},
   "outputs": [
    {
     "data": {
      "text/plain": [
       "Index(['2_5um', 'a_h', 'created_at', 'day', 'daytype', 'device_loc_typ',\n",
       "       'epa_pm25_value', 'hour', 'humidity', 'lat', 'lon', 'minute', 'month',\n",
       "       'sensor_id', 'temperature', 'timeofday', 'uptime', 'variable_wind_info',\n",
       "       'variable_winds', 'wind_compass', 'wind_data', 'wind_direction',\n",
       "       'wind_speed', 'wkday', 'year', 'wind_x', 'wind_y', 'xy', 'x', 'y',\n",
       "       'time_space_id', 'ndvi', 'img'],\n",
       "      dtype='object')"
      ]
     },
     "execution_count": 38,
     "metadata": {},
     "output_type": "execute_result"
    }
   ],
   "source": [
    "df.columns"
   ]
  },
  {
   "cell_type": "code",
   "execution_count": 66,
   "metadata": {},
   "outputs": [],
   "source": [
    "# checkpoint so I don't have to go through all this every time\n",
    "df.to_csv(\"big_df.csv\", index = False)"
   ]
  },
  {
   "cell_type": "code",
   "execution_count": 7,
   "metadata": {},
   "outputs": [],
   "source": [
    "df = pd.read_csv(\"big_df.csv\")"
   ]
  },
  {
   "cell_type": "code",
   "execution_count": 8,
   "metadata": {},
   "outputs": [],
   "source": [
    "from sklearn.model_selection import train_test_split\n",
    "target_var = '2_5um'\n",
    "\n",
    "X_train_and_dev, X_test, y_train_and_dev, y_test = train_test_split(df, \n",
    "                                                                    df[target_var], \n",
    "                                                                    test_size=0.20, \n",
    "                                                                    random_state=42)\n",
    "\n",
    "X_train, X_dev, y_train, y_dev = train_test_split(X_train_and_dev, y_train_and_dev, test_size=0.125, random_state=42)"
   ]
  },
  {
   "cell_type": "code",
   "execution_count": 9,
   "metadata": {},
   "outputs": [],
   "source": [
    "for col in ['epa_pm25_value', 'temperature', 'humidity']:\n",
    "    v = X_train[col].mean()\n",
    "    X_train[col].fillna(v, inplace = True)\n",
    "    X_dev[col].fillna(v, inplace = True)"
   ]
  },
  {
   "cell_type": "markdown",
   "metadata": {},
   "source": [
    "### now adding neighbors in time and space"
   ]
  },
  {
   "cell_type": "code",
   "execution_count": 69,
   "metadata": {},
   "outputs": [
    {
     "name": "stdout",
     "output_type": "stream",
     "text": [
      "CPU times: user 57.4 s, sys: 1.48 s, total: 58.9 s\n",
      "Wall time: 58.9 s\n"
     ]
    },
    {
     "data": {
      "text/plain": [
       "693545     None\n",
       "1074043    None\n",
       "1766540    None\n",
       "925741     None\n",
       "1178688    None\n",
       "           ... \n",
       "318553     None\n",
       "1404849    None\n",
       "925083     None\n",
       "1992413    None\n",
       "502077     None\n",
       "Length: 1909215, dtype: object"
      ]
     },
     "execution_count": 69,
     "metadata": {},
     "output_type": "execute_result"
    }
   ],
   "source": [
    "%%time\n",
    "# create a key value mapping of the from time_space_id:(row number in X_train)\n",
    "neighbor_lookup = defaultdict(list)\n",
    "X_train.apply(lambda x: neighbor_lookup[x.time_space_id].append(x.name), axis = 1)"
   ]
  },
  {
   "cell_type": "code",
   "execution_count": 71,
   "metadata": {},
   "outputs": [],
   "source": [
    "def get_neighbors_space_time(line, train_df, delta = 0):\n",
    "    \"\"\"\n",
    "    Inputs: single observation, a training dataframe, and a time delta\n",
    "    Outputs: vector of length 24 corresponding to surrounding neighbor observations\n",
    "    \"\"\"\n",
    "    if delta > 0:\n",
    "        raise Exception(\"Cannot see the future\")\n",
    "    \n",
    "    t, x, y = line.time_space_id.split(\"_\")\n",
    "    t = int(t)\n",
    "    x = int(x)\n",
    "    y = int(y)\n",
    "    neighbors = np.zeros((24))\n",
    "    \n",
    "    c = 0\n",
    "    for i in range(-2,3):\n",
    "        for j in range(-2,3):\n",
    "            if i == 0 and j == 0 : continue\n",
    "            n = neighbor_lookup[f\"{t + delta}_{x+i}_{y+j}\"] # get rows in train_df for that particular time-block\n",
    "            \n",
    "            if n:\n",
    "                neighbors[c] = train_df.loc[n, '2_5um'].mean()\n",
    "            c += 1\n",
    "    \n",
    "    return neighbors"
   ]
  },
  {
   "cell_type": "code",
   "execution_count": 72,
   "metadata": {},
   "outputs": [
    {
     "name": "stdout",
     "output_type": "stream",
     "text": [
      "CPU times: user 27min 57s, sys: 26.2 s, total: 28min 24s\n",
      "Wall time: 27min 36s\n"
     ]
    }
   ],
   "source": [
    "%%time\n",
    "X_train_neighbors = X_train.apply(lambda x: get_neighbors_space_time(x, X_train, delta = 0), axis =1)"
   ]
  },
  {
   "cell_type": "code",
   "execution_count": 73,
   "metadata": {},
   "outputs": [],
   "source": [
    "X_train_neighbors = np.array(X_train_neighbors.to_list())"
   ]
  },
  {
   "cell_type": "code",
   "execution_count": 74,
   "metadata": {},
   "outputs": [
    {
     "name": "stdout",
     "output_type": "stream",
     "text": [
      "CPU times: user 4min 2s, sys: 3.49 s, total: 4min 5s\n",
      "Wall time: 3min 57s\n"
     ]
    }
   ],
   "source": [
    "%%time\n",
    "X_dev_neighbors = X_dev.apply(lambda x: get_neighbors_space_time(x, X_train, delta = 0), axis =1)"
   ]
  },
  {
   "cell_type": "code",
   "execution_count": 75,
   "metadata": {},
   "outputs": [],
   "source": [
    "X_dev_neighbors = np.array(X_dev_neighbors.to_list())"
   ]
  },
  {
   "cell_type": "code",
   "execution_count": 9,
   "metadata": {},
   "outputs": [
    {
     "name": "stdout",
     "output_type": "stream",
     "text": [
      "349.55506000001685\n"
     ]
    }
   ],
   "source": [
    "cut_point = np.quantile(y_train, 0.999)\n",
    "print(cut_point)\n",
    "train_cut = (y_train < cut_point)\n",
    "dev_cut = (y_dev < cut_point)"
   ]
  },
  {
   "cell_type": "code",
   "execution_count": 22,
   "metadata": {},
   "outputs": [],
   "source": [
    "# i forgot about elevation, ffs\n",
    "df['elevation'] = df['sensor_id'].map(lambda x: sensor_locs.loc[x, 'elevation'])\n",
    "X_train['elevation'] = X_train['sensor_id'].map(lambda x: sensor_locs.loc[x, 'elevation'])\n",
    "X_dev['elevation'] = X_dev['sensor_id'].map(lambda x: sensor_locs.loc[x, 'elevation'])"
   ]
  },
  {
   "cell_type": "code",
   "execution_count": 41,
   "metadata": {},
   "outputs": [],
   "source": [
    "baseline_features = ['epa_pm25_value', 'humidity', 'temperature', 'wind_x', 'wind_y', 'ndvi', 'elevation']\n",
    "\n",
    "# cuts not yet applied\n",
    "X_train_base = X_train[baseline_features].to_numpy()\n",
    "X_dev_base = X_dev[baseline_features].to_numpy()\n",
    "\n",
    "# X_train_img = X_train[train_cut]['img'].to_numpy()\n",
    "# X_dev_img = X_dev[dev_cut]['img'].to_numpy()\n"
   ]
  },
  {
   "cell_type": "code",
   "execution_count": 13,
   "metadata": {},
   "outputs": [],
   "source": [
    "X_train_img = X_train['sensor_id'].map(lambda x: sensor_locs.loc[x, 'image'].flatten())\n",
    "X_train_img = np.stack(X_train_img.to_numpy())"
   ]
  },
  {
   "cell_type": "code",
   "execution_count": 20,
   "metadata": {},
   "outputs": [],
   "source": [
    "X_train['sensor_id'].to_csv(\"X_train_ids.csv\")\n",
    "X_dev['sensor_id'].to_csv(\"X_dev_ids.csv\")"
   ]
  },
  {
   "cell_type": "code",
   "execution_count": 15,
   "metadata": {},
   "outputs": [],
   "source": [
    "X_dev_img = X_dev['sensor_id'].map(lambda x: sensor_locs.loc[x, 'image'].flatten())\n",
    "X_dev_img = np.stack(X_dev_img.to_numpy())"
   ]
  },
  {
   "cell_type": "code",
   "execution_count": 16,
   "metadata": {},
   "outputs": [
    {
     "data": {
      "text/plain": [
       "(272746, 4800)"
      ]
     },
     "execution_count": 16,
     "metadata": {},
     "output_type": "execute_result"
    }
   ],
   "source": [
    "X_dev_img.shape"
   ]
  },
  {
   "cell_type": "code",
   "execution_count": 93,
   "metadata": {},
   "outputs": [],
   "source": [
    "y_train = y_train.to_numpy()\n",
    "y_dev = y_dev.to_numpy()"
   ]
  },
  {
   "cell_type": "code",
   "execution_count": null,
   "metadata": {},
   "outputs": [],
   "source": [
    "np.save(\"X_train_neighbors.npy\", X_train_neighbors)\n",
    "np.save(\"X_dev_neighbors.npy\", X_dev_neighbors)"
   ]
  },
  {
   "cell_type": "code",
   "execution_count": 42,
   "metadata": {},
   "outputs": [],
   "source": [
    "np.save(\"X_train_base.npy\", X_train_base)\n",
    "np.save(\"X_dev_base.npy\", X_dev_base)"
   ]
  },
  {
   "cell_type": "code",
   "execution_count": 34,
   "metadata": {},
   "outputs": [],
   "source": [
    "np.save(\"y_train.npy\", y_train)\n",
    "np.save(\"y_dev.npy\", y_dev)"
   ]
  },
  {
   "cell_type": "code",
   "execution_count": 17,
   "metadata": {},
   "outputs": [],
   "source": [
    "np.save(\"X_train_img.npy\", X_train_img)\n",
    "np.save(\"X_dev_img.npy\", X_dev_img)"
   ]
  },
  {
   "cell_type": "code",
   "execution_count": 5,
   "metadata": {},
   "outputs": [],
   "source": [
    "X_train_base = np.load(\"X_train_base.npy\")\n",
    "X_dev_base = np.load(\"X_dev_base.npy\")\n",
    "X_train_neighbors = np.load(\"X_train_neighbors.npy\")\n",
    "X_dev_neighbors = np.load(\"X_dev_neighbors.npy\")\n",
    "y_train = np.load(\"y_train.npy\")\n",
    "y_dev = np.load(\"y_dev.npy\")"
   ]
  },
  {
   "cell_type": "code",
   "execution_count": 6,
   "metadata": {},
   "outputs": [],
   "source": [
    "from sklearn.ensemble import RandomForestRegressor\n",
    "from sklearn.metrics import mean_squared_error,mean_absolute_error, r2_score"
   ]
  },
  {
   "cell_type": "code",
   "execution_count": 7,
   "metadata": {},
   "outputs": [],
   "source": [
    "%matplotlib inline\n",
    "from matplotlib import pyplot as plt\n",
    "\n",
    "def eval_model(actuals, preds, actuals_train, preds_train):\n",
    "    print(\"Train MSE:\", mean_squared_error(actuals_train, preds_train))\n",
    "    print(\"Train MAE:\", mean_absolute_error(actuals_train, preds_train))\n",
    "    print(\"Train R2:\", r2_score(actuals_train, preds_train))\n",
    "    \n",
    "    print(\"Dev MSE:\", mean_squared_error(actuals, preds))\n",
    "    print(\"Dev MAE:\", mean_absolute_error(actuals, preds))\n",
    "    print(\"Dev R2:\", r2_score(actuals, preds))\n",
    "    \n",
    "    errors = actuals - preds\n",
    "    \n",
    "    f, a = plt.subplots(ncols = 3, figsize = (15,5))\n",
    "    a[0].scatter(actuals, preds)\n",
    "    a[0].set_xlabel(\"actual values\")\n",
    "    a[0].set_ylabel(\"predicted dev values\")\n",
    "    \n",
    "    a[1].scatter(actuals, errors)\n",
    "    a[1].set_xlabel(\"actual values\")\n",
    "    a[1].set_ylabel(\"errors\")\n",
    "    \n",
    "    a[2].scatter(preds, errors)\n",
    "    a[2].set_xlabel(\"predicted values\")\n",
    "    a[2].set_ylabel(\"errors\")"
   ]
  },
  {
   "cell_type": "markdown",
   "metadata": {},
   "source": [
    "## baseline model without neighbors, images"
   ]
  },
  {
   "cell_type": "code",
   "execution_count": 94,
   "metadata": {},
   "outputs": [
    {
     "data": {
      "text/plain": [
       "RandomForestRegressor(bootstrap=True, criterion='mse', max_depth=None,\n",
       "                      max_features='auto', max_leaf_nodes=None,\n",
       "                      min_impurity_decrease=0.0, min_impurity_split=None,\n",
       "                      min_samples_leaf=1, min_samples_split=2,\n",
       "                      min_weight_fraction_leaf=0.0, n_estimators=25,\n",
       "                      n_jobs=None, oob_score=False, random_state=None,\n",
       "                      verbose=0, warm_start=False)"
      ]
     },
     "execution_count": 94,
     "metadata": {},
     "output_type": "execute_result"
    }
   ],
   "source": [
    "rf_1 = RandomForestRegressor(n_estimators = 25)\n",
    "rf_1.fit(X = X_train_base, \n",
    "         y = y_train[train_cut])"
   ]
  },
  {
   "cell_type": "code",
   "execution_count": 112,
   "metadata": {},
   "outputs": [],
   "source": [
    "preds_train = rf_1.predict(X_train_base)"
   ]
  },
  {
   "cell_type": "code",
   "execution_count": 95,
   "metadata": {},
   "outputs": [],
   "source": [
    "preds_1 = rf_1.predict(X_dev_base)"
   ]
  },
  {
   "cell_type": "code",
   "execution_count": 114,
   "metadata": {},
   "outputs": [
    {
     "name": "stdout",
     "output_type": "stream",
     "text": [
      "Train MSE: 5.676755175320684\n",
      "Train MAE: 0.9423110998419517\n",
      "Train R2: 0.9795049529691563\n",
      "Dev MSE: 35.01090960633057\n",
      "Dev MAE: 2.4274017871431446\n",
      "Dev R2: 0.8699549494350304\n"
     ]
    },
    {
     "data": {
      "image/png": "[encoded data removed]",
      "text/plain": [
       "<Figure size 1080x360 with 3 Axes>"
      ]
     },
     "metadata": {
      "needs_background": "light"
     },
     "output_type": "display_data"
    }
   ],
   "source": [
    "eval_model(y_dev[dev_cut], preds_1, y_train[train_cut], preds_train)"
   ]
  },
  {
   "cell_type": "code",
   "execution_count": 100,
   "metadata": {},
   "outputs": [
    {
     "data": {
      "text/plain": [
       "array([0.67210838, 0.07395246, 0.05516709, 0.03093518, 0.03806603,\n",
       "       0.06831566, 0.0614552 ])"
      ]
     },
     "execution_count": 100,
     "metadata": {},
     "output_type": "execute_result"
    }
   ],
   "source": [
    "rf_1.feature_importances_"
   ]
  },
  {
   "cell_type": "code",
   "execution_count": 101,
   "metadata": {},
   "outputs": [
    {
     "data": {
      "text/plain": [
       "array([0, 1, 5, 6, 2, 4, 3])"
      ]
     },
     "execution_count": 101,
     "metadata": {},
     "output_type": "execute_result"
    }
   ],
   "source": [
    "np.argsort(rf_1.feature_importances_)[::-1]"
   ]
  },
  {
   "cell_type": "markdown",
   "metadata": {},
   "source": [
    "for those keeping score at home, that's epa, (big dropoff) humidity, ndvi, elevation, temperature, wind_y, wind_x"
   ]
  },
  {
   "cell_type": "markdown",
   "metadata": {},
   "source": [
    "## + neighbors in space at t = 0 (this one did best on sept 2019 only)"
   ]
  },
  {
   "cell_type": "code",
   "execution_count": 38,
   "metadata": {},
   "outputs": [],
   "source": [
    "X_train_neighbors = np.load(\"X_train_neighbors.npy\")\n",
    "X_dev_neighbors = np.load(\"X_dev_neighbors.npy\")"
   ]
  },
  {
   "cell_type": "code",
   "execution_count": 10,
   "metadata": {},
   "outputs": [],
   "source": [
    "new = np.concatenate((X_train_base[train_cut],X_train_neighbors[train_cut]), axis = 1)"
   ]
  },
  {
   "cell_type": "code",
   "execution_count": 44,
   "metadata": {},
   "outputs": [
    {
     "data": {
      "text/plain": [
       "RandomForestRegressor(bootstrap=True, criterion='mse', max_depth=None,\n",
       "                      max_features='auto', max_leaf_nodes=None,\n",
       "                      min_impurity_decrease=0.0, min_impurity_split=None,\n",
       "                      min_samples_leaf=1, min_samples_split=2,\n",
       "                      min_weight_fraction_leaf=0.0, n_estimators=25,\n",
       "                      n_jobs=None, oob_score=False, random_state=None,\n",
       "                      verbose=0, warm_start=False)"
      ]
     },
     "execution_count": 44,
     "metadata": {},
     "output_type": "execute_result"
    }
   ],
   "source": [
    "rf_2 = RandomForestRegressor(n_estimators = 25)\n",
    "rf_2.fit(X = new, y = y_train[train_cut])"
   ]
  },
  {
   "cell_type": "code",
   "execution_count": 47,
   "metadata": {},
   "outputs": [],
   "source": [
    "train_preds = rf_2.predict(new)\n",
    "dev_preds = rf_2.predict(np.concatenate((X_dev_base[dev_cut], X_dev_neighbors[dev_cut]), axis =1))"
   ]
  },
  {
   "cell_type": "code",
   "execution_count": 48,
   "metadata": {},
   "outputs": [
    {
     "name": "stdout",
     "output_type": "stream",
     "text": [
      "Train MSE: 5.5928041914943245\n",
      "Train MAE: 0.8936817438517498\n",
      "Train R2: 0.9798080450188693\n",
      "Dev MSE: 34.079727586166435\n",
      "Dev MAE: 2.312775734920835\n",
      "Dev R2: 0.8734137459718544\n"
     ]
    },
    {
     "data": {
      "image/png": "[encoded data removed]",
      "text/plain": [
       "<Figure size 1080x360 with 3 Axes>"
      ]
     },
     "metadata": {
      "needs_background": "light"
     },
     "output_type": "display_data"
    }
   ],
   "source": [
    "eval_model(y_dev[dev_cut], dev_preds, y_train[train_cut], train_preds)"
   ]
  },
  {
   "cell_type": "code",
   "execution_count": 11,
   "metadata": {},
   "outputs": [
    {
     "data": {
      "text/plain": [
       "RandomForestRegressor(bootstrap=True, criterion='mse', max_depth=None,\n",
       "                      max_features='sqrt', max_leaf_nodes=None,\n",
       "                      min_impurity_decrease=0.0, min_impurity_split=None,\n",
       "                      min_samples_leaf=1, min_samples_split=2,\n",
       "                      min_weight_fraction_leaf=0.0, n_estimators=100,\n",
       "                      n_jobs=None, oob_score=False, random_state=None,\n",
       "                      verbose=0, warm_start=False)"
      ]
     },
     "execution_count": 11,
     "metadata": {},
     "output_type": "execute_result"
    }
   ],
   "source": [
    "rf_3 = RandomForestRegressor(n_estimators = 100, max_features = 'sqrt')\n",
    "rf_3.fit(X = new, y = y_train[train_cut])"
   ]
  },
  {
   "cell_type": "code",
   "execution_count": 12,
   "metadata": {},
   "outputs": [],
   "source": [
    "train_preds = rf_3.predict(new)\n",
    "dev_preds = rf_3.predict(np.concatenate((X_dev_base[dev_cut], X_dev_neighbors[dev_cut]), axis =1))"
   ]
  },
  {
   "cell_type": "code",
   "execution_count": 13,
   "metadata": {},
   "outputs": [
    {
     "name": "stdout",
     "output_type": "stream",
     "text": [
      "Train MSE: 4.842649028019952\n",
      "Train MAE: 0.8482625125398314\n",
      "Train R2: 0.9825163642753835\n",
      "Dev MSE: 33.22355682164297\n",
      "Dev MAE: 2.2543818063814185\n",
      "Dev R2: 0.8765939195696455\n"
     ]
    },
    {
     "data": {
      "image/png": "[encoded data removed]",
      "text/plain": [
       "<Figure size 1080x360 with 3 Axes>"
      ]
     },
     "metadata": {
      "needs_background": "light"
     },
     "output_type": "display_data"
    }
   ],
   "source": [
    "eval_model(y_dev[dev_cut], dev_preds, y_train[train_cut], train_preds)"
   ]
  },
  {
   "cell_type": "code",
   "execution_count": 36,
   "metadata": {},
   "outputs": [],
   "source": [
    "feature_names = ['epa_pm25_value', 'humidity', 'temperature', 'wind_x', 'wind_y', 'ndvi', 'elevation'] + [f'neighbor_{m}' for m in range(0,24)]"
   ]
  },
  {
   "cell_type": "code",
   "execution_count": 39,
   "metadata": {},
   "outputs": [
    {
     "name": "stdout",
     "output_type": "stream",
     "text": [
      "epa_pm25_value 0.5994267335786873\n",
      "humidity 0.06084883789286311\n",
      "ndvi 0.05121099889896335\n",
      "temperature 0.05067800214405503\n",
      "elevation 0.048090833149268285\n",
      "wind_y 0.036019049310874275\n",
      "wind_x 0.02929211964286956\n",
      "neighbor_23 0.02254700576270408\n",
      "neighbor_0 0.02066557754496286\n",
      "neighbor_13 0.010888709985364226\n",
      "neighbor_7 0.008821660422832825\n",
      "neighbor_9 0.006822284510436933\n",
      "neighbor_14 0.006213203419166636\n",
      "neighbor_10 0.005727952658628729\n",
      "neighbor_16 0.005562271845946313\n",
      "neighbor_20 0.004432600969436216\n",
      "neighbor_19 0.003960333927529572\n",
      "neighbor_1 0.0030929885583891783\n",
      "neighbor_11 0.002861508092519503\n",
      "neighbor_2 0.002775433871930388\n",
      "neighbor_3 0.0026546616473925137\n",
      "neighbor_21 0.002606157865060363\n",
      "neighbor_4 0.002459773246043322\n",
      "neighbor_22 0.0024542080880804477\n",
      "neighbor_6 0.0018760058849550808\n",
      "neighbor_12 0.0018385536937837396\n",
      "neighbor_15 0.0015933085376697747\n",
      "neighbor_17 0.001575098893466523\n",
      "neighbor_8 0.00128112286066242\n",
      "neighbor_18 0.001111340990510139\n",
      "neighbor_5 0.0006116621049471736\n"
     ]
    }
   ],
   "source": [
    "fi = rf_3.feature_importances_\n",
    "for f in np.argsort(rf_3.feature_importances_)[::-1]:\n",
    "    print(feature_names[f], fi[f])"
   ]
  },
  {
   "cell_type": "markdown",
   "metadata": {},
   "source": [
    "in order: epa_pm25_value, 'humidity', 'ndvi', 'temperature', 'elevation','wind_x', 'wind_y', then all the neighbor ones"
   ]
  },
  {
   "cell_type": "code",
   "execution_count": 15,
   "metadata": {},
   "outputs": [
    {
     "data": {
      "text/plain": [
       "['201901103_RF.joblib']"
      ]
     },
     "execution_count": 15,
     "metadata": {},
     "output_type": "execute_result"
    }
   ],
   "source": [
    "from joblib import dump, load\n",
    "dump(rf_3, '201901103_RF.joblib') "
   ]
  },
  {
   "cell_type": "code",
   "execution_count": 35,
   "metadata": {},
   "outputs": [
    {
     "data": {
      "text/plain": [
       "CompletedProcess(args='/home/ubuntu/miniconda3/bin/aws s3 cp new_ndvi.tif s3://capstone-air-pollution/model_stuff/new_ndvi.tif', returncode=0)"
      ]
     },
     "execution_count": 35,
     "metadata": {},
     "output_type": "execute_result"
    }
   ],
   "source": [
    "import subprocess\n",
    "subprocess.run(f\"/home/ubuntu/miniconda3/bin/aws s3 cp new_ndvi.tif s3://capstone-air-pollution/model_stuff/new_ndvi.tif\", shell = True)"
   ]
  },
  {
   "cell_type": "markdown",
   "metadata": {},
   "source": [
    "## + neighbors in space at t = 0 and t = -1 (has not been tried yet)"
   ]
  },
  {
   "cell_type": "code",
   "execution_count": null,
   "metadata": {},
   "outputs": [],
   "source": []
  },
  {
   "cell_type": "code",
   "execution_count": null,
   "metadata": {},
   "outputs": [],
   "source": []
  },
  {
   "cell_type": "code",
   "execution_count": null,
   "metadata": {},
   "outputs": [],
   "source": []
  },
  {
   "cell_type": "markdown",
   "metadata": {},
   "source": [
    "## + images"
   ]
  },
  {
   "cell_type": "code",
   "execution_count": 23,
   "metadata": {},
   "outputs": [],
   "source": [
    "from sklearn.decomposition import PCA"
   ]
  },
  {
   "cell_type": "code",
   "execution_count": 26,
   "metadata": {},
   "outputs": [
    {
     "ename": "MemoryError",
     "evalue": "Unable to allocate array with shape (1907305, 4800) and data type float64",
     "output_type": "error",
     "traceback": [
      "\u001b[0;31m---------------------------------------------------------------------------\u001b[0m",
      "\u001b[0;31mMemoryError\u001b[0m                               Traceback (most recent call last)",
      "\u001b[0;32m<ipython-input-26-a7737dac0cd6>\u001b[0m in \u001b[0;36m<module>\u001b[0;34m\u001b[0m\n\u001b[1;32m      1\u001b[0m \u001b[0mpca\u001b[0m \u001b[0;34m=\u001b[0m \u001b[0mPCA\u001b[0m\u001b[0;34m(\u001b[0m\u001b[0mn_components\u001b[0m \u001b[0;34m=\u001b[0m \u001b[0;36m100\u001b[0m\u001b[0;34m)\u001b[0m\u001b[0;34m\u001b[0m\u001b[0;34m\u001b[0m\u001b[0m\n\u001b[0;32m----> 2\u001b[0;31m \u001b[0mpca_train\u001b[0m \u001b[0;34m=\u001b[0m \u001b[0mpca\u001b[0m\u001b[0;34m.\u001b[0m\u001b[0mfit_transform\u001b[0m\u001b[0;34m(\u001b[0m\u001b[0mX_train_img\u001b[0m\u001b[0;34m[\u001b[0m\u001b[0mtrain_cut\u001b[0m\u001b[0;34m]\u001b[0m\u001b[0;34m)\u001b[0m\u001b[0;34m\u001b[0m\u001b[0;34m\u001b[0m\u001b[0m\n\u001b[0m",
      "\u001b[0;32m~/miniconda3/envs/tf/lib/python3.7/site-packages/sklearn/decomposition/pca.py\u001b[0m in \u001b[0;36mfit_transform\u001b[0;34m(self, X, y)\u001b[0m\n\u001b[1;32m    358\u001b[0m \u001b[0;34m\u001b[0m\u001b[0m\n\u001b[1;32m    359\u001b[0m         \"\"\"\n\u001b[0;32m--> 360\u001b[0;31m         \u001b[0mU\u001b[0m\u001b[0;34m,\u001b[0m \u001b[0mS\u001b[0m\u001b[0;34m,\u001b[0m \u001b[0mV\u001b[0m \u001b[0;34m=\u001b[0m \u001b[0mself\u001b[0m\u001b[0;34m.\u001b[0m\u001b[0m_fit\u001b[0m\u001b[0;34m(\u001b[0m\u001b[0mX\u001b[0m\u001b[0;34m)\u001b[0m\u001b[0;34m\u001b[0m\u001b[0;34m\u001b[0m\u001b[0m\n\u001b[0m\u001b[1;32m    361\u001b[0m         \u001b[0mU\u001b[0m \u001b[0;34m=\u001b[0m \u001b[0mU\u001b[0m\u001b[0;34m[\u001b[0m\u001b[0;34m:\u001b[0m\u001b[0;34m,\u001b[0m \u001b[0;34m:\u001b[0m\u001b[0mself\u001b[0m\u001b[0;34m.\u001b[0m\u001b[0mn_components_\u001b[0m\u001b[0;34m]\u001b[0m\u001b[0;34m\u001b[0m\u001b[0;34m\u001b[0m\u001b[0m\n\u001b[1;32m    362\u001b[0m \u001b[0;34m\u001b[0m\u001b[0m\n",
      "\u001b[0;32m~/miniconda3/envs/tf/lib/python3.7/site-packages/sklearn/decomposition/pca.py\u001b[0m in \u001b[0;36m_fit\u001b[0;34m(self, X)\u001b[0m\n\u001b[1;32m    380\u001b[0m \u001b[0;34m\u001b[0m\u001b[0m\n\u001b[1;32m    381\u001b[0m         X = check_array(X, dtype=[np.float64, np.float32], ensure_2d=True,\n\u001b[0;32m--> 382\u001b[0;31m                         copy=self.copy)\n\u001b[0m\u001b[1;32m    383\u001b[0m \u001b[0;34m\u001b[0m\u001b[0m\n\u001b[1;32m    384\u001b[0m         \u001b[0;31m# Handle n_components==None\u001b[0m\u001b[0;34m\u001b[0m\u001b[0;34m\u001b[0m\u001b[0;34m\u001b[0m\u001b[0m\n",
      "\u001b[0;32m~/miniconda3/envs/tf/lib/python3.7/site-packages/sklearn/utils/validation.py\u001b[0m in \u001b[0;36mcheck_array\u001b[0;34m(array, accept_sparse, accept_large_sparse, dtype, order, copy, force_all_finite, ensure_2d, allow_nd, ensure_min_samples, ensure_min_features, warn_on_dtype, estimator)\u001b[0m\n\u001b[1;32m    494\u001b[0m             \u001b[0;32mtry\u001b[0m\u001b[0;34m:\u001b[0m\u001b[0;34m\u001b[0m\u001b[0;34m\u001b[0m\u001b[0m\n\u001b[1;32m    495\u001b[0m                 \u001b[0mwarnings\u001b[0m\u001b[0;34m.\u001b[0m\u001b[0msimplefilter\u001b[0m\u001b[0;34m(\u001b[0m\u001b[0;34m'error'\u001b[0m\u001b[0;34m,\u001b[0m \u001b[0mComplexWarning\u001b[0m\u001b[0;34m)\u001b[0m\u001b[0;34m\u001b[0m\u001b[0;34m\u001b[0m\u001b[0m\n\u001b[0;32m--> 496\u001b[0;31m                 \u001b[0marray\u001b[0m \u001b[0;34m=\u001b[0m \u001b[0mnp\u001b[0m\u001b[0;34m.\u001b[0m\u001b[0masarray\u001b[0m\u001b[0;34m(\u001b[0m\u001b[0marray\u001b[0m\u001b[0;34m,\u001b[0m \u001b[0mdtype\u001b[0m\u001b[0;34m=\u001b[0m\u001b[0mdtype\u001b[0m\u001b[0;34m,\u001b[0m \u001b[0morder\u001b[0m\u001b[0;34m=\u001b[0m\u001b[0morder\u001b[0m\u001b[0;34m)\u001b[0m\u001b[0;34m\u001b[0m\u001b[0;34m\u001b[0m\u001b[0m\n\u001b[0m\u001b[1;32m    497\u001b[0m             \u001b[0;32mexcept\u001b[0m \u001b[0mComplexWarning\u001b[0m\u001b[0;34m:\u001b[0m\u001b[0;34m\u001b[0m\u001b[0;34m\u001b[0m\u001b[0m\n\u001b[1;32m    498\u001b[0m                 raise ValueError(\"Complex data not supported\\n\"\n",
      "\u001b[0;32m~/miniconda3/envs/tf/lib/python3.7/site-packages/numpy/core/_asarray.py\u001b[0m in \u001b[0;36masarray\u001b[0;34m(a, dtype, order)\u001b[0m\n\u001b[1;32m     83\u001b[0m \u001b[0;34m\u001b[0m\u001b[0m\n\u001b[1;32m     84\u001b[0m     \"\"\"\n\u001b[0;32m---> 85\u001b[0;31m     \u001b[0;32mreturn\u001b[0m \u001b[0marray\u001b[0m\u001b[0;34m(\u001b[0m\u001b[0ma\u001b[0m\u001b[0;34m,\u001b[0m \u001b[0mdtype\u001b[0m\u001b[0;34m,\u001b[0m \u001b[0mcopy\u001b[0m\u001b[0;34m=\u001b[0m\u001b[0;32mFalse\u001b[0m\u001b[0;34m,\u001b[0m \u001b[0morder\u001b[0m\u001b[0;34m=\u001b[0m\u001b[0morder\u001b[0m\u001b[0;34m)\u001b[0m\u001b[0;34m\u001b[0m\u001b[0;34m\u001b[0m\u001b[0m\n\u001b[0m\u001b[1;32m     86\u001b[0m \u001b[0;34m\u001b[0m\u001b[0m\n\u001b[1;32m     87\u001b[0m \u001b[0;34m\u001b[0m\u001b[0m\n",
      "\u001b[0;31mMemoryError\u001b[0m: Unable to allocate array with shape (1907305, 4800) and data type float64"
     ]
    }
   ],
   "source": [
    "pca = PCA(n_components = 100)\n",
    "pca_train = pca.fit_transform(X_train_img[train_cut])"
   ]
  },
  {
   "cell_type": "code",
   "execution_count": null,
   "metadata": {},
   "outputs": [],
   "source": []
  }
 ],
 "metadata": {
  "kernelspec": {
   "display_name": "Python [conda env:tf]",
   "language": "python",
   "name": "conda-env-tf-py"
  },
  "language_info": {
   "codemirror_mode": {
    "name": "ipython",
    "version": 3
   },
   "file_extension": ".py",
   "mimetype": "text/x-python",
   "name": "python",
   "nbconvert_exporter": "python",
   "pygments_lexer": "ipython3",
   "version": "3.7.3"
  }
 },
 "nbformat": 4,
 "nbformat_minor": 2
}
