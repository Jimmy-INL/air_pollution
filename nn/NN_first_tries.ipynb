{
 "cells": [
  {
   "cell_type": "code",
   "execution_count": 2,
   "metadata": {},
   "outputs": [],
   "source": [
    "import pandas as pd\n",
    "import numpy as np \n",
    "import warnings\n",
    "import sys\n",
    "sys.path.append(\"../HistoricalData/\")\n",
    "#from getData import get_data\n",
    "\n",
    "warnings.filterwarnings('ignore')\n",
    "\n",
    "from math import sin, cos, radians, pi\n",
    "import time\n",
    "from collections import defaultdict"
   ]
  },
  {
   "cell_type": "code",
   "execution_count": 4,
   "metadata": {},
   "outputs": [],
   "source": [
    "UP_LEFT = (38.008050, -122.536985)    \n",
    "UP_RIGHT = (38.008050, -122.186437)   \n",
    "DOWN_RIGHT = (37.701933, -122.186437) \n",
    "DOWN_LEFT = (37.701933, -122.536985)  \n",
    "START_DATE = '2019/09/01' \n",
    "END_DATE = '2019/09/02'   \n",
    "START_HOUR = '0'        \n",
    "END_HOUR = '24'           \n",
    "\n",
    "df = get_data(UP_LEFT, UP_RIGHT, DOWN_RIGHT, DOWN_LEFT, START_DATE, END_DATE, START_HOUR, END_HOUR, 'Monthly')"
   ]
  },
  {
   "cell_type": "code",
   "execution_count": 18,
   "metadata": {},
   "outputs": [],
   "source": [
    "df['wind_direction'] = df['wind_direction'].map(lambda x: x if x is not None else 0)\n",
    "\n",
    "# fill in no wind times\n",
    "df['wind_speed'].fillna(0, inplace = True)\n",
    "df['wind_direction'].replace('', 0, inplace = True)\n",
    "\n",
    "# change VRB to 0\n",
    "vrb = df[df.wind_direction == \"VRB\"].index\n",
    "df.loc[vrb, 'wind_direction'] = 0\n",
    "df.loc[vrb, 'wind_speed'] = 0"
   ]
  },
  {
   "cell_type": "code",
   "execution_count": 19,
   "metadata": {},
   "outputs": [],
   "source": [
    "df['wind_x'] = df.apply(lambda x: x.wind_speed * cos(radians(int(x.wind_direction))), axis = 1)\n",
    "df['wind_y'] = df.apply(lambda x: x.wind_speed * sin(radians(int(x.wind_direction))), axis = 1)"
   ]
  },
  {
   "cell_type": "markdown",
   "metadata": {},
   "source": [
    "brainstorming features ...\n",
    "- temperature\n",
    "- elevation\n",
    "- humidity\n",
    "- ndvi\n",
    "- features of neighboring squares"
   ]
  },
  {
   "cell_type": "code",
   "execution_count": 20,
   "metadata": {},
   "outputs": [
    {
     "data": {
      "text/html": [
       "<div>\n",
       "<style scoped>\n",
       "    .dataframe tbody tr th:only-of-type {\n",
       "        vertical-align: middle;\n",
       "    }\n",
       "\n",
       "    .dataframe tbody tr th {\n",
       "        vertical-align: top;\n",
       "    }\n",
       "\n",
       "    .dataframe thead th {\n",
       "        text-align: right;\n",
       "    }\n",
       "</style>\n",
       "<table border=\"1\" class=\"dataframe\">\n",
       "  <thead>\n",
       "    <tr style=\"text-align: right;\">\n",
       "      <th></th>\n",
       "      <th>wind_data</th>\n",
       "      <th>wind_direction</th>\n",
       "      <th>wind_speed</th>\n",
       "      <th>variable_winds</th>\n",
       "      <th>variable_wind_info</th>\n",
       "      <th>wind_compass</th>\n",
       "      <th>wind_x</th>\n",
       "      <th>wind_y</th>\n",
       "    </tr>\n",
       "  </thead>\n",
       "  <tbody>\n",
       "    <tr>\n",
       "      <th>0</th>\n",
       "      <td>1.0</td>\n",
       "      <td>280</td>\n",
       "      <td>7.0</td>\n",
       "      <td>0.0</td>\n",
       "      <td></td>\n",
       "      <td>West</td>\n",
       "      <td>1.215537</td>\n",
       "      <td>-6.893654</td>\n",
       "    </tr>\n",
       "    <tr>\n",
       "      <th>1</th>\n",
       "      <td>1.0</td>\n",
       "      <td>290</td>\n",
       "      <td>7.0</td>\n",
       "      <td>0.0</td>\n",
       "      <td></td>\n",
       "      <td>ERROR</td>\n",
       "      <td>2.394141</td>\n",
       "      <td>-6.577848</td>\n",
       "    </tr>\n",
       "    <tr>\n",
       "      <th>2</th>\n",
       "      <td>1.0</td>\n",
       "      <td>280</td>\n",
       "      <td>8.0</td>\n",
       "      <td>0.0</td>\n",
       "      <td></td>\n",
       "      <td>West</td>\n",
       "      <td>1.389185</td>\n",
       "      <td>-7.878462</td>\n",
       "    </tr>\n",
       "    <tr>\n",
       "      <th>3</th>\n",
       "      <td>1.0</td>\n",
       "      <td>280</td>\n",
       "      <td>8.0</td>\n",
       "      <td>0.0</td>\n",
       "      <td></td>\n",
       "      <td>West</td>\n",
       "      <td>1.389185</td>\n",
       "      <td>-7.878462</td>\n",
       "    </tr>\n",
       "    <tr>\n",
       "      <th>4</th>\n",
       "      <td>1.0</td>\n",
       "      <td>280</td>\n",
       "      <td>8.0</td>\n",
       "      <td>0.0</td>\n",
       "      <td></td>\n",
       "      <td>West</td>\n",
       "      <td>1.389185</td>\n",
       "      <td>-7.878462</td>\n",
       "    </tr>\n",
       "  </tbody>\n",
       "</table>\n",
       "</div>"
      ],
      "text/plain": [
       "   wind_data wind_direction  wind_speed  variable_winds variable_wind_info  \\\n",
       "0        1.0            280         7.0             0.0                      \n",
       "1        1.0            290         7.0             0.0                      \n",
       "2        1.0            280         8.0             0.0                      \n",
       "3        1.0            280         8.0             0.0                      \n",
       "4        1.0            280         8.0             0.0                      \n",
       "\n",
       "  wind_compass    wind_x    wind_y  \n",
       "0         West  1.215537 -6.893654  \n",
       "1        ERROR  2.394141 -6.577848  \n",
       "2         West  1.389185 -7.878462  \n",
       "3         West  1.389185 -7.878462  \n",
       "4         West  1.389185 -7.878462  "
      ]
     },
     "execution_count": 20,
     "metadata": {},
     "output_type": "execute_result"
    }
   ],
   "source": [
    "# features ...\n",
    "df[[col for col in df.columns if \"wind\" in col]].head()"
   ]
  },
  {
   "cell_type": "code",
   "execution_count": 21,
   "metadata": {},
   "outputs": [],
   "source": [
    "sensor_locs = df.apply(lambda x: (x.lat, x.lon), axis  = 1).drop_duplicates()"
   ]
  },
  {
   "cell_type": "code",
   "execution_count": 24,
   "metadata": {},
   "outputs": [],
   "source": [
    "sensor_locs.to_csv(\"sensor_locs.csv\")"
   ]
  },
  {
   "cell_type": "code",
   "execution_count": 25,
   "metadata": {},
   "outputs": [],
   "source": [
    "df.to_csv(\"chkpnt.csv\", index = False)"
   ]
  },
  {
   "cell_type": "markdown",
   "metadata": {},
   "source": [
    "## adding grid"
   ]
  },
  {
   "cell_type": "code",
   "execution_count": 2,
   "metadata": {},
   "outputs": [],
   "source": [
    "df = pd.read_csv(\"chkpnt.csv\")"
   ]
  },
  {
   "cell_type": "code",
   "execution_count": 6,
   "metadata": {},
   "outputs": [],
   "source": [
    "boxes = pd.read_csv(\"boxes.csv\")"
   ]
  },
  {
   "cell_type": "code",
   "execution_count": 7,
   "metadata": {},
   "outputs": [
    {
     "data": {
      "text/html": [
       "<div>\n",
       "<style scoped>\n",
       "    .dataframe tbody tr th:only-of-type {\n",
       "        vertical-align: middle;\n",
       "    }\n",
       "\n",
       "    .dataframe tbody tr th {\n",
       "        vertical-align: top;\n",
       "    }\n",
       "\n",
       "    .dataframe thead th {\n",
       "        text-align: right;\n",
       "    }\n",
       "</style>\n",
       "<table border=\"1\" class=\"dataframe\">\n",
       "  <thead>\n",
       "    <tr style=\"text-align: right;\">\n",
       "      <th></th>\n",
       "      <th>min_lat</th>\n",
       "      <th>max_lat</th>\n",
       "      <th>min_lon</th>\n",
       "      <th>max_lon</th>\n",
       "      <th>x</th>\n",
       "      <th>y</th>\n",
       "      <th>center_lat</th>\n",
       "      <th>center_lon</th>\n",
       "      <th>elevation</th>\n",
       "    </tr>\n",
       "  </thead>\n",
       "  <tbody>\n",
       "    <tr>\n",
       "      <th>0</th>\n",
       "      <td>37.701933</td>\n",
       "      <td>37.705487</td>\n",
       "      <td>-122.536985</td>\n",
       "      <td>-122.532493</td>\n",
       "      <td>0</td>\n",
       "      <td>0</td>\n",
       "      <td>37.703710</td>\n",
       "      <td>-122.534739</td>\n",
       "      <td>-18.298014</td>\n",
       "    </tr>\n",
       "    <tr>\n",
       "      <th>1</th>\n",
       "      <td>37.705487</td>\n",
       "      <td>37.709040</td>\n",
       "      <td>-122.536985</td>\n",
       "      <td>-122.532493</td>\n",
       "      <td>0</td>\n",
       "      <td>1</td>\n",
       "      <td>37.707263</td>\n",
       "      <td>-122.534739</td>\n",
       "      <td>-17.159355</td>\n",
       "    </tr>\n",
       "    <tr>\n",
       "      <th>2</th>\n",
       "      <td>37.709040</td>\n",
       "      <td>37.712593</td>\n",
       "      <td>-122.536985</td>\n",
       "      <td>-122.532493</td>\n",
       "      <td>0</td>\n",
       "      <td>2</td>\n",
       "      <td>37.710817</td>\n",
       "      <td>-122.534739</td>\n",
       "      <td>-15.904209</td>\n",
       "    </tr>\n",
       "    <tr>\n",
       "      <th>3</th>\n",
       "      <td>37.712593</td>\n",
       "      <td>37.716147</td>\n",
       "      <td>-122.536985</td>\n",
       "      <td>-122.532493</td>\n",
       "      <td>0</td>\n",
       "      <td>3</td>\n",
       "      <td>37.714370</td>\n",
       "      <td>-122.534739</td>\n",
       "      <td>-14.731192</td>\n",
       "    </tr>\n",
       "    <tr>\n",
       "      <th>4</th>\n",
       "      <td>37.716147</td>\n",
       "      <td>37.719700</td>\n",
       "      <td>-122.536985</td>\n",
       "      <td>-122.532493</td>\n",
       "      <td>0</td>\n",
       "      <td>4</td>\n",
       "      <td>37.717923</td>\n",
       "      <td>-122.534739</td>\n",
       "      <td>-13.759017</td>\n",
       "    </tr>\n",
       "  </tbody>\n",
       "</table>\n",
       "</div>"
      ],
      "text/plain": [
       "     min_lat    max_lat     min_lon     max_lon  x  y  center_lat  center_lon  \\\n",
       "0  37.701933  37.705487 -122.536985 -122.532493  0  0   37.703710 -122.534739   \n",
       "1  37.705487  37.709040 -122.536985 -122.532493  0  1   37.707263 -122.534739   \n",
       "2  37.709040  37.712593 -122.536985 -122.532493  0  2   37.710817 -122.534739   \n",
       "3  37.712593  37.716147 -122.536985 -122.532493  0  3   37.714370 -122.534739   \n",
       "4  37.716147  37.719700 -122.536985 -122.532493  0  4   37.717923 -122.534739   \n",
       "\n",
       "   elevation  \n",
       "0 -18.298014  \n",
       "1 -17.159355  \n",
       "2 -15.904209  \n",
       "3 -14.731192  \n",
       "4 -13.759017  "
      ]
     },
     "execution_count": 7,
     "metadata": {},
     "output_type": "execute_result"
    }
   ],
   "source": [
    "boxes.head()"
   ]
  },
  {
   "cell_type": "code",
   "execution_count": 28,
   "metadata": {},
   "outputs": [
    {
     "data": {
      "text/plain": [
       "x    78\n",
       "y    86\n",
       "dtype: int64"
      ]
     },
     "execution_count": 28,
     "metadata": {},
     "output_type": "execute_result"
    }
   ],
   "source": [
    "boxes[['x', 'y']].max()"
   ]
  },
  {
   "cell_type": "code",
   "execution_count": 30,
   "metadata": {},
   "outputs": [],
   "source": [
    "# surely there must be a faster way, this is slow as shit\n",
    "def get_coords(line):\n",
    "    box = boxes[(boxes.min_lat < line.lat) & (boxes.max_lat > line.lat) & \n",
    "                (boxes.min_lon < line.lon) & (boxes.max_lon > line.lon)]\n",
    "    assert box.shape[0] == 1\n",
    "    return box.iloc[0, 4], box.iloc[0, 5] # x,y"
   ]
  },
  {
   "cell_type": "code",
   "execution_count": 31,
   "metadata": {},
   "outputs": [],
   "source": [
    "df['xy'] = df.apply(get_coords, axis = 1)"
   ]
  },
  {
   "cell_type": "markdown",
   "metadata": {},
   "source": [
    "wow this is really slow"
   ]
  },
  {
   "cell_type": "code",
   "execution_count": 33,
   "metadata": {},
   "outputs": [
    {
     "data": {
      "text/plain": [
       "163"
      ]
     },
     "execution_count": 33,
     "metadata": {},
     "output_type": "execute_result"
    }
   ],
   "source": [
    "df['xy'].nunique()"
   ]
  },
  {
   "cell_type": "code",
   "execution_count": 42,
   "metadata": {},
   "outputs": [],
   "source": [
    "df.to_csv(\"chkpnt.csv\", index = False)"
   ]
  },
  {
   "cell_type": "markdown",
   "metadata": {},
   "source": [
    "## adding satellite data"
   ]
  },
  {
   "cell_type": "code",
   "execution_count": 3,
   "metadata": {},
   "outputs": [],
   "source": [
    "df = pd.read_csv(\"chkpnt.csv\")"
   ]
  },
  {
   "cell_type": "code",
   "execution_count": 4,
   "metadata": {},
   "outputs": [],
   "source": [
    "import rasterio\n",
    "\n",
    "dataset_a = rasterio.open('new_sent_a.tif') # north half of sentinel imagery\n",
    "dataset_b = rasterio.open('new_sent_b.tif') # south half of sentinel imagery\n",
    "ndvi = rasterio.open(\"new_ndvi.tif\") # normalized vegetation index"
   ]
  },
  {
   "cell_type": "code",
   "execution_count": 5,
   "metadata": {},
   "outputs": [
    {
     "data": {
      "text/plain": [
       "(BoundingBox(left=-123.00023047979296, bottom=37.85289286316522, right=-121.73509612712401, top=38.84899848338563),\n",
       " BoundingBox(left=-123.00022763545473, bottom=36.951385650931456, right=-121.75063386741522, top=37.94758957156296))"
      ]
     },
     "execution_count": 5,
     "metadata": {},
     "output_type": "execute_result"
    }
   ],
   "source": [
    "dataset_a.bounds, dataset_b.bounds"
   ]
  },
  {
   "cell_type": "code",
   "execution_count": 6,
   "metadata": {},
   "outputs": [],
   "source": [
    "banda1 = dataset_a.read(1)\n",
    "banda2 = dataset_a.read(2)\n",
    "banda3 = dataset_a.read(3)\n",
    "bandb1 = dataset_b.read(1)\n",
    "bandb2 = dataset_b.read(2)\n",
    "bandb3 = dataset_b.read(3)\n",
    "band_n = ndvi.read(1)"
   ]
  },
  {
   "cell_type": "code",
   "execution_count": 7,
   "metadata": {},
   "outputs": [],
   "source": [
    "def get_sentinel(line):\n",
    "    \n",
    "    ## use only on unique\n",
    "    \n",
    "    # if lat >  ...\n",
    "    if line.lat > 37.94758957156296:\n",
    "        # use dataset a, north half\n",
    "        r = banda1\n",
    "        g = banda2\n",
    "        b = banda3\n",
    "        \n",
    "        # 40-44 units corresponds to about 1 km\n",
    "        mid_row, mid_col = dataset_a.index(line.lon, line.lat)\n",
    "        \n",
    "        return np.dstack((r[mid_row - 20:mid_row + 20, mid_col-20:mid_col+20],\n",
    "                          g[mid_row - 20:mid_row + 20, mid_col-20:mid_col+20],\n",
    "                          b[mid_row - 20:mid_row + 20, mid_col-20:mid_col+20]))\n",
    "                \n",
    "        \n",
    "    else:\n",
    "        # use dataset b\n",
    "\n",
    "        r = bandb1\n",
    "        g = bandb2\n",
    "        b = bandb3\n",
    "        \n",
    "        mid_row, mid_col = dataset_b.index(line.lon, line.lat)\n",
    "        \n",
    "        return np.dstack((r[mid_row - 20:mid_row + 20, mid_col-20:mid_col+20],\n",
    "                          g[mid_row - 20:mid_row + 20, mid_col-20:mid_col+20],\n",
    "                          b[mid_row - 20:mid_row + 20, mid_col-20:mid_col+20]))\n",
    "        \n",
    "    \n",
    "def get_ndvi(line):\n",
    "    # get ndvi\n",
    "    row, col = ndvi.index(line.lon, line.lat)\n",
    "    \n",
    "    return band_n[row,col]"
   ]
  },
  {
   "cell_type": "code",
   "execution_count": 8,
   "metadata": {},
   "outputs": [
    {
     "data": {
      "text/plain": [
       "(185, 3)"
      ]
     },
     "execution_count": 8,
     "metadata": {},
     "output_type": "execute_result"
    }
   ],
   "source": [
    "geo_features = df[['sensor_id', 'lat', 'lon']].drop_duplicates(subset=['sensor_id']).reset_index(drop = True)\n",
    "geo_features.shape"
   ]
  },
  {
   "cell_type": "code",
   "execution_count": 9,
   "metadata": {},
   "outputs": [],
   "source": [
    "geo_features['ndvi'] = geo_features.apply(get_ndvi, axis = 1)"
   ]
  },
  {
   "cell_type": "code",
   "execution_count": 10,
   "metadata": {},
   "outputs": [],
   "source": [
    "geo_features['image'] = geo_features.apply(get_sentinel, axis = 1)"
   ]
  },
  {
   "cell_type": "code",
   "execution_count": 11,
   "metadata": {},
   "outputs": [],
   "source": [
    "geo_features = geo_features.reset_index().set_index('sensor_id')"
   ]
  },
  {
   "cell_type": "code",
   "execution_count": 12,
   "metadata": {},
   "outputs": [],
   "source": [
    "dataset_a.close()\n",
    "dataset_b.close()\n",
    "ndvi.close()"
   ]
  },
  {
   "cell_type": "code",
   "execution_count": 13,
   "metadata": {},
   "outputs": [
    {
     "data": {
      "text/html": [
       "<div>\n",
       "<style scoped>\n",
       "    .dataframe tbody tr th:only-of-type {\n",
       "        vertical-align: middle;\n",
       "    }\n",
       "\n",
       "    .dataframe tbody tr th {\n",
       "        vertical-align: top;\n",
       "    }\n",
       "\n",
       "    .dataframe thead th {\n",
       "        text-align: right;\n",
       "    }\n",
       "</style>\n",
       "<table border=\"1\" class=\"dataframe\">\n",
       "  <thead>\n",
       "    <tr style=\"text-align: right;\">\n",
       "      <th></th>\n",
       "      <th>index</th>\n",
       "      <th>lat</th>\n",
       "      <th>lon</th>\n",
       "      <th>ndvi</th>\n",
       "      <th>image</th>\n",
       "    </tr>\n",
       "    <tr>\n",
       "      <th>sensor_id</th>\n",
       "      <th></th>\n",
       "      <th></th>\n",
       "      <th></th>\n",
       "      <th></th>\n",
       "      <th></th>\n",
       "    </tr>\n",
       "  </thead>\n",
       "  <tbody>\n",
       "    <tr>\n",
       "      <th>16939</th>\n",
       "      <td>0</td>\n",
       "      <td>37.722440</td>\n",
       "      <td>-122.439302</td>\n",
       "      <td>3327</td>\n",
       "      <td>[[[118, 130, 92], [115, 127, 89], [106, 118, 7...</td>\n",
       "    </tr>\n",
       "    <tr>\n",
       "      <th>16919</th>\n",
       "      <td>1</td>\n",
       "      <td>37.722456</td>\n",
       "      <td>-122.439390</td>\n",
       "      <td>3327</td>\n",
       "      <td>[[[113, 125, 85], [118, 130, 92], [115, 127, 8...</td>\n",
       "    </tr>\n",
       "    <tr>\n",
       "      <th>16931</th>\n",
       "      <td>2</td>\n",
       "      <td>37.722417</td>\n",
       "      <td>-122.439245</td>\n",
       "      <td>3327</td>\n",
       "      <td>[[[118, 130, 92], [115, 127, 89], [106, 118, 7...</td>\n",
       "    </tr>\n",
       "    <tr>\n",
       "      <th>19173</th>\n",
       "      <td>3</td>\n",
       "      <td>37.722383</td>\n",
       "      <td>-122.439227</td>\n",
       "      <td>3327</td>\n",
       "      <td>[[[118, 130, 92], [115, 127, 89], [106, 118, 7...</td>\n",
       "    </tr>\n",
       "    <tr>\n",
       "      <th>16947</th>\n",
       "      <td>4</td>\n",
       "      <td>37.722391</td>\n",
       "      <td>-122.439178</td>\n",
       "      <td>3327</td>\n",
       "      <td>[[[118, 130, 92], [115, 127, 89], [106, 118, 7...</td>\n",
       "    </tr>\n",
       "  </tbody>\n",
       "</table>\n",
       "</div>"
      ],
      "text/plain": [
       "           index        lat         lon  ndvi  \\\n",
       "sensor_id                                       \n",
       "16939          0  37.722440 -122.439302  3327   \n",
       "16919          1  37.722456 -122.439390  3327   \n",
       "16931          2  37.722417 -122.439245  3327   \n",
       "19173          3  37.722383 -122.439227  3327   \n",
       "16947          4  37.722391 -122.439178  3327   \n",
       "\n",
       "                                                       image  \n",
       "sensor_id                                                     \n",
       "16939      [[[118, 130, 92], [115, 127, 89], [106, 118, 7...  \n",
       "16919      [[[113, 125, 85], [118, 130, 92], [115, 127, 8...  \n",
       "16931      [[[118, 130, 92], [115, 127, 89], [106, 118, 7...  \n",
       "19173      [[[118, 130, 92], [115, 127, 89], [106, 118, 7...  \n",
       "16947      [[[118, 130, 92], [115, 127, 89], [106, 118, 7...  "
      ]
     },
     "execution_count": 13,
     "metadata": {},
     "output_type": "execute_result"
    }
   ],
   "source": [
    "geo_features.head()"
   ]
  },
  {
   "cell_type": "code",
   "execution_count": 36,
   "metadata": {},
   "outputs": [
    {
     "data": {
      "text/plain": [
       "count     185.000000\n",
       "mean     3389.497297\n",
       "std      1791.196039\n",
       "min     -2000.000000\n",
       "25%      2197.000000\n",
       "50%      2998.000000\n",
       "75%      4602.000000\n",
       "max      7597.000000\n",
       "Name: ndvi, dtype: float64"
      ]
     },
     "execution_count": 36,
     "metadata": {},
     "output_type": "execute_result"
    }
   ],
   "source": [
    "geo_features.ndvi.describe()"
   ]
  },
  {
   "cell_type": "markdown",
   "metadata": {},
   "source": [
    "## potential features (thinking out loud)\n",
    "\\* indicates features we don't currently have \n",
    "\n",
    "- point, static:\n",
    "  - elevation\n",
    "  - vegetation*\n",
    "  - population*\n",
    "  - road coverage* (could get satellite imagery, do conv)\n",
    "- point, dynamic\n",
    "  - ???\n",
    "  - meteorology*\n",
    "- neighbors, static\n",
    "  - everything under static\n",
    "- neighbors, dynamic\n",
    "  - sensor readings\n",
    "  - weather*\n",
    "- area-wide, dynamic\n",
    "  - meteorology -- wind speed, wind direction\n",
    "  - other meteorology -- temp, pressure, humidity*\n",
    "  - EPA sensor\n",
    "  - better EPA sensor (currently only have nearest sensor, not weighted by distance)\n",
    "  - time of day\n",
    "  - day of week\n",
    "  \n",
    "  "
   ]
  },
  {
   "cell_type": "markdown",
   "metadata": {},
   "source": [
    "## Model training, I guess"
   ]
  },
  {
   "cell_type": "code",
   "execution_count": 33,
   "metadata": {},
   "outputs": [],
   "source": [
    "import tensorflow as tf\n",
    "from tensorflow.keras import Model, Input\n",
    "from tensorflow.keras.layers import Embedding, Conv2D, BatchNormalization, Dropout, Concatenate\n",
    "from tensorflow.keras.layers import Dense, Reshape, Activation, MaxPooling2D, Flatten"
   ]
  },
  {
   "cell_type": "code",
   "execution_count": 14,
   "metadata": {},
   "outputs": [],
   "source": [
    "from sklearn.model_selection import train_test_split"
   ]
  },
  {
   "cell_type": "code",
   "execution_count": 15,
   "metadata": {},
   "outputs": [],
   "source": [
    "df['ndvi'] = df['sensor_id'].map(lambda x: geo_features.loc[x, 'ndvi'])"
   ]
  },
  {
   "cell_type": "code",
   "execution_count": 16,
   "metadata": {},
   "outputs": [],
   "source": [
    "import ast\n",
    "df['xy'] = df['xy'].map(lambda x: ast.literal_eval(x))"
   ]
  },
  {
   "cell_type": "code",
   "execution_count": 17,
   "metadata": {},
   "outputs": [],
   "source": [
    "df['x'] = df['xy'].map(lambda x:x[0])\n",
    "df['y'] = df['xy'].map(lambda x:x[1])"
   ]
  },
  {
   "cell_type": "code",
   "execution_count": 18,
   "metadata": {},
   "outputs": [],
   "source": [
    "# preprocessing 10/31 -- faster neighbor look up\n",
    "df['timestamp'] = pd.to_datetime(df.created_at, format = \"%Y/%m/%dT%H:%M\").map(lambda x: x.timestamp()/600)\n",
    "df['time_space_id'] = df.apply(lambda x: f\"{x.timestamp}_{x.x}_{x.y}\", axis = 1)"
   ]
  },
  {
   "cell_type": "code",
   "execution_count": 19,
   "metadata": {},
   "outputs": [],
   "source": [
    "target_var = '2_5um'\n",
    "\n",
    "input_cols = ['sensor_id', target_var, # ref cols, not used as training, reading only for neighbors\n",
    "              'time_space_id', # for trying to look up neighbors\n",
    "              'hour', 'wkday', # categorical cols\n",
    "              'epa_pm25_value','temperature', 'humidity',  'wind_x', 'wind_y', 'ndvi'] # numeric cols\n",
    "\n",
    "\n",
    "X_train_and_dev, X_test, y_train_and_dev, y_test = train_test_split(df[input_cols], \n",
    "                                                                    df[target_var], \n",
    "                                                                    test_size=0.20, \n",
    "                                                                    random_state=42)\n",
    "\n",
    "X_train, X_dev, y_train, y_dev = train_test_split(X_train_and_dev, y_train_and_dev, test_size=0.125, random_state=42)"
   ]
  },
  {
   "cell_type": "code",
   "execution_count": 20,
   "metadata": {},
   "outputs": [],
   "source": [
    "for col in ['epa_pm25_value', 'temperature', 'humidity']:\n",
    "    v = X_train[col].mean()\n",
    "    X_train[col].fillna(v, inplace = True)\n",
    "    X_dev[col].fillna(v, inplace = True)"
   ]
  },
  {
   "cell_type": "code",
   "execution_count": 19,
   "metadata": {},
   "outputs": [
    {
     "data": {
      "text/plain": [
       "sensor_id         False\n",
       "2_5um             False\n",
       "time_space_id     False\n",
       "hour              False\n",
       "wkday             False\n",
       "epa_pm25_value    False\n",
       "temperature       False\n",
       "humidity          False\n",
       "wind_x            False\n",
       "wind_y            False\n",
       "ndvi              False\n",
       "dtype: bool"
      ]
     },
     "execution_count": 19,
     "metadata": {},
     "output_type": "execute_result"
    }
   ],
   "source": [
    "X_train.isnull().any()"
   ]
  },
  {
   "cell_type": "code",
   "execution_count": 21,
   "metadata": {},
   "outputs": [],
   "source": [
    "# four inputs ...\n",
    "\n",
    "# categorical: weekday, hour\n",
    "X_train_categorical = X_train[['hour', 'wkday']].to_numpy()\n",
    "X_dev_categorical = X_dev[['hour', 'wkday']].to_numpy()\n",
    "\n",
    "# continuous data (epa, humidity, temperature, wind_x, wind_y, ndvi)\n",
    "X_train_num = X_train[['epa_pm25_value','temperature', 'humidity',  'wind_x', 'wind_y', 'ndvi']].to_numpy()\n",
    "X_dev_num = X_dev[['epa_pm25_value','temperature', 'humidity',  'wind_x', 'wind_y', 'ndvi']].to_numpy()\n",
    "\n",
    "# image\n",
    "\n",
    "X_train_imgs = np.array([geo_features.loc[s_id, 'image'] for s_id in X_train['sensor_id']])\n",
    "X_dev_imgs = np.array([geo_features.loc[s_id, 'image'] for s_id in X_dev['sensor_id']])"
   ]
  },
  {
   "cell_type": "code",
   "execution_count": 130,
   "metadata": {
    "scrolled": false
   },
   "outputs": [],
   "source": [
    "# OLD NEIGHBORS CODE -- VERY SLOW\n",
    "\n",
    "\n",
    "# def get_neighbors(df, s_id, year, month, day, hour, minute, x,y):\n",
    "    \n",
    "#     # a faster way would probably be to build a look up table with sensor_ids on one axis\n",
    "#     # and times along the other, but ...\n",
    "#     # this will not scale well with a year of data\n",
    "        \n",
    "#     snapshot = df[(df.year == year) &\n",
    "#                   (df.month == month) &\n",
    "#                   (df.day == day) &\n",
    "#                   (df.hour == hour) &\n",
    "#                   (df.minute == minute) &\n",
    "#                   (df.sensor_id != s_id) & \n",
    "#                   (df.x.isin(list(range(x-2,x+3)))) &\n",
    "#                   (df.y.isin(list(range(y-2,y+3))))]\n",
    "    \n",
    "#     if snapshot.shape[0] == 0:\n",
    "#         return np.zeros(12)\n",
    "    \n",
    "#     # sort by nearest neighbors\n",
    "#     snapshot['dist'] = snapshot.apply(lambda d: ((d.x-x)**2 + (d.y-y)**2)**0.5, axis = 1)\n",
    "#     neighbors = snapshot.sort_values(by=['dist'])['2_5um'].to_list()\n",
    "    \n",
    "    \n",
    "#     if len(neighbors) > 12:\n",
    "#         # lots of neighbors nearby, return the 12 closest\n",
    "#         return np.array(neighbors[:12])\n",
    "#     elif len(neighbors) == 12:\n",
    "#         return np.array(neighbors)\n",
    "#     else:\n",
    "#         return np.pad(np.array(neighbors), (0, 12-len(neighbors)))\n",
    "# import json\n",
    "# with open(\"sensor_neighbors.json\", \"r\") as f:\n",
    "#     neighbor_lookup = json.load(f)\n",
    "\n",
    "# t = []    \n",
    "\n",
    "# def get_neighbors(train_df, sensor_id, created_at):\n",
    "       \n",
    "#     if str(sensor_id) not in neighbor_lookup:\n",
    "#         return np.zeros(12)\n",
    "    \n",
    "#     if len(neighbor_lookup[str(sensor_id)]) == 0:\n",
    "#         return np.zeros(12)\n",
    "    \n",
    "#     neighbors = [int(n) for n in neighbor_lookup[str(sensor_id)]]\n",
    "        \n",
    "#     snapshot = train_df[(train_df.created_at == created_at)][['sensor_id', '2_5um']]\n",
    "        \n",
    "#     snapshot = snapshot[snapshot.sensor_id.isin(neighbors)] \n",
    "\n",
    "#     if snapshot.shape[0] == 0:\n",
    "#         return np.zeros(12)\n",
    "    \n",
    "#     near_values = snapshot['2_5um'].to_list()\n",
    "    \n",
    "#     if len(near_values) > 12:\n",
    "#         # lots of neighbors nearby, return the 12 closest\n",
    "#         return np.array(near_values[:12])\n",
    "#     elif len(near_values) == 12:\n",
    "#         return np.array(near_values)\n",
    "#     else:\n",
    "#         return np.pad(np.array(near_values), (0, 12-len(near_values)))"
   ]
  },
  {
   "cell_type": "code",
   "execution_count": 22,
   "metadata": {},
   "outputs": [
    {
     "name": "stdout",
     "output_type": "stream",
     "text": [
      "CPU times: user 11.7 s, sys: 200 ms, total: 11.9 s\n",
      "Wall time: 11.9 s\n"
     ]
    },
    {
     "data": {
      "text/plain": [
       "138697    None\n",
       "289772    None\n",
       "79415     None\n",
       "288024    None\n",
       "141815    None\n",
       "          ... \n",
       "349446    None\n",
       "525561    None\n",
       "691048    None\n",
       "700739    None\n",
       "249843    None\n",
       "Length: 508403, dtype: object"
      ]
     },
     "execution_count": 22,
     "metadata": {},
     "output_type": "execute_result"
    }
   ],
   "source": [
    "%%time\n",
    "neighbor_lookup = defaultdict(list)\n",
    "X_train.apply(lambda x: neighbor_lookup[x.time_space_id].append(x.name), axis = 1)"
   ]
  },
  {
   "cell_type": "code",
   "execution_count": 23,
   "metadata": {},
   "outputs": [],
   "source": [
    "## NEW NEIGHBORS CODE 10/31 -- SLOW-ISH BUT AT 90X FASTER THAN BEFORE\n",
    "\n",
    "\n",
    "def get_neighbors_space(line, train_df):\n",
    "    t, x, y = line.time_space_id.split(\"_\")\n",
    "    x = int(x)\n",
    "    y = int(y)\n",
    "    neighbors = np.zeros((24))\n",
    "    \n",
    "    c = 0\n",
    "    for i in range(-2,3):\n",
    "        for j in range(-2,3):\n",
    "            if i == 0 and j == 0 : continue\n",
    "            n = neighbor_lookup[f\"{t}_{x+i}_{y+j}\"] # get rows in train_df for that particular time-block\n",
    "            \n",
    "            if n:\n",
    "                neighbors[c] = train_df.loc[n, '2_5um'].mean()\n",
    "            c += 1\n",
    "    \n",
    "    return neighbors"
   ]
  },
  {
   "cell_type": "code",
   "execution_count": 24,
   "metadata": {},
   "outputs": [
    {
     "name": "stdout",
     "output_type": "stream",
     "text": [
      "CPU times: user 8min 17s, sys: 5.33 s, total: 8min 22s\n",
      "Wall time: 8min 11s\n"
     ]
    }
   ],
   "source": [
    "%%time\n",
    "X_train_neighbors = X_train.apply(lambda x: get_neighbors_space(x, X_train), axis =1)"
   ]
  },
  {
   "cell_type": "code",
   "execution_count": 25,
   "metadata": {},
   "outputs": [],
   "source": [
    "X_train_neighbors = np.array(X_train_neighbors.to_list())"
   ]
  },
  {
   "cell_type": "code",
   "execution_count": 25,
   "metadata": {},
   "outputs": [
    {
     "data": {
      "text/plain": [
       "array([0.06304644, 0.08532208, 0.07564471, 0.0814649 , 0.05749376,\n",
       "       0.04066656, 0.05477741, 0.05977935, 0.03200807, 0.10695649,\n",
       "       0.07955303, 0.0707903 , 0.06765892, 0.11023342, 0.08624261,\n",
       "       0.03200611, 0.05713578, 0.05563697, 0.0409852 , 0.05954922,\n",
       "       0.08154358, 0.08547943, 0.08900026, 0.06336902])"
      ]
     },
     "execution_count": 25,
     "metadata": {},
     "output_type": "execute_result"
    }
   ],
   "source": [
    "(np.count_nonzero(X_train_neighbors, axis = 0)) / X_train_neighbors.shape[0]"
   ]
  },
  {
   "cell_type": "code",
   "execution_count": 26,
   "metadata": {},
   "outputs": [
    {
     "name": "stdout",
     "output_type": "stream",
     "text": [
      "CPU times: user 1min 19s, sys: 908 ms, total: 1min 20s\n",
      "Wall time: 1min 18s\n"
     ]
    }
   ],
   "source": [
    "%%time\n",
    "X_dev_neighbors = X_dev.apply(lambda x: get_neighbors_space(x, X_train), axis =1)"
   ]
  },
  {
   "cell_type": "code",
   "execution_count": 27,
   "metadata": {},
   "outputs": [],
   "source": [
    "X_dev_neighbors = np.array(X_dev_neighbors.to_list())"
   ]
  },
  {
   "cell_type": "markdown",
   "metadata": {},
   "source": [
    "10/31 update: old time was 70 minutes, 33 seconds"
   ]
  },
  {
   "cell_type": "code",
   "execution_count": 28,
   "metadata": {},
   "outputs": [],
   "source": [
    "y_train = y_train.to_numpy()"
   ]
  },
  {
   "cell_type": "code",
   "execution_count": 29,
   "metadata": {},
   "outputs": [],
   "source": [
    "y_dev = y_dev.to_numpy()"
   ]
  },
  {
   "cell_type": "markdown",
   "metadata": {},
   "source": [
    "### Anyway, on to the actual model"
   ]
  },
  {
   "cell_type": "code",
   "execution_count": 33,
   "metadata": {},
   "outputs": [],
   "source": [
    "#### INPUTS\n",
    "img_in_ = Input(shape=(40,40,3), name='img_input')\n",
    "hours_in_ = Input(shape=(1,), name = 'hrs_input')\n",
    "wkdays_in_ = Input(shape=(1,), name = \"wkdays_input\")\n",
    "nums_in_ = Input(shape=(6,), name='nums_input')\n",
    "neighbs_in_ = Input(shape=(24,), name='neighbs_input')\n",
    "\n",
    "#### IMAGERY\n",
    "# input -> conv2d -> activation -> normalization -> 2x2 max pooling -> flatten\n",
    "   \n",
    "img_ = Conv2D(filters = 64, kernel_size = (5,5))(img_in_)\n",
    "img_ = BatchNormalization(axis = -1)(img_)\n",
    "img_ = Activation(activation='relu')(img_)\n",
    "img_ = MaxPooling2D(pool_size=(2,2))(img_)\n",
    "\n",
    "img_ = Conv2D(filters = 64, kernel_size = (3,3))(img_)\n",
    "img_ = BatchNormalization(axis = -1)(img_)\n",
    "img_ = Activation(activation='relu')(img_)\n",
    "img_ = MaxPooling2D(pool_size=(2,2))(img_)\n",
    "\n",
    "img_ = Flatten()(img_)\n",
    "\n",
    "img_ = Dense(128, activation = 'relu')(img_)\n",
    "img_ = Dropout(0.2)(img_)\n",
    "img_ = Dense(16, activation = 'relu')(img_)\n",
    "\n",
    "#### categorical data (weekday, hour)\n",
    "# input -> [embedding_hour, embedding_weekday] -> concat -> \n",
    "hours_ = Embedding(input_dim = 24, output_dim = 4, input_length = 1)(hours_in_)\n",
    "wkdays_ = Embedding(input_dim = 7, output_dim = 2, input_length = 1)(wkdays_in_)\n",
    "\n",
    "# both are now is now [batch_size, 1, output_dim]\n",
    "hours_ = Reshape((4,))(hours_)\n",
    "wkdays_ = Reshape((2,))(wkdays_)\n",
    "# both are now is now [batch_size,output_dim]\n",
    "\n",
    "#### continuous data (epa, humidity, temperature, wind_x, wind_y, ndvi)\n",
    "# input -> batch_norm\n",
    "nums_ = BatchNormalization()(nums_in_)\n",
    "\n",
    "### neighborhood data\n",
    "#neighbs_ = BatchNormalization()(neighbs_in_)\n",
    "\n",
    "#### everything together\n",
    "x_ = Concatenate()([img_, hours_, wkdays_, nums_, neighbs_in_])\n",
    "\n",
    "## FF time\n",
    "x_ = Dense(128, activation = 'relu')(x_)\n",
    "x_ = Dropout(0.2)(x_)\n",
    "x_ = Dense(64, activation = 'relu')(x_)\n",
    "x_ = Dropout(0.2)(x_)\n",
    "output_ = Dense(1)(x_)\n",
    "\n",
    "inputs = [img_in_, hours_in_, wkdays_in_, nums_in_, neighbs_in_]\n",
    "model = Model(inputs = inputs, outputs = output_)"
   ]
  },
  {
   "cell_type": "code",
   "execution_count": 34,
   "metadata": {},
   "outputs": [],
   "source": [
    "model.compile(optimizer='adam',\n",
    "              loss='mean_squared_error',\n",
    "              metrics=['mse','mape'])"
   ]
  },
  {
   "cell_type": "code",
   "execution_count": 35,
   "metadata": {},
   "outputs": [
    {
     "name": "stdout",
     "output_type": "stream",
     "text": [
      "Model: \"model_1\"\n",
      "__________________________________________________________________________________________________\n",
      "Layer (type)                    Output Shape         Param #     Connected to                     \n",
      "==================================================================================================\n",
      "img_input (InputLayer)          [(None, 40, 40, 3)]  0                                            \n",
      "__________________________________________________________________________________________________\n",
      "conv2d_2 (Conv2D)               (None, 36, 36, 64)   4864        img_input[0][0]                  \n",
      "__________________________________________________________________________________________________\n",
      "batch_normalization_3 (BatchNor (None, 36, 36, 64)   256         conv2d_2[0][0]                   \n",
      "__________________________________________________________________________________________________\n",
      "activation_2 (Activation)       (None, 36, 36, 64)   0           batch_normalization_3[0][0]      \n",
      "__________________________________________________________________________________________________\n",
      "max_pooling2d_2 (MaxPooling2D)  (None, 18, 18, 64)   0           activation_2[0][0]               \n",
      "__________________________________________________________________________________________________\n",
      "conv2d_3 (Conv2D)               (None, 16, 16, 64)   36928       max_pooling2d_2[0][0]            \n",
      "__________________________________________________________________________________________________\n",
      "batch_normalization_4 (BatchNor (None, 16, 16, 64)   256         conv2d_3[0][0]                   \n",
      "__________________________________________________________________________________________________\n",
      "activation_3 (Activation)       (None, 16, 16, 64)   0           batch_normalization_4[0][0]      \n",
      "__________________________________________________________________________________________________\n",
      "max_pooling2d_3 (MaxPooling2D)  (None, 8, 8, 64)     0           activation_3[0][0]               \n",
      "__________________________________________________________________________________________________\n",
      "flatten_1 (Flatten)             (None, 4096)         0           max_pooling2d_3[0][0]            \n",
      "__________________________________________________________________________________________________\n",
      "dense_5 (Dense)                 (None, 128)          524416      flatten_1[0][0]                  \n",
      "__________________________________________________________________________________________________\n",
      "hrs_input (InputLayer)          [(None, 1)]          0                                            \n",
      "__________________________________________________________________________________________________\n",
      "wkdays_input (InputLayer)       [(None, 1)]          0                                            \n",
      "__________________________________________________________________________________________________\n",
      "dropout_3 (Dropout)             (None, 128)          0           dense_5[0][0]                    \n",
      "__________________________________________________________________________________________________\n",
      "embedding_2 (Embedding)         (None, 1, 4)         96          hrs_input[0][0]                  \n",
      "__________________________________________________________________________________________________\n",
      "embedding_3 (Embedding)         (None, 1, 2)         14          wkdays_input[0][0]               \n",
      "__________________________________________________________________________________________________\n",
      "nums_input (InputLayer)         [(None, 6)]          0                                            \n",
      "__________________________________________________________________________________________________\n",
      "dense_6 (Dense)                 (None, 16)           2064        dropout_3[0][0]                  \n",
      "__________________________________________________________________________________________________\n",
      "reshape_2 (Reshape)             (None, 4)            0           embedding_2[0][0]                \n",
      "__________________________________________________________________________________________________\n",
      "reshape_3 (Reshape)             (None, 2)            0           embedding_3[0][0]                \n",
      "__________________________________________________________________________________________________\n",
      "batch_normalization_5 (BatchNor (None, 6)            24          nums_input[0][0]                 \n",
      "__________________________________________________________________________________________________\n",
      "neighbs_input (InputLayer)      [(None, 24)]         0                                            \n",
      "__________________________________________________________________________________________________\n",
      "concatenate_1 (Concatenate)     (None, 52)           0           dense_6[0][0]                    \n",
      "                                                                 reshape_2[0][0]                  \n",
      "                                                                 reshape_3[0][0]                  \n",
      "                                                                 batch_normalization_5[0][0]      \n",
      "                                                                 neighbs_input[0][0]              \n",
      "__________________________________________________________________________________________________\n",
      "dense_7 (Dense)                 (None, 128)          6784        concatenate_1[0][0]              \n",
      "__________________________________________________________________________________________________\n",
      "dropout_4 (Dropout)             (None, 128)          0           dense_7[0][0]                    \n",
      "__________________________________________________________________________________________________\n",
      "dense_8 (Dense)                 (None, 64)           8256        dropout_4[0][0]                  \n",
      "__________________________________________________________________________________________________\n",
      "dropout_5 (Dropout)             (None, 64)           0           dense_8[0][0]                    \n",
      "__________________________________________________________________________________________________\n",
      "dense_9 (Dense)                 (None, 1)            65          dropout_5[0][0]                  \n",
      "==================================================================================================\n",
      "Total params: 584,023\n",
      "Trainable params: 583,755\n",
      "Non-trainable params: 268\n",
      "__________________________________________________________________________________________________\n"
     ]
    }
   ],
   "source": [
    "model.summary()"
   ]
  },
  {
   "cell_type": "markdown",
   "metadata": {},
   "source": [
    "note to self, also try L2 regularization for some of the layers\n"
   ]
  },
  {
   "cell_type": "code",
   "execution_count": 183,
   "metadata": {},
   "outputs": [
    {
     "data": {
      "text/plain": [
       "sensor_id         False\n",
       "created_at        False\n",
       "xy                False\n",
       "x                 False\n",
       "y                 False\n",
       "2_5um             False\n",
       "year              False\n",
       "month             False\n",
       "day               False\n",
       "minute            False\n",
       "hour              False\n",
       "wkday             False\n",
       "epa_pm25_value     True\n",
       "temperature        True\n",
       "humidity           True\n",
       "wind_x            False\n",
       "wind_y            False\n",
       "ndvi              False\n",
       "dtype: bool"
      ]
     },
     "execution_count": 183,
     "metadata": {},
     "output_type": "execute_result"
    }
   ],
   "source": [
    "# df.isnull().any()\n",
    "X_train.isnull().any()\n"
   ]
  },
  {
   "cell_type": "code",
   "execution_count": 37,
   "metadata": {},
   "outputs": [
    {
     "name": "stdout",
     "output_type": "stream",
     "text": [
      "Train on 508403 samples, validate on 72630 samples\n",
      "Epoch 1/2\n",
      "508403/508403 [==============================] - 757s 1ms/sample - loss: 52.0247 - mse: 52.0248 - mape: 58028240.0000 - val_loss: 218.2554 - val_mse: 218.2554 - val_mape: 43985312.0000\n",
      "Epoch 2/2\n",
      "508403/508403 [==============================] - 753s 1ms/sample - loss: 50.4877 - mse: 50.4877 - mape: 45389728.0000 - val_loss: 215.0528 - val_mse: 215.0528 - val_mape: 95183568.0000\n"
     ]
    }
   ],
   "source": [
    "# different run 10/31\n",
    "history = model.fit(\n",
    "    x=[X_train_imgs, X_train_categorical[:,0], X_train_categorical[:,1], X_train_num, X_train_neighbors],\n",
    "    y=y_train,\n",
    "    batch_size=512,\n",
    "    epochs=2,\n",
    "    verbose=1,\n",
    "    validation_data=([X_dev_imgs, X_dev_categorical[:,0], X_dev_categorical[:,1], X_dev_num, X_dev_neighbors], y_dev),\n",
    "    validation_freq=1\n",
    ")"
   ]
  },
  {
   "cell_type": "code",
   "execution_count": 196,
   "metadata": {},
   "outputs": [
    {
     "name": "stdout",
     "output_type": "stream",
     "text": [
      "Train on 508403 samples, validate on 72630 samples\n",
      "Epoch 2/6\n",
      "508403/508403 [==============================] - 765s 2ms/sample - loss: 50.2355 - mse: 50.2355 - mape: 41419524.0000 - val_loss: 213.4076 - val_mse: 213.4076 - val_mape: 47107052.0000\n",
      "Epoch 3/6\n",
      "508403/508403 [==============================] - 756s 1ms/sample - loss: 49.9107 - mse: 49.9107 - mape: 39077512.0000 - val_loss: 212.8770 - val_mse: 212.8770 - val_mape: 46320992.0000\n",
      "Epoch 4/6\n",
      "508403/508403 [==============================] - 758s 1ms/sample - loss: 49.7064 - mse: 49.7064 - mape: 37057704.0000 - val_loss: 213.4588 - val_mse: 213.4588 - val_mape: 46742580.0000\n",
      "Epoch 5/6\n",
      "508403/508403 [==============================] - 753s 1ms/sample - loss: 49.3864 - mse: 49.3864 - mape: 37776616.0000 - val_loss: 212.4379 - val_mse: 212.4379 - val_mape: 37382352.0000\n",
      "Epoch 6/6\n",
      "508403/508403 [==============================] - 752s 1ms/sample - loss: 49.0735 - mse: 49.0735 - mape: 37863464.0000 - val_loss: 212.3936 - val_mse: 212.3935 - val_mape: 41967784.0000\n"
     ]
    }
   ],
   "source": [
    "# run 10/30\n",
    "\n",
    "# [img_in_, hours_in_, wkdays_in_, nums_in_, neighbs_in_]\n",
    "\n",
    "history = model.fit(\n",
    "    x=[X_train_imgs, X_train_categorical[:,0], X_train_categorical[:,1], X_train_num, X_train_neighbors],\n",
    "    y=y_train,\n",
    "    batch_size=512,\n",
    "    epochs=6,\n",
    "    verbose=1,\n",
    "    initial_epoch = 1,\n",
    "    validation_data=([X_dev_imgs, X_dev_categorical[:,0], X_dev_categorical[:,1], X_dev_num, X_dev_neighbors], y_dev),\n",
    "    validation_freq=1\n",
    ")"
   ]
  },
  {
   "cell_type": "markdown",
   "metadata": {},
   "source": [
    "initial reactions: Not that great, vastly overfitting"
   ]
  },
  {
   "cell_type": "code",
   "execution_count": null,
   "metadata": {},
   "outputs": [],
   "source": [
    "# keras.utils.plot_model(model, 'my_first_model.png')"
   ]
  },
  {
   "cell_type": "markdown",
   "metadata": {},
   "source": [
    "## model tweaks, plus a new neighbors function that is much faster"
   ]
  },
  {
   "cell_type": "code",
   "execution_count": 68,
   "metadata": {},
   "outputs": [
    {
     "name": "stdout",
     "output_type": "stream",
     "text": [
      "<class 'numpy.ndarray'>\n",
      "<class 'numpy.ndarray'>\n",
      "<class 'numpy.ndarray'>\n",
      "<class 'numpy.ndarray'>\n"
     ]
    }
   ],
   "source": [
    "print(type(X_train_categorical))\n",
    "print(type(X_train_num))\n",
    "print(type(X_train_imgs))\n",
    "print(type(X_train_neighbors))"
   ]
  },
  {
   "cell_type": "code",
   "execution_count": 69,
   "metadata": {},
   "outputs": [
    {
     "name": "stdout",
     "output_type": "stream",
     "text": [
      "<class 'numpy.ndarray'>\n",
      "<class 'numpy.ndarray'>\n",
      "<class 'numpy.ndarray'>\n",
      "<class 'numpy.ndarray'>\n"
     ]
    }
   ],
   "source": [
    "print(type(X_dev_categorical))\n",
    "print(type(X_dev_num))\n",
    "print(type(X_dev_imgs))\n",
    "print(type(X_dev_neighbors))"
   ]
  },
  {
   "cell_type": "code",
   "execution_count": 94,
   "metadata": {},
   "outputs": [],
   "source": [
    "#### INPUTS\n",
    "img_in_ = Input(shape=(40,40,3), name='img_input')\n",
    "hours_in_ = Input(shape=(1,), name = 'hrs_input')\n",
    "wkdays_in_ = Input(shape=(1,), name = \"wkdays_input\")\n",
    "nums_in_ = Input(shape=(6,), name='nums_input')\n",
    "neighbs_in_ = Input(shape=(24,), name='neighbs_input')\n",
    "\n",
    "#### IMAGERY\n",
    "# input -> conv2d -> activation -> normalization -> 2x2 max pooling -> flatten\n",
    "   \n",
    "img_ = Conv2D(filters = 64, kernel_size = (5,5))(img_in_)\n",
    "img_ = BatchNormalization(axis = -1)(img_)\n",
    "img_ = Activation(activation='relu')(img_)\n",
    "img_ = MaxPooling2D(pool_size=(2,2))(img_)\n",
    "\n",
    "img_ = Conv2D(filters = 64, kernel_size = (3,3))(img_)\n",
    "img_ = BatchNormalization(axis = -1)(img_)\n",
    "img_ = Activation(activation='relu')(img_)\n",
    "img_ = MaxPooling2D(pool_size=(2,2))(img_)\n",
    "\n",
    "img_ = Flatten()(img_)\n",
    "\n",
    "img_ = Dense(128, activation = 'relu')(img_)\n",
    "img_ = Dropout(0.5)(img_) # changed\n",
    "img_ = Dense(16, activation = 'relu')(img_)\n",
    "\n",
    "#### categorical data (weekday, hour)\n",
    "# input -> [embedding_hour, embedding_weekday] -> concat -> \n",
    "hours_ = Embedding(input_dim = 24, output_dim = 4, input_length = 1)(hours_in_)\n",
    "wkdays_ = Embedding(input_dim = 7, output_dim = 2, input_length = 1)(wkdays_in_)\n",
    "\n",
    "# both are now is now [batch_size, 1, output_dim]\n",
    "hours_ = Reshape((4,))(hours_)\n",
    "wkdays_ = Reshape((2,))(wkdays_)\n",
    "# both are now is now [batch_size,output_dim]\n",
    "\n",
    "#### continuous data (epa, humidity, temperature, wind_x, wind_y, ndvi)\n",
    "# input -> batch_norm\n",
    "nums_ = BatchNormalization()(nums_in_)\n",
    "\n",
    "### neighborhood data\n",
    "neighbs_ = BatchNormalization()(neighbs_in_)\n",
    "\n",
    "#### everything together\n",
    "x_ = Concatenate()([img_, hours_, wkdays_, nums_, neighbs_])\n",
    "\n",
    "## FF time -- added regularization\n",
    "x_ = Dense(128, activation = 'relu', kernel_regularizer=tf.keras.regularizers.l2(l=0.01))(x_)\n",
    "x_ = Dropout(0.2)(x_)\n",
    "x_ = Dense(64, activation = 'relu', kernel_regularizer=tf.keras.regularizers.l2(l=0.01))(x_)\n",
    "x_ = Dropout(0.2)(x_)\n",
    "output_ = Dense(1)(x_)\n",
    "\n",
    "inputs = [img_in_, hours_in_, wkdays_in_, nums_in_, neighbs_in_]\n",
    "big_model = Model(inputs = inputs, outputs = output_)"
   ]
  },
  {
   "cell_type": "code",
   "execution_count": 95,
   "metadata": {},
   "outputs": [],
   "source": [
    "big_model.compile(optimizer='adam',\n",
    "              loss='mean_squared_error',\n",
    "              metrics=['mape'])"
   ]
  },
  {
   "cell_type": "code",
   "execution_count": 76,
   "metadata": {},
   "outputs": [
    {
     "name": "stdout",
     "output_type": "stream",
     "text": [
      "Train on 508403 samples, validate on 72630 samples\n",
      "Epoch 1/5\n",
      "508403/508403 [==============================] - 774s 2ms/sample - loss: 58.2212 - mape: 65106892.0000 - val_loss: 218.5086 - val_mape: 89306552.0000\n",
      "Epoch 2/5\n",
      "508403/508403 [==============================] - 756s 1ms/sample - loss: 53.3409 - mape: 57489504.0000 - val_loss: 218.2457 - val_mape: 54979484.0000\n",
      "Epoch 3/5\n",
      "508403/508403 [==============================] - 792s 2ms/sample - loss: 52.2854 - mape: 54182068.0000 - val_loss: 217.1847 - val_mape: 100152552.0000\n",
      "Epoch 4/5\n",
      "508403/508403 [==============================] - 756s 1ms/sample - loss: 51.7191 - mape: 54194500.0000 - val_loss: 215.6083 - val_mape: 73922408.0000\n",
      "Epoch 5/5\n",
      "508403/508403 [==============================] - 758s 1ms/sample - loss: 51.3154 - mape: 53101976.0000 - val_loss: 215.0022 - val_mape: 47782808.0000\n"
     ]
    }
   ],
   "source": [
    "history = model.fit(\n",
    "    x=[X_train_imgs, X_train_categorical[:,0], X_train_categorical[:,1], X_train_num, X_train_neighbors],\n",
    "    y=y_train,\n",
    "    batch_size=512,\n",
    "    epochs=5,\n",
    "    verbose=1,\n",
    "    validation_data=([X_dev_imgs, X_dev_categorical[:,0], X_dev_categorical[:,1], X_dev_num, X_dev_neighbors], y_dev),\n",
    "    validation_freq=1\n",
    ")"
   ]
  },
  {
   "cell_type": "markdown",
   "metadata": {},
   "source": [
    "the other one was better, but both suck"
   ]
  },
  {
   "cell_type": "markdown",
   "metadata": {},
   "source": [
    "prediction analysis on one of the models from earlier"
   ]
  },
  {
   "cell_type": "code",
   "execution_count": 39,
   "metadata": {},
   "outputs": [],
   "source": [
    "X_dev_imgs = X_dev_imgs.astype(np.float16)"
   ]
  },
  {
   "cell_type": "code",
   "execution_count": 40,
   "metadata": {
    "scrolled": false
   },
   "outputs": [],
   "source": [
    "# predicted vs actual for dev\n",
    "preds = model.predict(\n",
    "    x = [X_dev_imgs, X_dev_categorical[:,0], X_dev_categorical[:,1], X_dev_num, X_dev_neighbors],\n",
    "    batch_size = 512,\n",
    "    verbose = 0\n",
    ")"
   ]
  },
  {
   "cell_type": "code",
   "execution_count": null,
   "metadata": {},
   "outputs": [],
   "source": [
    "# look at characteristics of highest pred loss"
   ]
  },
  {
   "cell_type": "code",
   "execution_count": 47,
   "metadata": {},
   "outputs": [],
   "source": [
    "preds = preds.reshape((preds.shape[0],))"
   ]
  },
  {
   "cell_type": "code",
   "execution_count": 49,
   "metadata": {},
   "outputs": [],
   "source": [
    "X_dev['loss'] = X_dev['2_5um'] - preds\n",
    "X_dev['pred'] = preds"
   ]
  },
  {
   "cell_type": "code",
   "execution_count": 43,
   "metadata": {},
   "outputs": [],
   "source": [
    "%matplotlib inline\n",
    "import matplotlib.pyplot as plt"
   ]
  },
  {
   "cell_type": "code",
   "execution_count": 52,
   "metadata": {},
   "outputs": [
    {
     "data": {
      "text/plain": [
       "<matplotlib.collections.PathCollection at 0x7f2bd8ea0ef0>"
      ]
     },
     "execution_count": 52,
     "metadata": {},
     "output_type": "execute_result"
    },
    {
     "data": {
      "image/png": "[encoded data removed]",
      "text/plain": [
       "<Figure size 432x288 with 1 Axes>"
      ]
     },
     "metadata": {
      "needs_background": "light"
     },
     "output_type": "display_data"
    }
   ],
   "source": [
    "f, a = plt.subplots()\n",
    "a.scatter(x = X_dev['2_5um'], y = X_dev['pred'])"
   ]
  },
  {
   "cell_type": "code",
   "execution_count": 57,
   "metadata": {},
   "outputs": [
    {
     "data": {
      "text/plain": [
       "(0, 30)"
      ]
     },
     "execution_count": 57,
     "metadata": {},
     "output_type": "execute_result"
    },
    {
     "data": {
      "image/png": "[encoded data removed]",
      "text/plain": [
       "<Figure size 432x288 with 1 Axes>"
      ]
     },
     "metadata": {
      "needs_background": "light"
     },
     "output_type": "display_data"
    }
   ],
   "source": [
    "f, a = plt.subplots()\n",
    "a.scatter(x = X_dev['2_5um'], y = X_dev['pred'])\n",
    "a.set_xlim(0, 200)\n",
    "a.set_ylim(0, 30)"
   ]
  },
  {
   "cell_type": "code",
   "execution_count": 60,
   "metadata": {},
   "outputs": [
    {
     "data": {
      "text/plain": [
       "(0, 25)"
      ]
     },
     "execution_count": 60,
     "metadata": {},
     "output_type": "execute_result"
    },
    {
     "data": {
      "image/png": "[encoded data removed]",
      "text/plain": [
       "<Figure size 432x288 with 1 Axes>"
      ]
     },
     "metadata": {
      "needs_background": "light"
     },
     "output_type": "display_data"
    }
   ],
   "source": [
    "f, a = plt.subplots()\n",
    "a.scatter(x = X_dev['2_5um'], y = X_dev['pred'])\n",
    "a.set_xlim(0, 25)\n",
    "a.set_ylim(0, 25)"
   ]
  },
  {
   "cell_type": "code",
   "execution_count": 58,
   "metadata": {},
   "outputs": [
    {
     "data": {
      "text/plain": [
       "<matplotlib.collections.PathCollection at 0x7f2bd0607c50>"
      ]
     },
     "execution_count": 58,
     "metadata": {},
     "output_type": "execute_result"
    },
    {
     "data": {
      "image/png": "[encoded data removed]",
      "text/plain": [
       "<Figure size 432x288 with 1 Axes>"
      ]
     },
     "metadata": {
      "needs_background": "light"
     },
     "output_type": "display_data"
    }
   ],
   "source": [
    "f, a = plt.subplots()\n",
    "a.scatter(x = X_dev['2_5um'], y = X_dev['loss'])\n"
   ]
  },
  {
   "cell_type": "markdown",
   "metadata": {},
   "source": [
    "so, a couple of absolutely mondo readings really hurt, I guess (the model still sucks)"
   ]
  },
  {
   "cell_type": "code",
   "execution_count": null,
   "metadata": {},
   "outputs": [],
   "source": [
    "# so, a couple of absolutely mondo readings"
   ]
  },
  {
   "cell_type": "code",
   "execution_count": 59,
   "metadata": {},
   "outputs": [
    {
     "data": {
      "text/plain": [
       "(0, 200)"
      ]
     },
     "execution_count": 59,
     "metadata": {},
     "output_type": "execute_result"
    },
    {
     "data": {
      "image/png": "[encoded data removed]",
      "text/plain": [
       "<Figure size 432x288 with 1 Axes>"
      ]
     },
     "metadata": {
      "needs_background": "light"
     },
     "output_type": "display_data"
    }
   ],
   "source": [
    "f, a = plt.subplots()\n",
    "a.scatter(x = X_dev['2_5um'], y = X_dev['loss'])\n",
    "a.set_xlim(0, 200)\n",
    "a.set_ylim(0, 200)"
   ]
  },
  {
   "cell_type": "code",
   "execution_count": null,
   "metadata": {},
   "outputs": [],
   "source": [
    "# in other words, I'm just kind of predicting aroudn the mean and the numbers keep going up"
   ]
  },
  {
   "cell_type": "markdown",
   "metadata": {},
   "source": [
    "## simpler model + outlier removal"
   ]
  },
  {
   "cell_type": "code",
   "execution_count": 30,
   "metadata": {},
   "outputs": [],
   "source": [
    "cutoff = np.quantile(y_train, 0.999)"
   ]
  },
  {
   "cell_type": "code",
   "execution_count": 31,
   "metadata": {},
   "outputs": [],
   "source": [
    "cut = (y_train < cutoff)\n",
    "cut_dev = (y_dev < cutoff)"
   ]
  },
  {
   "cell_type": "code",
   "execution_count": 69,
   "metadata": {},
   "outputs": [],
   "source": [
    "## simple model\n",
    "#### INPUTS\n",
    "hours_in_ = Input(shape=(24,), name = 'hrs_input')\n",
    "wkdays_in_ = Input(shape=(7,), name = \"wkdays_input\")\n",
    "nums_in_ = Input(shape=(6,), name='nums_input')\n",
    "neighbs_in_ = Input(shape=(24,), name='neighbs_input')\n",
    "\n",
    "#### everything together\n",
    "x_ = Concatenate()([hours_in_, wkdays_in_, nums_in_, neighbs_in_])\n",
    "\n",
    "## FF time -- added regularization\n",
    "x_ = Dense(128, activation = 'relu', kernel_regularizer=tf.keras.regularizers.l2(l=0.1))(x_)\n",
    "x_ = Dropout(0.2)(x_)\n",
    "x_ = Dense(64, activation = 'relu', kernel_regularizer=tf.keras.regularizers.l2(l=0.1))(x_)\n",
    "x_ = Dropout(0.2)(x_)\n",
    "output_ = Dense(1)(x_)\n",
    "\n",
    "inputs = [hours_in_, wkdays_in_, nums_in_, neighbs_in_]\n",
    "simple_model = Model(inputs = inputs, outputs = output_)"
   ]
  },
  {
   "cell_type": "code",
   "execution_count": 71,
   "metadata": {},
   "outputs": [],
   "source": [
    "simple_model.compile(optimizer='adam',\n",
    "              loss='mean_squared_error',\n",
    "              metrics=['mape'])"
   ]
  },
  {
   "cell_type": "code",
   "execution_count": 34,
   "metadata": {},
   "outputs": [],
   "source": [
    "hrs = tf.keras.utils.to_categorical(X_train_categorical[:,0], num_classes=24)\n",
    "hrs_dev = tf.keras.utils.to_categorical(X_dev_categorical[:,0], num_classes=24)\n",
    "days = tf.keras.utils.to_categorical(X_train_categorical[:,1], num_classes=7)\n",
    "days_dev = tf.keras.utils.to_categorical(X_dev_categorical[:,1], num_classes=7)"
   ]
  },
  {
   "cell_type": "code",
   "execution_count": 93,
   "metadata": {
    "scrolled": true
   },
   "outputs": [
    {
     "name": "stdout",
     "output_type": "stream",
     "text": [
      "Train on 507894 samples, validate on 72558 samples\n",
      "Epoch 1/20\n",
      "507894/507894 [==============================] - 5s 11us/sample - loss: 15.9297 - mape: 113750656.0000 - val_loss: 15.3801 - val_mape: 115784456.0000\n",
      "Epoch 2/20\n",
      "507894/507894 [==============================] - 5s 10us/sample - loss: 15.9440 - mape: 114051544.0000 - val_loss: 15.1369 - val_mape: 108190240.0000\n",
      "Epoch 3/20\n",
      "507894/507894 [==============================] - 4s 8us/sample - loss: 15.9191 - mape: 114052488.0000 - val_loss: 15.1472 - val_mape: 108020968.0000\n",
      "Epoch 4/20\n",
      "507894/507894 [==============================] - 4s 8us/sample - loss: 15.9118 - mape: 113722176.0000 - val_loss: 15.1223 - val_mape: 104986520.0000\n",
      "Epoch 5/20\n",
      "507894/507894 [==============================] - 4s 8us/sample - loss: 15.9107 - mape: 113710360.0000 - val_loss: 15.4824 - val_mape: 117919608.0000\n",
      "Epoch 6/20\n",
      "507894/507894 [==============================] - 4s 8us/sample - loss: 15.9131 - mape: 113739160.0000 - val_loss: 15.1928 - val_mape: 111176344.0000\n",
      "Epoch 7/20\n",
      "507894/507894 [==============================] - 4s 8us/sample - loss: 15.9158 - mape: 113657344.0000 - val_loss: 15.2617 - val_mape: 114299096.0000\n",
      "Epoch 8/20\n",
      "507894/507894 [==============================] - 4s 8us/sample - loss: 15.8965 - mape: 113671432.0000 - val_loss: 15.1458 - val_mape: 106225208.0000\n",
      "Epoch 9/20\n",
      "507894/507894 [==============================] - 4s 9us/sample - loss: 15.9128 - mape: 113831144.0000 - val_loss: 15.1885 - val_mape: 109303088.0000\n",
      "Epoch 10/20\n",
      "507894/507894 [==============================] - 4s 9us/sample - loss: 15.9009 - mape: 113762160.0000 - val_loss: 15.3481 - val_mape: 102401456.0000\n",
      "Epoch 11/20\n",
      "507894/507894 [==============================] - 4s 7us/sample - loss: 15.8836 - mape: 113437400.0000 - val_loss: 15.1871 - val_mape: 104156104.0000\n",
      "Epoch 12/20\n",
      "507894/507894 [==============================] - 4s 8us/sample - loss: 15.9055 - mape: 113672056.0000 - val_loss: 15.1798 - val_mape: 111204024.0000\n",
      "Epoch 13/20\n",
      "507894/507894 [==============================] - 4s 8us/sample - loss: 15.8890 - mape: 113548824.0000 - val_loss: 15.2276 - val_mape: 103846696.0000\n",
      "Epoch 14/20\n",
      "507894/507894 [==============================] - 4s 8us/sample - loss: 15.9078 - mape: 113633944.0000 - val_loss: 15.1338 - val_mape: 105880096.0000\n",
      "Epoch 15/20\n",
      "507894/507894 [==============================] - 4s 7us/sample - loss: 15.9107 - mape: 113569152.0000 - val_loss: 15.1807 - val_mape: 109467096.0000\n",
      "Epoch 16/20\n",
      "507894/507894 [==============================] - 4s 8us/sample - loss: 15.8922 - mape: 113523224.0000 - val_loss: 15.1772 - val_mape: 110782792.0000\n",
      "Epoch 17/20\n",
      "507894/507894 [==============================] - 4s 7us/sample - loss: 15.9093 - mape: 113641632.0000 - val_loss: 15.1491 - val_mape: 106097192.0000\n",
      "Epoch 18/20\n",
      "507894/507894 [==============================] - 4s 7us/sample - loss: 15.9022 - mape: 113899408.0000 - val_loss: 15.2597 - val_mape: 101884064.0000\n",
      "Epoch 19/20\n",
      "507894/507894 [==============================] - 3s 7us/sample - loss: 15.8886 - mape: 113670232.0000 - val_loss: 15.4177 - val_mape: 117739368.0000\n",
      "Epoch 20/20\n",
      "507894/507894 [==============================] - 4s 8us/sample - loss: 15.9037 - mape: 113605592.0000 - val_loss: 15.1959 - val_mape: 104069160.0000\n"
     ]
    }
   ],
   "source": [
    "history = simple_model.fit(\n",
    "    x=[hrs[cut], days[cut], X_train_num[cut], X_train_neighbors[cut]],\n",
    "    y=y_train[cut],\n",
    "    batch_size=512,\n",
    "    epochs=20,\n",
    "    verbose=1,\n",
    "    validation_data=([hrs_dev[cut_dev], days_dev[cut_dev], X_dev_num[cut_dev], X_dev_neighbors[cut_dev]], y_dev[cut_dev]),\n",
    "    validation_freq=1\n",
    ")"
   ]
  },
  {
   "cell_type": "code",
   "execution_count": null,
   "metadata": {},
   "outputs": [],
   "source": []
  },
  {
   "cell_type": "markdown",
   "metadata": {},
   "source": [
    "### back to the fancy pants NN model, but having lopped off the outliers"
   ]
  },
  {
   "cell_type": "code",
   "execution_count": 99,
   "metadata": {},
   "outputs": [
    {
     "name": "stdout",
     "output_type": "stream",
     "text": [
      "Train on 507894 samples, validate on 72558 samples\n",
      "Epoch 1/5\n",
      "507894/507894 [==============================] - 750s 1ms/sample - loss: 12.0627 - mape: 62168552.0000 - val_loss: 14.3186 - val_mape: 50891240.0000\n",
      "Epoch 2/5\n",
      "507894/507894 [==============================] - 754s 1ms/sample - loss: 10.5217 - mape: 52741392.0000 - val_loss: 12.5801 - val_mape: 83901136.0000\n",
      "Epoch 3/5\n",
      "507894/507894 [==============================] - 751s 1ms/sample - loss: 10.1161 - mape: 48745356.0000 - val_loss: 13.1076 - val_mape: 42604676.0000\n",
      "Epoch 4/5\n",
      "507894/507894 [==============================] - 753s 1ms/sample - loss: 9.9028 - mape: 46787076.0000 - val_loss: 14.0886 - val_mape: 36787096.0000\n",
      "Epoch 5/5\n",
      "507894/507894 [==============================] - 754s 1ms/sample - loss: 9.7474 - mape: 45126660.0000 - val_loss: 11.3591 - val_mape: 47758004.0000\n"
     ]
    }
   ],
   "source": [
    "history = big_model.fit(\n",
    "    x=[X_train_imgs[cut], X_train_categorical[:,0][cut], X_train_categorical[:,1][cut], \n",
    "       X_train_num[cut], X_train_neighbors[cut]],\n",
    "    y=y_train[cut],\n",
    "    batch_size=512,\n",
    "    epochs=5,\n",
    "    verbose=1,\n",
    "    validation_data=([X_dev_imgs[cut_dev], X_dev_categorical[:,0][cut_dev], \n",
    "                      X_dev_categorical[:,1][cut_dev], X_dev_num[cut_dev], X_dev_neighbors[cut_dev]], y_dev[cut_dev]),\n",
    "    validation_freq=1\n",
    ")"
   ]
  },
  {
   "cell_type": "markdown",
   "metadata": {},
   "source": [
    "#### error analysis on outlier-filtered models"
   ]
  },
  {
   "cell_type": "code",
   "execution_count": 100,
   "metadata": {},
   "outputs": [],
   "source": [
    "preds = big_model.predict(\n",
    "    x = [X_dev_imgs[cut_dev], X_dev_categorical[:,0][cut_dev], \n",
    "                      X_dev_categorical[:,1][cut_dev], X_dev_num[cut_dev], X_dev_neighbors[cut_dev]],\n",
    "    batch_size = 512,\n",
    "    verbose = 0\n",
    ")"
   ]
  },
  {
   "cell_type": "code",
   "execution_count": 101,
   "metadata": {},
   "outputs": [],
   "source": [
    "actual = y_dev[cut_dev]\n",
    "preds = preds.reshape((preds.shape[0],))"
   ]
  },
  {
   "cell_type": "code",
   "execution_count": 103,
   "metadata": {},
   "outputs": [
    {
     "data": {
      "text/plain": [
       "(-5.595583060607479, 127.20831982217746)"
      ]
     },
     "execution_count": 103,
     "metadata": {},
     "output_type": "execute_result"
    },
    {
     "data": {
      "image/png": "[encoded data removed]",
      "text/plain": [
       "<Figure size 432x288 with 1 Axes>"
      ]
     },
     "metadata": {
      "needs_background": "light"
     },
     "output_type": "display_data"
    }
   ],
   "source": [
    "f, a = plt.subplots()\n",
    "a.scatter(actual, preds)\n",
    "a.set_ylim()"
   ]
  },
  {
   "cell_type": "code",
   "execution_count": 104,
   "metadata": {},
   "outputs": [],
   "source": [
    "errors = np.abs((actual - preds))"
   ]
  },
  {
   "cell_type": "code",
   "execution_count": 106,
   "metadata": {},
   "outputs": [
    {
     "data": {
      "text/plain": [
       "<matplotlib.collections.PathCollection at 0x7f2ac02e4b00>"
      ]
     },
     "execution_count": 106,
     "metadata": {},
     "output_type": "execute_result"
    },
    {
     "data": {
      "image/png": "[encoded data removed]",
      "text/plain": [
       "<Figure size 432x288 with 1 Axes>"
      ]
     },
     "metadata": {
      "needs_background": "light"
     },
     "output_type": "display_data"
    }
   ],
   "source": [
    "f, a = plt.subplots()\n",
    "a.scatter(actual, errors)\n"
   ]
  },
  {
   "cell_type": "code",
   "execution_count": 107,
   "metadata": {},
   "outputs": [],
   "source": [
    "simple_preds = simple_model.predict(\n",
    "    x = [hrs_dev[cut_dev], days_dev[cut_dev], X_dev_num[cut_dev], X_dev_neighbors[cut_dev]],\n",
    "    batch_size = 512,\n",
    "    verbose = 0\n",
    ")"
   ]
  },
  {
   "cell_type": "code",
   "execution_count": 108,
   "metadata": {},
   "outputs": [
    {
     "data": {
      "text/plain": [
       "<matplotlib.collections.PathCollection at 0x7f2ac0298908>"
      ]
     },
     "execution_count": 108,
     "metadata": {},
     "output_type": "execute_result"
    },
    {
     "data": {
      "image/png": "[encoded data removed]",
      "text/plain": [
       "<Figure size 432x288 with 1 Axes>"
      ]
     },
     "metadata": {
      "needs_background": "light"
     },
     "output_type": "display_data"
    }
   ],
   "source": [
    "f, a = plt.subplots()\n",
    "a.scatter(actual, simple_preds)\n"
   ]
  },
  {
   "cell_type": "markdown",
   "metadata": {},
   "source": [
    "lol lol lol, every single guess was between 2.5 and 5, what a shitty model"
   ]
  },
  {
   "cell_type": "code",
   "execution_count": null,
   "metadata": {},
   "outputs": [],
   "source": []
  },
  {
   "cell_type": "code",
   "execution_count": null,
   "metadata": {},
   "outputs": [],
   "source": []
  },
  {
   "cell_type": "code",
   "execution_count": null,
   "metadata": {},
   "outputs": [],
   "source": []
  },
  {
   "cell_type": "code",
   "execution_count": null,
   "metadata": {},
   "outputs": [],
   "source": []
  },
  {
   "cell_type": "markdown",
   "metadata": {},
   "source": [
    "### regular ass L1 regressor"
   ]
  },
  {
   "cell_type": "code",
   "execution_count": 35,
   "metadata": {},
   "outputs": [],
   "source": [
    "# note this doesn't include imagery\n",
    "reg_train = np.concatenate((hrs[cut], days[cut], X_train_num[cut], X_train_neighbors[cut]), axis = 1)\n",
    "rev_dev = np.concatenate((hrs_dev[cut_dev], days_dev[cut_dev], X_dev_num[cut_dev], X_dev_neighbors[cut_dev]), axis = 1)"
   ]
  },
  {
   "cell_type": "code",
   "execution_count": 119,
   "metadata": {},
   "outputs": [
    {
     "data": {
      "text/plain": [
       "Lasso(alpha=0.1, copy_X=True, fit_intercept=True, max_iter=1000,\n",
       "      normalize=False, positive=False, precompute=False, random_state=None,\n",
       "      selection='cyclic', tol=0.0001, warm_start=False)"
      ]
     },
     "execution_count": 119,
     "metadata": {},
     "output_type": "execute_result"
    }
   ],
   "source": [
    "from sklearn.linear_model import Lasso\n",
    "l1 = Lasso(alpha = 0.1)\n",
    "l1.fit(X = reg_train, y = y_train[cut])"
   ]
  },
  {
   "cell_type": "code",
   "execution_count": 120,
   "metadata": {},
   "outputs": [],
   "source": [
    "l1_p = l1.predict(rev_dev)"
   ]
  },
  {
   "cell_type": "code",
   "execution_count": 121,
   "metadata": {},
   "outputs": [
    {
     "data": {
      "text/plain": [
       "14.575810238928874"
      ]
     },
     "execution_count": 121,
     "metadata": {},
     "output_type": "execute_result"
    }
   ],
   "source": [
    "from sklearn.metrics import mean_squared_error, r2_score\n",
    "\n",
    "mean_squared_error(y_dev[cut_dev], l1_p)\n"
   ]
  },
  {
   "cell_type": "code",
   "execution_count": 125,
   "metadata": {},
   "outputs": [
    {
     "data": {
      "text/plain": [
       "<matplotlib.collections.PathCollection at 0x7f2a9c8855f8>"
      ]
     },
     "execution_count": 125,
     "metadata": {},
     "output_type": "execute_result"
    },
    {
     "data": {
      "image/png": "[encoded data removed]",
      "text/plain": [
       "<Figure size 432x288 with 1 Axes>"
      ]
     },
     "metadata": {
      "needs_background": "light"
     },
     "output_type": "display_data"
    }
   ],
   "source": [
    "f, a = plt.subplots()\n",
    "a.scatter(actual,l1_p)"
   ]
  },
  {
   "cell_type": "code",
   "execution_count": 135,
   "metadata": {},
   "outputs": [
    {
     "data": {
      "text/plain": [
       "array([-0.00000000e+00,  0.00000000e+00,  0.00000000e+00,  0.00000000e+00,\n",
       "        0.00000000e+00,  0.00000000e+00,  0.00000000e+00,  0.00000000e+00,\n",
       "        0.00000000e+00,  0.00000000e+00, -0.00000000e+00, -0.00000000e+00,\n",
       "       -0.00000000e+00, -0.00000000e+00, -0.00000000e+00, -0.00000000e+00,\n",
       "       -0.00000000e+00, -0.00000000e+00, -0.00000000e+00, -0.00000000e+00,\n",
       "       -0.00000000e+00, -0.00000000e+00, -0.00000000e+00, -0.00000000e+00,\n",
       "        0.00000000e+00, -0.00000000e+00, -0.00000000e+00, -0.00000000e+00,\n",
       "        0.00000000e+00, -0.00000000e+00,  0.00000000e+00,  2.31242121e-01,\n",
       "       -2.41093438e-03,  5.97927582e-02,  3.31722363e-02, -7.39004409e-03,\n",
       "       -1.37898512e-04,  1.21533643e-01,  4.44920194e-02,  2.92381878e-02,\n",
       "        2.59243982e-02,  0.00000000e+00, -5.61240339e-04,  1.11539714e-02,\n",
       "        0.00000000e+00,  5.70008026e-02,  1.00171383e-01,  1.44733520e-02,\n",
       "        1.93305536e-01,  1.70418207e-02,  2.49352280e-02,  5.46093417e-02,\n",
       "       -0.00000000e+00,  6.08405279e-03,  4.01135400e-03, -0.00000000e+00,\n",
       "        1.11785676e-01,  9.18811621e-02,  2.97341332e-02,  3.27118003e-02,\n",
       "        1.20719961e-01])"
      ]
     },
     "execution_count": 135,
     "metadata": {},
     "output_type": "execute_result"
    }
   ],
   "source": [
    "l1.coef_"
   ]
  },
  {
   "cell_type": "markdown",
   "metadata": {},
   "source": [
    "feature indices: 0-23 are hours; 24-30 are days; 31:'epa_pm25_value', 32:'temperature', 33:'humidity', 34:'wind_x', 35:'wind_y', 36: 'ndvi'; 37-60: various neighbor indices"
   ]
  },
  {
   "cell_type": "code",
   "execution_count": 136,
   "metadata": {},
   "outputs": [
    {
     "data": {
      "text/plain": [
       "array([31, 48, 37, 60, 56, 46, 57, 33, 45, 51, 38, 34, 59, 58, 39, 40, 50,\n",
       "       49, 47, 43, 35, 53, 54, 32, 42, 36, 17,  9, 15, 14, 13, 12, 11, 10,\n",
       "        7,  8,  6,  5,  1,  3,  2,  4, 16, 30, 18, 27, 55, 52, 44, 41, 29,\n",
       "       28, 26, 19, 25, 24, 23, 22, 21, 20,  0])"
      ]
     },
     "execution_count": 136,
     "metadata": {},
     "output_type": "execute_result"
    }
   ],
   "source": [
    "np.argsort(np.abs(l1.coef_))[::-1]"
   ]
  },
  {
   "cell_type": "code",
   "execution_count": 138,
   "metadata": {},
   "outputs": [
    {
     "name": "stdout",
     "output_type": "stream",
     "text": [
      "31 0.23124212140818923\n",
      "33 0.05979275817338575\n",
      "34 0.033172236346551115\n",
      "37 0.12153364293351411\n",
      "38 0.04449201939790659\n",
      "39 0.02923818782998038\n",
      "40 0.025924398222034795\n",
      "43 0.011153971446300854\n",
      "45 0.05700080264896245\n",
      "46 0.10017138258878527\n",
      "47 0.01447335200662963\n",
      "48 0.19330553573046033\n",
      "49 0.017041820693452288\n",
      "50 0.024935227962832256\n",
      "51 0.05460934168066919\n",
      "56 0.11178567568561286\n",
      "57 0.09188116205308895\n",
      "58 0.02973413321874039\n",
      "59 0.03271180025344263\n",
      "60 0.12071996054100194\n"
     ]
    }
   ],
   "source": [
    "for i, v in enumerate(l1.coef_):\n",
    "    if np.abs(v) > 0.01:\n",
    "        print(i, v)"
   ]
  },
  {
   "cell_type": "markdown",
   "metadata": {},
   "source": [
    "looking at this: \n",
    "- time of day is utterly worthless\n",
    "- epa value seems predictive, followed a few neighbor ones, plus humidity, and, for some reason, wind_x"
   ]
  },
  {
   "cell_type": "markdown",
   "metadata": {},
   "source": [
    "### fuck it, let's see what features a random forest says are notable"
   ]
  },
  {
   "cell_type": "code",
   "execution_count": 36,
   "metadata": {},
   "outputs": [],
   "source": [
    "from sklearn.ensemble import RandomForestRegressor"
   ]
  },
  {
   "cell_type": "code",
   "execution_count": 38,
   "metadata": {},
   "outputs": [
    {
     "data": {
      "text/plain": [
       "RandomForestRegressor(bootstrap=True, criterion='mse', max_depth=None,\n",
       "                      max_features='auto', max_leaf_nodes=None,\n",
       "                      min_impurity_decrease=0.0, min_impurity_split=None,\n",
       "                      min_samples_leaf=1, min_samples_split=2,\n",
       "                      min_weight_fraction_leaf=0.0, n_estimators=10,\n",
       "                      n_jobs=None, oob_score=False, random_state=None,\n",
       "                      verbose=0, warm_start=False)"
      ]
     },
     "execution_count": 38,
     "metadata": {},
     "output_type": "execute_result"
    }
   ],
   "source": [
    "rf = RandomForestRegressor()\n",
    "rf.fit(X = reg_train, y = y_train[cut])"
   ]
  },
  {
   "cell_type": "code",
   "execution_count": 41,
   "metadata": {},
   "outputs": [],
   "source": [
    "rf_pred = rf.predict(rev_dev)"
   ]
  },
  {
   "cell_type": "code",
   "execution_count": 56,
   "metadata": {},
   "outputs": [],
   "source": [
    "from sklearn.metrics import mean_squared_error, r2_score\n"
   ]
  },
  {
   "cell_type": "code",
   "execution_count": 42,
   "metadata": {},
   "outputs": [
    {
     "data": {
      "text/plain": [
       "6.1489977170239305"
      ]
     },
     "execution_count": 42,
     "metadata": {},
     "output_type": "execute_result"
    }
   ],
   "source": [
    "\n",
    "mean_squared_error(y_dev[cut_dev], rf_pred)"
   ]
  },
  {
   "cell_type": "markdown",
   "metadata": {},
   "source": [
    "## uhh what"
   ]
  },
  {
   "cell_type": "code",
   "execution_count": 54,
   "metadata": {},
   "outputs": [],
   "source": [
    "actual = y_dev[cut_dev]"
   ]
  },
  {
   "cell_type": "code",
   "execution_count": 45,
   "metadata": {},
   "outputs": [
    {
     "data": {
      "text/plain": [
       "<matplotlib.collections.PathCollection at 0x7f47a6651470>"
      ]
     },
     "execution_count": 45,
     "metadata": {},
     "output_type": "execute_result"
    },
    {
     "data": {
      "image/png": "[encoded data removed]",
      "text/plain": [
       "<Figure size 432x288 with 1 Axes>"
      ]
     },
     "metadata": {
      "needs_background": "light"
     },
     "output_type": "display_data"
    }
   ],
   "source": [
    "f, a = plt.subplots()\n",
    "a.scatter(actual,rf_pred)"
   ]
  },
  {
   "cell_type": "code",
   "execution_count": 46,
   "metadata": {},
   "outputs": [],
   "source": [
    "errors = np.abs((rf_pred - actual))"
   ]
  },
  {
   "cell_type": "code",
   "execution_count": 47,
   "metadata": {},
   "outputs": [
    {
     "data": {
      "text/plain": [
       "<matplotlib.collections.PathCollection at 0x7f47a6572908>"
      ]
     },
     "execution_count": 47,
     "metadata": {},
     "output_type": "execute_result"
    },
    {
     "data": {
      "image/png": "[encoded data removed]",
      "text/plain": [
       "<Figure size 432x288 with 1 Axes>"
      ]
     },
     "metadata": {
      "needs_background": "light"
     },
     "output_type": "display_data"
    }
   ],
   "source": [
    "f, a = plt.subplots()\n",
    "a.scatter(actual,errors)"
   ]
  },
  {
   "cell_type": "code",
   "execution_count": 48,
   "metadata": {},
   "outputs": [
    {
     "data": {
      "text/plain": [
       "0.6338215768904177"
      ]
     },
     "execution_count": 48,
     "metadata": {},
     "output_type": "execute_result"
    }
   ],
   "source": [
    "r2_score(y_dev[cut_dev], rf_pred)"
   ]
  },
  {
   "cell_type": "code",
   "execution_count": 51,
   "metadata": {},
   "outputs": [
    {
     "data": {
      "text/plain": [
       "array([36, 33, 31, 32, 35, 34, 57, 60, 46, 30, 48, 37, 50, 54, 51, 39, 58,\n",
       "       56, 38, 59, 47, 53, 26, 28, 44, 49, 40, 29, 41, 27, 25, 24, 43, 45,\n",
       "        3,  2,  4, 16,  0,  5,  1,  6, 15, 52,  8, 17,  7, 42, 55, 18, 23,\n",
       "       22, 14, 12, 13, 10,  9, 19, 11, 21, 20])"
      ]
     },
     "execution_count": 51,
     "metadata": {},
     "output_type": "execute_result"
    }
   ],
   "source": [
    "np.argsort(rf.feature_importances_)[::-1]"
   ]
  },
  {
   "cell_type": "markdown",
   "metadata": {},
   "source": [
    "*recall*: feature indices: 0-23 are hours; 24-30 are days; 31:'epa_pm25_value', 32:'temperature', 33:'humidity', 34:'wind_x', 35:'wind_y', 36: 'ndvi'; 37-60: various neighbor indices"
   ]
  },
  {
   "cell_type": "markdown",
   "metadata": {},
   "source": [
    "so, in this one, ndvi was numero uno, followed by humidity, epa, both wind x and wind y, and then a bunch ofneighbors. time of day/weekday once again shit."
   ]
  },
  {
   "cell_type": "markdown",
   "metadata": {},
   "source": [
    "### fuck it, let's try gradient boosted trees"
   ]
  },
  {
   "cell_type": "code",
   "execution_count": 52,
   "metadata": {},
   "outputs": [],
   "source": [
    "from sklearn.ensemble import GradientBoostingRegressor"
   ]
  },
  {
   "cell_type": "code",
   "execution_count": 53,
   "metadata": {},
   "outputs": [
    {
     "data": {
      "text/plain": [
       "GradientBoostingRegressor(alpha=0.9, criterion='friedman_mse', init=None,\n",
       "                          learning_rate=0.1, loss='ls', max_depth=3,\n",
       "                          max_features=None, max_leaf_nodes=None,\n",
       "                          min_impurity_decrease=0.0, min_impurity_split=None,\n",
       "                          min_samples_leaf=1, min_samples_split=2,\n",
       "                          min_weight_fraction_leaf=0.0, n_estimators=100,\n",
       "                          n_iter_no_change=None, presort='auto',\n",
       "                          random_state=None, subsample=1.0, tol=0.0001,\n",
       "                          validation_fraction=0.1, verbose=0, warm_start=False)"
      ]
     },
     "execution_count": 53,
     "metadata": {},
     "output_type": "execute_result"
    }
   ],
   "source": [
    "gbr = GradientBoostingRegressor()\n",
    "gbr.fit(X = reg_train, y = y_train[cut])"
   ]
  },
  {
   "cell_type": "code",
   "execution_count": 55,
   "metadata": {},
   "outputs": [],
   "source": [
    "gb_pred = gbr.predict(rev_dev)"
   ]
  },
  {
   "cell_type": "code",
   "execution_count": 57,
   "metadata": {},
   "outputs": [
    {
     "data": {
      "text/plain": [
       "11.244049224407842"
      ]
     },
     "execution_count": 57,
     "metadata": {},
     "output_type": "execute_result"
    }
   ],
   "source": [
    "mean_squared_error(actual, gb_pred)"
   ]
  },
  {
   "cell_type": "code",
   "execution_count": 58,
   "metadata": {},
   "outputs": [
    {
     "data": {
      "text/plain": [
       "0.33040661196521937"
      ]
     },
     "execution_count": 58,
     "metadata": {},
     "output_type": "execute_result"
    }
   ],
   "source": [
    "r2_score(y_dev[cut_dev], gb_pred)"
   ]
  },
  {
   "cell_type": "code",
   "execution_count": 59,
   "metadata": {},
   "outputs": [
    {
     "data": {
      "text/plain": [
       "array([36, 33, 31, 57, 60, 37, 48, 30, 32, 46, 50, 51, 56, 38, 47, 40, 54,\n",
       "       35, 59, 58, 53, 39, 49, 34, 43,  6, 44, 41, 45,  5,  4,  7, 29,  3,\n",
       "       55, 25,  2, 26, 14,  1,  8,  9, 10, 11, 12, 13, 52, 15, 16, 17, 18,\n",
       "       19, 20, 21, 22, 23, 24, 27, 28, 42,  0])"
      ]
     },
     "execution_count": 59,
     "metadata": {},
     "output_type": "execute_result"
    }
   ],
   "source": [
    "np.argsort(gbr.feature_importances_)[::-1]"
   ]
  },
  {
   "cell_type": "code",
   "execution_count": null,
   "metadata": {},
   "outputs": [],
   "source": []
  }
 ],
 "metadata": {
  "kernelspec": {
   "display_name": "Python [conda env:tf]",
   "language": "python",
   "name": "conda-env-tf-py"
  },
  "language_info": {
   "codemirror_mode": {
    "name": "ipython",
    "version": 3
   },
   "file_extension": ".py",
   "mimetype": "text/x-python",
   "name": "python",
   "nbconvert_exporter": "python",
   "pygments_lexer": "ipython3",
   "version": "3.7.3"
  }
 },
 "nbformat": 4,
 "nbformat_minor": 2
}
