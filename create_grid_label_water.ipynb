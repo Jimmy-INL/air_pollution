{
 "cells": [
  {
   "cell_type": "code",
   "execution_count": 1,
   "metadata": {},
   "outputs": [],
   "source": [
    "%matplotlib inline\n",
    "\n",
    "from geopy.distance import distance\n",
    "import pandas as pd\n",
    "from time import sleep\n",
    "import shapely.geometry\n",
    "import pyproj\n",
    "import geopandas as gpd\n",
    "from matplotlib import pyplot as plt"
   ]
  },
  {
   "cell_type": "code",
   "execution_count": 7,
   "metadata": {},
   "outputs": [],
   "source": [
    "# old\n",
    "# MIN_LAT = 37.701933\n",
    "# MAX_LAT = 38.008050\n",
    "# MIN_LON = -122.536985\n",
    "# MAX_LON = -122.186437\n",
    "\n",
    "MIN_LAT = 37.2781261\n",
    "MAX_LAT = 38.063446\n",
    "MIN_LON = -122.683496\n",
    "MAX_LON = -121.814281"
   ]
  },
  {
   "cell_type": "code",
   "execution_count": 8,
   "metadata": {},
   "outputs": [],
   "source": [
    "# Set up projections\n",
    "p_ll = pyproj.Proj(init='epsg:4283') # grid in lat/lon\n",
    "p_mt = pyproj.Proj(init='epsg:3857') # metric; same as EPSG:900913\n",
    "\n",
    "# Create corners of rectangle to be transformed to a grid\n",
    "sw = shapely.geometry.Point((MIN_LON, MIN_LAT))\n",
    "ne = shapely.geometry.Point((MAX_LON,MAX_LAT))\n",
    "\n",
    "stepsize = 500 # 0.5 km grid step size\n",
    "\n",
    "# Project corners to target projection\n",
    "s = pyproj.transform(p_ll, p_mt, sw.x, sw.y) # Transform NW point to 3857\n",
    "e = pyproj.transform(p_ll, p_mt, ne.x, ne.y) # .. same for SE\n",
    "\n",
    "# Iterate over 2D area\n",
    "boxes = []\n",
    "min_lon = s[0]\n",
    "x = 0\n",
    "while min_lon < e[0]:\n",
    "    max_lon = min_lon + stepsize\n",
    "    min_lat = s[1]\n",
    "    y = 0\n",
    "    \n",
    "    while min_lat < e[1]:\n",
    "        max_lat = min_lat + stepsize\n",
    "        b_left = shapely.geometry.Point(pyproj.transform(p_mt, p_ll, min_lon, min_lat))\n",
    "        t_right = shapely.geometry.Point(pyproj.transform(p_mt, p_ll, max_lon, max_lat))\n",
    "        \n",
    "        bound_box = {'min_lat':b_left.y, 'max_lat':t_right.y, 'min_lon':b_left.x, 'max_lon':t_right.x, 'x': x, 'y':y}\n",
    "        \n",
    "        boxes.append(bound_box)\n",
    "        min_lat = max_lat\n",
    "        y += 1\n",
    "    min_lon = max_lon\n",
    "    x += 1"
   ]
  },
  {
   "cell_type": "code",
   "execution_count": 9,
   "metadata": {},
   "outputs": [],
   "source": [
    "boxes = pd.DataFrame(boxes)\n",
    "\n",
    "# find the center of each box\n",
    "boxes['center_lat'] = (boxes.min_lat + boxes.max_lat)/2\n",
    "boxes['center_lon'] = (boxes.min_lon + boxes.max_lon)/2"
   ]
  },
  {
   "cell_type": "code",
   "execution_count": 10,
   "metadata": {},
   "outputs": [
    {
     "data": {
      "text/html": [
       "<div>\n",
       "<style scoped>\n",
       "    .dataframe tbody tr th:only-of-type {\n",
       "        vertical-align: middle;\n",
       "    }\n",
       "\n",
       "    .dataframe tbody tr th {\n",
       "        vertical-align: top;\n",
       "    }\n",
       "\n",
       "    .dataframe thead th {\n",
       "        text-align: right;\n",
       "    }\n",
       "</style>\n",
       "<table border=\"1\" class=\"dataframe\">\n",
       "  <thead>\n",
       "    <tr style=\"text-align: right;\">\n",
       "      <th></th>\n",
       "      <th>min_lat</th>\n",
       "      <th>max_lat</th>\n",
       "      <th>min_lon</th>\n",
       "      <th>max_lon</th>\n",
       "      <th>x</th>\n",
       "      <th>y</th>\n",
       "      <th>center_lat</th>\n",
       "      <th>center_lon</th>\n",
       "    </tr>\n",
       "  </thead>\n",
       "  <tbody>\n",
       "    <tr>\n",
       "      <th>0</th>\n",
       "      <td>37.278126</td>\n",
       "      <td>37.281700</td>\n",
       "      <td>-122.683496</td>\n",
       "      <td>-122.679004</td>\n",
       "      <td>0</td>\n",
       "      <td>0</td>\n",
       "      <td>37.279913</td>\n",
       "      <td>-122.68125</td>\n",
       "    </tr>\n",
       "    <tr>\n",
       "      <th>1</th>\n",
       "      <td>37.281700</td>\n",
       "      <td>37.285274</td>\n",
       "      <td>-122.683496</td>\n",
       "      <td>-122.679004</td>\n",
       "      <td>0</td>\n",
       "      <td>1</td>\n",
       "      <td>37.283487</td>\n",
       "      <td>-122.68125</td>\n",
       "    </tr>\n",
       "    <tr>\n",
       "      <th>2</th>\n",
       "      <td>37.285274</td>\n",
       "      <td>37.288847</td>\n",
       "      <td>-122.683496</td>\n",
       "      <td>-122.679004</td>\n",
       "      <td>0</td>\n",
       "      <td>2</td>\n",
       "      <td>37.287060</td>\n",
       "      <td>-122.68125</td>\n",
       "    </tr>\n",
       "    <tr>\n",
       "      <th>3</th>\n",
       "      <td>37.288847</td>\n",
       "      <td>37.292421</td>\n",
       "      <td>-122.683496</td>\n",
       "      <td>-122.679004</td>\n",
       "      <td>0</td>\n",
       "      <td>3</td>\n",
       "      <td>37.290634</td>\n",
       "      <td>-122.68125</td>\n",
       "    </tr>\n",
       "    <tr>\n",
       "      <th>4</th>\n",
       "      <td>37.292421</td>\n",
       "      <td>37.295994</td>\n",
       "      <td>-122.683496</td>\n",
       "      <td>-122.679004</td>\n",
       "      <td>0</td>\n",
       "      <td>4</td>\n",
       "      <td>37.294207</td>\n",
       "      <td>-122.68125</td>\n",
       "    </tr>\n",
       "  </tbody>\n",
       "</table>\n",
       "</div>"
      ],
      "text/plain": [
       "     min_lat    max_lat     min_lon     max_lon  x  y  center_lat  center_lon\n",
       "0  37.278126  37.281700 -122.683496 -122.679004  0  0   37.279913  -122.68125\n",
       "1  37.281700  37.285274 -122.683496 -122.679004  0  1   37.283487  -122.68125\n",
       "2  37.285274  37.288847 -122.683496 -122.679004  0  2   37.287060  -122.68125\n",
       "3  37.288847  37.292421 -122.683496 -122.679004  0  3   37.290634  -122.68125\n",
       "4  37.292421  37.295994 -122.683496 -122.679004  0  4   37.294207  -122.68125"
      ]
     },
     "execution_count": 10,
     "metadata": {},
     "output_type": "execute_result"
    }
   ],
   "source": [
    "boxes.head()"
   ]
  },
  {
   "cell_type": "markdown",
   "metadata": {},
   "source": [
    "### get shapefile of bay area"
   ]
  },
  {
   "cell_type": "code",
   "execution_count": 11,
   "metadata": {},
   "outputs": [],
   "source": [
    "base = gpd.read_file(\"bayarea.json\")"
   ]
  },
  {
   "cell_type": "code",
   "execution_count": 12,
   "metadata": {},
   "outputs": [
    {
     "data": {
      "text/html": [
       "<div>\n",
       "<style scoped>\n",
       "    .dataframe tbody tr th:only-of-type {\n",
       "        vertical-align: middle;\n",
       "    }\n",
       "\n",
       "    .dataframe tbody tr th {\n",
       "        vertical-align: top;\n",
       "    }\n",
       "\n",
       "    .dataframe thead th {\n",
       "        text-align: right;\n",
       "    }\n",
       "</style>\n",
       "<table border=\"1\" class=\"dataframe\">\n",
       "  <thead>\n",
       "    <tr style=\"text-align: right;\">\n",
       "      <th></th>\n",
       "      <th>id</th>\n",
       "      <th>OBJECTID</th>\n",
       "      <th>AREA_NAME</th>\n",
       "      <th>geometry</th>\n",
       "    </tr>\n",
       "  </thead>\n",
       "  <tbody>\n",
       "    <tr>\n",
       "      <th>0</th>\n",
       "      <td>s7d02x.1</td>\n",
       "      <td>1</td>\n",
       "      <td>San Francisco</td>\n",
       "      <td>(POLYGON ((-122.381281 37.760229, -122.380781 ...</td>\n",
       "    </tr>\n",
       "    <tr>\n",
       "      <th>1</th>\n",
       "      <td>s7d02x.2</td>\n",
       "      <td>2</td>\n",
       "      <td>Other</td>\n",
       "      <td>(POLYGON ((-123.065659 38.852297, -123.062109 ...</td>\n",
       "    </tr>\n",
       "    <tr>\n",
       "      <th>2</th>\n",
       "      <td>s7d02x.3</td>\n",
       "      <td>3</td>\n",
       "      <td>Bay and Ocean</td>\n",
       "      <td>(POLYGON ((-123.79051456 37.5790828, -123.6952...</td>\n",
       "    </tr>\n",
       "  </tbody>\n",
       "</table>\n",
       "</div>"
      ],
      "text/plain": [
       "         id  OBJECTID      AREA_NAME  \\\n",
       "0  s7d02x.1         1  San Francisco   \n",
       "1  s7d02x.2         2          Other   \n",
       "2  s7d02x.3         3  Bay and Ocean   \n",
       "\n",
       "                                            geometry  \n",
       "0  (POLYGON ((-122.381281 37.760229, -122.380781 ...  \n",
       "1  (POLYGON ((-123.065659 38.852297, -123.062109 ...  \n",
       "2  (POLYGON ((-123.79051456 37.5790828, -123.6952...  "
      ]
     },
     "execution_count": 12,
     "metadata": {},
     "output_type": "execute_result"
    }
   ],
   "source": [
    "base.head()"
   ]
  },
  {
   "cell_type": "code",
   "execution_count": 13,
   "metadata": {},
   "outputs": [],
   "source": [
    "## looks like row 2 is everything that corresponds to ocean\n",
    "bay_and_ocean = base.loc[2, 'geometry']"
   ]
  },
  {
   "cell_type": "code",
   "execution_count": 14,
   "metadata": {},
   "outputs": [],
   "source": [
    "from shapely.geometry import Point\n",
    "\n",
    "# convert lat/lon to Point objects\n",
    "boxes_as_points = boxes.apply(lambda line: Point(line.center_lon, line.center_lat), axis = 1)"
   ]
  },
  {
   "cell_type": "code",
   "execution_count": 15,
   "metadata": {},
   "outputs": [],
   "source": [
    "# map every box to whether it overlaps with the bay as defined by the shapefile\n",
    "boxes['in_water'] = [bay_and_ocean.contains(pt) for pt in boxes_as_points]"
   ]
  },
  {
   "cell_type": "markdown",
   "metadata": {},
   "source": [
    "### visually verify this is correct"
   ]
  },
  {
   "cell_type": "code",
   "execution_count": 16,
   "metadata": {},
   "outputs": [],
   "source": [
    "# convert boxes to gdf to verify that the points are correct\n",
    "gdf = gpd.GeoDataFrame(boxes, geometry = boxes_as_points)"
   ]
  },
  {
   "cell_type": "code",
   "execution_count": 17,
   "metadata": {},
   "outputs": [
    {
     "data": {
      "text/html": [
       "<div>\n",
       "<style scoped>\n",
       "    .dataframe tbody tr th:only-of-type {\n",
       "        vertical-align: middle;\n",
       "    }\n",
       "\n",
       "    .dataframe tbody tr th {\n",
       "        vertical-align: top;\n",
       "    }\n",
       "\n",
       "    .dataframe thead th {\n",
       "        text-align: right;\n",
       "    }\n",
       "</style>\n",
       "<table border=\"1\" class=\"dataframe\">\n",
       "  <thead>\n",
       "    <tr style=\"text-align: right;\">\n",
       "      <th></th>\n",
       "      <th>min_lat</th>\n",
       "      <th>max_lat</th>\n",
       "      <th>min_lon</th>\n",
       "      <th>max_lon</th>\n",
       "      <th>x</th>\n",
       "      <th>y</th>\n",
       "      <th>center_lat</th>\n",
       "      <th>center_lon</th>\n",
       "      <th>in_water</th>\n",
       "      <th>geometry</th>\n",
       "    </tr>\n",
       "  </thead>\n",
       "  <tbody>\n",
       "    <tr>\n",
       "      <th>0</th>\n",
       "      <td>37.278126</td>\n",
       "      <td>37.281700</td>\n",
       "      <td>-122.683496</td>\n",
       "      <td>-122.679004</td>\n",
       "      <td>0</td>\n",
       "      <td>0</td>\n",
       "      <td>37.279913</td>\n",
       "      <td>-122.68125</td>\n",
       "      <td>True</td>\n",
       "      <td>POINT (-122.6812502117897 37.27991304197126)</td>\n",
       "    </tr>\n",
       "    <tr>\n",
       "      <th>1</th>\n",
       "      <td>37.281700</td>\n",
       "      <td>37.285274</td>\n",
       "      <td>-122.683496</td>\n",
       "      <td>-122.679004</td>\n",
       "      <td>0</td>\n",
       "      <td>1</td>\n",
       "      <td>37.283487</td>\n",
       "      <td>-122.68125</td>\n",
       "      <td>True</td>\n",
       "      <td>POINT (-122.6812502117897 37.2834868410625)</td>\n",
       "    </tr>\n",
       "    <tr>\n",
       "      <th>2</th>\n",
       "      <td>37.285274</td>\n",
       "      <td>37.288847</td>\n",
       "      <td>-122.683496</td>\n",
       "      <td>-122.679004</td>\n",
       "      <td>0</td>\n",
       "      <td>2</td>\n",
       "      <td>37.287060</td>\n",
       "      <td>-122.68125</td>\n",
       "      <td>True</td>\n",
       "      <td>POINT (-122.6812502117897 37.2870604704482)</td>\n",
       "    </tr>\n",
       "    <tr>\n",
       "      <th>3</th>\n",
       "      <td>37.288847</td>\n",
       "      <td>37.292421</td>\n",
       "      <td>-122.683496</td>\n",
       "      <td>-122.679004</td>\n",
       "      <td>0</td>\n",
       "      <td>3</td>\n",
       "      <td>37.290634</td>\n",
       "      <td>-122.68125</td>\n",
       "      <td>True</td>\n",
       "      <td>POINT (-122.6812502117897 37.29063393012256)</td>\n",
       "    </tr>\n",
       "    <tr>\n",
       "      <th>4</th>\n",
       "      <td>37.292421</td>\n",
       "      <td>37.295994</td>\n",
       "      <td>-122.683496</td>\n",
       "      <td>-122.679004</td>\n",
       "      <td>0</td>\n",
       "      <td>4</td>\n",
       "      <td>37.294207</td>\n",
       "      <td>-122.68125</td>\n",
       "      <td>True</td>\n",
       "      <td>POINT (-122.6812502117897 37.29420722007973)</td>\n",
       "    </tr>\n",
       "  </tbody>\n",
       "</table>\n",
       "</div>"
      ],
      "text/plain": [
       "     min_lat    max_lat     min_lon     max_lon  x  y  center_lat  center_lon  \\\n",
       "0  37.278126  37.281700 -122.683496 -122.679004  0  0   37.279913  -122.68125   \n",
       "1  37.281700  37.285274 -122.683496 -122.679004  0  1   37.283487  -122.68125   \n",
       "2  37.285274  37.288847 -122.683496 -122.679004  0  2   37.287060  -122.68125   \n",
       "3  37.288847  37.292421 -122.683496 -122.679004  0  3   37.290634  -122.68125   \n",
       "4  37.292421  37.295994 -122.683496 -122.679004  0  4   37.294207  -122.68125   \n",
       "\n",
       "   in_water                                      geometry  \n",
       "0      True  POINT (-122.6812502117897 37.27991304197126)  \n",
       "1      True   POINT (-122.6812502117897 37.2834868410625)  \n",
       "2      True   POINT (-122.6812502117897 37.2870604704482)  \n",
       "3      True  POINT (-122.6812502117897 37.29063393012256)  \n",
       "4      True  POINT (-122.6812502117897 37.29420722007973)  "
      ]
     },
     "execution_count": 17,
     "metadata": {},
     "output_type": "execute_result"
    }
   ],
   "source": [
    "gdf.head()"
   ]
  },
  {
   "cell_type": "code",
   "execution_count": 18,
   "metadata": {},
   "outputs": [
    {
     "data": {
      "text/plain": [
       "(37.2781261, 38.063446)"
      ]
     },
     "execution_count": 18,
     "metadata": {},
     "output_type": "execute_result"
    },
    {
     "data": {
      "image/png": "[encoded data removed]",
      "text/plain": [
       "<Figure size 720x720 with 1 Axes>"
      ]
     },
     "metadata": {
      "needs_background": "light"
     },
     "output_type": "display_data"
    }
   ],
   "source": [
    "fig, ax = plt.subplots(figsize = (10,10))\n",
    "base[base['AREA_NAME'] == 'Other'].plot(ax = ax, alpha = 0.8, color = 'grey')\n",
    "base[base['AREA_NAME'] == 'San Francisco'].plot(ax = ax, alpha = 0.8, color = 'grey')\n",
    "gdf[gdf['in_water'] == True].plot(ax = ax, color = 'blue', alpha = 0.5)\n",
    "gdf[gdf['in_water'] == False].plot(ax = ax, color = 'red', alpha = 0.5)\n",
    "ax.set_xlim(MIN_LON, MAX_LON)\n",
    "ax.set_ylim(MIN_LAT, MAX_LAT)"
   ]
  },
  {
   "cell_type": "markdown",
   "metadata": {},
   "source": [
    "yeah, that looks right"
   ]
  },
  {
   "cell_type": "code",
   "execution_count": 24,
   "metadata": {},
   "outputs": [],
   "source": [
    "boxes[['min_lat', 'max_lat', 'min_lon', 'max_lon', 'x', 'y', 'center_lat',\n",
    "       'center_lon', 'in_water', 'ndvi']].to_csv(\"bigger_500m_grid.csv\", index = False)"
   ]
  },
  {
   "cell_type": "code",
   "execution_count": 20,
   "metadata": {},
   "outputs": [
    {
     "data": {
      "text/html": [
       "<div>\n",
       "<style scoped>\n",
       "    .dataframe tbody tr th:only-of-type {\n",
       "        vertical-align: middle;\n",
       "    }\n",
       "\n",
       "    .dataframe tbody tr th {\n",
       "        vertical-align: top;\n",
       "    }\n",
       "\n",
       "    .dataframe thead th {\n",
       "        text-align: right;\n",
       "    }\n",
       "</style>\n",
       "<table border=\"1\" class=\"dataframe\">\n",
       "  <thead>\n",
       "    <tr style=\"text-align: right;\">\n",
       "      <th></th>\n",
       "      <th>min_lat</th>\n",
       "      <th>max_lat</th>\n",
       "      <th>min_lon</th>\n",
       "      <th>max_lon</th>\n",
       "      <th>x</th>\n",
       "      <th>y</th>\n",
       "      <th>center_lat</th>\n",
       "      <th>center_lon</th>\n",
       "      <th>in_water</th>\n",
       "      <th>geometry</th>\n",
       "    </tr>\n",
       "  </thead>\n",
       "  <tbody>\n",
       "    <tr>\n",
       "      <th>0</th>\n",
       "      <td>37.278126</td>\n",
       "      <td>37.281700</td>\n",
       "      <td>-122.683496</td>\n",
       "      <td>-122.679004</td>\n",
       "      <td>0</td>\n",
       "      <td>0</td>\n",
       "      <td>37.279913</td>\n",
       "      <td>-122.68125</td>\n",
       "      <td>True</td>\n",
       "      <td>POINT (-122.6812502117897 37.27991304197126)</td>\n",
       "    </tr>\n",
       "    <tr>\n",
       "      <th>1</th>\n",
       "      <td>37.281700</td>\n",
       "      <td>37.285274</td>\n",
       "      <td>-122.683496</td>\n",
       "      <td>-122.679004</td>\n",
       "      <td>0</td>\n",
       "      <td>1</td>\n",
       "      <td>37.283487</td>\n",
       "      <td>-122.68125</td>\n",
       "      <td>True</td>\n",
       "      <td>POINT (-122.6812502117897 37.2834868410625)</td>\n",
       "    </tr>\n",
       "    <tr>\n",
       "      <th>2</th>\n",
       "      <td>37.285274</td>\n",
       "      <td>37.288847</td>\n",
       "      <td>-122.683496</td>\n",
       "      <td>-122.679004</td>\n",
       "      <td>0</td>\n",
       "      <td>2</td>\n",
       "      <td>37.287060</td>\n",
       "      <td>-122.68125</td>\n",
       "      <td>True</td>\n",
       "      <td>POINT (-122.6812502117897 37.2870604704482)</td>\n",
       "    </tr>\n",
       "    <tr>\n",
       "      <th>3</th>\n",
       "      <td>37.288847</td>\n",
       "      <td>37.292421</td>\n",
       "      <td>-122.683496</td>\n",
       "      <td>-122.679004</td>\n",
       "      <td>0</td>\n",
       "      <td>3</td>\n",
       "      <td>37.290634</td>\n",
       "      <td>-122.68125</td>\n",
       "      <td>True</td>\n",
       "      <td>POINT (-122.6812502117897 37.29063393012256)</td>\n",
       "    </tr>\n",
       "    <tr>\n",
       "      <th>4</th>\n",
       "      <td>37.292421</td>\n",
       "      <td>37.295994</td>\n",
       "      <td>-122.683496</td>\n",
       "      <td>-122.679004</td>\n",
       "      <td>0</td>\n",
       "      <td>4</td>\n",
       "      <td>37.294207</td>\n",
       "      <td>-122.68125</td>\n",
       "      <td>True</td>\n",
       "      <td>POINT (-122.6812502117897 37.29420722007973)</td>\n",
       "    </tr>\n",
       "  </tbody>\n",
       "</table>\n",
       "</div>"
      ],
      "text/plain": [
       "     min_lat    max_lat     min_lon     max_lon  x  y  center_lat  center_lon  \\\n",
       "0  37.278126  37.281700 -122.683496 -122.679004  0  0   37.279913  -122.68125   \n",
       "1  37.281700  37.285274 -122.683496 -122.679004  0  1   37.283487  -122.68125   \n",
       "2  37.285274  37.288847 -122.683496 -122.679004  0  2   37.287060  -122.68125   \n",
       "3  37.288847  37.292421 -122.683496 -122.679004  0  3   37.290634  -122.68125   \n",
       "4  37.292421  37.295994 -122.683496 -122.679004  0  4   37.294207  -122.68125   \n",
       "\n",
       "   in_water                                      geometry  \n",
       "0      True  POINT (-122.6812502117897 37.27991304197126)  \n",
       "1      True   POINT (-122.6812502117897 37.2834868410625)  \n",
       "2      True   POINT (-122.6812502117897 37.2870604704482)  \n",
       "3      True  POINT (-122.6812502117897 37.29063393012256)  \n",
       "4      True  POINT (-122.6812502117897 37.29420722007973)  "
      ]
     },
     "execution_count": 20,
     "metadata": {},
     "output_type": "execute_result"
    }
   ],
   "source": [
    "boxes.head()"
   ]
  },
  {
   "cell_type": "code",
   "execution_count": 21,
   "metadata": {},
   "outputs": [],
   "source": [
    "import rasterio\n",
    "ndvi = rasterio.open(\"nn/new_ndvi.tif\") # normalized vegetation index\n",
    "band_n = ndvi.read(1)"
   ]
  },
  {
   "cell_type": "code",
   "execution_count": 22,
   "metadata": {},
   "outputs": [],
   "source": [
    "def get_ndvi(line):\n",
    "    # get ndvi\n",
    "    row, col = ndvi.index(line.center_lon, line.center_lat)\n",
    "    \n",
    "    return band_n[row,col]\n",
    "\n",
    "boxes['ndvi'] = boxes.apply(get_ndvi, axis =1)"
   ]
  },
  {
   "cell_type": "code",
   "execution_count": null,
   "metadata": {},
   "outputs": [],
   "source": []
  }
 ],
 "metadata": {
  "kernelspec": {
   "display_name": "Python [conda env:geostuff]",
   "language": "python",
   "name": "conda-env-geostuff-py"
  },
  "language_info": {
   "codemirror_mode": {
    "name": "ipython",
    "version": 3
   },
   "file_extension": ".py",
   "mimetype": "text/x-python",
   "name": "python",
   "nbconvert_exporter": "python",
   "pygments_lexer": "ipython3",
   "version": "3.7.4"
  }
 },
 "nbformat": 4,
 "nbformat_minor": 2
}
