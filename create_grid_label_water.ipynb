{
 "cells": [
  {
   "cell_type": "code",
   "execution_count": 15,
   "metadata": {},
   "outputs": [],
   "source": [
    "%matplotlib inline\n",
    "\n",
    "from geopy.distance import distance\n",
    "import pandas as pd\n",
    "from time import sleep\n",
    "import shapely.geometry\n",
    "import pyproj\n",
    "import geopandas as gpd\n",
    "from matplotlib import pyplot as plt"
   ]
  },
  {
   "cell_type": "code",
   "execution_count": 13,
   "metadata": {},
   "outputs": [],
   "source": [
    "MIN_LAT = 37.701933\n",
    "MAX_LAT = 38.008050\n",
    "MIN_LON = -122.536985\n",
    "MAX_LON = -122.186437\n"
   ]
  },
  {
   "cell_type": "code",
   "execution_count": 2,
   "metadata": {},
   "outputs": [],
   "source": [
    "# Set up projections\n",
    "p_ll = pyproj.Proj(init='epsg:4283') # grid in lat/lon\n",
    "p_mt = pyproj.Proj(init='epsg:3857') # metric; same as EPSG:900913\n",
    "\n",
    "# Create corners of rectangle to be transformed to a grid\n",
    "sw = shapely.geometry.Point((MIN_LON, MIN_LAT))\n",
    "ne = shapely.geometry.Point((MAX_LON,MAX_LAT))\n",
    "\n",
    "stepsize = 500 # 0.5 km grid step size\n",
    "\n",
    "# Project corners to target projection\n",
    "s = pyproj.transform(p_ll, p_mt, sw.x, sw.y) # Transform NW point to 3857\n",
    "e = pyproj.transform(p_ll, p_mt, ne.x, ne.y) # .. same for SE\n",
    "\n",
    "# Iterate over 2D area\n",
    "boxes = []\n",
    "min_lon = s[0]\n",
    "x = 0\n",
    "while min_lon < e[0]:\n",
    "    max_lon = min_lon + stepsize\n",
    "    min_lat = s[1]\n",
    "    y = 0\n",
    "    \n",
    "    while min_lat < e[1]:\n",
    "        max_lat = min_lat + stepsize\n",
    "        b_left = shapely.geometry.Point(pyproj.transform(p_mt, p_ll, min_lon, min_lat))\n",
    "        t_right = shapely.geometry.Point(pyproj.transform(p_mt, p_ll, max_lon, max_lat))\n",
    "        \n",
    "        bound_box = {'min_lat':b_left.y, 'max_lat':t_right.y, 'min_lon':b_left.x, 'max_lon':t_right.x, 'x': x, 'y':y}\n",
    "        \n",
    "        boxes.append(bound_box)\n",
    "        min_lat = max_lat\n",
    "        y += 1\n",
    "    min_lon = max_lon\n",
    "    x += 1"
   ]
  },
  {
   "cell_type": "code",
   "execution_count": 3,
   "metadata": {},
   "outputs": [],
   "source": [
    "boxes = pd.DataFrame(boxes)\n",
    "\n",
    "# find the center of each box\n",
    "boxes['center_lat'] = (boxes.min_lat + boxes.max_lat)/2\n",
    "boxes['center_lon'] = (boxes.min_lon + boxes.max_lon)/2"
   ]
  },
  {
   "cell_type": "code",
   "execution_count": 4,
   "metadata": {},
   "outputs": [
    {
     "data": {
      "text/html": [
       "<div>\n",
       "<style scoped>\n",
       "    .dataframe tbody tr th:only-of-type {\n",
       "        vertical-align: middle;\n",
       "    }\n",
       "\n",
       "    .dataframe tbody tr th {\n",
       "        vertical-align: top;\n",
       "    }\n",
       "\n",
       "    .dataframe thead th {\n",
       "        text-align: right;\n",
       "    }\n",
       "</style>\n",
       "<table border=\"1\" class=\"dataframe\">\n",
       "  <thead>\n",
       "    <tr style=\"text-align: right;\">\n",
       "      <th></th>\n",
       "      <th>min_lat</th>\n",
       "      <th>max_lat</th>\n",
       "      <th>min_lon</th>\n",
       "      <th>max_lon</th>\n",
       "      <th>x</th>\n",
       "      <th>y</th>\n",
       "      <th>center_lat</th>\n",
       "      <th>center_lon</th>\n",
       "    </tr>\n",
       "  </thead>\n",
       "  <tbody>\n",
       "    <tr>\n",
       "      <th>0</th>\n",
       "      <td>37.701933</td>\n",
       "      <td>37.705487</td>\n",
       "      <td>-122.536985</td>\n",
       "      <td>-122.532493</td>\n",
       "      <td>0</td>\n",
       "      <td>0</td>\n",
       "      <td>37.703710</td>\n",
       "      <td>-122.534739</td>\n",
       "    </tr>\n",
       "    <tr>\n",
       "      <th>1</th>\n",
       "      <td>37.705487</td>\n",
       "      <td>37.709040</td>\n",
       "      <td>-122.536985</td>\n",
       "      <td>-122.532493</td>\n",
       "      <td>0</td>\n",
       "      <td>1</td>\n",
       "      <td>37.707263</td>\n",
       "      <td>-122.534739</td>\n",
       "    </tr>\n",
       "    <tr>\n",
       "      <th>2</th>\n",
       "      <td>37.709040</td>\n",
       "      <td>37.712593</td>\n",
       "      <td>-122.536985</td>\n",
       "      <td>-122.532493</td>\n",
       "      <td>0</td>\n",
       "      <td>2</td>\n",
       "      <td>37.710817</td>\n",
       "      <td>-122.534739</td>\n",
       "    </tr>\n",
       "    <tr>\n",
       "      <th>3</th>\n",
       "      <td>37.712593</td>\n",
       "      <td>37.716147</td>\n",
       "      <td>-122.536985</td>\n",
       "      <td>-122.532493</td>\n",
       "      <td>0</td>\n",
       "      <td>3</td>\n",
       "      <td>37.714370</td>\n",
       "      <td>-122.534739</td>\n",
       "    </tr>\n",
       "    <tr>\n",
       "      <th>4</th>\n",
       "      <td>37.716147</td>\n",
       "      <td>37.719700</td>\n",
       "      <td>-122.536985</td>\n",
       "      <td>-122.532493</td>\n",
       "      <td>0</td>\n",
       "      <td>4</td>\n",
       "      <td>37.717923</td>\n",
       "      <td>-122.534739</td>\n",
       "    </tr>\n",
       "  </tbody>\n",
       "</table>\n",
       "</div>"
      ],
      "text/plain": [
       "     min_lat    max_lat     min_lon     max_lon  x  y  center_lat  center_lon\n",
       "0  37.701933  37.705487 -122.536985 -122.532493  0  0   37.703710 -122.534739\n",
       "1  37.705487  37.709040 -122.536985 -122.532493  0  1   37.707263 -122.534739\n",
       "2  37.709040  37.712593 -122.536985 -122.532493  0  2   37.710817 -122.534739\n",
       "3  37.712593  37.716147 -122.536985 -122.532493  0  3   37.714370 -122.534739\n",
       "4  37.716147  37.719700 -122.536985 -122.532493  0  4   37.717923 -122.534739"
      ]
     },
     "execution_count": 4,
     "metadata": {},
     "output_type": "execute_result"
    }
   ],
   "source": [
    "boxes.head()"
   ]
  },
  {
   "cell_type": "markdown",
   "metadata": {},
   "source": [
    "### get shapefile of bay area"
   ]
  },
  {
   "cell_type": "code",
   "execution_count": 5,
   "metadata": {},
   "outputs": [],
   "source": [
    "base = gpd.read_file(\"bayarea.json\")"
   ]
  },
  {
   "cell_type": "code",
   "execution_count": 6,
   "metadata": {},
   "outputs": [
    {
     "data": {
      "text/html": [
       "<div>\n",
       "<style scoped>\n",
       "    .dataframe tbody tr th:only-of-type {\n",
       "        vertical-align: middle;\n",
       "    }\n",
       "\n",
       "    .dataframe tbody tr th {\n",
       "        vertical-align: top;\n",
       "    }\n",
       "\n",
       "    .dataframe thead th {\n",
       "        text-align: right;\n",
       "    }\n",
       "</style>\n",
       "<table border=\"1\" class=\"dataframe\">\n",
       "  <thead>\n",
       "    <tr style=\"text-align: right;\">\n",
       "      <th></th>\n",
       "      <th>id</th>\n",
       "      <th>OBJECTID</th>\n",
       "      <th>AREA_NAME</th>\n",
       "      <th>geometry</th>\n",
       "    </tr>\n",
       "  </thead>\n",
       "  <tbody>\n",
       "    <tr>\n",
       "      <th>0</th>\n",
       "      <td>s7d02x.1</td>\n",
       "      <td>1</td>\n",
       "      <td>San Francisco</td>\n",
       "      <td>(POLYGON ((-122.381281 37.760229, -122.380781 ...</td>\n",
       "    </tr>\n",
       "    <tr>\n",
       "      <th>1</th>\n",
       "      <td>s7d02x.2</td>\n",
       "      <td>2</td>\n",
       "      <td>Other</td>\n",
       "      <td>(POLYGON ((-123.065659 38.852297, -123.062109 ...</td>\n",
       "    </tr>\n",
       "    <tr>\n",
       "      <th>2</th>\n",
       "      <td>s7d02x.3</td>\n",
       "      <td>3</td>\n",
       "      <td>Bay and Ocean</td>\n",
       "      <td>(POLYGON ((-123.79051456 37.5790828, -123.6952...</td>\n",
       "    </tr>\n",
       "  </tbody>\n",
       "</table>\n",
       "</div>"
      ],
      "text/plain": [
       "         id  OBJECTID      AREA_NAME  \\\n",
       "0  s7d02x.1         1  San Francisco   \n",
       "1  s7d02x.2         2          Other   \n",
       "2  s7d02x.3         3  Bay and Ocean   \n",
       "\n",
       "                                            geometry  \n",
       "0  (POLYGON ((-122.381281 37.760229, -122.380781 ...  \n",
       "1  (POLYGON ((-123.065659 38.852297, -123.062109 ...  \n",
       "2  (POLYGON ((-123.79051456 37.5790828, -123.6952...  "
      ]
     },
     "execution_count": 6,
     "metadata": {},
     "output_type": "execute_result"
    }
   ],
   "source": [
    "base.head()"
   ]
  },
  {
   "cell_type": "code",
   "execution_count": 9,
   "metadata": {},
   "outputs": [],
   "source": [
    "## looks like row 2 is everything that corresponds to ocean\n",
    "bay_and_ocean = base.loc[2, 'geometry']"
   ]
  },
  {
   "cell_type": "code",
   "execution_count": 8,
   "metadata": {},
   "outputs": [],
   "source": [
    "from shapely.geometry import Point\n",
    "\n",
    "# convert lat/lon to Point objects\n",
    "boxes_as_points = boxes.apply(lambda line: Point(line.center_lon, line.center_lat), axis = 1)"
   ]
  },
  {
   "cell_type": "code",
   "execution_count": 12,
   "metadata": {},
   "outputs": [],
   "source": [
    "# map every box to whether it overlaps with the bay as defined by the shapefile\n",
    "boxes['in_water'] = [bay_and_ocean.contains(pt) for pt in boxes_as_points]"
   ]
  },
  {
   "cell_type": "markdown",
   "metadata": {},
   "source": [
    "### visually verify this is correct"
   ]
  },
  {
   "cell_type": "code",
   "execution_count": 18,
   "metadata": {},
   "outputs": [],
   "source": [
    "# convert boxes to gdf to verify that the points are correct\n",
    "gdf = gpd.GeoDataFrame(boxes, geometry = boxes_as_points)"
   ]
  },
  {
   "cell_type": "code",
   "execution_count": 20,
   "metadata": {},
   "outputs": [
    {
     "data": {
      "text/html": [
       "<div>\n",
       "<style scoped>\n",
       "    .dataframe tbody tr th:only-of-type {\n",
       "        vertical-align: middle;\n",
       "    }\n",
       "\n",
       "    .dataframe tbody tr th {\n",
       "        vertical-align: top;\n",
       "    }\n",
       "\n",
       "    .dataframe thead th {\n",
       "        text-align: right;\n",
       "    }\n",
       "</style>\n",
       "<table border=\"1\" class=\"dataframe\">\n",
       "  <thead>\n",
       "    <tr style=\"text-align: right;\">\n",
       "      <th></th>\n",
       "      <th>min_lat</th>\n",
       "      <th>max_lat</th>\n",
       "      <th>min_lon</th>\n",
       "      <th>max_lon</th>\n",
       "      <th>x</th>\n",
       "      <th>y</th>\n",
       "      <th>center_lat</th>\n",
       "      <th>center_lon</th>\n",
       "      <th>in_water</th>\n",
       "      <th>geometry</th>\n",
       "    </tr>\n",
       "  </thead>\n",
       "  <tbody>\n",
       "    <tr>\n",
       "      <th>0</th>\n",
       "      <td>37.701933</td>\n",
       "      <td>37.705487</td>\n",
       "      <td>-122.536985</td>\n",
       "      <td>-122.532493</td>\n",
       "      <td>0</td>\n",
       "      <td>0</td>\n",
       "      <td>37.703710</td>\n",
       "      <td>-122.534739</td>\n",
       "      <td>True</td>\n",
       "      <td>POINT (-122.5347392117897 37.70370983155435)</td>\n",
       "    </tr>\n",
       "    <tr>\n",
       "      <th>1</th>\n",
       "      <td>37.705487</td>\n",
       "      <td>37.709040</td>\n",
       "      <td>-122.536985</td>\n",
       "      <td>-122.532493</td>\n",
       "      <td>0</td>\n",
       "      <td>1</td>\n",
       "      <td>37.707263</td>\n",
       "      <td>-122.534739</td>\n",
       "      <td>True</td>\n",
       "      <td>POINT (-122.5347392117897 37.70726340947444)</td>\n",
       "    </tr>\n",
       "    <tr>\n",
       "      <th>2</th>\n",
       "      <td>37.709040</td>\n",
       "      <td>37.712593</td>\n",
       "      <td>-122.536985</td>\n",
       "      <td>-122.532493</td>\n",
       "      <td>0</td>\n",
       "      <td>2</td>\n",
       "      <td>37.710817</td>\n",
       "      <td>-122.534739</td>\n",
       "      <td>True</td>\n",
       "      <td>POINT (-122.5347392117897 37.71081681701457)</td>\n",
       "    </tr>\n",
       "    <tr>\n",
       "      <th>3</th>\n",
       "      <td>37.712593</td>\n",
       "      <td>37.716147</td>\n",
       "      <td>-122.536985</td>\n",
       "      <td>-122.532493</td>\n",
       "      <td>0</td>\n",
       "      <td>3</td>\n",
       "      <td>37.714370</td>\n",
       "      <td>-122.534739</td>\n",
       "      <td>True</td>\n",
       "      <td>POINT (-122.5347392117897 37.71437005416927)</td>\n",
       "    </tr>\n",
       "    <tr>\n",
       "      <th>4</th>\n",
       "      <td>37.716147</td>\n",
       "      <td>37.719700</td>\n",
       "      <td>-122.536985</td>\n",
       "      <td>-122.532493</td>\n",
       "      <td>0</td>\n",
       "      <td>4</td>\n",
       "      <td>37.717923</td>\n",
       "      <td>-122.534739</td>\n",
       "      <td>True</td>\n",
       "      <td>POINT (-122.5347392117897 37.71792312093302)</td>\n",
       "    </tr>\n",
       "  </tbody>\n",
       "</table>\n",
       "</div>"
      ],
      "text/plain": [
       "     min_lat    max_lat     min_lon     max_lon  x  y  center_lat  center_lon  \\\n",
       "0  37.701933  37.705487 -122.536985 -122.532493  0  0   37.703710 -122.534739   \n",
       "1  37.705487  37.709040 -122.536985 -122.532493  0  1   37.707263 -122.534739   \n",
       "2  37.709040  37.712593 -122.536985 -122.532493  0  2   37.710817 -122.534739   \n",
       "3  37.712593  37.716147 -122.536985 -122.532493  0  3   37.714370 -122.534739   \n",
       "4  37.716147  37.719700 -122.536985 -122.532493  0  4   37.717923 -122.534739   \n",
       "\n",
       "   in_water                                      geometry  \n",
       "0      True  POINT (-122.5347392117897 37.70370983155435)  \n",
       "1      True  POINT (-122.5347392117897 37.70726340947444)  \n",
       "2      True  POINT (-122.5347392117897 37.71081681701457)  \n",
       "3      True  POINT (-122.5347392117897 37.71437005416927)  \n",
       "4      True  POINT (-122.5347392117897 37.71792312093302)  "
      ]
     },
     "execution_count": 20,
     "metadata": {},
     "output_type": "execute_result"
    }
   ],
   "source": [
    "gdf.head()"
   ]
  },
  {
   "cell_type": "code",
   "execution_count": 22,
   "metadata": {},
   "outputs": [
    {
     "data": {
      "text/plain": [
       "(37.701933, 38.00805)"
      ]
     },
     "execution_count": 22,
     "metadata": {},
     "output_type": "execute_result"
    },
    {
     "data": {
      "image/png": "[encoded data removed]",
      "text/plain": [
       "<Figure size 720x720 with 1 Axes>"
      ]
     },
     "metadata": {
      "needs_background": "light"
     },
     "output_type": "display_data"
    }
   ],
   "source": [
    "fig, ax = plt.subplots(figsize = (10,10))\n",
    "base[base['AREA_NAME'] == 'Other'].plot(ax = ax, alpha = 0.8, color = 'grey')\n",
    "base[base['AREA_NAME'] == 'San Francisco'].plot(ax = ax, alpha = 0.8, color = 'grey')\n",
    "gdf[gdf['in_water'] == True].plot(ax = ax, color = 'blue', alpha = 0.5)\n",
    "gdf[gdf['in_water'] == False].plot(ax = ax, color = 'red', alpha = 0.5)\n",
    "ax.set_xlim(MIN_LON, MAX_LON)\n",
    "ax.set_ylim(MIN_LAT, MAX_LAT)"
   ]
  },
  {
   "cell_type": "markdown",
   "metadata": {},
   "source": [
    "yeah, that looks right"
   ]
  },
  {
   "cell_type": "code",
   "execution_count": 27,
   "metadata": {},
   "outputs": [],
   "source": [
    "boxes[['min_lat', 'max_lat', 'min_lon', 'max_lon', 'x', 'y', 'center_lat',\n",
    "       'center_lon', 'in_water']].to_csv(\"500m_grid.csv\", index = False)"
   ]
  },
  {
   "cell_type": "code",
   "execution_count": null,
   "metadata": {},
   "outputs": [],
   "source": []
  }
 ],
 "metadata": {
  "kernelspec": {
   "display_name": "Python [conda env:geostuff]",
   "language": "python",
   "name": "conda-env-geostuff-py"
  },
  "language_info": {
   "codemirror_mode": {
    "name": "ipython",
    "version": 3
   },
   "file_extension": ".py",
   "mimetype": "text/x-python",
   "name": "python",
   "nbconvert_exporter": "python",
   "pygments_lexer": "ipython3",
   "version": "3.7.4"
  }
 },
 "nbformat": 4,
 "nbformat_minor": 2
}
